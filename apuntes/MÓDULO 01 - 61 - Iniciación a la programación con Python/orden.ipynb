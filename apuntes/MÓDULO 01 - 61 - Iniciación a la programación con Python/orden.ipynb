{
 "cells": [
  {
   "cell_type": "code",
   "execution_count": null,
   "id": "ff823c5f",
   "metadata": {},
   "outputs": [],
   "source": [
    "#modulos, contantes, funciones, codigo\n",
    "import pandas as pd\n",
    "Pi = 3.14\n",
    "def sumar(a,b):\n",
    "    return a+b\n",
    "\n",
    "codigo"
   ]
  }
 ],
 "metadata": {
  "language_info": {
   "name": "python"
  }
 },
 "nbformat": 4,
 "nbformat_minor": 5
}
