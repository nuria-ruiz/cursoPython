{
 "cells": [
  {
   "cell_type": "code",
   "execution_count": null,
   "id": "3789b320",
   "metadata": {},
   "outputs": [],
   "source": [
    "#key y value. \n",
    "empty_dict = {}\n",
    "\n",
    "rae = {\n",
    "    'bifronte': 'De dos frentes o dos caras',\n",
    "    'anarcoide': 'Que tiende al desorden',\n",
    "    'montuvio': 'Campesino de la costa'\n",
    "}     #key        #value\n",
    "\n",
    "population_can = {\n",
    "    2015: 2_135_209,\n",
    "    2016: 2_154_924,\n",
    "    2017: 2_177_048,\n",
    "    2018: 2_206_901,\n",
    "    2019: 2_220_270\n",
    "}\n",
    "\n",
    "#en java script se llama objeto a key. un json seria una lista de objetos."
   ]
  },
  {
   "cell_type": "code",
   "execution_count": 27,
   "id": "37acf162",
   "metadata": {},
   "outputs": [
    {
     "data": {
      "text/plain": [
       "{'a': '1', 'b': '2'}"
      ]
     },
     "execution_count": 27,
     "metadata": {},
     "output_type": "execute_result"
    }
   ],
   "source": [
    "# Diccionario a partir de una lista de cadenas de texto\n",
    "dict(['a1', 'b2'])"
   ]
  },
  {
   "cell_type": "code",
   "execution_count": 28,
   "id": "34ce2308",
   "metadata": {},
   "outputs": [
    {
     "data": {
      "text/plain": [
       "{'a': '1', 'b': '2'}"
      ]
     },
     "execution_count": 28,
     "metadata": {},
     "output_type": "execute_result"
    }
   ],
   "source": [
    "\n",
    "# Diccionario a partir de una tupla de cadenas de texto\n",
    "dict(('a1', 'b2'))"
   ]
  },
  {
   "cell_type": "code",
   "execution_count": 29,
   "id": "fea68f99",
   "metadata": {},
   "outputs": [
    {
     "data": {
      "text/plain": [
       "{'a': 1, 'b': 2}"
      ]
     },
     "execution_count": 29,
     "metadata": {},
     "output_type": "execute_result"
    }
   ],
   "source": [
    "# Diccionario a partir de una lista de listas\n",
    "dict([['a', 1], ['b', 2]])"
   ]
  },
  {
   "cell_type": "code",
   "execution_count": 3,
   "id": "29767ed1",
   "metadata": {},
   "outputs": [
    {
     "data": {
      "text/plain": [
       "{}"
      ]
     },
     "execution_count": 3,
     "metadata": {},
     "output_type": "execute_result"
    }
   ],
   "source": [
    "dict()\n"
   ]
  },
  {
   "cell_type": "code",
   "execution_count": null,
   "id": "0ac44de4",
   "metadata": {},
   "outputs": [
    {
     "data": {
      "text/plain": [
       "{'name': 'Guido', 'surname': 'Van Rossum', 'job': 'Python creator'}"
      ]
     },
     "execution_count": 4,
     "metadata": {},
     "output_type": "execute_result"
    }
   ],
   "source": [
    "#tupla convertida a diccionario\n",
    "\n",
    "person = dict(\n",
    "    name='Guido',\n",
    "    surname='Van Rossum',\n",
    "    job='Python creator'\n",
    ")\n",
    "\n",
    "person"
   ]
  },
  {
   "cell_type": "code",
   "execution_count": 5,
   "id": "56b61cf4",
   "metadata": {},
   "outputs": [
    {
     "data": {
      "text/plain": [
       "{'a': 0, 'e': 0, 'i': 0, 'o': 0, 'u': 0}"
      ]
     },
     "execution_count": 5,
     "metadata": {},
     "output_type": "execute_result"
    }
   ],
   "source": [
    "dict.fromkeys('aeiou', 0)"
   ]
  },
  {
   "cell_type": "code",
   "execution_count": 3,
   "id": "51856d69",
   "metadata": {},
   "outputs": [
    {
     "data": {
      "text/plain": [
       "'Que tiende al desorden'"
      ]
     },
     "execution_count": 3,
     "metadata": {},
     "output_type": "execute_result"
    }
   ],
   "source": [
    "rae = {\n",
    "    'bifronte': 'De dos frentes o dos caras',\n",
    "    'anarcoide': 'Que tiende al desorden',\n",
    "    'montuvio': 'Campesino de la costa'\n",
    "}\n",
    "\n",
    "rae['anarcoide']"
   ]
  },
  {
   "cell_type": "code",
   "execution_count": 7,
   "id": "68d4fd1c",
   "metadata": {},
   "outputs": [
    {
     "ename": "KeyError",
     "evalue": "'acceso'",
     "output_type": "error",
     "traceback": [
      "\u001b[1;31m---------------------------------------------------------------------------\u001b[0m",
      "\u001b[1;31mKeyError\u001b[0m                                  Traceback (most recent call last)",
      "Cell \u001b[1;32mIn[7], line 1\u001b[0m\n\u001b[1;32m----> 1\u001b[0m \u001b[43mrae\u001b[49m\u001b[43m[\u001b[49m\u001b[38;5;124;43m'\u001b[39;49m\u001b[38;5;124;43macceso\u001b[39;49m\u001b[38;5;124;43m'\u001b[39;49m\u001b[43m]\u001b[49m\n",
      "\u001b[1;31mKeyError\u001b[0m: 'acceso'"
     ]
    }
   ],
   "source": [
    "rae['acceso']"
   ]
  },
  {
   "cell_type": "code",
   "execution_count": 9,
   "id": "4cb4d899",
   "metadata": {},
   "outputs": [
    {
     "data": {
      "text/plain": [
       "'De dos frentes o dos caras'"
      ]
     },
     "execution_count": 9,
     "metadata": {},
     "output_type": "execute_result"
    }
   ],
   "source": [
    "\n",
    "rae\n",
    "\n",
    "\n",
    "\n",
    "\n",
    "rae.get('bifronte')\n",
    "\n"
   ]
  },
  {
   "cell_type": "code",
   "execution_count": 4,
   "id": "62503174",
   "metadata": {},
   "outputs": [],
   "source": [
    "\n",
    "rae.get('programación')\n"
   ]
  },
  {
   "cell_type": "code",
   "execution_count": null,
   "id": "bc2012da",
   "metadata": {},
   "outputs": [
    {
     "data": {
      "text/plain": [
       "'No disponible'"
      ]
     },
     "execution_count": 11,
     "metadata": {},
     "output_type": "execute_result"
    }
   ],
   "source": [
    "#opcionalmente, podemos escribir un mensaje para que lo devuleva en caso de no encontrarlo\n",
    "rae.get('programación', 'No disponible')"
   ]
  },
  {
   "cell_type": "code",
   "execution_count": 5,
   "id": "b50ef9fe",
   "metadata": {},
   "outputs": [],
   "source": [
    "rae = {\n",
    "    'bifronte': 'De dos frentes o dos caras',\n",
    "    'anarcoide': 'Que tiende al desorden',\n",
    "    'montuvio': 'Campesino de la costa'\n",
    "}"
   ]
  },
  {
   "cell_type": "code",
   "execution_count": null,
   "id": "aca8cef3",
   "metadata": {},
   "outputs": [
    {
     "data": {
      "text/plain": [
       "{'bifronte': 'De dos frentes o dos caras',\n",
       " 'anarcoide': 'Que tiende al desorden',\n",
       " 'montuvio': 'Campesino de la costa',\n",
       " 'enjuiciar': 'Someter una cuestión a examen, discusión y juicio'}"
      ]
     },
     "execution_count": 6,
     "metadata": {},
     "output_type": "execute_result"
    }
   ],
   "source": [
    "#añadir al diccionario\n",
    "rae['enjuiciar'] = 'Someter una cuestión a examen, discusión y juicio'\n",
    "\n",
    "rae"
   ]
  },
  {
   "cell_type": "code",
   "execution_count": 14,
   "id": "57af8f27",
   "metadata": {},
   "outputs": [
    {
     "data": {
      "text/plain": [
       "{'bifronte': 'De dos frentes o dos caras',\n",
       " 'anarcoide': 'Que tiende al desorden',\n",
       " 'montuvio': 'Campesino de la costa',\n",
       " 'enjuiciar': 'Instruir, juzgar o sentenciar una causa'}"
      ]
     },
     "execution_count": 14,
     "metadata": {},
     "output_type": "execute_result"
    }
   ],
   "source": [
    "rae['enjuiciar'] = 'Instruir, juzgar o sentenciar una causa'\n",
    "\n",
    "rae"
   ]
  },
  {
   "cell_type": "code",
   "execution_count": 15,
   "id": "fd6d9185",
   "metadata": {},
   "outputs": [
    {
     "data": {
      "text/plain": [
       "{'a': 1, 'e': 2, 'i': 3, 'o': 4, 'u': 5}"
      ]
     },
     "execution_count": 15,
     "metadata": {},
     "output_type": "execute_result"
    }
   ],
   "source": [
    "VOWELS = 'aeiou'\n",
    "\n",
    "enum_vowels = {}\n",
    "\n",
    "for i, vowel in enumerate(VOWELS, start=1):\n",
    "    enum_vowels[vowel] = i\n",
    "\n",
    "\n",
    "enum_vowels"
   ]
  },
  {
   "cell_type": "code",
   "execution_count": 7,
   "id": "f2ccd537",
   "metadata": {},
   "outputs": [
    {
     "data": {
      "text/plain": [
       "True"
      ]
     },
     "execution_count": 7,
     "metadata": {},
     "output_type": "execute_result"
    }
   ],
   "source": [
    "#comprobación\n",
    "'bifronte' in rae"
   ]
  },
  {
   "cell_type": "code",
   "execution_count": 8,
   "id": "2b603981",
   "metadata": {},
   "outputs": [
    {
     "data": {
      "text/plain": [
       "False"
      ]
     },
     "execution_count": 8,
     "metadata": {},
     "output_type": "execute_result"
    }
   ],
   "source": [
    "\n",
    "'almohada' in rae\n"
   ]
  },
  {
   "cell_type": "code",
   "execution_count": 9,
   "id": "b30145a3",
   "metadata": {},
   "outputs": [
    {
     "data": {
      "text/plain": [
       "False"
      ]
     },
     "execution_count": 9,
     "metadata": {},
     "output_type": "execute_result"
    }
   ],
   "source": [
    "\n",
    "\n",
    "'montuvio' not in rae"
   ]
  },
  {
   "cell_type": "code",
   "execution_count": 10,
   "id": "e6809c25",
   "metadata": {},
   "outputs": [
    {
     "data": {
      "text/plain": [
       "dict_keys(['bifronte', 'anarcoide', 'montuvio', 'enjuiciar'])"
      ]
     },
     "execution_count": 10,
     "metadata": {},
     "output_type": "execute_result"
    }
   ],
   "source": [
    "rae.keys()"
   ]
  },
  {
   "cell_type": "code",
   "execution_count": 11,
   "id": "96341667",
   "metadata": {},
   "outputs": [
    {
     "data": {
      "text/plain": [
       "dict_values(['De dos frentes o dos caras', 'Que tiende al desorden', 'Campesino de la costa', 'Someter una cuestión a examen, discusión y juicio'])"
      ]
     },
     "execution_count": 11,
     "metadata": {},
     "output_type": "execute_result"
    }
   ],
   "source": [
    "rae.values()\n"
   ]
  },
  {
   "cell_type": "code",
   "execution_count": null,
   "id": "140e3771",
   "metadata": {},
   "outputs": [
    {
     "data": {
      "text/plain": [
       "dict_items([('bifronte', 'De dos frentes o dos caras'), ('anarcoide', 'Que tiende al desorden'), ('montuvio', 'Campesino de la costa'), ('enjuiciar', 'Someter una cuestión a examen, discusión y juicio')])"
      ]
     },
     "execution_count": 12,
     "metadata": {},
     "output_type": "execute_result"
    }
   ],
   "source": [
    "#lista de tuplas\n",
    "rae.items()\n"
   ]
  },
  {
   "cell_type": "code",
   "execution_count": 20,
   "id": "d6a7f7cf",
   "metadata": {},
   "outputs": [
    {
     "data": {
      "text/plain": [
       "4"
      ]
     },
     "execution_count": 20,
     "metadata": {},
     "output_type": "execute_result"
    }
   ],
   "source": [
    "len(rae)\n"
   ]
  },
  {
   "cell_type": "code",
   "execution_count": 13,
   "id": "b6fe1e11",
   "metadata": {},
   "outputs": [
    {
     "name": "stdout",
     "output_type": "stream",
     "text": [
      "bifronte\n",
      "anarcoide\n",
      "montuvio\n",
      "enjuiciar\n"
     ]
    }
   ],
   "source": [
    "for word in rae.keys():\n",
    "    print(word)"
   ]
  },
  {
   "cell_type": "code",
   "execution_count": 14,
   "id": "1d333a1a",
   "metadata": {},
   "outputs": [
    {
     "name": "stdout",
     "output_type": "stream",
     "text": [
      "De dos frentes o dos caras\n",
      "Que tiende al desorden\n",
      "Campesino de la costa\n",
      "Someter una cuestión a examen, discusión y juicio\n"
     ]
    }
   ],
   "source": [
    "for meaning in rae.values():\n",
    "    print(meaning)"
   ]
  },
  {
   "cell_type": "code",
   "execution_count": null,
   "id": "499b131e",
   "metadata": {},
   "outputs": [
    {
     "name": "stdout",
     "output_type": "stream",
     "text": [
      "bifronte: De dos frentes o dos caras\n",
      "anarcoide: Que tiende al desorden\n",
      "montuvio: Campesino de la costa\n",
      "enjuiciar: Someter una cuestión a examen, discusión y juicio\n"
     ]
    }
   ],
   "source": [
    "#iterando por items. iterar\n",
    "for key, value in rae.items():\n",
    "    print(f'{key}: {value}')\n"
   ]
  },
  {
   "cell_type": "code",
   "execution_count": 16,
   "id": "d5793711",
   "metadata": {},
   "outputs": [],
   "source": [
    "rae1 = {\n",
    "    'bifronte': 'De dos frentes o dos caras',\n",
    "    'enjuiciar': 'Someter una cuestión a examen, discusión y juicio'\n",
    "}\n",
    "\n",
    "rae2 = {\n",
    "    'anarcoide': 'Que tiende al desorden',\n",
    "    'montuvio': 'Campesino de la costa',\n",
    "    'enjuiciar': 'Instruir, juzgar o sentenciar una causa'\n",
    "}"
   ]
  },
  {
   "cell_type": "code",
   "execution_count": null,
   "id": "0512a4a4",
   "metadata": {},
   "outputs": [
    {
     "data": {
      "text/plain": [
       "{'bifronte': 'De dos frentes o dos caras',\n",
       " 'enjuiciar': 'Instruir, juzgar o sentenciar una causa',\n",
       " 'anarcoide': 'Que tiende al desorden',\n",
       " 'montuvio': 'Campesino de la costa'}"
      ]
     },
     "execution_count": 17,
     "metadata": {},
     "output_type": "execute_result"
    }
   ],
   "source": [
    "#añade las keys y los values de ambos diccionarios. como enjuiciar se solapa escoje la ultima definición añadida.\n",
    "{**rae1, **rae2}\n"
   ]
  },
  {
   "cell_type": "code",
   "execution_count": null,
   "id": "59a14c0a",
   "metadata": {},
   "outputs": [
    {
     "data": {
      "text/plain": [
       "{'bifronte': 'De dos frentes o dos caras',\n",
       " 'enjuiciar': 'Instruir, juzgar o sentenciar una causa',\n",
       " 'anarcoide': 'Que tiende al desorden',\n",
       " 'montuvio': 'Campesino de la costa'}"
      ]
     },
     "execution_count": 26,
     "metadata": {},
     "output_type": "execute_result"
    }
   ],
   "source": [
    "    #py\n",
    "rae1 | rae2\n"
   ]
  },
  {
   "cell_type": "code",
   "execution_count": null,
   "id": "37603e0e",
   "metadata": {},
   "outputs": [
    {
     "data": {
      "text/plain": [
       "{'bifronte': 'De dos frentes o dos caras',\n",
       " 'enjuiciar': 'Instruir, juzgar o sentenciar una causa',\n",
       " 'anarcoide': 'Que tiende al desorden',\n",
       " 'montuvio': 'Campesino de la costa'}"
      ]
     },
     "execution_count": 27,
     "metadata": {},
     "output_type": "execute_result"
    }
   ],
   "source": [
    "#mete una dentro de la otra\n",
    "rae1.update(rae2)\n",
    "\n",
    "rae1"
   ]
  },
  {
   "cell_type": "code",
   "execution_count": null,
   "id": "6941454a",
   "metadata": {},
   "outputs": [],
   "source": [
    "#elimina la key\n",
    "del rae['bifronte']\n"
   ]
  },
  {
   "cell_type": "code",
   "execution_count": 29,
   "id": "b8fca740",
   "metadata": {},
   "outputs": [
    {
     "data": {
      "text/plain": [
       "{'anarcoide': 'Que tiende al desorden',\n",
       " 'montuvio': 'Campesino de la costa',\n",
       " 'enjuiciar': 'Instruir, juzgar o sentenciar una causa'}"
      ]
     },
     "execution_count": 29,
     "metadata": {},
     "output_type": "execute_result"
    }
   ],
   "source": [
    "rae"
   ]
  },
  {
   "cell_type": "code",
   "execution_count": null,
   "id": "4bb81a90",
   "metadata": {},
   "outputs": [
    {
     "data": {
      "text/plain": [
       "{'montuvio': 'Campesino de la costa',\n",
       " 'enjuiciar': 'Instruir, juzgar o sentenciar una causa'}"
      ]
     },
     "execution_count": 30,
     "metadata": {},
     "output_type": "execute_result"
    }
   ],
   "source": [
    "#elimina el ultimo que encuentre con esa palabra.\n",
    "rae.pop('anarcoide')\n",
    "\n",
    "\n",
    "rae"
   ]
  },
  {
   "cell_type": "code",
   "execution_count": null,
   "id": "0c061a2a",
   "metadata": {},
   "outputs": [
    {
     "ename": "KeyError",
     "evalue": "'bucle'",
     "output_type": "error",
     "traceback": [
      "\u001b[1;31m---------------------------------------------------------------------------\u001b[0m",
      "\u001b[1;31mKeyError\u001b[0m                                  Traceback (most recent call last)",
      "Cell \u001b[1;32mIn[31], line 1\u001b[0m\n\u001b[1;32m----> 1\u001b[0m \u001b[43mrae\u001b[49m\u001b[38;5;241;43m.\u001b[39;49m\u001b[43mpop\u001b[49m\u001b[43m(\u001b[49m\u001b[38;5;124;43m'\u001b[39;49m\u001b[38;5;124;43mbucle\u001b[39;49m\u001b[38;5;124;43m'\u001b[39;49m\u001b[43m)\u001b[49m\n",
      "\u001b[1;31mKeyError\u001b[0m: 'bucle'"
     ]
    }
   ],
   "source": [
    "#si no exise da error\n",
    "rae.pop('bucle')\n"
   ]
  },
  {
   "cell_type": "code",
   "execution_count": null,
   "id": "6a2e8ee4",
   "metadata": {},
   "outputs": [],
   "source": [
    "#elimina el contenido\n",
    "rae.clear()"
   ]
  },
  {
   "cell_type": "code",
   "execution_count": 33,
   "id": "303463f1",
   "metadata": {},
   "outputs": [],
   "source": [
    "rae = {}"
   ]
  },
  {
   "cell_type": "code",
   "execution_count": null,
   "id": "58c6b4ad",
   "metadata": {},
   "outputs": [
    {
     "data": {
      "text/plain": [
       "{'sun': 3, 'space': 5, 'rocket': 6, 'earth': 5}"
      ]
     },
     "execution_count": 34,
     "metadata": {},
     "output_type": "execute_result"
    }
   ],
   "source": [
    "#que numero de letras tiene cada palabra. diccionario por convención.\n",
    "words = ('sun', 'space', 'rocket', 'earth')\n",
    "\n",
    "words_length = {word: len(word) for word in words}\n",
    "\n",
    "words_length"
   ]
  },
  {
   "cell_type": "code",
   "execution_count": 19,
   "id": "576d85cd",
   "metadata": {},
   "outputs": [
    {
     "data": {
      "text/plain": [
       "{'sun': 3, 'space': 5, 'rocket': 6}"
      ]
     },
     "execution_count": 19,
     "metadata": {},
     "output_type": "execute_result"
    }
   ],
   "source": [
    "#diccionario por convención con condicional. en este caso hace la lista de las que no incian con vocal.\n",
    "words = ('sun', 'space', 'rocket', 'earth')\n",
    "\n",
    "words_length = {w: len(w) for w in words if w[0] not in 'aeiou'}\n",
    "\n",
    "words_length"
   ]
  },
  {
   "cell_type": "code",
   "execution_count": 18,
   "id": "9ec8a33d",
   "metadata": {},
   "outputs": [
    {
     "data": {
      "text/plain": [
       "[2, 4, 5, 6, 8, 9]"
      ]
     },
     "execution_count": 18,
     "metadata": {},
     "output_type": "execute_result"
    }
   ],
   "source": [
    "marks = {8, 4, 6, 2, 9, 5}\n",
    "\n",
    "sorted(marks)\n"
   ]
  },
  {
   "cell_type": "code",
   "execution_count": null,
   "id": "ac38658c",
   "metadata": {},
   "outputs": [],
   "source": [
    "#set. solamente tiene una key. si convierto una lista en set coge solo los valores unicos. los repetidos los elimina"
   ]
  },
  {
   "cell_type": "code",
   "execution_count": null,
   "id": "8632f694",
   "metadata": {},
   "outputs": [
    {
     "data": {
      "text/plain": [
       "frozenset({1, 2, 3, 4, 5})"
      ]
     },
     "execution_count": 39,
     "metadata": {},
     "output_type": "execute_result"
    }
   ],
   "source": [
    "#deja solo los valores unicos y los convierte en una constante (no se puede modificar)\n",
    "marks = [1, 3, 2, 3, 1, 4, 2, 4, 5, 2, 5, 5, 3, 1, 4]\n",
    "\n",
    "marks_levels = frozenset(marks)\n",
    "\n",
    "marks_levels"
   ]
  },
  {
   "cell_type": "code",
   "execution_count": null,
   "id": "18764238",
   "metadata": {},
   "outputs": [
    {
     "data": {
      "text/plain": [
       "{1, 2, 3, 4, 5, 6, 7}"
      ]
     },
     "execution_count": 26,
     "metadata": {},
     "output_type": "execute_result"
    }
   ],
   "source": [
    "marks = [1, 3, 2, 3, 1, 4, 2, 4, 5, 2, 5, 5, 3, 1, 4]\n",
    "marks = tuple(marks)\n",
    "type(marks)\n",
    "set(marks)\n",
    "#salen solo los numeros unicos y los ordena.\n",
    "conjunto = set(marks)\n",
    "conjunto.add(7)\n",
    "conjunto.add(6)\n",
    "conjunto\n",
    "#aunque se añadan desordenados, ya se ordena automaticamente"
   ]
  }
 ],
 "metadata": {
  "kernelspec": {
   "display_name": "base",
   "language": "python",
   "name": "python3"
  },
  "language_info": {
   "codemirror_mode": {
    "name": "ipython",
    "version": 3
   },
   "file_extension": ".py",
   "mimetype": "text/x-python",
   "name": "python",
   "nbconvert_exporter": "python",
   "pygments_lexer": "ipython3",
   "version": "3.13.5"
  }
 },
 "nbformat": 4,
 "nbformat_minor": 5
}
