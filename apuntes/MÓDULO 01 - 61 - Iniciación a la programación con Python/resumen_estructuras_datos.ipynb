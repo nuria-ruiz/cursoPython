{
 "cells": [
  {
   "cell_type": "code",
   "execution_count": 40,
   "id": "b6e1b528",
   "metadata": {},
   "outputs": [],
   "source": [
    "numeros = [1, 2, 3, 4, 5, 6, 7]\n",
    "listas = [12, 13.14, \"hola\", True, [1, 2, 3], (1, 2, 3), {\"mamá\": \"persona que me hace los tuppers\"}, {1, 2, 3}, None, \"\"]\n",
    "#         int  float  text  boleano  lista      tupla     diccionario                                  set             \n",
    "diccionario = {2023: 25, 2024: 27, 2025: 26}\n",
    "edades = [25, 26, 25, 26, 27, 25, 25, 35, 29, 28, 28, 24, 25, 32, 20, 53]\n"
   ]
  },
  {
   "cell_type": "code",
   "execution_count": null,
   "id": "391331f0",
   "metadata": {},
   "outputs": [
    {
     "name": "stdout",
     "output_type": "stream",
     "text": [
      "28.3125\n"
     ]
    }
   ],
   "source": [
    "print(media:=sum(edades) / len(edades))\n",
    "#morsa: es como \"media = x\" solo que si lo hicieramos así en este caso daria error"
   ]
  },
  {
   "cell_type": "code",
   "execution_count": 10,
   "id": "a5d1e647",
   "metadata": {},
   "outputs": [
    {
     "name": "stdout",
     "output_type": "stream",
     "text": [
      "28.3125\n"
     ]
    }
   ],
   "source": [
    "media = 0\n",
    "suma = 0\n",
    "for edad in edades:\n",
    "    suma += edad\n",
    "media = suma / len(edades)\n",
    "print(media)"
   ]
  },
  {
   "cell_type": "code",
   "execution_count": 23,
   "id": "2c4a3b82",
   "metadata": {},
   "outputs": [
    {
     "name": "stdout",
     "output_type": "stream",
     "text": [
      "61.14\n"
     ]
    }
   ],
   "source": [
    "listas = [12, \"23\", 13.14, \"hola\", True, [1, 2, 3], (1, 2, 3), {\"mamá\": \"persona que me hace los tuppers\"}, {1, 2, 3}, None, \"\"]\n",
    "suma = 0\n",
    "for elemento in listas:\n",
    "    if isinstance(elemento, int) or isinstance(elemento, float):\n",
    "    #isinstance te dice si es entero o float\n",
    "        suma += float(elemento)\n",
    "    elif isinstance(elemento, list) or isinstance(elemento, tuple):\n",
    "        suma += sum(elemento)\n",
    "    elif isinstance(elemento, bool):\n",
    "        suma += float(elemento)\n",
    "    elif isinstance (elemento, str):\n",
    "        if elemento.isnumeric():\n",
    "            suma += float(elemento)\n",
    "print(suma)\n"
   ]
  },
  {
   "cell_type": "code",
   "execution_count": 41,
   "id": "86a6ec58",
   "metadata": {},
   "outputs": [
    {
     "data": {
      "text/plain": [
       "[25, 26, 25, 26, 27, 25, 25, 35, 29, 28, 28, 24, 25, 32, 20, 53, 83]"
      ]
     },
     "execution_count": 41,
     "metadata": {},
     "output_type": "execute_result"
    }
   ],
   "source": [
    "edades.append(83)\n",
    "edades"
   ]
  },
  {
   "cell_type": "code",
   "execution_count": 42,
   "id": "b7564b43",
   "metadata": {},
   "outputs": [
    {
     "data": {
      "text/plain": [
       "[25, 26, 25, 26, 27, 25, 25, 35, 29, 28, 28, 24, 25, 32, 20, 53]"
      ]
     },
     "execution_count": 42,
     "metadata": {},
     "output_type": "execute_result"
    }
   ],
   "source": [
    "edades.pop()\n",
    "edades"
   ]
  },
  {
   "cell_type": "code",
   "execution_count": 43,
   "id": "e92c6a2d",
   "metadata": {},
   "outputs": [
    {
     "data": {
      "text/plain": [
       "[26, 25, 26, 27, 25, 25, 35, 29, 28, 28, 24, 25, 32, 20, 53]"
      ]
     },
     "execution_count": 43,
     "metadata": {},
     "output_type": "execute_result"
    }
   ],
   "source": [
    "edades.remove(25)\n",
    "edades"
   ]
  },
  {
   "cell_type": "code",
   "execution_count": 36,
   "id": "2edfc894",
   "metadata": {},
   "outputs": [
    {
     "ename": "IndexError",
     "evalue": "list assignment index out of range",
     "output_type": "error",
     "traceback": [
      "\u001b[1;31m---------------------------------------------------------------------------\u001b[0m",
      "\u001b[1;31mIndexError\u001b[0m                                Traceback (most recent call last)",
      "Cell \u001b[1;32mIn[36], line 1\u001b[0m\n\u001b[1;32m----> 1\u001b[0m \u001b[38;5;28;01mdel\u001b[39;00m edades[\u001b[38;5;241m27\u001b[39m]\n",
      "\u001b[1;31mIndexError\u001b[0m: list assignment index out of range"
     ]
    }
   ],
   "source": [
    "del edades[27]"
   ]
  },
  {
   "cell_type": "code",
   "execution_count": 47,
   "id": "da5d2e07",
   "metadata": {},
   "outputs": [
    {
     "data": {
      "text/plain": [
       "('cereza', 'manzana', 'pera')"
      ]
     },
     "execution_count": 47,
     "metadata": {},
     "output_type": "execute_result"
    }
   ],
   "source": [
    "t = (\"cereza\", \"manzana\", \"pera\")\n",
    "t"
   ]
  },
  {
   "cell_type": "code",
   "execution_count": 46,
   "id": "7c99c624",
   "metadata": {},
   "outputs": [
    {
     "data": {
      "text/plain": [
       "[]"
      ]
     },
     "execution_count": 46,
     "metadata": {},
     "output_type": "execute_result"
    }
   ],
   "source": [
    "lista = [1, 2, 3]\n",
    "lista.clear()\n",
    "lista"
   ]
  },
  {
   "cell_type": "code",
   "execution_count": null,
   "id": "fbdbf7c6",
   "metadata": {},
   "outputs": [
    {
     "data": {
      "text/plain": [
       "[]"
      ]
     },
     "execution_count": 45,
     "metadata": {},
     "output_type": "execute_result"
    }
   ],
   "source": [
    "lista = [1, 2, 3, 4]\n",
    "lista = [] #reescribe la lista\n",
    "lista"
   ]
  },
  {
   "cell_type": "code",
   "execution_count": null,
   "id": "3a3ebb51",
   "metadata": {},
   "outputs": [],
   "source": [
    "tupla = 1, 2, 3 #puede tener parentesis o no\n",
    "tupla = 1 #esto no es una tupla\n",
    "tupla = 1, #esto si es una tupla\n",
    "tupla = (1,) #tupla\n"
   ]
  },
  {
   "cell_type": "code",
   "execution_count": 50,
   "id": "fe5bb372",
   "metadata": {},
   "outputs": [
    {
     "data": {
      "text/plain": [
       "{2023: 34, 2024: 35, 2025: 37}"
      ]
     },
     "execution_count": 50,
     "metadata": {},
     "output_type": "execute_result"
    }
   ],
   "source": [
    "diccionario = {2023:34,\n",
    "               2024:35}\n",
    "diccionario[2025] = 37\n",
    "diccionario\n"
   ]
  },
  {
   "cell_type": "code",
   "execution_count": 51,
   "id": "3c2fbf7c",
   "metadata": {},
   "outputs": [
    {
     "data": {
      "text/plain": [
       "dict_keys([2023, 2024, 2025])"
      ]
     },
     "execution_count": 51,
     "metadata": {},
     "output_type": "execute_result"
    }
   ],
   "source": [
    "diccionario.keys()"
   ]
  },
  {
   "cell_type": "code",
   "execution_count": 52,
   "id": "94f96044",
   "metadata": {},
   "outputs": [
    {
     "data": {
      "text/plain": [
       "dict_values([34, 35, 37])"
      ]
     },
     "execution_count": 52,
     "metadata": {},
     "output_type": "execute_result"
    }
   ],
   "source": [
    "diccionario.values()"
   ]
  },
  {
   "cell_type": "code",
   "execution_count": 55,
   "id": "64624b63",
   "metadata": {},
   "outputs": [
    {
     "name": "stdout",
     "output_type": "stream",
     "text": [
      "2024\n"
     ]
    }
   ],
   "source": [
    "for key, value in diccionario.items():\n",
    "    if value == 35:\n",
    "        print(key)"
   ]
  },
  {
   "cell_type": "code",
   "execution_count": 53,
   "id": "e353580c",
   "metadata": {},
   "outputs": [
    {
     "data": {
      "text/plain": [
       "'Este año no existe'"
      ]
     },
     "execution_count": 53,
     "metadata": {},
     "output_type": "execute_result"
    }
   ],
   "source": [
    "diccionario.get(2027, \"Este año no existe\")"
   ]
  },
  {
   "cell_type": "code",
   "execution_count": null,
   "id": "ba1f1215",
   "metadata": {},
   "outputs": [],
   "source": [
    "edades = [25, 26, 25, 26, 27, 25, 25, 35, 29, 28, 28, 24, 25, 32, 20, 53]\n"
   ]
  },
  {
   "cell_type": "code",
   "execution_count": 62,
   "id": "41b4cfae",
   "metadata": {},
   "outputs": [
    {
     "data": {
      "text/plain": [
       "{26: 2, 25: 4, 27: 1, 35: 1, 29: 1, 28: 2, 24: 1, 32: 1, 20: 1, 53: 1}"
      ]
     },
     "execution_count": 62,
     "metadata": {},
     "output_type": "execute_result"
    }
   ],
   "source": [
    "frecuencia = {x:edades.count(x) for x in edades}\n",
    "frecuencia"
   ]
  },
  {
   "cell_type": "code",
   "execution_count": null,
   "id": "e21b78ab",
   "metadata": {},
   "outputs": [],
   "source": [
    "#CRUD: create, read, update, delate\n",
    "1. - añadir contacto\n",
    "2. - buscar contacto\n",
    "3. - modificar contacto\n",
    "4. - borrar contacto\n",
    "5. - listar contacto\n",
    "6. - salir\n",
    "\n"
   ]
  }
 ],
 "metadata": {
  "kernelspec": {
   "display_name": "base",
   "language": "python",
   "name": "python3"
  },
  "language_info": {
   "codemirror_mode": {
    "name": "ipython",
    "version": 3
   },
   "file_extension": ".py",
   "mimetype": "text/x-python",
   "name": "python",
   "nbconvert_exporter": "python",
   "pygments_lexer": "ipython3",
   "version": "3.13.5"
  }
 },
 "nbformat": 4,
 "nbformat_minor": 5
}
