{
 "cells": [
  {
   "cell_type": "code",
   "execution_count": null,
   "id": "e6a8bc45-7444-4306-b9bc-513a4d49d7e8",
   "metadata": {},
   "outputs": [],
   "source": [
    "pep8 (buena praxis en programación phyton\n",
    "city_name (snake case) sin mayusculas y con barra baja"
   ]
  },
  {
   "cell_type": "code",
   "execution_count": null,
   "id": "a096d157-6509-4ecc-9613-c50a61630bd8",
   "metadata": {},
   "outputs": [],
   "source": [
    "print (\"Hello World\") con comillas porque si no és una variable"
   ]
  },
  {
   "cell_type": "code",
   "execution_count": null,
   "id": "fc25791f-fd27-496e-b6f7-a7abd1a04c8f",
   "metadata": {},
   "outputs": [],
   "source": [
    "cuando una variable se ve en un color más flojito es porque no está en uso"
   ]
  },
  {
   "cell_type": "code",
   "execution_count": null,
   "id": "47a28c8b",
   "metadata": {},
   "outputs": [],
   "source": [
    "num = 4\n",
    "num % 2 "
   ]
  },
  {
   "cell_type": "markdown",
   "id": "fcbe66ad",
   "metadata": {},
   "source": [
    "% significa que el numero es divisibles entre x (en este caso 2)"
   ]
  },
  {
   "cell_type": "code",
   "execution_count": null,
   "id": "0a540015",
   "metadata": {},
   "outputs": [],
   "source": [
    "nombre = \"oscar\""
   ]
  },
  {
   "cell_type": "markdown",
   "id": "6505726b",
   "metadata": {},
   "source": [
    "comillas dobles o simples no es importante. diferenciar comillas si quieres que lo lea como caracter."
   ]
  },
  {
   "cell_type": "code",
   "execution_count": null,
   "id": "17b44fab",
   "metadata": {},
   "outputs": [
    {
     "name": "stdout",
     "output_type": "stream",
     "text": [
      "oscar 'el mago' Ruiz\n"
     ]
    }
   ],
   "source": [
    "nombre = \"Oscar 'el mago' Ruiz\"\n",
    "print(nombre)"
   ]
  },
  {
   "cell_type": "code",
   "execution_count": 9,
   "id": "d7937b1f",
   "metadata": {},
   "outputs": [
    {
     "name": "stdout",
     "output_type": "stream",
     "text": [
      "el nombre de la persona es oscar 'el mago' Ruiz\n"
     ]
    }
   ],
   "source": [
    "numero = 122345\n",
    "decimal = 12.67122\n",
    "booleano = True\n",
    "print(\"el nombre de la persona es\", nombre)"
   ]
  },
  {
   "cell_type": "code",
   "execution_count": 6,
   "id": "588cc00e",
   "metadata": {},
   "outputs": [
    {
     "name": "stdout",
     "output_type": "stream",
     "text": [
      "el nombre de la persona és oscar 'el mago' Ruiz.\n"
     ]
    }
   ],
   "source": [
    "print(f\"el nombre de la persona és {nombre}.\")"
   ]
  },
  {
   "cell_type": "code",
   "execution_count": 11,
   "id": "3dc5ffa1",
   "metadata": {},
   "outputs": [
    {
     "name": "stdout",
     "output_type": "stream",
     "text": [
      "tiene 27 años.\n"
     ]
    }
   ],
   "source": [
    "year = input(\"introduce tu año de nacimiento:\")\n",
    "age = 2025 - int(year)\n",
    "print(f\"tiene {age} años.\")\n"
   ]
  },
  {
   "cell_type": "markdown",
   "id": "c2543053",
   "metadata": {},
   "source": [
    "como el input aunque sean numeros se introduce como texto, lo convertimos a integral. "
   ]
  },
  {
   "cell_type": "code",
   "execution_count": 14,
   "id": "0edd8de8",
   "metadata": {},
   "outputs": [
    {
     "name": "stdout",
     "output_type": "stream",
     "text": [
      "tienes 27.0 años.\n"
     ]
    }
   ],
   "source": [
    "year = float(input(\"introduce tu año de nacimiento\"))\n",
    "age = 2025 - year\n",
    "print(f\"tienes {age} años.\")"
   ]
  },
  {
   "cell_type": "code",
   "execution_count": 17,
   "id": "b24f1e1d",
   "metadata": {},
   "outputs": [
    {
     "name": "stdout",
     "output_type": "stream",
     "text": [
      "aviso por temperaturas altas.\n",
      "temperatura 40\n"
     ]
    }
   ],
   "source": [
    "temperature =40\n",
    "if temperature >35:\n",
    "    print(\"aviso por temperaturas altas.\")\n",
    "    print(f\"temperatura {temperature}\")"
   ]
  },
  {
   "cell_type": "markdown",
   "id": "ade91c27",
   "metadata": {},
   "source": [
    "en este caso si la temperatura es menor de 35 no imprimirá NADA porque esta todo dentro del condicional"
   ]
  },
  {
   "cell_type": "code",
   "execution_count": 18,
   "id": "74ad94ad",
   "metadata": {},
   "outputs": [
    {
     "name": "stdout",
     "output_type": "stream",
     "text": [
      "temperatura 30\n"
     ]
    }
   ],
   "source": [
    "temperature =30\n",
    "if temperature >35:\n",
    "    print(\"aviso por temperaturas altas.\")\n",
    "print(f\"temperatura {temperature}\")"
   ]
  },
  {
   "cell_type": "code",
   "execution_count": 19,
   "id": "925a3fdc",
   "metadata": {},
   "outputs": [
    {
     "name": "stdout",
     "output_type": "stream",
     "text": [
      "temperatura normal\n"
     ]
    }
   ],
   "source": [
    "temperature =30\n",
    "if temperature >35:\n",
    "    print(\"aviso por temperaturas altas.\")\n",
    "else:\n",
    "    print(\"temperatura normal\")"
   ]
  },
  {
   "cell_type": "code",
   "execution_count": null,
   "id": "9e5e796f",
   "metadata": {},
   "outputs": [],
   "source": [
    "temperature = 28\n",
    "if temperature <20:\n",
    "    if temperature <10:\n",
    "    print(\"nivel azul\")\n",
    "    else:\n",
    "    print(\"nivel verde\")"
   ]
  },
  {
   "cell_type": "markdown",
   "id": "68f65390",
   "metadata": {},
   "source": [
    "esto se llama condicional anidado"
   ]
  },
  {
   "cell_type": "code",
   "execution_count": 21,
   "id": "005e1504",
   "metadata": {},
   "outputs": [
    {
     "name": "stdout",
     "output_type": "stream",
     "text": [
      "HIGH\n"
     ]
    }
   ],
   "source": [
    "fire_risk = 'LOW' if temperature <30 else 'HIGH'\n",
    "print(fire_risk)"
   ]
  },
  {
   "cell_type": "markdown",
   "id": "a25fbc50",
   "metadata": {},
   "source": [
    "de esta ultima manera hacemos 4 lineas en 1"
   ]
  },
  {
   "cell_type": "code",
   "execution_count": 25,
   "id": "724b4103",
   "metadata": {},
   "outputs": [
    {
     "data": {
      "text/plain": [
       "8"
      ]
     },
     "execution_count": 25,
     "metadata": {},
     "output_type": "execute_result"
    }
   ],
   "source": [
    "value = 8\n",
    "value"
   ]
  },
  {
   "cell_type": "markdown",
   "id": "c9a9aa2e",
   "metadata": {},
   "source": [
    "así asignamos"
   ]
  },
  {
   "cell_type": "code",
   "execution_count": 24,
   "id": "8a934936",
   "metadata": {},
   "outputs": [
    {
     "data": {
      "text/plain": [
       "True"
      ]
     },
     "execution_count": 24,
     "metadata": {},
     "output_type": "execute_result"
    }
   ],
   "source": [
    "value == 8"
   ]
  },
  {
   "cell_type": "markdown",
   "id": "dac514c3",
   "metadata": {},
   "source": [
    "así preguntamos"
   ]
  },
  {
   "cell_type": "code",
   "execution_count": 26,
   "id": "df0878ad",
   "metadata": {},
   "outputs": [
    {
     "data": {
      "text/plain": [
       "False"
      ]
     },
     "execution_count": 26,
     "metadata": {},
     "output_type": "execute_result"
    }
   ],
   "source": [
    "value != 8"
   ]
  },
  {
   "cell_type": "markdown",
   "id": "f8e6e7df",
   "metadata": {},
   "source": [
    "admiración delante del igual quiere decir desigual"
   ]
  },
  {
   "cell_type": "code",
   "execution_count": 27,
   "id": "1fa07edd",
   "metadata": {},
   "outputs": [
    {
     "data": {
      "text/plain": [
       "True"
      ]
     },
     "execution_count": 27,
     "metadata": {},
     "output_type": "execute_result"
    }
   ],
   "source": [
    "value < 12"
   ]
  },
  {
   "cell_type": "code",
   "execution_count": 28,
   "id": "70e51288",
   "metadata": {},
   "outputs": [
    {
     "data": {
      "text/plain": [
       "False"
      ]
     },
     "execution_count": 28,
     "metadata": {},
     "output_type": "execute_result"
    }
   ],
   "source": [
    "value <= 7"
   ]
  },
  {
   "cell_type": "code",
   "execution_count": 29,
   "id": "4da0bd5c",
   "metadata": {},
   "outputs": [
    {
     "data": {
      "text/plain": [
       "False"
      ]
     },
     "execution_count": 29,
     "metadata": {},
     "output_type": "execute_result"
    }
   ],
   "source": [
    "value >=9"
   ]
  },
  {
   "cell_type": "code",
   "execution_count": 30,
   "id": "89eec4f2",
   "metadata": {},
   "outputs": [
    {
     "data": {
      "text/plain": [
       "True"
      ]
     },
     "execution_count": 30,
     "metadata": {},
     "output_type": "execute_result"
    }
   ],
   "source": [
    "x = 5\n",
    "x >= 4\n",
    "x <= 12"
   ]
  },
  {
   "cell_type": "markdown",
   "id": "95b761d6",
   "metadata": {},
   "source": [
    "resumido:"
   ]
  },
  {
   "cell_type": "code",
   "execution_count": 31,
   "id": "ef3ce48f",
   "metadata": {},
   "outputs": [
    {
     "data": {
      "text/plain": [
       "True"
      ]
     },
     "execution_count": 31,
     "metadata": {},
     "output_type": "execute_result"
    }
   ],
   "source": [
    "x >= 4 and x <= 12"
   ]
  },
  {
   "cell_type": "markdown",
   "id": "2fb647b3",
   "metadata": {},
   "source": [
    "si no se cumplen las dos condiciones dará False"
   ]
  },
  {
   "cell_type": "code",
   "execution_count": 32,
   "id": "d5762527",
   "metadata": {},
   "outputs": [
    {
     "data": {
      "text/plain": [
       "True"
      ]
     },
     "execution_count": 32,
     "metadata": {},
     "output_type": "execute_result"
    }
   ],
   "source": [
    "#true or false\n",
    "x = 8\n",
    "x >= 4 or x <= 3"
   ]
  },
  {
   "cell_type": "markdown",
   "id": "2e6b732d",
   "metadata": {},
   "source": [
    "con que se cumpla una condición dará True"
   ]
  },
  {
   "cell_type": "code",
   "execution_count": null,
   "id": "d275b360",
   "metadata": {},
   "outputs": [],
   "source": []
  }
 ],
 "metadata": {
  "kernelspec": {
   "display_name": "base",
   "language": "python",
   "name": "python3"
  },
  "language_info": {
   "codemirror_mode": {
    "name": "ipython",
    "version": 3
   },
   "file_extension": ".py",
   "mimetype": "text/x-python",
   "name": "python",
   "nbconvert_exporter": "python",
   "pygments_lexer": "ipython3",
   "version": "3.13.5"
  }
 },
 "nbformat": 4,
 "nbformat_minor": 5
}
