{
 "cells": [
  {
   "cell_type": "markdown",
   "id": "5e534c3a",
   "metadata": {},
   "source": [
    "# Control de flujo\n"
   ]
  },
  {
   "cell_type": "markdown",
   "id": "528b1821",
   "metadata": {},
   "source": [
    "## Condicionales"
   ]
  },
  {
   "cell_type": "markdown",
   "id": "16cbda82",
   "metadata": {},
   "source": [
    "### Comentarios"
   ]
  },
  {
   "cell_type": "code",
   "execution_count": null,
   "id": "5ca93f69",
   "metadata": {},
   "outputs": [],
   "source": [
    "# Universe age expressed in days\n",
    "universe_age = 13800 * (10 ** 6) * 365"
   ]
  },
  {
   "cell_type": "code",
   "execution_count": null,
   "id": "50d7839f",
   "metadata": {},
   "outputs": [],
   "source": [
    "stock = 0   # Release additional articles\n"
   ]
  },
  {
   "cell_type": "markdown",
   "id": "4d2a3dd7",
   "metadata": {},
   "source": [
    "### Ancho del código"
   ]
  },
  {
   "cell_type": "code",
   "execution_count": null,
   "id": "37abd3fd",
   "metadata": {},
   "outputs": [],
   "source": [
    "factorial = 4 * 3 * 2 * 1\n",
    "\n",
    "factorial = 4 * \\\n",
    "            3 * \\\n",
    "            2 * \\\n",
    "            1"
   ]
  },
  {
   "cell_type": "code",
   "execution_count": null,
   "id": "1bc505e2",
   "metadata": {},
   "outputs": [],
   "source": [
    "factorial = 4 * 3 * 2 * 1\n",
    "\n",
    "factorial = (4 *\n",
    "             3 *\n",
    "             2 *\n",
    "             1)"
   ]
  },
  {
   "cell_type": "markdown",
   "id": "e8003e73",
   "metadata": {},
   "source": [
    "### La sentencia if"
   ]
  },
  {
   "cell_type": "code",
   "execution_count": null,
   "id": "e0018d5e",
   "metadata": {},
   "outputs": [
    {
     "name": "stdout",
     "output_type": "stream",
     "text": [
      "Aviso por alta temperatura\n"
     ]
    }
   ],
   "source": [
    "temperature = 40\n",
    "\n",
    "if temperature > 35:\n",
    "    print('Aviso por alta temperatura')"
   ]
  },
  {
   "cell_type": "code",
   "execution_count": 6,
   "id": "ee7e681b",
   "metadata": {},
   "outputs": [
    {
     "name": "stdout",
     "output_type": "stream",
     "text": [
      "Parámetros normales\n"
     ]
    }
   ],
   "source": [
    "temperature = 20\n",
    "\n",
    "if temperature > 35:\n",
    "    print('Aviso por alta temperatura')\n",
    "else:\n",
    "    print('Parámetros normales')"
   ]
  },
  {
   "cell_type": "code",
   "execution_count": 7,
   "id": "f6bb179d",
   "metadata": {},
   "outputs": [
    {
     "name": "stdout",
     "output_type": "stream",
     "text": [
      "Nivel naranja\n"
     ]
    }
   ],
   "source": [
    "temperature = 28\n",
    "\n",
    "if temperature < 20:\n",
    "    if temperature < 10:\n",
    "        print('Nivel azul')\n",
    "    else:\n",
    "        print('Nivel verde')\n",
    "else:\n",
    "    if temperature < 30:\n",
    "        print('Nivel naranja')\n",
    "    else:\n",
    "        print('Nivel rojo')"
   ]
  },
  {
   "cell_type": "code",
   "execution_count": 8,
   "id": "243b1b64",
   "metadata": {},
   "outputs": [
    {
     "name": "stdout",
     "output_type": "stream",
     "text": [
      "Nivel naranja\n"
     ]
    }
   ],
   "source": [
    "temperature = 28\n",
    "\n",
    "if temperature < 20:\n",
    "    if temperature < 10:\n",
    "        print('Nivel azul')\n",
    "    else:\n",
    "        print('Nivel verde')\n",
    "elif temperature < 30:\n",
    "    print('Nivel naranja')\n",
    "else:\n",
    "    print('Nivel rojo')"
   ]
  },
  {
   "cell_type": "markdown",
   "id": "aaeacca5",
   "metadata": {},
   "source": [
    "### Asignaciones condicionales\n"
   ]
  },
  {
   "cell_type": "code",
   "execution_count": 9,
   "id": "50c9cbf1",
   "metadata": {},
   "outputs": [
    {
     "data": {
      "text/plain": [
       "'HIGH'"
      ]
     },
     "execution_count": 9,
     "metadata": {},
     "output_type": "execute_result"
    }
   ],
   "source": [
    "temperature = 35\n",
    "\n",
    "if temperature < 30:\n",
    "    fire_risk = 'LOW'\n",
    "else:\n",
    "    fire_risk = 'HIGH'\n",
    "\n",
    "\n",
    "fire_risk"
   ]
  },
  {
   "cell_type": "code",
   "execution_count": 10,
   "id": "dad49998",
   "metadata": {},
   "outputs": [
    {
     "data": {
      "text/plain": [
       "'HIGH'"
      ]
     },
     "execution_count": 10,
     "metadata": {},
     "output_type": "execute_result"
    }
   ],
   "source": [
    "fire_risk = 'LOW' if temperature < 30 else 'HIGH'\n",
    "\n",
    "fire_risk"
   ]
  },
  {
   "cell_type": "markdown",
   "id": "3c9be0b8",
   "metadata": {},
   "source": [
    "### Operadores de comparación"
   ]
  },
  {
   "cell_type": "code",
   "execution_count": 11,
   "id": "6778a763",
   "metadata": {},
   "outputs": [],
   "source": [
    "# Asignación de valor inicial\n",
    "value = 8\n",
    "\n"
   ]
  },
  {
   "cell_type": "code",
   "execution_count": 13,
   "id": "bf8c6569",
   "metadata": {},
   "outputs": [
    {
     "data": {
      "text/plain": [
       "True"
      ]
     },
     "execution_count": 13,
     "metadata": {},
     "output_type": "execute_result"
    }
   ],
   "source": [
    "value == 8"
   ]
  },
  {
   "cell_type": "code",
   "execution_count": 14,
   "id": "0baeae9e",
   "metadata": {},
   "outputs": [
    {
     "data": {
      "text/plain": [
       "False"
      ]
     },
     "execution_count": 14,
     "metadata": {},
     "output_type": "execute_result"
    }
   ],
   "source": [
    "value != 8\n"
   ]
  },
  {
   "cell_type": "code",
   "execution_count": 15,
   "id": "c6c05951",
   "metadata": {},
   "outputs": [
    {
     "data": {
      "text/plain": [
       "True"
      ]
     },
     "execution_count": 15,
     "metadata": {},
     "output_type": "execute_result"
    }
   ],
   "source": [
    "value < 12\n"
   ]
  },
  {
   "cell_type": "code",
   "execution_count": 16,
   "id": "ea89b512",
   "metadata": {},
   "outputs": [
    {
     "data": {
      "text/plain": [
       "False"
      ]
     },
     "execution_count": 16,
     "metadata": {},
     "output_type": "execute_result"
    }
   ],
   "source": [
    "value <= 7\n"
   ]
  },
  {
   "cell_type": "code",
   "execution_count": 17,
   "id": "1c8fe96e",
   "metadata": {},
   "outputs": [
    {
     "data": {
      "text/plain": [
       "True"
      ]
     },
     "execution_count": 17,
     "metadata": {},
     "output_type": "execute_result"
    }
   ],
   "source": [
    "value > 4"
   ]
  },
  {
   "cell_type": "code",
   "execution_count": 19,
   "id": "6b927272",
   "metadata": {},
   "outputs": [
    {
     "data": {
      "text/plain": [
       "False"
      ]
     },
     "execution_count": 19,
     "metadata": {},
     "output_type": "execute_result"
    }
   ],
   "source": [
    "value >= 9"
   ]
  },
  {
   "cell_type": "code",
   "execution_count": 21,
   "id": "46ae5e77",
   "metadata": {},
   "outputs": [
    {
     "data": {
      "text/plain": [
       "True"
      ]
     },
     "execution_count": 21,
     "metadata": {},
     "output_type": "execute_result"
    }
   ],
   "source": [
    "x = 5\n",
    "\n",
    "4 <= x <= 12"
   ]
  },
  {
   "cell_type": "markdown",
   "id": "35ab92f4",
   "metadata": {},
   "source": [
    "### Operadores lógicos"
   ]
  },
  {
   "cell_type": "code",
   "execution_count": 22,
   "id": "b06476b0",
   "metadata": {},
   "outputs": [
    {
     "data": {
      "text/plain": [
       "True"
      ]
     },
     "execution_count": 22,
     "metadata": {},
     "output_type": "execute_result"
    }
   ],
   "source": [
    "# Asignación de valor inicial\n",
    "x = 8\n",
    "\n",
    "x > 4 or x > 12  # True or False\n"
   ]
  },
  {
   "cell_type": "code",
   "execution_count": 23,
   "id": "2a39e94b",
   "metadata": {},
   "outputs": [
    {
     "data": {
      "text/plain": [
       "False"
      ]
     },
     "execution_count": 23,
     "metadata": {},
     "output_type": "execute_result"
    }
   ],
   "source": [
    "x < 4 or x > 12  # False or False\n"
   ]
  },
  {
   "cell_type": "code",
   "execution_count": 24,
   "id": "cc4f3b7f",
   "metadata": {},
   "outputs": [
    {
     "data": {
      "text/plain": [
       "False"
      ]
     },
     "execution_count": 24,
     "metadata": {},
     "output_type": "execute_result"
    }
   ],
   "source": [
    "x > 4 and x > 12  # True and False\n"
   ]
  },
  {
   "cell_type": "code",
   "execution_count": 25,
   "id": "742fdf13",
   "metadata": {},
   "outputs": [
    {
     "data": {
      "text/plain": [
       "True"
      ]
     },
     "execution_count": 25,
     "metadata": {},
     "output_type": "execute_result"
    }
   ],
   "source": [
    "x > 4 and x < 12  # True and True\n"
   ]
  },
  {
   "cell_type": "code",
   "execution_count": 26,
   "id": "de0de64a",
   "metadata": {},
   "outputs": [
    {
     "data": {
      "text/plain": [
       "True"
      ]
     },
     "execution_count": 26,
     "metadata": {},
     "output_type": "execute_result"
    }
   ],
   "source": [
    "not(x != 8)  # not False\n"
   ]
  },
  {
   "cell_type": "markdown",
   "id": "6e7a3daa",
   "metadata": {},
   "source": [
    "el not lo que hace es que devuelva lo contrario de lo que deberia devolver."
   ]
  },
  {
   "cell_type": "markdown",
   "id": "123a2a45",
   "metadata": {},
   "source": [
    "### «Booleanos» en condiciones"
   ]
  },
  {
   "cell_type": "code",
   "execution_count": 29,
   "id": "146fdd9d",
   "metadata": {},
   "outputs": [
    {
     "name": "stdout",
     "output_type": "stream",
     "text": [
      "Coge chaqueta\n"
     ]
    }
   ],
   "source": [
    "is_cold = True\n",
    "\n",
    "if is_cold == True:\n",
    "    print('Coge chaqueta')\n",
    "else:\n",
    "    print('Usa camiseta')"
   ]
  },
  {
   "cell_type": "code",
   "execution_count": 30,
   "id": "ce5f8cba",
   "metadata": {},
   "outputs": [
    {
     "name": "stdout",
     "output_type": "stream",
     "text": [
      "Coge chaqueta\n"
     ]
    }
   ],
   "source": [
    "if is_cold:\n",
    "    print('Coge chaqueta')\n",
    "else:\n",
    "    print('Usa camiseta')"
   ]
  },
  {
   "cell_type": "markdown",
   "id": "2514c021",
   "metadata": {},
   "source": [
    "### Valor nulo"
   ]
  },
  {
   "cell_type": "code",
   "execution_count": 31,
   "id": "384f70f6",
   "metadata": {},
   "outputs": [
    {
     "name": "stdout",
     "output_type": "stream",
     "text": [
      "Value seems to be void\n"
     ]
    }
   ],
   "source": [
    "value = None\n",
    "\n",
    "if value:\n",
    "    print('Value has some useful value')\n",
    "else:\n",
    "    # value podría contener None, False (u otro)\n",
    "    print('Value seems to be void')"
   ]
  },
  {
   "cell_type": "code",
   "execution_count": 32,
   "id": "c6646564",
   "metadata": {},
   "outputs": [
    {
     "name": "stdout",
     "output_type": "stream",
     "text": [
      "Value is clearly None\n"
     ]
    }
   ],
   "source": [
    "value = None\n",
    "\n",
    "if value is None:\n",
    "    print('Value is clearly None')\n",
    "else:\n",
    "    # value podría contener True, False (u otro)\n",
    "    print('Value has some useful value')"
   ]
  },
  {
   "cell_type": "markdown",
   "id": "f46bc065",
   "metadata": {},
   "source": [
    "en el caso de None para comprobar en lugar de == usamos \"is none\""
   ]
  },
  {
   "cell_type": "code",
   "execution_count": 33,
   "id": "df34127d",
   "metadata": {},
   "outputs": [
    {
     "name": "stdout",
     "output_type": "stream",
     "text": [
      "value=99\n"
     ]
    }
   ],
   "source": [
    "value = 99\n",
    "\n",
    "if value is not None:\n",
    "    print(f'{value=}')"
   ]
  },
  {
   "cell_type": "code",
   "execution_count": 1,
   "id": "013a3cb3",
   "metadata": {},
   "outputs": [],
   "source": [
    "value = None\n"
   ]
  },
  {
   "cell_type": "code",
   "execution_count": 35,
   "id": "bde849b3",
   "metadata": {},
   "outputs": [
    {
     "data": {
      "text/plain": [
       "True"
      ]
     },
     "execution_count": 35,
     "metadata": {},
     "output_type": "execute_result"
    }
   ],
   "source": [
    "\n",
    "value is None\n"
   ]
  },
  {
   "cell_type": "code",
   "execution_count": 37,
   "id": "417ce258",
   "metadata": {},
   "outputs": [
    {
     "data": {
      "text/plain": [
       "True"
      ]
     },
     "execution_count": 37,
     "metadata": {},
     "output_type": "execute_result"
    }
   ],
   "source": [
    "\n",
    "\n",
    "value == None"
   ]
  },
  {
   "cell_type": "markdown",
   "id": "f5dfb826",
   "metadata": {},
   "source": [
    "funciona con == pero no es buena practica"
   ]
  },
  {
   "cell_type": "code",
   "execution_count": 38,
   "id": "6bbcae2e",
   "metadata": {},
   "outputs": [
    {
     "data": {
      "text/plain": [
       "140733240077040"
      ]
     },
     "execution_count": 38,
     "metadata": {},
     "output_type": "execute_result"
    }
   ],
   "source": [
    "id(None)\n"
   ]
  },
  {
   "cell_type": "code",
   "execution_count": 39,
   "id": "748d558e",
   "metadata": {},
   "outputs": [
    {
     "data": {
      "text/plain": [
       "140733240077040"
      ]
     },
     "execution_count": 39,
     "metadata": {},
     "output_type": "execute_result"
    }
   ],
   "source": [
    "value = None\n",
    "\n",
    "id(value)"
   ]
  },
  {
   "cell_type": "code",
   "execution_count": 41,
   "id": "c506777c",
   "metadata": {},
   "outputs": [
    {
     "data": {
      "text/plain": [
       "True"
      ]
     },
     "execution_count": 41,
     "metadata": {},
     "output_type": "execute_result"
    }
   ],
   "source": [
    "id(value) == id(None)\n"
   ]
  },
  {
   "cell_type": "code",
   "execution_count": 42,
   "id": "6efba266",
   "metadata": {},
   "outputs": [
    {
     "data": {
      "text/plain": [
       "True"
      ]
     },
     "execution_count": 42,
     "metadata": {},
     "output_type": "execute_result"
    }
   ],
   "source": [
    "value is None"
   ]
  },
  {
   "cell_type": "markdown",
   "id": "b4e44490",
   "metadata": {},
   "source": [
    "## Veracidad"
   ]
  },
  {
   "cell_type": "code",
   "execution_count": 44,
   "id": "64f74b01",
   "metadata": {},
   "outputs": [
    {
     "data": {
      "text/plain": [
       "False"
      ]
     },
     "execution_count": 44,
     "metadata": {},
     "output_type": "execute_result"
    }
   ],
   "source": [
    "bool(False)"
   ]
  },
  {
   "cell_type": "code",
   "execution_count": 45,
   "id": "25410a13",
   "metadata": {},
   "outputs": [
    {
     "data": {
      "text/plain": [
       "False"
      ]
     },
     "execution_count": 45,
     "metadata": {},
     "output_type": "execute_result"
    }
   ],
   "source": [
    "bool(None)"
   ]
  },
  {
   "cell_type": "code",
   "execution_count": 46,
   "id": "151af8cb",
   "metadata": {},
   "outputs": [
    {
     "data": {
      "text/plain": [
       "False"
      ]
     },
     "execution_count": 46,
     "metadata": {},
     "output_type": "execute_result"
    }
   ],
   "source": [
    "bool(0)"
   ]
  },
  {
   "cell_type": "code",
   "execution_count": 47,
   "id": "c73f9516",
   "metadata": {},
   "outputs": [
    {
     "data": {
      "text/plain": [
       "False"
      ]
     },
     "execution_count": 47,
     "metadata": {},
     "output_type": "execute_result"
    }
   ],
   "source": [
    "bool(0.0)"
   ]
  },
  {
   "cell_type": "code",
   "execution_count": null,
   "id": "9e486adc",
   "metadata": {},
   "outputs": [
    {
     "data": {
      "text/plain": [
       "False"
      ]
     },
     "execution_count": 48,
     "metadata": {},
     "output_type": "execute_result"
    }
   ],
   "source": [
    "bool('')  # cadena vacía"
   ]
  },
  {
   "cell_type": "code",
   "execution_count": 49,
   "id": "7b61515c",
   "metadata": {},
   "outputs": [
    {
     "data": {
      "text/plain": [
       "False"
      ]
     },
     "execution_count": 49,
     "metadata": {},
     "output_type": "execute_result"
    }
   ],
   "source": [
    "bool([])  # lista vacía"
   ]
  },
  {
   "cell_type": "code",
   "execution_count": 50,
   "id": "17b018bd",
   "metadata": {},
   "outputs": [
    {
     "data": {
      "text/plain": [
       "False"
      ]
     },
     "execution_count": 50,
     "metadata": {},
     "output_type": "execute_result"
    }
   ],
   "source": [
    "bool(())  # tupla vacía"
   ]
  },
  {
   "cell_type": "markdown",
   "id": "2bc7f1f8",
   "metadata": {},
   "source": [
    "la tupla se trata de una lista no modificable"
   ]
  },
  {
   "cell_type": "code",
   "execution_count": 51,
   "id": "3945189d",
   "metadata": {},
   "outputs": [
    {
     "data": {
      "text/plain": [
       "False"
      ]
     },
     "execution_count": 51,
     "metadata": {},
     "output_type": "execute_result"
    }
   ],
   "source": [
    "bool({})  # diccionario vacío"
   ]
  },
  {
   "cell_type": "code",
   "execution_count": 52,
   "id": "9fb95314",
   "metadata": {},
   "outputs": [
    {
     "data": {
      "text/plain": [
       "False"
      ]
     },
     "execution_count": 52,
     "metadata": {},
     "output_type": "execute_result"
    }
   ],
   "source": [
    "bool(set())  # conjunto vacío"
   ]
  },
  {
   "cell_type": "code",
   "execution_count": 53,
   "id": "6e327571",
   "metadata": {},
   "outputs": [
    {
     "data": {
      "text/plain": [
       "True"
      ]
     },
     "execution_count": 53,
     "metadata": {},
     "output_type": "execute_result"
    }
   ],
   "source": [
    "bool('False')"
   ]
  },
  {
   "cell_type": "code",
   "execution_count": 54,
   "id": "3178a8f8",
   "metadata": {},
   "outputs": [
    {
     "data": {
      "text/plain": [
       "True"
      ]
     },
     "execution_count": 54,
     "metadata": {},
     "output_type": "execute_result"
    }
   ],
   "source": [
    "bool(' ')"
   ]
  },
  {
   "cell_type": "markdown",
   "id": "2e3c5246",
   "metadata": {},
   "source": [
    "aunque solo sean espacios en blanco, se trata de una caracter, \"hay algo\""
   ]
  },
  {
   "cell_type": "code",
   "execution_count": 55,
   "id": "507ba238",
   "metadata": {},
   "outputs": [
    {
     "data": {
      "text/plain": [
       "True"
      ]
     },
     "execution_count": 55,
     "metadata": {},
     "output_type": "execute_result"
    }
   ],
   "source": [
    "bool(1e-10)"
   ]
  },
  {
   "cell_type": "code",
   "execution_count": 56,
   "id": "ac556471",
   "metadata": {},
   "outputs": [
    {
     "data": {
      "text/plain": [
       "True"
      ]
     },
     "execution_count": 56,
     "metadata": {},
     "output_type": "execute_result"
    }
   ],
   "source": [
    "bool([0])"
   ]
  },
  {
   "cell_type": "code",
   "execution_count": 57,
   "id": "491819a7",
   "metadata": {},
   "outputs": [
    {
     "data": {
      "text/plain": [
       "True"
      ]
     },
     "execution_count": 57,
     "metadata": {},
     "output_type": "execute_result"
    }
   ],
   "source": [
    "bool('🦆')"
   ]
  },
  {
   "cell_type": "markdown",
   "id": "4ef58b6a",
   "metadata": {},
   "source": [
    "### Asignación lógica"
   ]
  },
  {
   "cell_type": "code",
   "execution_count": 3,
   "id": "0fd1cd05",
   "metadata": {},
   "outputs": [],
   "source": [
    "b = 0"
   ]
  },
  {
   "cell_type": "code",
   "execution_count": 4,
   "id": "dd59512e",
   "metadata": {},
   "outputs": [],
   "source": [
    "c = 5"
   ]
  },
  {
   "cell_type": "code",
   "execution_count": 5,
   "id": "bcd8b02f",
   "metadata": {},
   "outputs": [],
   "source": [
    "a = b or c"
   ]
  },
  {
   "cell_type": "code",
   "execution_count": 6,
   "id": "5e6eabff",
   "metadata": {},
   "outputs": [
    {
     "data": {
      "text/plain": [
       "5"
      ]
     },
     "execution_count": 6,
     "metadata": {},
     "output_type": "execute_result"
    }
   ],
   "source": [
    "a"
   ]
  },
  {
   "cell_type": "markdown",
   "id": "211fef95",
   "metadata": {},
   "source": [
    "coge el valor más alto de los dos"
   ]
  },
  {
   "cell_type": "code",
   "execution_count": 63,
   "id": "075117d3",
   "metadata": {},
   "outputs": [
    {
     "data": {
      "text/plain": [
       "0"
      ]
     },
     "execution_count": 63,
     "metadata": {},
     "output_type": "execute_result"
    }
   ],
   "source": [
    "a = b and c\n",
    "a"
   ]
  },
  {
   "cell_type": "markdown",
   "id": "c4dde73b",
   "metadata": {},
   "source": [
    "coge el valor más bajo de los dos"
   ]
  },
  {
   "cell_type": "markdown",
   "id": "19a71bfb",
   "metadata": {},
   "source": [
    "## Sentencia match-case"
   ]
  },
  {
   "cell_type": "code",
   "execution_count": 64,
   "id": "09d2b47b",
   "metadata": {},
   "outputs": [
    {
     "name": "stdout",
     "output_type": "stream",
     "text": [
      "🔴\n"
     ]
    }
   ],
   "source": [
    "color = '#FF0000'\n",
    "\n",
    "match color:\n",
    "    case '#FF0000':\n",
    "        print('🔴')\n",
    "    case '#00FF00':\n",
    "        print('🟢')\n",
    "    case '#0000FF':\n",
    "        print('🔵')"
   ]
  },
  {
   "cell_type": "code",
   "execution_count": 7,
   "id": "29591933",
   "metadata": {},
   "outputs": [
    {
     "name": "stdout",
     "output_type": "stream",
     "text": [
      "🟢\n"
     ]
    }
   ],
   "source": [
    "age = 19\n",
    "\n",
    "match age:\n",
    "    case 18:\n",
    "        print('🔴')\n",
    "    case 19:\n",
    "        print('🟢')\n",
    "    case 20:\n",
    "        print('🔵')"
   ]
  },
  {
   "cell_type": "markdown",
   "id": "f5980581",
   "metadata": {},
   "source": [
    "esto funciona con cualquier print"
   ]
  },
  {
   "cell_type": "code",
   "execution_count": null,
   "id": "598f2ae1",
   "metadata": {},
   "outputs": [
    {
     "name": "stdout",
     "output_type": "stream",
     "text": [
      "Eres mayor de edad\n"
     ]
    }
   ],
   "source": [
    "edad = 21\n",
    "if edad <= 18:\n",
    "    print(\"eres menor de edad\")\n",
    "else: \n",
    "    if edad >= 18 and edad <65:\n",
    "        print(\"Eres mayor de edad\")\n",
    "    else:\n",
    "        print(\"Eres un anciano\")"
   ]
  },
  {
   "cell_type": "markdown",
   "id": "d3020966",
   "metadata": {},
   "source": [
    "se puede anidar infinito, pero para ayudarno podemos hacer lo siguiente:"
   ]
  },
  {
   "cell_type": "code",
   "execution_count": 10,
   "id": "73f03880",
   "metadata": {},
   "outputs": [
    {
     "name": "stdout",
     "output_type": "stream",
     "text": [
      "eres mayor de edad\n"
     ]
    }
   ],
   "source": [
    "if edad <=18:\n",
    "    print(\"eres menor\")\n",
    "elif edad >18 and edad <65:\n",
    "    print(\"eres mayor de edad\")\n",
    "else:\n",
    "    print(\"eres tercera edad\")"
   ]
  },
  {
   "cell_type": "markdown",
   "id": "83eb1b5f",
   "metadata": {},
   "source": [
    "se puede terminar con \"elif\" si creemos que hemos cubierto todas las opciones viables. otra forma de hacerlo:"
   ]
  },
  {
   "cell_type": "code",
   "execution_count": 11,
   "id": "c89f0218",
   "metadata": {},
   "outputs": [
    {
     "name": "stdout",
     "output_type": "stream",
     "text": [
      "mayor de edad\n"
     ]
    }
   ],
   "source": [
    "if edad <= 18:\n",
    "    category = \"menor de edad\"\n",
    "else: category = \"mayor de edad\"\n",
    "print(category)"
   ]
  },
  {
   "cell_type": "code",
   "execution_count": 65,
   "id": "65baec49",
   "metadata": {},
   "outputs": [
    {
     "name": "stdout",
     "output_type": "stream",
     "text": [
      "Unknown color!\n"
     ]
    }
   ],
   "source": [
    "color = '#AF549B'\n",
    "\n",
    "match color:\n",
    "    case '#FF0000':\n",
    "        print('🔴')\n",
    "    case '#00FF00':\n",
    "        print('🟢')\n",
    "    case '#0000FF':\n",
    "        print('🔵')\n",
    "    case _:\n",
    "        print('Unknown color!')"
   ]
  },
  {
   "cell_type": "markdown",
   "id": "dc8861bc",
   "metadata": {},
   "source": [
    "### Patrones avanzados"
   ]
  },
  {
   "cell_type": "code",
   "execution_count": 66,
   "id": "4224a456",
   "metadata": {},
   "outputs": [
    {
     "name": "stdout",
     "output_type": "stream",
     "text": [
      "(2,5) is in plane\n"
     ]
    }
   ],
   "source": [
    "point = (2, 5)\n",
    "\n",
    "match point:\n",
    "    case (x, y):\n",
    "        print(f'({x},{y}) is in plane')\n",
    "    case (x, y, z):\n",
    "        print(f'({x},{y},{z}) is in space')\n",
    "\n"
   ]
  },
  {
   "cell_type": "code",
   "execution_count": 67,
   "id": "0a0cb770",
   "metadata": {},
   "outputs": [
    {
     "name": "stdout",
     "output_type": "stream",
     "text": [
      "(3,1,7) is in space\n"
     ]
    }
   ],
   "source": [
    "\n",
    "\n",
    "point = (3, 1, 7)\n",
    "\n",
    "match point:\n",
    "    case (x, y):\n",
    "        print(f'({x},{y}) is in plane')\n",
    "    case (x, y, z):\n",
    "        print(f'({x},{y},{z}) is in space')"
   ]
  },
  {
   "cell_type": "code",
   "execution_count": 68,
   "id": "9423f6e6",
   "metadata": {},
   "outputs": [
    {
     "name": "stdout",
     "output_type": "stream",
     "text": [
      "(2,5) is in plane\n"
     ]
    }
   ],
   "source": [
    "point = ('2', '5')\n",
    "\n",
    "match point:\n",
    "    case (x, y):\n",
    "        print(f'({x},{y}) is in plane')\n",
    "    case (x, y, z):\n",
    "        print(f'({x},{y},{z}) is in space')"
   ]
  },
  {
   "cell_type": "code",
   "execution_count": 69,
   "id": "15eed181",
   "metadata": {},
   "outputs": [
    {
     "name": "stdout",
     "output_type": "stream",
     "text": [
      "Unknown!\n"
     ]
    }
   ],
   "source": [
    "point = ('2', '5')\n",
    "\n",
    "match point:\n",
    "    case (int(), int()):\n",
    "        print(f'{point} is in plane')\n",
    "    case (int(), int(), int()):\n",
    "        print(f'{point} is in space')\n",
    "    case _:\n",
    "        print('Unknown!')\n"
   ]
  },
  {
   "cell_type": "code",
   "execution_count": 70,
   "id": "91c791fb",
   "metadata": {},
   "outputs": [
    {
     "name": "stdout",
     "output_type": "stream",
     "text": [
      "(3, 9, 1) is in space\n"
     ]
    }
   ],
   "source": [
    "\n",
    "\n",
    "\n",
    "point = (3, 9, 1)\n",
    "\n",
    "match point:\n",
    "    case (int(), int()):\n",
    "        print(f'{point} is in plane')\n",
    "    case (int(), int(), int()):\n",
    "        print(f'{point} is in space')\n",
    "    case _:\n",
    "        print('Unknown!')"
   ]
  },
  {
   "cell_type": "code",
   "execution_count": 71,
   "id": "98aa5030",
   "metadata": {},
   "outputs": [
    {
     "data": {
      "text/plain": [
       "9.899494936611665"
      ]
     },
     "execution_count": 71,
     "metadata": {},
     "output_type": "execute_result"
    }
   ],
   "source": [
    "point = (8, 3, 5)\n",
    "\n",
    "match point:\n",
    "    case (int(x), int(y)):\n",
    "        dist_to_origin = (x ** 2 + y ** 2) ** (1 / 2)\n",
    "    case (int(x), int(y), int(z)):\n",
    "        dist_to_origin = (x ** 2 + y ** 2 + z ** 2) ** (1 / 2)\n",
    "    case _:\n",
    "        print('Unknown!')\n",
    "\n",
    "\n",
    "dist_to_origin"
   ]
  },
  {
   "cell_type": "code",
   "execution_count": 72,
   "id": "14a56f71",
   "metadata": {},
   "outputs": [
    {
     "name": "stdout",
     "output_type": "stream",
     "text": [
      "Unknown!\n"
     ]
    }
   ],
   "source": [
    "point = ('8', 3, 5)  # Nótese el 8 como \"string\"\n",
    "\n",
    "match point:\n",
    "    case (int(x), int(y)):\n",
    "        dist_to_origin = (x ** 2 + y ** 2) ** (1 / 2)\n",
    "    case (int(x), int(y), int(z)):\n",
    "        dist_to_origin = (x ** 2 + y ** 2 + z ** 2) ** (1 / 2)\n",
    "    case _:\n",
    "        print('Unknown!')\n"
   ]
  },
  {
   "cell_type": "code",
   "execution_count": 73,
   "id": "2d8c159d",
   "metadata": {},
   "outputs": [
    {
     "name": "stdout",
     "output_type": "stream",
     "text": [
      "{'username': 'sdelquin', 'password': '1234'}\n",
      "Authenticating with username and password\n",
      "sdelquin: 1234\n",
      "---\n",
      "{'email': 'sdelquin@gmail.com', 'token': '4321'}\n",
      "Authenticating with email and token\n",
      "sdelquin@gmail.com: 4321\n",
      "---\n",
      "{'email': 'test@test.com', 'password': 'ABCD'}\n",
      "Authenticating method not valid!\n",
      "---\n",
      "{'username': 'sdelquin', 'password': 1234}\n",
      "Authenticating method not valid!\n",
      "---\n"
     ]
    }
   ],
   "source": [
    "# Lista de diccionarios\n",
    "auths = [\n",
    "    {'username': 'sdelquin', 'password': '1234'},\n",
    "    {'email': 'sdelquin@gmail.com', 'token': '4321'},\n",
    "    {'email': 'test@test.com', 'password': 'ABCD'},\n",
    "    {'username': 'sdelquin', 'password': 1234}\n",
    "]\n",
    "\n",
    "for auth in auths:\n",
    "    print(auth)\n",
    "    match auth:\n",
    "        case {'username': str(username), 'password': str(password)}:\n",
    "            print('Authenticating with username and password')\n",
    "            print(f'{username}: {password}')\n",
    "        case {'email': str(email), 'token': str(token)}:\n",
    "            print('Authenticating with email and token')\n",
    "            print(f'{email}: {token}')\n",
    "        case _:\n",
    "            print('Authenticating method not valid!')\n",
    "    print('---')\n"
   ]
  },
  {
   "cell_type": "code",
   "execution_count": 74,
   "id": "3e7054e3",
   "metadata": {},
   "outputs": [
    {
     "name": "stdout",
     "output_type": "stream",
     "text": [
      "Not in the US\n"
     ]
    }
   ],
   "source": [
    "age = 21\n",
    "\n",
    "match age:\n",
    "    case 0 | None:\n",
    "        print('Not a person')\n",
    "    case n if n < 17:\n",
    "        print('Nope')\n",
    "    case n if n < 22:\n",
    "        print('Not in the US')\n",
    "    case _:\n",
    "        print('Yes')"
   ]
  },
  {
   "cell_type": "markdown",
   "id": "add884d5",
   "metadata": {},
   "source": [
    "## Operador morsa"
   ]
  },
  {
   "cell_type": "code",
   "execution_count": 76,
   "id": "82ee4a53",
   "metadata": {},
   "outputs": [
    {
     "name": "stdout",
     "output_type": "stream",
     "text": [
      "Increase radius to reach minimum perimeter\n",
      "Actual perimeter:  26.69\n"
     ]
    }
   ],
   "source": [
    "radius = 4.25\n",
    "perimeter = 2 * 3.14 * radius\n",
    "if perimeter < 100:\n",
    "    print('Increase radius to reach minimum perimeter')\n",
    "    print('Actual perimeter: ', perimeter)"
   ]
  },
  {
   "cell_type": "code",
   "execution_count": 77,
   "id": "dbb39c76",
   "metadata": {},
   "outputs": [
    {
     "name": "stdout",
     "output_type": "stream",
     "text": [
      "Increase radius to reach minimum perimeter\n",
      "Actual perimeter:  26.69\n"
     ]
    }
   ],
   "source": [
    "radius = 4.25\n",
    "if (perimeter := 2 * 3.14 * radius) < 100:\n",
    "    print('Increase radius to reach minimum perimeter')\n",
    "    print('Actual perimeter: ', perimeter)"
   ]
  },
  {
   "cell_type": "markdown",
   "id": "979b4e45",
   "metadata": {},
   "source": [
    "## Ternaria"
   ]
  },
  {
   "cell_type": "markdown",
   "id": "f4ceb116",
   "metadata": {},
   "source": [
    "resultado = valor_si_verdadero if condicion else valor_si_falso\n"
   ]
  },
  {
   "cell_type": "code",
   "execution_count": 78,
   "id": "18b8e757",
   "metadata": {},
   "outputs": [
    {
     "name": "stdout",
     "output_type": "stream",
     "text": [
      "Par\n",
      "7\n",
      "Positivo\n"
     ]
    }
   ],
   "source": [
    "# Ejemplo básico\n",
    "x = 10\n",
    "y = \"Par\" if x % 2 == 0 else \"Impar\"\n",
    "print(y)  # Salida: Par\n",
    "\n",
    "# Usando con cálculos\n",
    "a = 4\n",
    "b = 7\n",
    "maximo = a if a > b else b\n",
    "print(maximo)  # Salida: 7\n",
    "\n",
    "# Anidando expresiones ternarias (no recomendado por legibilidad)\n",
    "x = 10\n",
    "y = \"Positivo\" if x > 0 else \"Negativo\" if x < 0 else \"Cero\"\n",
    "print(y)  # Salida: Positivo\n"
   ]
  },
  {
   "cell_type": "markdown",
   "id": "88cfa4c3",
   "metadata": {},
   "source": [
    "# Bucles"
   ]
  },
  {
   "cell_type": "markdown",
   "id": "d4fd6e21",
   "metadata": {},
   "source": [
    "## La sentencia while"
   ]
  },
  {
   "cell_type": "code",
   "execution_count": null,
   "id": "081cb170",
   "metadata": {},
   "outputs": [
    {
     "name": "stdout",
     "output_type": "stream",
     "text": [
      "Hola qué tal!\n",
      "¿Quiere otro saludo? [S/N] N\n",
      "Que tenga un buen día\n"
     ]
    }
   ],
   "source": [
    "want_greet = 'S'  # importante dar un valor inicial\n",
    "\n",
    "while want_greet == 'S': #conjunto de bloque de codigo\n",
    "    print('Hola qué tal!')\n",
    "    want_greet = input('¿Quiere otro saludo? [S/N] ')\n",
    "print('Que tenga un buen día')\n"
   ]
  },
  {
   "cell_type": "markdown",
   "id": "87613ffb",
   "metadata": {},
   "source": [
    "### Romper un bucle while"
   ]
  },
  {
   "cell_type": "code",
   "execution_count": null,
   "id": "0ac0f3ff",
   "metadata": {},
   "outputs": [
    {
     "name": "stdout",
     "output_type": "stream",
     "text": [
      "Hola qué tal!\n",
      "¿Quiere otro saludo? [S/N] N\n",
      "Que tenga un buen día\n"
     ]
    }
   ],
   "source": [
    "MAX_GREETS = 4\n",
    "\n",
    "num_greets = 0\n",
    "want_greet = 'S'\n",
    "\n",
    "while want_greet == 'S':\n",
    "    print('Hola qué tal!')\n",
    "    num_greets += 1 #de esta manera suma al valor para llevar la cuenta             \n",
    "    if num_greets == MAX_GREETS:\n",
    "        print('Máximo número de saludos alcanzado')\n",
    "        break\n",
    "    want_greet = input('¿Quiere otro saludo? [S/N] ')\n",
    "print('Que tenga un buen día')"
   ]
  },
  {
   "cell_type": "markdown",
   "id": "77461a15",
   "metadata": {},
   "source": [
    "### COMPROBAR LA ROTURA"
   ]
  },
  {
   "cell_type": "code",
   "execution_count": null,
   "id": "6d515423",
   "metadata": {},
   "outputs": [
    {
     "name": "stdout",
     "output_type": "stream",
     "text": [
      "Hola qué tal!\n",
      "¿Quiere otro saludo? [S/N] N\n",
      "Usted no quiere más saludos\n",
      "Que tenga un buen día\n"
     ]
    }
   ],
   "source": [
    "MAX_GREETS = 4\n",
    "\n",
    "num_greets = 0\n",
    "want_greet = 'S'\n",
    "\n",
    "while want_greet == 'S':\n",
    "    print('Hola qué tal!')\n",
    "    num_greets += 1\n",
    "    if num_greets == MAX_GREETS:\n",
    "        print('Máximo número de saludos alcanzado')\n",
    "        break\n",
    "    want_greet = input('¿Quiere otro saludo? [S/N] ')\n",
    "else: #en este caso no es necesario usar el else puesto que funcionaria borrandolo y quitando el tabulado del siguiente print\n",
    "    print('Usted no quiere más saludos')\n",
    "print('Que tenga un buen día')"
   ]
  },
  {
   "cell_type": "markdown",
   "id": "7249ede0",
   "metadata": {},
   "source": [
    "### Continuar un bucle"
   ]
  },
  {
   "cell_type": "code",
   "execution_count": 85,
   "id": "09d3a6b5",
   "metadata": {},
   "outputs": [
    {
     "name": "stdout",
     "output_type": "stream",
     "text": [
      "Hola qué tal!\n",
      "¿Quiere otro saludo? [S/N] N\n",
      "1 respuestas válidas\n",
      "Que tenga un buen día\n"
     ]
    }
   ],
   "source": [
    "want_greet = 'S'\n",
    "valid_options = 0\n",
    "\n",
    "while want_greet == 'S':\n",
    "    print('Hola qué tal!')\n",
    "    want_greet = input('¿Quiere otro saludo? [S/N] ')\n",
    "    if want_greet not in 'SN':\n",
    "        print('No le he entendido pero le saludo')\n",
    "        want_greet = 'S'\n",
    "        continue\n",
    "    valid_options += 1\n",
    "print(f'{valid_options} respuestas válidas')\n",
    "print('Que tenga un buen día')"
   ]
  },
  {
   "cell_type": "markdown",
   "id": "0e66c58e",
   "metadata": {},
   "source": [
    "### Bucle infinito"
   ]
  },
  {
   "cell_type": "code",
   "execution_count": null,
   "id": "7e6efe84",
   "metadata": {},
   "outputs": [],
   "source": [
    "num = 1\n",
    "\n",
    "while num != 10:\n",
    "    num += 2"
   ]
  },
  {
   "cell_type": "code",
   "execution_count": 1,
   "id": "0886352c",
   "metadata": {},
   "outputs": [],
   "source": [
    "num = 1\n",
    "\n",
    "while num < 10:\n",
    "    num += 2"
   ]
  },
  {
   "cell_type": "code",
   "execution_count": null,
   "id": "e423a181",
   "metadata": {},
   "outputs": [
    {
     "name": "stdout",
     "output_type": "stream",
     "text": [
      "Introduzca nueva nota: 8\n",
      "8.0\n",
      "Introduzca nueva nota: 9\n",
      "9.0\n",
      "Introduzca nueva nota: 11\n",
      "Nota fuera de rango\n"
     ]
    }
   ],
   "source": [
    "while True: #true siempre es true, no hay forma de cambiarlo\n",
    "    mark = float(input('Introduzca nueva nota: '))\n",
    "    if not(0 <= mark <= 10):\n",
    "        print('Nota fuera de rango')\n",
    "        break\n",
    "    print(mark)"
   ]
  },
  {
   "cell_type": "code",
   "execution_count": null,
   "id": "97ffd833",
   "metadata": {},
   "outputs": [
    {
     "name": "stdout",
     "output_type": "stream",
     "text": [
      "Introduzca una nueva nota: 8\n",
      "8.0\n",
      "Introduzca una nueva nota: 8\n",
      "8.0\n",
      "Introduzca una nueva nota: 11\n",
      "Nota fuera de rango\n"
     ]
    }
   ],
   "source": [
    "while 0 <= (mark := float(input('Introduzca una nueva nota: '))) <= 10: #:= expresión morsa. toma por valor el flotante  y lo almacena\n",
    "    print(mark)\n",
    "print('Nota fuera de rango')"
   ]
  },
  {
   "cell_type": "code",
   "execution_count": null,
   "id": "110d2383",
   "metadata": {},
   "outputs": [],
   "source": [
    "# morsa\n",
    "if edad := int(input(\"introduzca su edad\")) < 18:\n",
    "    print(f\"no puede votar porque es menor de edad, tiene {edad}\")"
   ]
  },
  {
   "cell_type": "markdown",
   "id": "ecdc2e44",
   "metadata": {},
   "source": [
    "## La sentencia for"
   ]
  },
  {
   "cell_type": "code",
   "execution_count": null,
   "id": "3d56ea5d",
   "metadata": {},
   "outputs": [
    {
     "name": "stdout",
     "output_type": "stream",
     "text": [
      "P\n",
      "y\n",
      "t\n",
      "h\n",
      "o\n",
      "n\n"
     ]
    }
   ],
   "source": [
    "#un literable es una cadena de texto que se puede recorrer. \n",
    "word = 'Python'\n",
    "\n",
    "for letter in word: #letter y word son palabras random\n",
    "    print(letter)"
   ]
  },
  {
   "cell_type": "code",
   "execution_count": null,
   "id": "ce91e54a",
   "metadata": {},
   "outputs": [
    {
     "name": "stdout",
     "output_type": "stream",
     "text": [
      "P\n",
      "y\n"
     ]
    }
   ],
   "source": [
    "word = 'Python'\n",
    "\n",
    "for letter in word:\n",
    "    if letter == 't':\n",
    "        break\n",
    "    print(letter)"
   ]
  },
  {
   "cell_type": "markdown",
   "id": "61fefbd1",
   "metadata": {},
   "source": [
    "### Secuencias de números"
   ]
  },
  {
   "cell_type": "code",
   "execution_count": null,
   "id": "02613115",
   "metadata": {},
   "outputs": [
    {
     "name": "stdout",
     "output_type": "stream",
     "text": [
      "6\n",
      "7\n",
      "0\n",
      "1\n",
      "2\n"
     ]
    }
   ],
   "source": [
    "#iterable\n",
    "\n",
    "for i in range(6, 8): #el ultimo numero \"no cuenta\"\n",
    "    print(i)\n",
    "\n",
    "for i in range(3):  # No hace falta indicar el inicio si es 0\n",
    "    print(i)"
   ]
  },
  {
   "cell_type": "code",
   "execution_count": null,
   "id": "d2dbf6ca",
   "metadata": {},
   "outputs": [
    {
     "name": "stdout",
     "output_type": "stream",
     "text": [
      "1\n",
      "3\n",
      "5\n"
     ]
    }
   ],
   "source": [
    "for i in range(1, 6, 2): #del 1 al 5 de 2 en 2\n",
    "    print(i)"
   ]
  },
  {
   "cell_type": "code",
   "execution_count": null,
   "id": "cf87bd0f",
   "metadata": {},
   "outputs": [
    {
     "name": "stdout",
     "output_type": "stream",
     "text": [
      "5\n",
      "4\n",
      "3\n",
      "2\n",
      "1\n",
      "0\n"
     ]
    }
   ],
   "source": [
    "for i in range(5, -1, -1): #marcha atrás. atención -1 = 0\n",
    "    print(i)"
   ]
  },
  {
   "cell_type": "markdown",
   "id": "e54f7039",
   "metadata": {},
   "source": [
    "### USANDO EL GUIÓN BAJO"
   ]
  },
  {
   "cell_type": "code",
   "execution_count": null,
   "id": "21cb55dd",
   "metadata": {},
   "outputs": [
    {
     "name": "stdout",
     "output_type": "stream",
     "text": [
      "Repeat me 10 times!\n",
      "Repeat me 10 times!\n",
      "Repeat me 10 times!\n",
      "Repeat me 10 times!\n",
      "Repeat me 10 times!\n",
      "Repeat me 10 times!\n",
      "Repeat me 10 times!\n",
      "Repeat me 10 times!\n",
      "Repeat me 10 times!\n",
      "Repeat me 10 times!\n"
     ]
    }
   ],
   "source": [
    "for _ in range(10): #de esta manera no se almacena la memoria de la variable (nos la ahorramos si no la necesitamos)\n",
    "    print('Repeat me 10 times!')"
   ]
  },
  {
   "cell_type": "markdown",
   "id": "e8a93fa2",
   "metadata": {},
   "source": [
    "## Bucles anidados"
   ]
  },
  {
   "cell_type": "code",
   "execution_count": 8,
   "id": "6b0e6ffc",
   "metadata": {},
   "outputs": [
    {
     "name": "stdout",
     "output_type": "stream",
     "text": [
      "1 * 1 = 1\n",
      "1 * 2 = 2\n",
      "1 * 3 = 3\n",
      "1 * 4 = 4\n",
      "1 * 5 = 5\n",
      "1 * 6 = 6\n",
      "1 * 7 = 7\n",
      "1 * 8 = 8\n",
      "1 * 9 = 9\n",
      "2 * 1 = 2\n",
      "2 * 2 = 4\n",
      "2 * 3 = 6\n",
      "2 * 4 = 8\n",
      "2 * 5 = 10\n",
      "2 * 6 = 12\n",
      "2 * 7 = 14\n",
      "2 * 8 = 16\n",
      "2 * 9 = 18\n",
      "3 * 1 = 3\n",
      "3 * 2 = 6\n",
      "3 * 3 = 9\n",
      "3 * 4 = 12\n",
      "3 * 5 = 15\n",
      "3 * 6 = 18\n",
      "3 * 7 = 21\n",
      "3 * 8 = 24\n",
      "3 * 9 = 27\n",
      "4 * 1 = 4\n",
      "4 * 2 = 8\n",
      "4 * 3 = 12\n",
      "4 * 4 = 16\n",
      "4 * 5 = 20\n",
      "4 * 6 = 24\n",
      "4 * 7 = 28\n",
      "4 * 8 = 32\n",
      "4 * 9 = 36\n",
      "5 * 1 = 5\n",
      "5 * 2 = 10\n",
      "5 * 3 = 15\n",
      "5 * 4 = 20\n",
      "5 * 5 = 25\n",
      "5 * 6 = 30\n",
      "5 * 7 = 35\n",
      "5 * 8 = 40\n",
      "5 * 9 = 45\n",
      "6 * 1 = 6\n",
      "6 * 2 = 12\n",
      "6 * 3 = 18\n",
      "6 * 4 = 24\n",
      "6 * 5 = 30\n",
      "6 * 6 = 36\n",
      "6 * 7 = 42\n",
      "6 * 8 = 48\n",
      "6 * 9 = 54\n",
      "7 * 1 = 7\n",
      "7 * 2 = 14\n",
      "7 * 3 = 21\n",
      "7 * 4 = 28\n",
      "7 * 5 = 35\n",
      "7 * 6 = 42\n",
      "7 * 7 = 49\n",
      "7 * 8 = 56\n",
      "7 * 9 = 63\n",
      "8 * 1 = 8\n",
      "8 * 2 = 16\n",
      "8 * 3 = 24\n",
      "8 * 4 = 32\n",
      "8 * 5 = 40\n",
      "8 * 6 = 48\n",
      "8 * 7 = 56\n",
      "8 * 8 = 64\n",
      "8 * 9 = 72\n",
      "9 * 1 = 9\n",
      "9 * 2 = 18\n",
      "9 * 3 = 27\n",
      "9 * 4 = 36\n",
      "9 * 5 = 45\n",
      "9 * 6 = 54\n",
      "9 * 7 = 63\n",
      "9 * 8 = 72\n",
      "9 * 9 = 81\n"
     ]
    }
   ],
   "source": [
    "for num_table in range(1, 10): #esto hace que empiece por el 1 como primer numero\n",
    "    for mul_factor in range(1, 10): #hasta que el segundo numero no llegue a 10, no \"subirá\" para continuar con el 2 en el primer numero\n",
    "        result = num_table * mul_factor\n",
    "        print(f'{num_table} * {mul_factor} = {result}')"
   ]
  },
  {
   "cell_type": "code",
   "execution_count": null,
   "id": "ff40b55a",
   "metadata": {},
   "outputs": [
    {
     "name": "stdout",
     "output_type": "stream",
     "text": [
      "      *\n",
      "     ***\n",
      "    *****\n",
      "   *******\n",
      "  *********\n",
      " ***********\n",
      "*************\n",
      "      |\n"
     ]
    }
   ],
   "source": [
    "altura = 7\n",
    "\n",
    "for i in range(altura):\n",
    "    print(' ' * (altura - i - 1) + '*' * (2 * i + 1)) #recuerda que el texto se puede multiplicar\n",
    "\n",
    "print(' ' * (altura - 1) + '|')\n"
   ]
  },
  {
   "cell_type": "code",
   "execution_count": null,
   "id": "f2b56f8c",
   "metadata": {},
   "outputs": [
    {
     "name": "stdout",
     "output_type": "stream",
     "text": [
      "\u001b[1;91;43mTexto negrita rojo con fondo amarillo\u001b[0m\n"
     ]
    }
   ],
   "source": [
    "#poner colorines en la consola\n",
    "\n",
    "print(\"\\033[1;91;43mTexto negrita rojo con fondo amarillo\\033[0m\") \n",
    "#tipo de letra (negrita), color de letra, color de fondo. \n",
    "# el codigo del final limpia para que no se aplique el formato al resto."
   ]
  },
  {
   "cell_type": "code",
   "execution_count": null,
   "id": "dc6b080e",
   "metadata": {},
   "outputs": [],
   "source": [
    "altura = 7\n",
    "\n",
    "for i in range(altura):\n",
    "    print(' ' * (altura - i - 1) + '*' * (2 * i + 1)) #recuerda que el texto se puede multiplicar\n",
    "\n",
    "print(' ' * (altura - 1) + '|')\n"
   ]
  },
  {
   "cell_type": "markdown",
   "id": "9d7852f8",
   "metadata": {},
   "source": [
    "# retos"
   ]
  },
  {
   "cell_type": "code",
   "execution_count": null,
   "id": "8746f362",
   "metadata": {},
   "outputs": [],
   "source": [
    "# Inicialización de variables\n",
    "x = 10\n",
    "y = 0\n",
    "flag = True\n",
    "salida = []\n",
    "\n",
    "# Primer bucle for\n",
    "for i in range(1, 5):\n",
    "    # Condiciones if-elif-else dentro del bucle for\n",
    "    if flag:\n",
    "        y += x + i\n",
    "    elif y > 15:\n",
    "        y -= x - i\n",
    "    else:\n",
    "        y += 2 * i\n",
    "\n",
    "    # Segundo bucle for anidado\n",
    "    for j in range(1, i + 1):\n",
    "        if y % j == 0:\n",
    "            flag = not flag\n",
    "\n",
    "    # Condiciones if-elif-else después del bucle for anidado\n",
    "    if y > 20:\n",
    "        salida.append(\"A\")\n",
    "    elif y < 10:\n",
    "        salida.append(\"B\")\n",
    "    else:\n",
    "        salida.append(\"C\")\n",
    "\n",
    "# Resultado final\n",
    "print(\"\".join(salida))"
   ]
  },
  {
   "cell_type": "code",
   "execution_count": null,
   "id": "14cb6759",
   "metadata": {},
   "outputs": [],
   "source": [
    "n = 5\n",
    "result = []\n",
    "\n",
    "for i in range(n):\n",
    "    if i % 2 == 0:\n",
    "        for j in range(i, n):\n",
    "            if j == 2:\n",
    "                result.append(\"X\")\n",
    "            elif j == 3:\n",
    "                result.append(\"Y\")\n",
    "            else:\n",
    "                result.append(\"A\")\n",
    "    elif i == 1:\n",
    "        for k in range(i, n - 1):\n",
    "            result.append(\"B\")\n",
    "    else:\n",
    "        result.append(\"Z\")\n",
    "\n",
    "    if len(result) > 6:\n",
    "        result.append(\"W\")\n",
    "    else:\n",
    "        result.append(\"V\")\n",
    "\n",
    "print(\"\".join(result))"
   ]
  },
  {
   "cell_type": "code",
   "execution_count": null,
   "id": "f86bb539",
   "metadata": {},
   "outputs": [],
   "source": [
    "numeros = [2, 4, 5, 7, 11]\n",
    "cadena = \"\"\n",
    "\n",
    "for i in range(1, 4):\n",
    "    if i in numeros:\n",
    "        for j in range(i, i+2):\n",
    "            if j % 2 == 0:\n",
    "                cadena += \"P\"\n",
    "            else:\n",
    "                cadena += \"Q\"\n",
    "    elif i % 2 == 0:\n",
    "        cadena += \"R\"\n",
    "    else:\n",
    "        cadena += \"S\"\n",
    "\n",
    "    if len(cadena) > 3:\n",
    "        cadena += \"T\"\n",
    "    else:\n",
    "        cadena += \"U\"\n",
    "\n",
    "print(cadena)\n"
   ]
  },
  {
   "cell_type": "code",
   "execution_count": null,
   "id": "3ea79650",
   "metadata": {},
   "outputs": [],
   "source": [
    "letras = ['H', 'E', 'L', 'O', 'W', 'R', 'D']\n",
    "palabra = \"\"\n",
    "\n",
    "for i in range(7):\n",
    "    if i % 2 == 0:\n",
    "        palabra += letras[i]\n",
    "    elif i == 1:\n",
    "        palabra += letras[4]\n",
    "    elif i == 5:\n",
    "        palabra += letras[2]\n",
    "    else:\n",
    "        palabra += letras[6]\n",
    "        \n",
    "    if i == 3:\n",
    "        palabra += letras[1]\n",
    "\n",
    "print(palabra)\n"
   ]
  },
  {
   "cell_type": "code",
   "execution_count": null,
   "id": "3f5845a3",
   "metadata": {},
   "outputs": [],
   "source": []
  },
  {
   "cell_type": "code",
   "execution_count": null,
   "id": "ae26dd41",
   "metadata": {},
   "outputs": [],
   "source": []
  },
  {
   "cell_type": "code",
   "execution_count": null,
   "id": "57d17203",
   "metadata": {},
   "outputs": [],
   "source": [
    "CCAA\n",
    "AAXYAVBBBWXYAWZWAW\n",
    "SUPQTST"
   ]
  }
 ],
 "metadata": {
  "kernelspec": {
   "display_name": "base",
   "language": "python",
   "name": "python3"
  },
  "language_info": {
   "codemirror_mode": {
    "name": "ipython",
    "version": 3
   },
   "file_extension": ".py",
   "mimetype": "text/x-python",
   "name": "python",
   "nbconvert_exporter": "python",
   "pygments_lexer": "ipython3",
   "version": "3.13.5"
  }
 },
 "nbformat": 4,
 "nbformat_minor": 5
}
