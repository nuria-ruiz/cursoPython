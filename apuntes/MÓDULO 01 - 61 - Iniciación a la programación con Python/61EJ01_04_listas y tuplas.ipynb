{
 "cells": [
  {
   "cell_type": "code",
   "execution_count": 14,
   "id": "a73aaf5d",
   "metadata": {},
   "outputs": [],
   "source": [
    "empty_list = []"
   ]
  },
  {
   "cell_type": "code",
   "execution_count": null,
   "id": "069f1b6e",
   "metadata": {},
   "outputs": [],
   "source": [
    "languages = ['Python', 'Ruby', 'Javascript']\n",
    "\n",
    "fibonacci = [0, 1, 1, 2, 3, 5, 8, 13] #se utiliza para valorar cuanto tardas en hacer cada tarea sin saber exactamente el tiempo (en grupo)"
   ]
  },
  {
   "cell_type": "code",
   "execution_count": null,
   "id": "81ad23e5",
   "metadata": {},
   "outputs": [],
   "source": [
    "data = ['Tenerife', {'cielo': 'limpio', 'temp': 24}, 3718, (28.2933947, -16.5226597)] \n",
    "                    #diccionario o json  o objeto           #tuplaf"
   ]
  },
  {
   "cell_type": "code",
   "execution_count": null,
   "id": "e0f76900",
   "metadata": {},
   "outputs": [
    {
     "data": {
      "text/plain": [
       "['P', 'y', 't', 'h', 'o', 'n']"
      ]
     },
     "execution_count": 20,
     "metadata": {},
     "output_type": "execute_result"
    }
   ],
   "source": [
    "list('Python') #igual que cuando pasabamos un strign a int podemos pasarlo a lista"
   ]
  },
  {
   "cell_type": "code",
   "execution_count": 22,
   "id": "aec32609",
   "metadata": {},
   "outputs": [
    {
     "data": {
      "text/plain": [
       "[]"
      ]
     },
     "execution_count": 22,
     "metadata": {},
     "output_type": "execute_result"
    }
   ],
   "source": [
    "list()"
   ]
  },
  {
   "cell_type": "code",
   "execution_count": 24,
   "id": "79b94153",
   "metadata": {},
   "outputs": [],
   "source": [
    "shopping = ['Agua', 'Huevos', 'Aceite']\n"
   ]
  },
  {
   "cell_type": "code",
   "execution_count": null,
   "id": "c64ed8d5",
   "metadata": {},
   "outputs": [
    {
     "data": {
      "text/plain": [
       "'Agua'"
      ]
     },
     "execution_count": 32,
     "metadata": {},
     "output_type": "execute_result"
    }
   ],
   "source": [
    "shopping[0] #igual que si fuese un string"
   ]
  },
  {
   "cell_type": "code",
   "execution_count": 3,
   "id": "b55e1e7b",
   "metadata": {},
   "outputs": [],
   "source": [
    "shopping = ['Agua', 'Huevos', 'Aceite', 'Sal', 'Limón']"
   ]
  },
  {
   "cell_type": "code",
   "execution_count": null,
   "id": "96cabfa1",
   "metadata": {},
   "outputs": [
    {
     "data": {
      "text/plain": [
       "['Agua', 'Huevos', 'Aceite']"
      ]
     },
     "execution_count": 34,
     "metadata": {},
     "output_type": "execute_result"
    }
   ],
   "source": [
    "shopping[0:3] #de nuevo, se resta uno al ultimo numero\n"
   ]
  },
  {
   "cell_type": "code",
   "execution_count": 35,
   "id": "16a1d000",
   "metadata": {},
   "outputs": [
    {
     "data": {
      "text/plain": [
       "['Aceite', 'Sal']"
      ]
     },
     "execution_count": 35,
     "metadata": {},
     "output_type": "execute_result"
    }
   ],
   "source": [
    "shopping[2:4]"
   ]
  },
  {
   "cell_type": "code",
   "execution_count": null,
   "id": "4a1c78f2",
   "metadata": {},
   "outputs": [
    {
     "data": {
      "text/plain": [
       "['Limón', 'Sal', 'Aceite', 'Huevos', 'Agua']"
      ]
     },
     "execution_count": 36,
     "metadata": {},
     "output_type": "execute_result"
    }
   ],
   "source": [
    "shopping[::-1] #convertir una lista y darle la vuelta, desde el final al inicio"
   ]
  },
  {
   "cell_type": "code",
   "execution_count": 4,
   "id": "5fca41f2",
   "metadata": {},
   "outputs": [
    {
     "data": {
      "text/plain": [
       "['Limón', 'Sal', 'Aceite', 'Huevos', 'Agua']"
      ]
     },
     "execution_count": 4,
     "metadata": {},
     "output_type": "execute_result"
    }
   ],
   "source": [
    "list(reversed(shopping)) #tambien le da la vuelta"
   ]
  },
  {
   "cell_type": "code",
   "execution_count": 5,
   "id": "bcfc551e",
   "metadata": {},
   "outputs": [
    {
     "name": "stdout",
     "output_type": "stream",
     "text": [
      "Agua\n",
      "Huevos\n",
      "Aceite\n",
      "Sal\n",
      "Limón\n"
     ]
    }
   ],
   "source": [
    "for product in shopping:\n",
    "    print(product)"
   ]
  },
  {
   "cell_type": "code",
   "execution_count": null,
   "id": "11dfcabf",
   "metadata": {},
   "outputs": [
    {
     "name": "stdout",
     "output_type": "stream",
     "text": [
      "Limón\n",
      "Sal\n",
      "Aceite\n",
      "Huevos\n",
      "Agua\n"
     ]
    }
   ],
   "source": [
    "shopping = shopping[::-1] #para poder usar la lista revertida hay que darle un value o sustituir el existente. \n",
    "#esto no funciona con reversed (el de más arriba)\n",
    "for product in shopping:\n",
    "    print(product)"
   ]
  },
  {
   "cell_type": "code",
   "execution_count": 9,
   "id": "d7c989cd",
   "metadata": {},
   "outputs": [
    {
     "data": {
      "text/plain": [
       "['Limón', 'Sal', 'Aceite', 'Huevos', 'Agua']"
      ]
     },
     "execution_count": 9,
     "metadata": {},
     "output_type": "execute_result"
    }
   ],
   "source": [
    "shopping"
   ]
  },
  {
   "cell_type": "code",
   "execution_count": 11,
   "id": "2ab7e6bd",
   "metadata": {},
   "outputs": [],
   "source": [
    "shopping.reverse()"
   ]
  },
  {
   "cell_type": "code",
   "execution_count": 12,
   "id": "2d8e0617",
   "metadata": {},
   "outputs": [
    {
     "data": {
      "text/plain": [
       "['Agua', 'Huevos', 'Aceite', 'Sal', 'Limón']"
      ]
     },
     "execution_count": 12,
     "metadata": {},
     "output_type": "execute_result"
    }
   ],
   "source": [
    "shopping"
   ]
  },
  {
   "cell_type": "code",
   "execution_count": null,
   "id": "1b186c56",
   "metadata": {},
   "outputs": [],
   "source": [
    "shopping.append('Atún') #añade elementos al final de la lista"
   ]
  },
  {
   "cell_type": "code",
   "execution_count": 15,
   "id": "bab76491",
   "metadata": {},
   "outputs": [
    {
     "data": {
      "text/plain": [
       "['Agua', 'Huevos', 'Aceite', 'Sal', 'Limón', 'Atún']"
      ]
     },
     "execution_count": 15,
     "metadata": {},
     "output_type": "execute_result"
    }
   ],
   "source": [
    "shopping"
   ]
  },
  {
   "cell_type": "code",
   "execution_count": 49,
   "id": "cbdf2b56",
   "metadata": {},
   "outputs": [
    {
     "data": {
      "text/plain": [
       "[0, 2, 4, 6, 8, 10, 12, 14, 16, 18]"
      ]
     },
     "execution_count": 49,
     "metadata": {},
     "output_type": "execute_result"
    }
   ],
   "source": [
    "even_numbers = []\n",
    "\n",
    "for i in range(20):\n",
    "    if i % 2 == 0:\n",
    "        even_numbers.append(i)\n",
    "\n",
    "\n",
    "even_numbers\n"
   ]
  },
  {
   "cell_type": "code",
   "execution_count": 7,
   "id": "5bb6ef03",
   "metadata": {},
   "outputs": [
    {
     "name": "stdout",
     "output_type": "stream",
     "text": [
      "[4, 8]\n"
     ]
    }
   ],
   "source": [
    "#lista por comprensión\n",
    "numeros = [1, 2, 3, 4, 5]\n",
    "nueva_lista = [numero * 2 for numero in numeros if numero % 2 == 0]\n",
    "print(nueva_lista)"
   ]
  },
  {
   "cell_type": "code",
   "execution_count": null,
   "id": "4d7e6f49",
   "metadata": {},
   "outputs": [],
   "source": [
    "shopping.insert(-1, 'Jamón') #especificamos el lugar en la lista. el instert necesita la posición para funcionar."
   ]
  },
  {
   "cell_type": "code",
   "execution_count": 17,
   "id": "e0801598",
   "metadata": {},
   "outputs": [
    {
     "data": {
      "text/plain": [
       "['Agua', 'Huevos', 'Aceite', 'Sal', 'Limón', 'Jamón', 'Atún']"
      ]
     },
     "execution_count": 17,
     "metadata": {},
     "output_type": "execute_result"
    }
   ],
   "source": [
    "shopping\n"
   ]
  },
  {
   "cell_type": "code",
   "execution_count": 19,
   "id": "fae862c2",
   "metadata": {},
   "outputs": [
    {
     "data": {
      "text/plain": [
       "['Agua',\n",
       " 'Huevos',\n",
       " 'Aceite',\n",
       " 'Agua',\n",
       " 'Huevos',\n",
       " 'Aceite',\n",
       " 'Agua',\n",
       " 'Huevos',\n",
       " 'Aceite']"
      ]
     },
     "execution_count": 19,
     "metadata": {},
     "output_type": "execute_result"
    }
   ],
   "source": [
    "shopping = ['Agua', 'Huevos', 'Aceite']\n",
    "shopping  * 3"
   ]
  },
  {
   "cell_type": "code",
   "execution_count": 62,
   "id": "0de55002",
   "metadata": {},
   "outputs": [
    {
     "data": {
      "text/plain": [
       "'wowwowwow'"
      ]
     },
     "execution_count": 62,
     "metadata": {},
     "output_type": "execute_result"
    }
   ],
   "source": [
    "'wow'*3"
   ]
  },
  {
   "cell_type": "code",
   "execution_count": null,
   "id": "5f9f4f5a",
   "metadata": {},
   "outputs": [
    {
     "data": {
      "text/plain": [
       "['Agua', 'Huevos', 'Aceite', 'Naranja', 'Manzana', 'Piña']"
      ]
     },
     "execution_count": 63,
     "metadata": {},
     "output_type": "execute_result"
    }
   ],
   "source": [
    "shopping = ['Agua', 'Huevos', 'Aceite']\n",
    "fruitshop = ['Naranja', 'Manzana', 'Piña']\n",
    "\n",
    "shopping.extend(fruitshop) #añadir una lista a otra\n",
    "\n",
    "shopping"
   ]
  },
  {
   "cell_type": "code",
   "execution_count": 20,
   "id": "bf5cac01",
   "metadata": {},
   "outputs": [
    {
     "data": {
      "text/plain": [
       "['Agua', 'Huevos', 'Aceite', 'L', 'i', 'm', 'ó', 'n']"
      ]
     },
     "execution_count": 20,
     "metadata": {},
     "output_type": "execute_result"
    }
   ],
   "source": [
    "shopping.extend('Limón') \n",
    "shopping"
   ]
  },
  {
   "cell_type": "code",
   "execution_count": null,
   "id": "d8497875",
   "metadata": {},
   "outputs": [
    {
     "data": {
      "text/plain": [
       "['Agua', 'Huevos', 'Aceite', ['Naranja', 'Manzana', 'Piña']]"
      ]
     },
     "execution_count": 21,
     "metadata": {},
     "output_type": "execute_result"
    }
   ],
   "source": [
    "shopping = ['Agua', 'Huevos', 'Aceite']\n",
    "fruitshop = ['Naranja', 'Manzana', 'Piña']\n",
    "\n",
    "shopping.append(fruitshop) #la lista entera se convierte en el siguiente elemento\n",
    "\n",
    "shopping"
   ]
  },
  {
   "cell_type": "code",
   "execution_count": null,
   "id": "f688eee5",
   "metadata": {},
   "outputs": [
    {
     "data": {
      "text/plain": [
       "['Jugo', 'Huevos', 'Aceite', ['Naranja', 'Manzana', 'Piña']]"
      ]
     },
     "execution_count": 70,
     "metadata": {},
     "output_type": "execute_result"
    }
   ],
   "source": [
    "shopping[0] = 'Jugo' #es un elemento mutable, se puede cambiar\n",
    "shopping"
   ]
  },
  {
   "cell_type": "code",
   "execution_count": null,
   "id": "326fa40e",
   "metadata": {},
   "outputs": [],
   "source": [
    "del shopping[3] #elimina elementos"
   ]
  },
  {
   "cell_type": "code",
   "execution_count": 26,
   "id": "31982f98",
   "metadata": {},
   "outputs": [
    {
     "data": {
      "text/plain": [
       "['Agua', 'Huevos', 'Aceite']"
      ]
     },
     "execution_count": 26,
     "metadata": {},
     "output_type": "execute_result"
    }
   ],
   "source": [
    "shopping\n"
   ]
  },
  {
   "cell_type": "code",
   "execution_count": null,
   "id": "957ee09a",
   "metadata": {},
   "outputs": [
    {
     "data": {
      "text/plain": [
       "['Agua', 'Huevos', 'Aceite', 'Limón']"
      ]
     },
     "execution_count": 73,
     "metadata": {},
     "output_type": "execute_result"
    }
   ],
   "source": [
    "shopping = ['Agua', 'Huevos', 'Aceite', 'Sal', 'Limón']\n",
    "\n",
    "shopping.remove('Sal') #si no encontrase el elemento daria error\n",
    "\n",
    "shopping"
   ]
  },
  {
   "cell_type": "code",
   "execution_count": 30,
   "id": "fc5bf2f3",
   "metadata": {},
   "outputs": [
    {
     "data": {
      "text/plain": [
       "'Limón'"
      ]
     },
     "execution_count": 30,
     "metadata": {},
     "output_type": "execute_result"
    }
   ],
   "source": [
    "shopping = ['Agua', 'Huevos', 'Aceite', 'Sal', 'Limón']\n",
    "\n",
    "product = shopping.pop()  # shopping.pop(-1) es decir elimina el ultimo elemento. \n",
    "#lo puedes guardar en un elemento como en este ejemplo.\n",
    "product\n",
    "\n"
   ]
  },
  {
   "cell_type": "code",
   "execution_count": 29,
   "id": "9cccc496",
   "metadata": {},
   "outputs": [
    {
     "data": {
      "text/plain": [
       "['Agua', 'Huevos', 'Aceite', 'Sal']"
      ]
     },
     "execution_count": 29,
     "metadata": {},
     "output_type": "execute_result"
    }
   ],
   "source": [
    "\n",
    "shopping"
   ]
  },
  {
   "cell_type": "code",
   "execution_count": null,
   "id": "02fcf78a",
   "metadata": {},
   "outputs": [],
   "source": [
    "shopping.clear() #borra todo el contenido de la lista"
   ]
  },
  {
   "cell_type": "code",
   "execution_count": null,
   "id": "b6df2f06",
   "metadata": {},
   "outputs": [],
   "source": [
    "shopping = [] #igual que clear"
   ]
  },
  {
   "cell_type": "markdown",
   "id": "07a1fe7e",
   "metadata": {},
   "source": [
    "comprobación de datos en lista"
   ]
  },
  {
   "cell_type": "code",
   "execution_count": 33,
   "id": "b50e6e7f",
   "metadata": {},
   "outputs": [
    {
     "data": {
      "text/plain": [
       "3"
      ]
     },
     "execution_count": 33,
     "metadata": {},
     "output_type": "execute_result"
    }
   ],
   "source": [
    "shopping = ['Agua', 'Huevos', 'Aceite', 'Sal', 'Limón']\n",
    "\n",
    "shopping.index(\"Sal\")"
   ]
  },
  {
   "cell_type": "code",
   "execution_count": 34,
   "id": "9223a4c1",
   "metadata": {},
   "outputs": [
    {
     "data": {
      "text/plain": [
       "False"
      ]
     },
     "execution_count": 34,
     "metadata": {},
     "output_type": "execute_result"
    }
   ],
   "source": [
    "'Pollo' in shopping"
   ]
  },
  {
   "cell_type": "code",
   "execution_count": 39,
   "id": "81fb1525",
   "metadata": {},
   "outputs": [
    {
     "name": "stdout",
     "output_type": "stream",
     "text": [
      "product not found\n"
     ]
    }
   ],
   "source": [
    "product = \"pollo\"\n",
    "if product in shopping:\n",
    "    print(shopping.index(product))\n",
    "else:\n",
    "    print(\"product not found\")"
   ]
  },
  {
   "cell_type": "code",
   "execution_count": null,
   "id": "f802e2d5",
   "metadata": {},
   "outputs": [
    {
     "data": {
      "text/plain": [
       "0"
      ]
     },
     "execution_count": 40,
     "metadata": {},
     "output_type": "execute_result"
    }
   ],
   "source": [
    "sheldon_greeting = ['Penny', 'Penny', 'Penny']\n",
    "\n",
    "sheldon_greeting.count('Howard') #contar elementos de una lista\n"
   ]
  },
  {
   "cell_type": "code",
   "execution_count": 89,
   "id": "5a928086",
   "metadata": {},
   "outputs": [
    {
     "data": {
      "text/plain": [
       "3"
      ]
     },
     "execution_count": 89,
     "metadata": {},
     "output_type": "execute_result"
    }
   ],
   "source": [
    "\n",
    "\n",
    "sheldon_greeting.count('Penny')"
   ]
  },
  {
   "cell_type": "code",
   "execution_count": null,
   "id": "e69adf12",
   "metadata": {},
   "outputs": [
    {
     "data": {
      "text/plain": [
       "['Aceite', 'Agua', 'Huevos', 'Limón', 'Sal']"
      ]
     },
     "execution_count": 90,
     "metadata": {},
     "output_type": "execute_result"
    }
   ],
   "source": [
    "shopping = ['Agua', 'Huevos', 'Aceite', 'Sal', 'Limón']\n",
    "\n",
    "sorted(shopping) #ordena la lista, versión rapida. no lo guarda."
   ]
  },
  {
   "cell_type": "code",
   "execution_count": 92,
   "id": "7f291b6e",
   "metadata": {},
   "outputs": [
    {
     "data": {
      "text/plain": [
       "['Agua', 'Huevos', 'Aceite', 'Sal', 'Limón']"
      ]
     },
     "execution_count": 92,
     "metadata": {},
     "output_type": "execute_result"
    }
   ],
   "source": [
    "shopping"
   ]
  },
  {
   "cell_type": "code",
   "execution_count": null,
   "id": "a23df131",
   "metadata": {},
   "outputs": [
    {
     "data": {
      "text/plain": [
       "['Aceite', 'Agua', 'Huevos', 'Limón', 'Sal']"
      ]
     },
     "execution_count": 94,
     "metadata": {},
     "output_type": "execute_result"
    }
   ],
   "source": [
    "shopping.sort() #lo guarda en la misma variable\n",
    "\n",
    "shopping"
   ]
  },
  {
   "cell_type": "code",
   "execution_count": null,
   "id": "dfd4e9c4",
   "metadata": {},
   "outputs": [
    {
     "data": {
      "text/plain": [
       "['Sal', 'Limón', 'Huevos', 'Agua', 'Aceite']"
      ]
     },
     "execution_count": 95,
     "metadata": {},
     "output_type": "execute_result"
    }
   ],
   "source": [
    "sorted(shopping, reverse = True)\n"
   ]
  },
  {
   "cell_type": "code",
   "execution_count": 96,
   "id": "62f60b34",
   "metadata": {},
   "outputs": [
    {
     "data": {
      "text/plain": [
       "5"
      ]
     },
     "execution_count": 96,
     "metadata": {},
     "output_type": "execute_result"
    }
   ],
   "source": [
    "len(shopping)\n"
   ]
  },
  {
   "cell_type": "code",
   "execution_count": null,
   "id": "bbaae173",
   "metadata": {},
   "outputs": [
    {
     "name": "stdout",
     "output_type": "stream",
     "text": [
      "Agua\n",
      "Huevos\n",
      "Aceite\n",
      "Sal\n",
      "Limón\n"
     ]
    }
   ],
   "source": [
    "productos = ['Agua', 'Huevos', 'Aceite', 'Sal', 'Limón'] \n",
    "#iterar\n",
    "\n",
    "for product in productos:\n",
    "    print(product)"
   ]
  },
  {
   "cell_type": "code",
   "execution_count": null,
   "id": "bfa05112",
   "metadata": {},
   "outputs": [
    {
     "name": "stdout",
     "output_type": "stream",
     "text": [
      "0 Agua\n",
      "1 Huevos\n",
      "2 Aceite\n",
      "3 Sal\n",
      "4 Limón\n"
     ]
    }
   ],
   "source": [
    "#enumerar\n",
    "productos = ['Agua', 'Huevos', 'Aceite', 'Sal', 'Limón'] \n",
    "\n",
    "for i, product in enumerate(productos):\n",
    "    print(i, product)"
   ]
  },
  {
   "cell_type": "code",
   "execution_count": null,
   "id": "8bb96167",
   "metadata": {},
   "outputs": [
    {
     "name": "stdout",
     "output_type": "stream",
     "text": [
      "Agua mineral natural\n",
      "Aceite de oliva virgen\n",
      "Arroz basmati\n"
     ]
    }
   ],
   "source": [
    "productos = ['Agua', 'Aceite', 'Arroz']\n",
    "details = ['mineral natural', 'de oliva virgen', 'basmati']\n",
    "\n",
    "for product, detail in zip(productos, details): #cremallera. las listas deben medir lo mismo. \n",
    "    print(product, detail)"
   ]
  },
  {
   "cell_type": "code",
   "execution_count": 103,
   "id": "13882c13",
   "metadata": {},
   "outputs": [
    {
     "data": {
      "text/plain": [
       "[('Agua', 'mineral natural'),\n",
       " ('Aceite', 'de oliva virgen'),\n",
       " ('Arroz', 'basmati')]"
      ]
     },
     "execution_count": 103,
     "metadata": {},
     "output_type": "execute_result"
    }
   ],
   "source": [
    "shopping = ['Agua', 'Aceite', 'Arroz']\n",
    "details = ['mineral natural', 'de oliva virgen', 'basmati']\n",
    "\n",
    "list(zip(shopping, details))"
   ]
  },
  {
   "cell_type": "code",
   "execution_count": null,
   "id": "27801477",
   "metadata": {},
   "outputs": [
    {
     "data": {
      "text/plain": [
       "[15, 3, 7, 1]"
      ]
     },
     "execution_count": 104,
     "metadata": {},
     "output_type": "execute_result"
    }
   ],
   "source": [
    "original_list = [4, 3, 7, 1]   #a = 3 // b = a // a = 7 -- cambia el valor de a. \n",
    "\n",
    "copy_list = original_list\n",
    "\n",
    "original_list[0] = 15\n",
    "\n",
    "original_list\n"
   ]
  },
  {
   "cell_type": "code",
   "execution_count": 105,
   "id": "4de06886",
   "metadata": {},
   "outputs": [
    {
     "data": {
      "text/plain": [
       "[15, 3, 7, 1]"
      ]
     },
     "execution_count": 105,
     "metadata": {},
     "output_type": "execute_result"
    }
   ],
   "source": [
    "\n",
    "\n",
    "copy_list"
   ]
  },
  {
   "cell_type": "code",
   "execution_count": null,
   "id": "1f5d25f6",
   "metadata": {},
   "outputs": [],
   "source": [
    "original_list = [4, 3, 7, 1]\n",
    "\n",
    "copy_list = original_list.copy() #de esta manera hace una copia distinta a la original\n",
    "\n",
    "original_list[0] = 15"
   ]
  },
  {
   "cell_type": "code",
   "execution_count": 107,
   "id": "bd3a0d51",
   "metadata": {},
   "outputs": [
    {
     "data": {
      "text/plain": [
       "[15, 3, 7, 1]"
      ]
     },
     "execution_count": 107,
     "metadata": {},
     "output_type": "execute_result"
    }
   ],
   "source": [
    "original_list\n"
   ]
  },
  {
   "cell_type": "code",
   "execution_count": 108,
   "id": "9845d771",
   "metadata": {},
   "outputs": [
    {
     "data": {
      "text/plain": [
       "[4, 3, 7, 1]"
      ]
     },
     "execution_count": 108,
     "metadata": {},
     "output_type": "execute_result"
    }
   ],
   "source": [
    "copy_list\n"
   ]
  },
  {
   "cell_type": "code",
   "execution_count": 109,
   "id": "4489cbfb",
   "metadata": {},
   "outputs": [
    {
     "data": {
      "text/plain": [
       "[32, 45, 11, 87, 20, 48]"
      ]
     },
     "execution_count": 109,
     "metadata": {},
     "output_type": "execute_result"
    }
   ],
   "source": [
    "values = '32,45,11,87,20,48'\n",
    "\n",
    "int_values = []\n",
    "\n",
    "for value in values.split(','):\n",
    "    int_value = int(value)\n",
    "    int_values.append(int_value)\n",
    "\n",
    "\n",
    "int_values"
   ]
  },
  {
   "cell_type": "code",
   "execution_count": 110,
   "id": "fc9869fb",
   "metadata": {},
   "outputs": [
    {
     "data": {
      "text/plain": [
       "[32, 45, 11, 87, 20, 48]"
      ]
     },
     "execution_count": 110,
     "metadata": {},
     "output_type": "execute_result"
    }
   ],
   "source": [
    "int_values = [int(value) for value in values.split(',')]\n",
    "\n",
    "int_values"
   ]
  },
  {
   "cell_type": "code",
   "execution_count": 111,
   "id": "aad9873f",
   "metadata": {},
   "outputs": [
    {
     "data": {
      "text/plain": [
       "[45, 48]"
      ]
     },
     "execution_count": 111,
     "metadata": {},
     "output_type": "execute_result"
    }
   ],
   "source": [
    "values = '32,45,11,87,20,48'\n",
    "\n",
    "int_values = [int(v) for v in values.split(',') if v.startswith('4')]\n",
    "\n",
    "int_values"
   ]
  },
  {
   "cell_type": "code",
   "execution_count": 113,
   "id": "de91f215",
   "metadata": {},
   "outputs": [
    {
     "data": {
      "text/plain": [
       "['32x32',\n",
       " '32x45',\n",
       " '32x11',\n",
       " '32x87',\n",
       " '32x20',\n",
       " '32x48',\n",
       " '45x32',\n",
       " '45x45',\n",
       " '45x11',\n",
       " '45x87',\n",
       " '45x20',\n",
       " '45x48',\n",
       " '11x32',\n",
       " '11x45',\n",
       " '11x11',\n",
       " '11x87',\n",
       " '11x20',\n",
       " '11x48',\n",
       " '87x32',\n",
       " '87x45',\n",
       " '87x11',\n",
       " '87x87',\n",
       " '87x20',\n",
       " '87x48',\n",
       " '20x32',\n",
       " '20x45',\n",
       " '20x11',\n",
       " '20x87',\n",
       " '20x20',\n",
       " '20x48',\n",
       " '48x32',\n",
       " '48x45',\n",
       " '48x11',\n",
       " '48x87',\n",
       " '48x20',\n",
       " '48x48']"
      ]
     },
     "execution_count": 113,
     "metadata": {},
     "output_type": "execute_result"
    }
   ],
   "source": [
    "values = '32,45,11,87,20,48'\n",
    "svalues = values.split(',')\n",
    "\n",
    "combinations = [f'{v1}x{v2}' for v1 in svalues for v2 in svalues]\n",
    "\n",
    "combinations"
   ]
  },
  {
   "cell_type": "code",
   "execution_count": 114,
   "id": "8fa2658b",
   "metadata": {},
   "outputs": [
    {
     "data": {
      "text/plain": [
       "28"
      ]
     },
     "execution_count": 114,
     "metadata": {},
     "output_type": "execute_result"
    }
   ],
   "source": [
    "data = [5, 3, 2, 8, 9, 1]\n",
    "sum(data)"
   ]
  },
  {
   "cell_type": "code",
   "execution_count": null,
   "id": "3a6fe120",
   "metadata": {},
   "outputs": [],
   "source": [
    "nueva_lista = expresión for elemento in iterable if condición"
   ]
  },
  {
   "cell_type": "code",
   "execution_count": null,
   "id": "e64b9a56",
   "metadata": {},
   "outputs": [
    {
     "name": "stdout",
     "output_type": "stream",
     "text": [
      "[0, 1, 4, 9, 16]\n"
     ]
    }
   ],
   "source": [
    "#ejemplo:\n",
    "cuadrados = [x**2 for x in range(5)]\n",
    "print(cuadrados) #[0, 1, 4, 9, 16]"
   ]
  },
  {
   "cell_type": "code",
   "execution_count": 42,
   "id": "34734a65",
   "metadata": {},
   "outputs": [
    {
     "data": {
      "text/plain": [
       "[11.5, 21.5, 10.5, 6.0, 11.5, 17.0]"
      ]
     },
     "execution_count": 42,
     "metadata": {},
     "output_type": "execute_result"
    }
   ],
   "source": [
    "edades = [23, 43, 21, 12, 23, 34]\n",
    "nueva_lista = [edad/2 for edad in edades] #edad en este caso es cada uno de los elementos de la lista\n",
    "nueva_lista"
   ]
  },
  {
   "cell_type": "code",
   "execution_count": 45,
   "id": "e095e9e2",
   "metadata": {},
   "outputs": [
    {
     "ename": "TypeError",
     "evalue": "unsupported operand type(s) for /: 'list' and 'int'",
     "output_type": "error",
     "traceback": [
      "\u001b[1;31m---------------------------------------------------------------------------\u001b[0m",
      "\u001b[1;31mTypeError\u001b[0m                                 Traceback (most recent call last)",
      "Cell \u001b[1;32mIn[45], line 6\u001b[0m\n\u001b[0;32m      4\u001b[0m \u001b[38;5;28;01mfor\u001b[39;00m edad \u001b[38;5;129;01min\u001b[39;00m edades:\n\u001b[0;32m      5\u001b[0m     \u001b[38;5;28;01mif\u001b[39;00m edad \u001b[38;5;241m%\u001b[39m \u001b[38;5;241m2\u001b[39m \u001b[38;5;241m==\u001b[39m \u001b[38;5;241m0\u001b[39m:\n\u001b[1;32m----> 6\u001b[0m         nueva_lista\u001b[38;5;241m.\u001b[39mappend(edades\u001b[38;5;241m/\u001b[39m\u001b[38;5;241m2\u001b[39m)\n\u001b[0;32m      7\u001b[0m nueva_lista\n",
      "\u001b[1;31mTypeError\u001b[0m: unsupported operand type(s) for /: 'list' and 'int'"
     ]
    }
   ],
   "source": [
    "#versión novata\n",
    "edades = [23, 43, 21, 12, 23, 34]\n",
    "nueva_lista = [] \n",
    "for edad in edades:\n",
    "    if edad % 2 == 0:\n",
    "        nueva_lista.append(edades/2)\n",
    "nueva_lista"
   ]
  },
  {
   "cell_type": "code",
   "execution_count": 43,
   "id": "9ef51d1b",
   "metadata": {},
   "outputs": [
    {
     "data": {
      "text/plain": [
       "[6.0, 17.0]"
      ]
     },
     "execution_count": 43,
     "metadata": {},
     "output_type": "execute_result"
    }
   ],
   "source": [
    "#versión pro\n",
    "edades = [23, 43, 21, 12, 23, 34]\n",
    "nueva_lista = [edad/2 for edad in edades if edad % 2 == 0]\n",
    "nueva_lista"
   ]
  },
  {
   "cell_type": "code",
   "execution_count": null,
   "id": "39a9b084",
   "metadata": {},
   "outputs": [],
   "source": [
    "empty_tuple = ()\n",
    "tupla = (45,) #sin la coma no entenderá que es una tupla\n",
    "\n",
    "tenerife_geoloc = (28.46824, -16.25462)\n",
    "\n",
    "three_wise_men = ('Melchor', 'Gaspar', 'Baltasar')"
   ]
  },
  {
   "cell_type": "code",
   "execution_count": 117,
   "id": "20250216",
   "metadata": {},
   "outputs": [
    {
     "data": {
      "text/plain": [
       "tuple"
      ]
     },
     "execution_count": 117,
     "metadata": {},
     "output_type": "execute_result"
    }
   ],
   "source": [
    "one_item_tuple = ('Papá Noel',)\n",
    "\n",
    "one_item_tuple\n",
    "\n",
    "\n",
    "type(one_item_tuple)"
   ]
  },
  {
   "cell_type": "code",
   "execution_count": 118,
   "id": "7136841e",
   "metadata": {},
   "outputs": [],
   "source": [
    "one_item_tuple = 'Papá Noel',\n",
    "\n",
    "three_wise_men = 'Melchor', 'Gaspar', 'Baltasar'\n",
    "\n",
    "tenerife_geoloc = 28.46824, -16.25462"
   ]
  },
  {
   "cell_type": "code",
   "execution_count": 119,
   "id": "0075563d",
   "metadata": {},
   "outputs": [
    {
     "data": {
      "text/plain": [
       "'Melchor'"
      ]
     },
     "execution_count": 119,
     "metadata": {},
     "output_type": "execute_result"
    }
   ],
   "source": [
    "three_wise_men = 'Melchor', 'Gaspar', 'Baltasar'\n",
    "\n",
    "three_wise_men[0]"
   ]
  },
  {
   "cell_type": "code",
   "execution_count": null,
   "id": "bd9e2297",
   "metadata": {},
   "outputs": [
    {
     "ename": "TypeError",
     "evalue": "'tuple' object does not support item assignment",
     "output_type": "error",
     "traceback": [
      "\u001b[1;31m---------------------------------------------------------------------------\u001b[0m",
      "\u001b[1;31mTypeError\u001b[0m                                 Traceback (most recent call last)",
      "Cell \u001b[1;32mIn[120], line 1\u001b[0m\n\u001b[1;32m----> 1\u001b[0m three_wise_men[\u001b[38;5;241m0\u001b[39m] \u001b[38;5;241m=\u001b[39m \u001b[38;5;124m'\u001b[39m\u001b[38;5;124mTom Hanks\u001b[39m\u001b[38;5;124m'\u001b[39m\n",
      "\u001b[1;31mTypeError\u001b[0m: 'tuple' object does not support item assignment"
     ]
    }
   ],
   "source": [
    "three_wise_men[0] = 'Tom Hanks' #una tupla es lo mismo que una lista pero no se puede modificar"
   ]
  },
  {
   "cell_type": "code",
   "execution_count": null,
   "id": "9c73cdb2",
   "metadata": {},
   "outputs": [
    {
     "data": {
      "text/plain": [
       "('Agua', 'Aceite', 'Arroz')"
      ]
     },
     "execution_count": 121,
     "metadata": {},
     "output_type": "execute_result"
    }
   ],
   "source": [
    "shopping = ['Agua', 'Aceite', 'Arroz']\n",
    "\n",
    "tuple(shopping) #convertimos una lista en una tupla"
   ]
  },
  {
   "cell_type": "code",
   "execution_count": null,
   "id": "63feaa72",
   "metadata": {},
   "outputs": [
    {
     "name": "stdout",
     "output_type": "stream",
     "text": [
      "Melchor\n",
      "Gaspar\n",
      "Baltasar\n"
     ]
    }
   ],
   "source": [
    "#descomponer una tupla en varios elementos\n",
    "three_wise_men = ('Melchor', 'Gaspar', 'Baltasar')\n",
    "\n",
    "king1, king2, king3 = three_wise_men\n",
    "\n",
    "print(king1)\n",
    "\n",
    "print(king2)\n",
    "\n",
    "print(king3)"
   ]
  },
  {
   "cell_type": "code",
   "execution_count": 127,
   "id": "80d192ff",
   "metadata": {},
   "outputs": [
    {
     "name": "stdout",
     "output_type": "stream",
     "text": [
      "10\n",
      "5\n"
     ]
    }
   ],
   "source": [
    "a= 5\n",
    "b = 10\n",
    "\n",
    "a,b = b,a\n",
    "print(a)\n",
    "print(b)"
   ]
  },
  {
   "cell_type": "code",
   "execution_count": 2,
   "id": "7e825526",
   "metadata": {},
   "outputs": [
    {
     "name": "stdout",
     "output_type": "stream",
     "text": [
      "Lista original: [64, 34, 25, 12, 22, 11, 90]\n",
      "Lista ordenada: [11, 12, 22, 25, 34, 64, 90]\n"
     ]
    }
   ],
   "source": [
    "def bubble_sort(lista):\n",
    "    n = len(lista)\n",
    "    for i in range(n):\n",
    "        for j in range(0, n-i-1):\n",
    "            if lista[j] > lista[j+1]:\n",
    "                # Usar una variable auxiliar para intercambiar los elementos\n",
    "                aux = lista[j]\n",
    "                lista[j] = lista[j+1]\n",
    "                lista[j+1] = aux\n",
    "\n",
    "# Ejemplo de uso\n",
    "mi_lista = [64, 34, 25, 12, 22, 11, 90]\n",
    "print(\"Lista original:\", mi_lista)\n",
    "\n",
    "bubble_sort(mi_lista)\n",
    "print(\"Lista ordenada:\", mi_lista)\n"
   ]
  },
  {
   "cell_type": "code",
   "execution_count": 1,
   "id": "a686d58f",
   "metadata": {},
   "outputs": [
    {
     "name": "stdout",
     "output_type": "stream",
     "text": [
      "Lista original: [56, 654, 4, 32, 2, 123, 45, 67, 876, 67, 889, 0, 11]\n",
      "Lista ordenada: [0, 2, 4, 11, 32, 45, 56, 67, 67, 123, 654, 876, 889]\n"
     ]
    }
   ],
   "source": [
    "\n",
    "def bubble_sort(lista):\n",
    "    n = len(lista)\n",
    "    for i in range(n):\n",
    "        # Bandera para optimizar y salir del bucle si no hay intercambios\n",
    "        intercambio = False\n",
    "        for j in range(0, n-i-1):\n",
    "            if lista[j] > lista[j+1]:\n",
    "                # Intercambiar elementos si están en el orden incorrecto\n",
    "                lista[j], lista[j+1] = lista[j+1], lista[j]\n",
    "                intercambio = True\n",
    "        # Si no se hizo ningún intercambio, la lista ya está ordenada\n",
    "        if not intercambio:\n",
    "            break\n",
    "\n",
    "# Ejemplo de uso\n",
    "mi_lista = [56,654,4,32,2,123,45,67,876,67,889,0,11]\n",
    "print(\"Lista original:\", mi_lista)\n",
    "\n",
    "bubble_sort(mi_lista)\n",
    "print(\"Lista ordenada:\", mi_lista)\n"
   ]
  },
  {
   "cell_type": "code",
   "execution_count": null,
   "id": "0de00ea4",
   "metadata": {},
   "outputs": [],
   "source": [
    "letras_dni = (\"T\", \"R\", \"W\", \"A\", \"G\", \"M\", \"Y\", \"F\", \"P\", \"D\", \"X\", \"B\", \"N\", \"J\", \"Z\", \"S\", \"Q\", \"V\", \"H\", \"L\", \"C\", \"K\", \"E\")\n",
    "num = int(input(\"introduce tu dni\"))\n",
    "letra = letras_dni[num % 23]\n",
    "print(letra)\n"
   ]
  },
  {
   "cell_type": "code",
   "execution_count": null,
   "id": "3ed8a9cc",
   "metadata": {},
   "outputs": [],
   "source": [
    "#cuando haya mucho volumen de datos la tupla funciona más rapidamente, \n",
    "# podemos pasar de lista a tupla, trabajar los datos \n",
    "# y convertir a lista de nuevo"
   ]
  }
 ],
 "metadata": {
  "kernelspec": {
   "display_name": "base",
   "language": "python",
   "name": "python3"
  },
  "language_info": {
   "codemirror_mode": {
    "name": "ipython",
    "version": 3
   },
   "file_extension": ".py",
   "mimetype": "text/x-python",
   "name": "python",
   "nbconvert_exporter": "python",
   "pygments_lexer": "ipython3",
   "version": "3.13.5"
  }
 },
 "nbformat": 4,
 "nbformat_minor": 5
}
