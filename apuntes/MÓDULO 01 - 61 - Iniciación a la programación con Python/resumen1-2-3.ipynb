{
 "cells": [
  {
   "cell_type": "markdown",
   "id": "2cd5eded",
   "metadata": {},
   "source": [
    "variables"
   ]
  },
  {
   "cell_type": "code",
   "execution_count": null,
   "id": "cbf98724",
   "metadata": {},
   "outputs": [],
   "source": [
    "\n",
    "#variables de texto:\n",
    "#camel case:\n",
    "namePerson = \"x\" \n",
    "#snake case:\n",
    "name_person = \"x\" #esta es la que se usa en python\n",
    "#se usan comillas simples o comillas dobles, pero  cuidad con:\n",
    "'it's the sky' NO\n",
    "\"it's the sky\" OK\n",
    "'it\\'s the sky' OK\n",
    "\n",
    "#variables de numero\n",
    "num = 42 #int (entero)\n",
    "num_decimal = 3.14 #float (decimal)\n",
    "\n",
    "#True or False:\n",
    "esta_lloviendo = True #es igual a 1\n",
    "esta_soleado = False #es igual a 0\n",
    "\n",
    "\n",
    "\n"
   ]
  },
  {
   "cell_type": "markdown",
   "id": "2856896f",
   "metadata": {},
   "source": [
    "operaciones matemáticas"
   ]
  },
  {
   "cell_type": "code",
   "execution_count": null,
   "id": "ad7e2d5f",
   "metadata": {},
   "outputs": [],
   "source": [
    "sumar = 5 + 5\n",
    "restar = 5 - 5\n",
    "multiplicar = 5 * 5\n",
    "dividir = 10 / 5\n",
    "división_entera = 10 // 3\n",
    "resto = 10 % 3\n",
    "potencia = 2 ** 3\n",
    "\n",
    "import math #es nativo de python pero si no estuviera habria que instalarla\n",
    "raiz_cuadrada = math.sqrt(16)\n",
    "print(math.pi) #devuelve el numero pi\n",
    "\n",
    "num = \"120\" #esto no es un numero\n",
    "int(num) #ahora si es un numero\n",
    "float(num) \n"
   ]
  },
  {
   "cell_type": "code",
   "execution_count": null,
   "id": "9e530202",
   "metadata": {},
   "outputs": [],
   "source": [
    "import datetime\n",
    "print(datetime.datetime.now())"
   ]
  },
  {
   "cell_type": "markdown",
   "id": "1a920b59",
   "metadata": {},
   "source": [
    "condicionales"
   ]
  },
  {
   "cell_type": "code",
   "execution_count": null,
   "id": "217fd7f8",
   "metadata": {},
   "outputs": [],
   "source": [
    "edad = 21\n",
    "if edad >= 18:\n",
    "    print(\"puedes ir a la carcel\")\n",
    "else:\n",
    "    print(\"no puedes ir a la carcel\")\n",
    "\n",
    "#ternaria:\n",
    "edad = 21\n",
    "print(\"menor de edad\" if edad <= 18 else \"no puedes ir a la carcel\")\n",
    "\n",
    "#doble condicional\n",
    "if edad > 20 and edad <= 30:\n",
    "    print(\"tienes entre 21 y 30 años\")\n",
    "\n",
    "if edad < 28 or edad = 18:\n",
    "    print(\"eres menor\")\n",
    "\n",
    "num = 256\n",
    "if num % 3 == 0 and num % 5 == 0:  \n",
    "    print(\"el numero es divisible por 3 y por 5\")\n",
    "\n",
    "#condicional anidado\n",
    "if num % 3 == 0:\n",
    "    if num % 5 == 0:\n",
    "        print(\"el numero es divisible por 3 y por 5\")\n",
    "print(\"el numero es divisible por 3\")\n",
    "\n",
    "#elif\n",
    "dia_semana = 1\n",
    "if dia_semana == 1:\n",
    "    print(\"Lunes\")\n",
    "elif dia_semana == 2:\n",
    "    print(\"Martes\") #hasta el final de la semana\n",
    "else:\n",
    "    print(\"dia no valido\")\n",
    "\n",
    "#match\n",
    "\n",
    "match dia_semana:\n",
    "    case 1:\n",
    "        print(\"Lunes\")\n",
    "    case 2:\n",
    "        print (\"Martes\")\n",
    "    case _:\n",
    "        print (\"Dia no valido\")\n",
    "\n",
    "\n"
   ]
  },
  {
   "cell_type": "code",
   "execution_count": null,
   "id": "97b3281f",
   "metadata": {},
   "outputs": [],
   "source": [
    "#sneak peak de 04\n",
    "\n",
    "dia_semana = [\"Lunes\", \"Martes\"]\n",
    "print(dia_semana[0])\n",
    "print(dia_semana[1])\n",
    "#etc"
   ]
  },
  {
   "cell_type": "markdown",
   "id": "02f57bc3",
   "metadata": {},
   "source": [
    "la sentencia while"
   ]
  },
  {
   "cell_type": "code",
   "execution_count": null,
   "id": "72155a2a",
   "metadata": {},
   "outputs": [],
   "source": [
    "#contador\n",
    "cont = 0\n",
    "while True:\n",
    "    print(\"Hola que ase\")\n",
    "    cont -= 1 #esto es la abrebiatura de contador = contador - 1, lo mismo con la suma\n",
    "    if cont == 0:\n",
    "        break\n",
    "\n",
    "cont = 0\n",
    "while cont < 10:\n",
    "    print(\"hola que ase\")\n",
    "    cont += 1"
   ]
  },
  {
   "cell_type": "markdown",
   "id": "998ecd62",
   "metadata": {},
   "source": [
    "rango"
   ]
  },
  {
   "cell_type": "code",
   "execution_count": 3,
   "id": "a5c77ac8",
   "metadata": {},
   "outputs": [
    {
     "name": "stdout",
     "output_type": "stream",
     "text": [
      "range(0, 5)\n"
     ]
    }
   ],
   "source": [
    "print(range(5))"
   ]
  },
  {
   "cell_type": "markdown",
   "id": "065635a9",
   "metadata": {},
   "source": [
    "la sentencia for"
   ]
  },
  {
   "cell_type": "code",
   "execution_count": 4,
   "id": "896b2d15",
   "metadata": {},
   "outputs": [
    {
     "name": "stdout",
     "output_type": "stream",
     "text": [
      "hola\n",
      "hola\n",
      "hola\n",
      "hola\n",
      "hola\n",
      "hola\n",
      "hola\n",
      "hola\n"
     ]
    }
   ],
   "source": [
    "for i in range(8):\n",
    "    print(\"hola\")"
   ]
  },
  {
   "cell_type": "code",
   "execution_count": null,
   "id": "6ce09911",
   "metadata": {},
   "outputs": [
    {
     "name": "stdout",
     "output_type": "stream",
     "text": [
      "nacho 3\n",
      "nacho 5\n",
      "nacho 7\n",
      "nacho 9\n"
     ]
    }
   ],
   "source": [
    "for i in range(3, 11, 2):  #si el tercer numero es negativo, cuenta hacia atrás\n",
    "    print(f\"nacho {i}\") #f string (f de formato)"
   ]
  },
  {
   "cell_type": "code",
   "execution_count": null,
   "id": "3ffcec12",
   "metadata": {},
   "outputs": [],
   "source": [
    "for i in range()"
   ]
  }
 ],
 "metadata": {
  "kernelspec": {
   "display_name": "base",
   "language": "python",
   "name": "python3"
  },
  "language_info": {
   "codemirror_mode": {
    "name": "ipython",
    "version": 3
   },
   "file_extension": ".py",
   "mimetype": "text/x-python",
   "name": "python",
   "nbconvert_exporter": "python",
   "pygments_lexer": "ipython3",
   "version": "3.13.5"
  }
 },
 "nbformat": 4,
 "nbformat_minor": 5
}
