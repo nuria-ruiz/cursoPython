{
 "cells": [
  {
   "cell_type": "code",
   "execution_count": 1,
   "id": "19d933a7",
   "metadata": {},
   "outputs": [
    {
     "name": "stdout",
     "output_type": "stream",
     "text": [
      "Oscar dice: Hola, ¿cómo estás?\n",
      "Oscar ha caminado 10 metros.\n"
     ]
    }
   ],
   "source": [
    "class Humano:\n",
    "    def __init__(self, nombre, edad, genero):\n",
    "        self.nombre = nombre\n",
    "        self.edad = edad\n",
    "        self.genero = genero\n",
    "\n",
    "    def hablar(self, mensaje):\n",
    "        print(f\"{self.nombre} dice: {mensaje}\")\n",
    "\n",
    "    def caminar(self, distancia):\n",
    "        print(f\"{self.nombre} ha caminado {distancia} metros.\")\n",
    "\n",
    "# Crear una instancia de la clase Humano\n",
    "persona1 = Humano(\"Oscar\", 33, \"Gato\")\n",
    "\n",
    "# Utilizar los métodos de la clase\n",
    "persona1.hablar(\"Hola, ¿cómo estás?\")\n",
    "persona1.caminar(10)\n"
   ]
  },
  {
   "cell_type": "code",
   "execution_count": 2,
   "id": "36a03f3d",
   "metadata": {},
   "outputs": [],
   "source": [
    "l = [1, 2, 3] "
   ]
  },
  {
   "cell_type": "code",
   "execution_count": 3,
   "id": "3d2fe2bc",
   "metadata": {},
   "outputs": [
    {
     "data": {
      "text/plain": [
       "list"
      ]
     },
     "execution_count": 3,
     "metadata": {},
     "output_type": "execute_result"
    }
   ],
   "source": [
    "type(l)"
   ]
  },
  {
   "cell_type": "code",
   "execution_count": 4,
   "id": "505208b9",
   "metadata": {},
   "outputs": [],
   "source": [
    "l.append(4) "
   ]
  },
  {
   "cell_type": "code",
   "execution_count": 5,
   "id": "57f51001",
   "metadata": {},
   "outputs": [
    {
     "data": {
      "text/plain": [
       "__main__.Humano"
      ]
     },
     "execution_count": 5,
     "metadata": {},
     "output_type": "execute_result"
    }
   ],
   "source": [
    "type(persona1)"
   ]
  },
  {
   "cell_type": "code",
   "execution_count": 6,
   "id": "91fb0135",
   "metadata": {},
   "outputs": [],
   "source": [
    "persona2 = Humano(\"Marluz\", 88, \"F\")\n"
   ]
  },
  {
   "cell_type": "code",
   "execution_count": 7,
   "id": "5806755f",
   "metadata": {},
   "outputs": [
    {
     "data": {
      "text/plain": [
       "__main__.Humano"
      ]
     },
     "execution_count": 7,
     "metadata": {},
     "output_type": "execute_result"
    }
   ],
   "source": [
    "type(persona2)"
   ]
  },
  {
   "cell_type": "code",
   "execution_count": 9,
   "id": "7f4a9ae8",
   "metadata": {},
   "outputs": [
    {
     "name": "stdout",
     "output_type": "stream",
     "text": [
      "Marluz dice: Hola\n"
     ]
    }
   ],
   "source": [
    "persona2.hablar('Hola')"
   ]
  },
  {
   "cell_type": "code",
   "execution_count": 10,
   "id": "41e269f4",
   "metadata": {},
   "outputs": [
    {
     "name": "stdout",
     "output_type": "stream",
     "text": [
      "Marluz ha caminado 10 metros.\n"
     ]
    }
   ],
   "source": [
    "persona2.caminar(10)\n"
   ]
  },
  {
   "cell_type": "code",
   "execution_count": 11,
   "id": "8d6a316f",
   "metadata": {},
   "outputs": [
    {
     "name": "stdout",
     "output_type": "stream",
     "text": [
      "Oscar dice: eso es mentira\n"
     ]
    }
   ],
   "source": [
    "persona1.hablar('eso es mentira')"
   ]
  },
  {
   "cell_type": "code",
   "execution_count": 14,
   "id": "5e9488f2",
   "metadata": {},
   "outputs": [],
   "source": [
    "persona1.edad = 50"
   ]
  },
  {
   "cell_type": "code",
   "execution_count": 16,
   "id": "6ec35dea",
   "metadata": {},
   "outputs": [
    {
     "data": {
      "text/plain": [
       "50"
      ]
     },
     "execution_count": 16,
     "metadata": {},
     "output_type": "execute_result"
    }
   ],
   "source": [
    "persona1.edad"
   ]
  },
  {
   "cell_type": "code",
   "execution_count": 24,
   "id": "9d1d942b",
   "metadata": {},
   "outputs": [
    {
     "name": "stdout",
     "output_type": "stream",
     "text": [
      "<__main__.Humano object at 0x0000015A3E9C72B0>\n"
     ]
    }
   ],
   "source": [
    "print(persona1)"
   ]
  },
  {
   "cell_type": "raw",
   "id": "66508431",
   "metadata": {},
   "source": []
  },
  {
   "cell_type": "code",
   "execution_count": 23,
   "id": "ce9f6017",
   "metadata": {},
   "outputs": [],
   "source": [
    "class Tarjeta:\n",
    "    def __init__(self, numero, cantidad=0):\n",
    "        self.numero = numero\n",
    "        self.saldo = cantidad\n",
    "    def __str__(self):\n",
    "        return 'Tarjeta número {} con saldo {:.2f}€'.format(self.numero, self.saldo)\n",
    "\n",
    "t1 = Tarjeta('0123456789',567654)"
   ]
  },
  {
   "cell_type": "code",
   "execution_count": 22,
   "id": "909a3ae9",
   "metadata": {},
   "outputs": [
    {
     "name": "stdout",
     "output_type": "stream",
     "text": [
      "Tarjeta número 0123456789 con saldo 567654.00€\n"
     ]
    }
   ],
   "source": [
    "print(t1)"
   ]
  },
  {
   "cell_type": "code",
   "execution_count": null,
   "id": "fe5d6464",
   "metadata": {},
   "outputs": [],
   "source": []
  }
 ],
 "metadata": {
  "kernelspec": {
   "display_name": "Python 3 (ipykernel)",
   "language": "python",
   "name": "python3"
  },
  "language_info": {
   "codemirror_mode": {
    "name": "ipython",
    "version": 3
   },
   "file_extension": ".py",
   "mimetype": "text/x-python",
   "name": "python",
   "nbconvert_exporter": "python",
   "pygments_lexer": "ipython3",
   "version": "3.10.9"
  }
 },
 "nbformat": 4,
 "nbformat_minor": 5
}
