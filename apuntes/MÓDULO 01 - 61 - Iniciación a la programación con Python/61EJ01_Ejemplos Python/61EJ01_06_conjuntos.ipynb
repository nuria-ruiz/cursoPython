{
 "cells": [
  {
   "cell_type": "code",
   "execution_count": 1,
   "id": "a5b42627",
   "metadata": {},
   "outputs": [
    {
     "data": {
      "text/plain": [
       "{10, 21, 29, 31, 46, 94}"
      ]
     },
     "execution_count": 1,
     "metadata": {},
     "output_type": "execute_result"
    }
   ],
   "source": [
    "lottery = {21, 10, 46, 29, 31, 94}\n",
    "\n",
    "lottery"
   ]
  },
  {
   "cell_type": "code",
   "execution_count": 2,
   "id": "cfd0794b",
   "metadata": {},
   "outputs": [
    {
     "data": {
      "text/plain": [
       "dict"
      ]
     },
     "execution_count": 2,
     "metadata": {},
     "output_type": "execute_result"
    }
   ],
   "source": [
    "wrong_empty_set = {}\n",
    "\n",
    "type(wrong_empty_set)"
   ]
  },
  {
   "cell_type": "code",
   "execution_count": 3,
   "id": "91184d13",
   "metadata": {},
   "outputs": [
    {
     "data": {
      "text/plain": [
       "set"
      ]
     },
     "execution_count": 3,
     "metadata": {},
     "output_type": "execute_result"
    }
   ],
   "source": [
    "empty_set = set()\n",
    "\n",
    "empty_set\n",
    "\n",
    "\n",
    "type(empty_set)"
   ]
  },
  {
   "cell_type": "code",
   "execution_count": 5,
   "id": "7aad3e52",
   "metadata": {},
   "outputs": [
    {
     "data": {
      "text/plain": [
       "{'a', 'd', 'l', 'n', 'p', 't'}"
      ]
     },
     "execution_count": 5,
     "metadata": {},
     "output_type": "execute_result"
    }
   ],
   "source": [
    "set('aplatanada')\n"
   ]
  },
  {
   "cell_type": "code",
   "execution_count": 6,
   "id": "562a0b9f",
   "metadata": {},
   "outputs": [
    {
     "data": {
      "text/plain": [
       "{1, 2, 3, 4, 5}"
      ]
     },
     "execution_count": 6,
     "metadata": {},
     "output_type": "execute_result"
    }
   ],
   "source": [
    "\n",
    "\n",
    "set([1, 2, 2, 3, 3, 3, 4, 4, 4, 4, 5, 5, 5, 5, 5])\n"
   ]
  },
  {
   "cell_type": "code",
   "execution_count": 7,
   "id": "e4da2a7c",
   "metadata": {},
   "outputs": [
    {
     "data": {
      "text/plain": [
       "{'ADENINA', 'CITOSINA', 'GUANINA', 'TIMINA'}"
      ]
     },
     "execution_count": 7,
     "metadata": {},
     "output_type": "execute_result"
    }
   ],
   "source": [
    "\n",
    "\n",
    "set(('ADENINA', 'TIMINA', 'TIMINA', 'GUANINA', 'ADENINA', 'CITOSINA'))\n"
   ]
  },
  {
   "cell_type": "code",
   "execution_count": 8,
   "id": "e2027019",
   "metadata": {},
   "outputs": [
    {
     "data": {
      "text/plain": [
       "{'kiwi', 'manzana', 'plátano'}"
      ]
     },
     "execution_count": 8,
     "metadata": {},
     "output_type": "execute_result"
    }
   ],
   "source": [
    "\n",
    "\n",
    "set({'manzana': 'rojo', 'plátano': 'amarillo', 'kiwi': 'verde'})"
   ]
  },
  {
   "cell_type": "code",
   "execution_count": 9,
   "id": "af86d997",
   "metadata": {},
   "outputs": [
    {
     "data": {
      "text/plain": [
       "{'Best', 'Harrison', 'Lennon', 'McCartney', 'Starr'}"
      ]
     },
     "execution_count": 9,
     "metadata": {},
     "output_type": "execute_result"
    }
   ],
   "source": [
    "beatles = set(['Lennon', 'McCartney', 'Harrison', 'Starr'])\n",
    "\n",
    "beatles.add('Best')  # Pete Best\n",
    "\n",
    "beatles"
   ]
  },
  {
   "cell_type": "code",
   "execution_count": 10,
   "id": "cc3ae485",
   "metadata": {},
   "outputs": [
    {
     "data": {
      "text/plain": [
       "{'Harrison', 'Lennon', 'McCartney', 'Starr'}"
      ]
     },
     "execution_count": 10,
     "metadata": {},
     "output_type": "execute_result"
    }
   ],
   "source": [
    "beatles\n",
    "\n",
    "\n",
    "beatles.remove('Best')\n",
    "\n",
    "beatles"
   ]
  },
  {
   "cell_type": "code",
   "execution_count": 11,
   "id": "7b9fea39",
   "metadata": {},
   "outputs": [
    {
     "data": {
      "text/plain": [
       "4"
      ]
     },
     "execution_count": 11,
     "metadata": {},
     "output_type": "execute_result"
    }
   ],
   "source": [
    "len(beatles)\n"
   ]
  },
  {
   "cell_type": "code",
   "execution_count": 12,
   "id": "1db85092",
   "metadata": {},
   "outputs": [
    {
     "name": "stdout",
     "output_type": "stream",
     "text": [
      "Starr\n",
      "Lennon\n",
      "Harrison\n",
      "McCartney\n"
     ]
    }
   ],
   "source": [
    "for beatle in beatles:\n",
    "    print(beatle)"
   ]
  },
  {
   "cell_type": "code",
   "execution_count": 13,
   "id": "4468d084",
   "metadata": {},
   "outputs": [
    {
     "name": "stdout",
     "output_type": "stream",
     "text": [
      "Starr\n",
      "Lennon\n",
      "McCartney\n",
      "Harrison\n"
     ]
    }
   ],
   "source": [
    "beatles = set(['Lennon', 'McCartney', 'Harrison', 'Starr'])\n",
    "\n",
    "for beatle in beatles:\n",
    "    print(beatle)"
   ]
  },
  {
   "cell_type": "code",
   "execution_count": 14,
   "id": "4fee975f",
   "metadata": {},
   "outputs": [
    {
     "data": {
      "text/plain": [
       "True"
      ]
     },
     "execution_count": 14,
     "metadata": {},
     "output_type": "execute_result"
    }
   ],
   "source": [
    "'Lennon' in beatles"
   ]
  },
  {
   "cell_type": "code",
   "execution_count": 15,
   "id": "e8a0c5b0",
   "metadata": {},
   "outputs": [
    {
     "data": {
      "text/plain": [
       "[2, 4, 5, 6, 8, 9]"
      ]
     },
     "execution_count": 15,
     "metadata": {},
     "output_type": "execute_result"
    }
   ],
   "source": [
    "marks = {8, 4, 6, 2, 9, 5}\n",
    "\n",
    "sorted(marks)"
   ]
  },
  {
   "cell_type": "code",
   "execution_count": 16,
   "id": "8a426d21",
   "metadata": {},
   "outputs": [
    {
     "data": {
      "text/plain": [
       "frozenset({1, 2, 3, 4, 5})"
      ]
     },
     "execution_count": 16,
     "metadata": {},
     "output_type": "execute_result"
    }
   ],
   "source": [
    "marks = [1, 3, 2, 3, 1, 4, 2, 4, 5, 2, 5, 5, 3, 1, 4]\n",
    "\n",
    "marks_levels = frozenset(marks)\n",
    "\n",
    "marks_levels"
   ]
  },
  {
   "cell_type": "code",
   "execution_count": 17,
   "id": "ee2b8d3b",
   "metadata": {},
   "outputs": [
    {
     "data": {
      "text/plain": [
       "tuple"
      ]
     },
     "execution_count": 17,
     "metadata": {},
     "output_type": "execute_result"
    }
   ],
   "source": [
    "marks = [1, 3, 2, 3, 1, 4, 2, 4, 5, 2, 5, 5, 3, 1, 4]\n",
    "marks = tuple(marks)\n",
    "type(marks)"
   ]
  },
  {
   "cell_type": "code",
   "execution_count": null,
   "id": "9a98454a",
   "metadata": {},
   "outputs": [],
   "source": []
  }
 ],
 "metadata": {
  "kernelspec": {
   "display_name": "Python 3 (ipykernel)",
   "language": "python",
   "name": "python3"
  },
  "language_info": {
   "codemirror_mode": {
    "name": "ipython",
    "version": 3
   },
   "file_extension": ".py",
   "mimetype": "text/x-python",
   "name": "python",
   "nbconvert_exporter": "python",
   "pygments_lexer": "ipython3",
   "version": "3.10.9"
  }
 },
 "nbformat": 4,
 "nbformat_minor": 5
}
