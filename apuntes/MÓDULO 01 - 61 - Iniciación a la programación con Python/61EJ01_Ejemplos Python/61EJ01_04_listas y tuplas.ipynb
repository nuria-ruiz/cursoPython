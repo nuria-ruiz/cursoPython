{
 "cells": [
  {
   "cell_type": "code",
   "execution_count": 14,
   "id": "a73aaf5d",
   "metadata": {},
   "outputs": [],
   "source": [
    "empty_list = []"
   ]
  },
  {
   "cell_type": "code",
   "execution_count": 15,
   "id": "069f1b6e",
   "metadata": {},
   "outputs": [],
   "source": [
    "languages = ['Python', 'Ruby', 'Javascript']\n",
    "\n",
    "fibonacci = [0, 1, 1, 2, 3, 5, 8, 13]"
   ]
  },
  {
   "cell_type": "code",
   "execution_count": 16,
   "id": "81ad23e5",
   "metadata": {},
   "outputs": [],
   "source": [
    "data = ['Tenerife', {'cielo': 'limpio', 'temp': 24}, 3718, (28.2933947, -16.5226597)]"
   ]
  },
  {
   "cell_type": "code",
   "execution_count": 20,
   "id": "e0f76900",
   "metadata": {},
   "outputs": [
    {
     "data": {
      "text/plain": [
       "['P', 'y', 't', 'h', 'o', 'n']"
      ]
     },
     "execution_count": 20,
     "metadata": {},
     "output_type": "execute_result"
    }
   ],
   "source": [
    "list('Python')"
   ]
  },
  {
   "cell_type": "code",
   "execution_count": 22,
   "id": "aec32609",
   "metadata": {},
   "outputs": [
    {
     "data": {
      "text/plain": [
       "[]"
      ]
     },
     "execution_count": 22,
     "metadata": {},
     "output_type": "execute_result"
    }
   ],
   "source": [
    "list()"
   ]
  },
  {
   "cell_type": "code",
   "execution_count": 24,
   "id": "79b94153",
   "metadata": {},
   "outputs": [],
   "source": [
    "shopping = ['Agua', 'Huevos', 'Aceite']\n"
   ]
  },
  {
   "cell_type": "code",
   "execution_count": 32,
   "id": "c64ed8d5",
   "metadata": {},
   "outputs": [
    {
     "data": {
      "text/plain": [
       "'Agua'"
      ]
     },
     "execution_count": 32,
     "metadata": {},
     "output_type": "execute_result"
    }
   ],
   "source": [
    "shopping[0]"
   ]
  },
  {
   "cell_type": "code",
   "execution_count": 33,
   "id": "b55e1e7b",
   "metadata": {},
   "outputs": [],
   "source": [
    "shopping = ['Agua', 'Huevos', 'Aceite', 'Sal', 'Limón']"
   ]
  },
  {
   "cell_type": "code",
   "execution_count": 34,
   "id": "96cabfa1",
   "metadata": {},
   "outputs": [
    {
     "data": {
      "text/plain": [
       "['Agua', 'Huevos', 'Aceite']"
      ]
     },
     "execution_count": 34,
     "metadata": {},
     "output_type": "execute_result"
    }
   ],
   "source": [
    "shopping[0:3]\n"
   ]
  },
  {
   "cell_type": "code",
   "execution_count": 35,
   "id": "16a1d000",
   "metadata": {},
   "outputs": [
    {
     "data": {
      "text/plain": [
       "['Aceite', 'Sal']"
      ]
     },
     "execution_count": 35,
     "metadata": {},
     "output_type": "execute_result"
    }
   ],
   "source": [
    "shopping[2:4]"
   ]
  },
  {
   "cell_type": "code",
   "execution_count": 36,
   "id": "4a1c78f2",
   "metadata": {},
   "outputs": [
    {
     "data": {
      "text/plain": [
       "['Limón', 'Sal', 'Aceite', 'Huevos', 'Agua']"
      ]
     },
     "execution_count": 36,
     "metadata": {},
     "output_type": "execute_result"
    }
   ],
   "source": [
    "shopping[::-1]"
   ]
  },
  {
   "cell_type": "code",
   "execution_count": 38,
   "id": "5fca41f2",
   "metadata": {},
   "outputs": [
    {
     "data": {
      "text/plain": [
       "['Limón', 'Sal', 'Aceite', 'Huevos', 'Agua']"
      ]
     },
     "execution_count": 38,
     "metadata": {},
     "output_type": "execute_result"
    }
   ],
   "source": [
    "list(reversed(shopping))"
   ]
  },
  {
   "cell_type": "code",
   "execution_count": 40,
   "id": "d7c989cd",
   "metadata": {},
   "outputs": [
    {
     "data": {
      "text/plain": [
       "['Agua', 'Huevos', 'Aceite', 'Sal', 'Limón']"
      ]
     },
     "execution_count": 40,
     "metadata": {},
     "output_type": "execute_result"
    }
   ],
   "source": [
    "shopping"
   ]
  },
  {
   "cell_type": "code",
   "execution_count": 44,
   "id": "2ab7e6bd",
   "metadata": {},
   "outputs": [],
   "source": [
    "shopping.reverse()"
   ]
  },
  {
   "cell_type": "code",
   "execution_count": 45,
   "id": "2d8e0617",
   "metadata": {},
   "outputs": [
    {
     "data": {
      "text/plain": [
       "['Limón', 'Sal', 'Aceite', 'Huevos', 'Agua']"
      ]
     },
     "execution_count": 45,
     "metadata": {},
     "output_type": "execute_result"
    }
   ],
   "source": [
    "shopping"
   ]
  },
  {
   "cell_type": "code",
   "execution_count": 47,
   "id": "1b186c56",
   "metadata": {},
   "outputs": [],
   "source": [
    "shopping.append('Atún')"
   ]
  },
  {
   "cell_type": "code",
   "execution_count": 48,
   "id": "bab76491",
   "metadata": {},
   "outputs": [
    {
     "data": {
      "text/plain": [
       "['Limón', 'Sal', 'Aceite', 'Huevos', 'Agua', 'Atún', 'Atún']"
      ]
     },
     "execution_count": 48,
     "metadata": {},
     "output_type": "execute_result"
    }
   ],
   "source": [
    "shopping"
   ]
  },
  {
   "cell_type": "code",
   "execution_count": 49,
   "id": "cbdf2b56",
   "metadata": {},
   "outputs": [
    {
     "data": {
      "text/plain": [
       "[0, 2, 4, 6, 8, 10, 12, 14, 16, 18]"
      ]
     },
     "execution_count": 49,
     "metadata": {},
     "output_type": "execute_result"
    }
   ],
   "source": [
    "even_numbers = []\n",
    "\n",
    "for i in range(20):\n",
    "    if i % 2 == 0:\n",
    "        even_numbers.append(i)\n",
    "\n",
    "\n",
    "even_numbers\n"
   ]
  },
  {
   "cell_type": "code",
   "execution_count": 56,
   "id": "4d7e6f49",
   "metadata": {},
   "outputs": [],
   "source": [
    "shopping.insert(-1, 'Jamón')"
   ]
  },
  {
   "cell_type": "code",
   "execution_count": 57,
   "id": "e0801598",
   "metadata": {},
   "outputs": [
    {
     "data": {
      "text/plain": [
       "['Limón',\n",
       " 'Jamón',\n",
       " 'Jamón',\n",
       " 'Sal',\n",
       " 'Aceite',\n",
       " 'Huevos',\n",
       " 'Agua',\n",
       " 'Atún',\n",
       " 'Jamón',\n",
       " 'Jamón',\n",
       " 'Jamón',\n",
       " 'Atún']"
      ]
     },
     "execution_count": 57,
     "metadata": {},
     "output_type": "execute_result"
    }
   ],
   "source": [
    "shopping\n"
   ]
  },
  {
   "cell_type": "code",
   "execution_count": 59,
   "id": "fae862c2",
   "metadata": {},
   "outputs": [
    {
     "data": {
      "text/plain": [
       "['Limón',\n",
       " 'Jamón',\n",
       " 'Jamón',\n",
       " 'Sal',\n",
       " 'Aceite',\n",
       " 'Huevos',\n",
       " 'Agua',\n",
       " 'Atún',\n",
       " 'Jamón',\n",
       " 'Jamón',\n",
       " 'Jamón',\n",
       " 'Atún',\n",
       " 'Limón',\n",
       " 'Jamón',\n",
       " 'Jamón',\n",
       " 'Sal',\n",
       " 'Aceite',\n",
       " 'Huevos',\n",
       " 'Agua',\n",
       " 'Atún',\n",
       " 'Jamón',\n",
       " 'Jamón',\n",
       " 'Jamón',\n",
       " 'Atún',\n",
       " 'Limón',\n",
       " 'Jamón',\n",
       " 'Jamón',\n",
       " 'Sal',\n",
       " 'Aceite',\n",
       " 'Huevos',\n",
       " 'Agua',\n",
       " 'Atún',\n",
       " 'Jamón',\n",
       " 'Jamón',\n",
       " 'Jamón',\n",
       " 'Atún']"
      ]
     },
     "execution_count": 59,
     "metadata": {},
     "output_type": "execute_result"
    }
   ],
   "source": [
    "shopping  * 3"
   ]
  },
  {
   "cell_type": "code",
   "execution_count": 62,
   "id": "0de55002",
   "metadata": {},
   "outputs": [
    {
     "data": {
      "text/plain": [
       "'wowwowwow'"
      ]
     },
     "execution_count": 62,
     "metadata": {},
     "output_type": "execute_result"
    }
   ],
   "source": [
    "'wow'*3"
   ]
  },
  {
   "cell_type": "code",
   "execution_count": 63,
   "id": "5f9f4f5a",
   "metadata": {},
   "outputs": [
    {
     "data": {
      "text/plain": [
       "['Agua', 'Huevos', 'Aceite', 'Naranja', 'Manzana', 'Piña']"
      ]
     },
     "execution_count": 63,
     "metadata": {},
     "output_type": "execute_result"
    }
   ],
   "source": [
    "shopping = ['Agua', 'Huevos', 'Aceite']\n",
    "fruitshop = ['Naranja', 'Manzana', 'Piña']\n",
    "\n",
    "shopping.extend(fruitshop)\n",
    "\n",
    "shopping"
   ]
  },
  {
   "cell_type": "code",
   "execution_count": 66,
   "id": "bf5cac01",
   "metadata": {},
   "outputs": [
    {
     "data": {
      "text/plain": [
       "['Agua',\n",
       " 'Huevos',\n",
       " 'Aceite',\n",
       " 'Naranja',\n",
       " 'Manzana',\n",
       " 'Piña',\n",
       " 'L',\n",
       " 'i',\n",
       " 'm',\n",
       " 'ó',\n",
       " 'n',\n",
       " 'L',\n",
       " 'i',\n",
       " 'm',\n",
       " 'ó',\n",
       " 'n',\n",
       " 'L',\n",
       " 'i',\n",
       " 'm',\n",
       " 'ó',\n",
       " 'n']"
      ]
     },
     "execution_count": 66,
     "metadata": {},
     "output_type": "execute_result"
    }
   ],
   "source": [
    "shopping.extend('Limón')\n",
    "shopping"
   ]
  },
  {
   "cell_type": "code",
   "execution_count": 67,
   "id": "d8497875",
   "metadata": {},
   "outputs": [
    {
     "data": {
      "text/plain": [
       "['Agua', 'Huevos', 'Aceite', ['Naranja', 'Manzana', 'Piña']]"
      ]
     },
     "execution_count": 67,
     "metadata": {},
     "output_type": "execute_result"
    }
   ],
   "source": [
    "shopping = ['Agua', 'Huevos', 'Aceite']\n",
    "fruitshop = ['Naranja', 'Manzana', 'Piña']\n",
    "\n",
    "shopping.append(fruitshop)\n",
    "\n",
    "shopping"
   ]
  },
  {
   "cell_type": "code",
   "execution_count": 70,
   "id": "f688eee5",
   "metadata": {},
   "outputs": [
    {
     "data": {
      "text/plain": [
       "['Jugo', 'Huevos', 'Aceite', ['Naranja', 'Manzana', 'Piña']]"
      ]
     },
     "execution_count": 70,
     "metadata": {},
     "output_type": "execute_result"
    }
   ],
   "source": [
    "shopping[0] = 'Jugo'\n",
    "shopping"
   ]
  },
  {
   "cell_type": "code",
   "execution_count": 71,
   "id": "326fa40e",
   "metadata": {},
   "outputs": [],
   "source": [
    "del shopping[3]"
   ]
  },
  {
   "cell_type": "code",
   "execution_count": 72,
   "id": "31982f98",
   "metadata": {},
   "outputs": [
    {
     "data": {
      "text/plain": [
       "['Jugo', 'Huevos', 'Aceite']"
      ]
     },
     "execution_count": 72,
     "metadata": {},
     "output_type": "execute_result"
    }
   ],
   "source": [
    "shopping\n"
   ]
  },
  {
   "cell_type": "code",
   "execution_count": 73,
   "id": "957ee09a",
   "metadata": {},
   "outputs": [
    {
     "data": {
      "text/plain": [
       "['Agua', 'Huevos', 'Aceite', 'Limón']"
      ]
     },
     "execution_count": 73,
     "metadata": {},
     "output_type": "execute_result"
    }
   ],
   "source": [
    "shopping = ['Agua', 'Huevos', 'Aceite', 'Sal', 'Limón']\n",
    "\n",
    "shopping.remove('Sal')\n",
    "\n",
    "shopping"
   ]
  },
  {
   "cell_type": "code",
   "execution_count": 79,
   "id": "fc5bf2f3",
   "metadata": {},
   "outputs": [
    {
     "data": {
      "text/plain": [
       "'Limón'"
      ]
     },
     "execution_count": 79,
     "metadata": {},
     "output_type": "execute_result"
    }
   ],
   "source": [
    "shopping = ['Agua', 'Huevos', 'Aceite', 'Sal', 'Limón']\n",
    "\n",
    "product = shopping.pop()  # shopping.pop(-1)\n",
    "product\n",
    "\n"
   ]
  },
  {
   "cell_type": "code",
   "execution_count": 82,
   "id": "9cccc496",
   "metadata": {},
   "outputs": [
    {
     "data": {
      "text/plain": [
       "[]"
      ]
     },
     "execution_count": 82,
     "metadata": {},
     "output_type": "execute_result"
    }
   ],
   "source": [
    "\n",
    "shopping"
   ]
  },
  {
   "cell_type": "code",
   "execution_count": 77,
   "id": "02fcf78a",
   "metadata": {},
   "outputs": [],
   "source": [
    "shopping.clear()"
   ]
  },
  {
   "cell_type": "code",
   "execution_count": 81,
   "id": "b6df2f06",
   "metadata": {},
   "outputs": [],
   "source": [
    "shopping = []"
   ]
  },
  {
   "cell_type": "code",
   "execution_count": 84,
   "id": "b50e6e7f",
   "metadata": {},
   "outputs": [
    {
     "ename": "ValueError",
     "evalue": "'Pollo' is not in list",
     "output_type": "error",
     "traceback": [
      "\u001b[1;31m---------------------------------------------------------------------------\u001b[0m",
      "\u001b[1;31mValueError\u001b[0m                                Traceback (most recent call last)",
      "Cell \u001b[1;32mIn[84], line 3\u001b[0m\n\u001b[0;32m      1\u001b[0m shopping \u001b[38;5;241m=\u001b[39m [\u001b[38;5;124m'\u001b[39m\u001b[38;5;124mAgua\u001b[39m\u001b[38;5;124m'\u001b[39m, \u001b[38;5;124m'\u001b[39m\u001b[38;5;124mHuevos\u001b[39m\u001b[38;5;124m'\u001b[39m, \u001b[38;5;124m'\u001b[39m\u001b[38;5;124mAceite\u001b[39m\u001b[38;5;124m'\u001b[39m, \u001b[38;5;124m'\u001b[39m\u001b[38;5;124mSal\u001b[39m\u001b[38;5;124m'\u001b[39m, \u001b[38;5;124m'\u001b[39m\u001b[38;5;124mLimón\u001b[39m\u001b[38;5;124m'\u001b[39m]\n\u001b[1;32m----> 3\u001b[0m \u001b[43mshopping\u001b[49m\u001b[38;5;241;43m.\u001b[39;49m\u001b[43mindex\u001b[49m\u001b[43m(\u001b[49m\u001b[38;5;124;43m'\u001b[39;49m\u001b[38;5;124;43mPollo\u001b[39;49m\u001b[38;5;124;43m'\u001b[39;49m\u001b[43m)\u001b[49m\n",
      "\u001b[1;31mValueError\u001b[0m: 'Pollo' is not in list"
     ]
    }
   ],
   "source": [
    "shopping = ['Agua', 'Huevos', 'Aceite', 'Sal', 'Limón']\n",
    "\n",
    "shopping.index('Pollo')"
   ]
  },
  {
   "cell_type": "code",
   "execution_count": 86,
   "id": "9223a4c1",
   "metadata": {},
   "outputs": [
    {
     "data": {
      "text/plain": [
       "False"
      ]
     },
     "execution_count": 86,
     "metadata": {},
     "output_type": "execute_result"
    }
   ],
   "source": [
    "'Pollo' in shopping"
   ]
  },
  {
   "cell_type": "code",
   "execution_count": 88,
   "id": "f802e2d5",
   "metadata": {},
   "outputs": [
    {
     "data": {
      "text/plain": [
       "0"
      ]
     },
     "execution_count": 88,
     "metadata": {},
     "output_type": "execute_result"
    }
   ],
   "source": [
    "sheldon_greeting = ['Penny', 'Penny', 'Penny']\n",
    "\n",
    "sheldon_greeting.count('Howard')\n"
   ]
  },
  {
   "cell_type": "code",
   "execution_count": 89,
   "id": "5a928086",
   "metadata": {},
   "outputs": [
    {
     "data": {
      "text/plain": [
       "3"
      ]
     },
     "execution_count": 89,
     "metadata": {},
     "output_type": "execute_result"
    }
   ],
   "source": [
    "\n",
    "\n",
    "sheldon_greeting.count('Penny')"
   ]
  },
  {
   "cell_type": "code",
   "execution_count": 90,
   "id": "e69adf12",
   "metadata": {},
   "outputs": [
    {
     "data": {
      "text/plain": [
       "['Aceite', 'Agua', 'Huevos', 'Limón', 'Sal']"
      ]
     },
     "execution_count": 90,
     "metadata": {},
     "output_type": "execute_result"
    }
   ],
   "source": [
    "shopping = ['Agua', 'Huevos', 'Aceite', 'Sal', 'Limón']\n",
    "\n",
    "sorted(shopping)"
   ]
  },
  {
   "cell_type": "code",
   "execution_count": 92,
   "id": "7f291b6e",
   "metadata": {},
   "outputs": [
    {
     "data": {
      "text/plain": [
       "['Agua', 'Huevos', 'Aceite', 'Sal', 'Limón']"
      ]
     },
     "execution_count": 92,
     "metadata": {},
     "output_type": "execute_result"
    }
   ],
   "source": [
    "shopping"
   ]
  },
  {
   "cell_type": "code",
   "execution_count": 94,
   "id": "a23df131",
   "metadata": {},
   "outputs": [
    {
     "data": {
      "text/plain": [
       "['Aceite', 'Agua', 'Huevos', 'Limón', 'Sal']"
      ]
     },
     "execution_count": 94,
     "metadata": {},
     "output_type": "execute_result"
    }
   ],
   "source": [
    "shopping.sort()\n",
    "\n",
    "shopping"
   ]
  },
  {
   "cell_type": "code",
   "execution_count": 95,
   "id": "dfd4e9c4",
   "metadata": {},
   "outputs": [
    {
     "data": {
      "text/plain": [
       "['Sal', 'Limón', 'Huevos', 'Agua', 'Aceite']"
      ]
     },
     "execution_count": 95,
     "metadata": {},
     "output_type": "execute_result"
    }
   ],
   "source": [
    "sorted(shopping, reverse=True)\n"
   ]
  },
  {
   "cell_type": "code",
   "execution_count": 96,
   "id": "62f60b34",
   "metadata": {},
   "outputs": [
    {
     "data": {
      "text/plain": [
       "5"
      ]
     },
     "execution_count": 96,
     "metadata": {},
     "output_type": "execute_result"
    }
   ],
   "source": [
    "len(shopping)\n"
   ]
  },
  {
   "cell_type": "code",
   "execution_count": 97,
   "id": "bbaae173",
   "metadata": {},
   "outputs": [
    {
     "name": "stdout",
     "output_type": "stream",
     "text": [
      "Agua\n",
      "Huevos\n",
      "Aceite\n",
      "Sal\n",
      "Limón\n"
     ]
    }
   ],
   "source": [
    "productos = ['Agua', 'Huevos', 'Aceite', 'Sal', 'Limón']\n",
    "\n",
    "for product in productos:\n",
    "    print(product)"
   ]
  },
  {
   "cell_type": "code",
   "execution_count": 98,
   "id": "bfa05112",
   "metadata": {},
   "outputs": [
    {
     "name": "stdout",
     "output_type": "stream",
     "text": [
      "0 Agua\n",
      "1 Huevos\n",
      "2 Aceite\n",
      "3 Sal\n",
      "4 Limón\n"
     ]
    }
   ],
   "source": [
    "productos = ['Agua', 'Huevos', 'Aceite', 'Sal', 'Limón']\n",
    "\n",
    "for i, product in enumerate(productos):\n",
    "    print(i, product)"
   ]
  },
  {
   "cell_type": "code",
   "execution_count": 99,
   "id": "8bb96167",
   "metadata": {},
   "outputs": [
    {
     "name": "stdout",
     "output_type": "stream",
     "text": [
      "Agua mineral natural\n",
      "Aceite de oliva virgen\n",
      "Arroz basmati\n"
     ]
    }
   ],
   "source": [
    "productos = ['Agua', 'Aceite', 'Arroz']\n",
    "details = ['mineral natural', 'de oliva virgen', 'basmati']\n",
    "\n",
    "for product, detail in zip(productos, details):\n",
    "    print(product, detail)"
   ]
  },
  {
   "cell_type": "code",
   "execution_count": 103,
   "id": "13882c13",
   "metadata": {},
   "outputs": [
    {
     "data": {
      "text/plain": [
       "[('Agua', 'mineral natural'),\n",
       " ('Aceite', 'de oliva virgen'),\n",
       " ('Arroz', 'basmati')]"
      ]
     },
     "execution_count": 103,
     "metadata": {},
     "output_type": "execute_result"
    }
   ],
   "source": [
    "shopping = ['Agua', 'Aceite', 'Arroz']\n",
    "details = ['mineral natural', 'de oliva virgen', 'basmati']\n",
    "\n",
    "list(zip(shopping, details))"
   ]
  },
  {
   "cell_type": "code",
   "execution_count": 104,
   "id": "27801477",
   "metadata": {},
   "outputs": [
    {
     "data": {
      "text/plain": [
       "[15, 3, 7, 1]"
      ]
     },
     "execution_count": 104,
     "metadata": {},
     "output_type": "execute_result"
    }
   ],
   "source": [
    "original_list = [4, 3, 7, 1]\n",
    "\n",
    "copy_list = original_list\n",
    "\n",
    "original_list[0] = 15\n",
    "\n",
    "original_list\n"
   ]
  },
  {
   "cell_type": "code",
   "execution_count": 105,
   "id": "4de06886",
   "metadata": {},
   "outputs": [
    {
     "data": {
      "text/plain": [
       "[15, 3, 7, 1]"
      ]
     },
     "execution_count": 105,
     "metadata": {},
     "output_type": "execute_result"
    }
   ],
   "source": [
    "\n",
    "\n",
    "copy_list"
   ]
  },
  {
   "cell_type": "code",
   "execution_count": 106,
   "id": "1f5d25f6",
   "metadata": {},
   "outputs": [],
   "source": [
    "original_list = [4, 3, 7, 1]\n",
    "\n",
    "copy_list = original_list.copy()\n",
    "\n",
    "original_list[0] = 15"
   ]
  },
  {
   "cell_type": "code",
   "execution_count": 107,
   "id": "bd3a0d51",
   "metadata": {},
   "outputs": [
    {
     "data": {
      "text/plain": [
       "[15, 3, 7, 1]"
      ]
     },
     "execution_count": 107,
     "metadata": {},
     "output_type": "execute_result"
    }
   ],
   "source": [
    "original_list\n"
   ]
  },
  {
   "cell_type": "code",
   "execution_count": 108,
   "id": "9845d771",
   "metadata": {},
   "outputs": [
    {
     "data": {
      "text/plain": [
       "[4, 3, 7, 1]"
      ]
     },
     "execution_count": 108,
     "metadata": {},
     "output_type": "execute_result"
    }
   ],
   "source": [
    "copy_list\n"
   ]
  },
  {
   "cell_type": "code",
   "execution_count": 109,
   "id": "4489cbfb",
   "metadata": {},
   "outputs": [
    {
     "data": {
      "text/plain": [
       "[32, 45, 11, 87, 20, 48]"
      ]
     },
     "execution_count": 109,
     "metadata": {},
     "output_type": "execute_result"
    }
   ],
   "source": [
    "values = '32,45,11,87,20,48'\n",
    "\n",
    "int_values = []\n",
    "\n",
    "for value in values.split(','):\n",
    "    int_value = int(value)\n",
    "    int_values.append(int_value)\n",
    "\n",
    "\n",
    "int_values"
   ]
  },
  {
   "cell_type": "code",
   "execution_count": 110,
   "id": "fc9869fb",
   "metadata": {},
   "outputs": [
    {
     "data": {
      "text/plain": [
       "[32, 45, 11, 87, 20, 48]"
      ]
     },
     "execution_count": 110,
     "metadata": {},
     "output_type": "execute_result"
    }
   ],
   "source": [
    "int_values = [int(value) for value in values.split(',')]\n",
    "\n",
    "int_values"
   ]
  },
  {
   "cell_type": "code",
   "execution_count": 111,
   "id": "aad9873f",
   "metadata": {},
   "outputs": [
    {
     "data": {
      "text/plain": [
       "[45, 48]"
      ]
     },
     "execution_count": 111,
     "metadata": {},
     "output_type": "execute_result"
    }
   ],
   "source": [
    "values = '32,45,11,87,20,48'\n",
    "\n",
    "int_values = [int(v) for v in values.split(',') if v.startswith('4')]\n",
    "\n",
    "int_values"
   ]
  },
  {
   "cell_type": "code",
   "execution_count": 113,
   "id": "de91f215",
   "metadata": {},
   "outputs": [
    {
     "data": {
      "text/plain": [
       "['32x32',\n",
       " '32x45',\n",
       " '32x11',\n",
       " '32x87',\n",
       " '32x20',\n",
       " '32x48',\n",
       " '45x32',\n",
       " '45x45',\n",
       " '45x11',\n",
       " '45x87',\n",
       " '45x20',\n",
       " '45x48',\n",
       " '11x32',\n",
       " '11x45',\n",
       " '11x11',\n",
       " '11x87',\n",
       " '11x20',\n",
       " '11x48',\n",
       " '87x32',\n",
       " '87x45',\n",
       " '87x11',\n",
       " '87x87',\n",
       " '87x20',\n",
       " '87x48',\n",
       " '20x32',\n",
       " '20x45',\n",
       " '20x11',\n",
       " '20x87',\n",
       " '20x20',\n",
       " '20x48',\n",
       " '48x32',\n",
       " '48x45',\n",
       " '48x11',\n",
       " '48x87',\n",
       " '48x20',\n",
       " '48x48']"
      ]
     },
     "execution_count": 113,
     "metadata": {},
     "output_type": "execute_result"
    }
   ],
   "source": [
    "values = '32,45,11,87,20,48'\n",
    "svalues = values.split(',')\n",
    "\n",
    "combinations = [f'{v1}x{v2}' for v1 in svalues for v2 in svalues]\n",
    "\n",
    "combinations"
   ]
  },
  {
   "cell_type": "code",
   "execution_count": 114,
   "id": "8fa2658b",
   "metadata": {},
   "outputs": [
    {
     "data": {
      "text/plain": [
       "28"
      ]
     },
     "execution_count": 114,
     "metadata": {},
     "output_type": "execute_result"
    }
   ],
   "source": [
    "data = [5, 3, 2, 8, 9, 1]\n",
    "sum(data)"
   ]
  },
  {
   "cell_type": "code",
   "execution_count": 115,
   "id": "39a9b084",
   "metadata": {},
   "outputs": [],
   "source": [
    "empty_tuple = ()\n",
    "\n",
    "tenerife_geoloc = (28.46824, -16.25462)\n",
    "\n",
    "three_wise_men = ('Melchor', 'Gaspar', 'Baltasar')"
   ]
  },
  {
   "cell_type": "code",
   "execution_count": 117,
   "id": "20250216",
   "metadata": {},
   "outputs": [
    {
     "data": {
      "text/plain": [
       "tuple"
      ]
     },
     "execution_count": 117,
     "metadata": {},
     "output_type": "execute_result"
    }
   ],
   "source": [
    "one_item_tuple = ('Papá Noel',)\n",
    "\n",
    "one_item_tuple\n",
    "\n",
    "\n",
    "type(one_item_tuple)"
   ]
  },
  {
   "cell_type": "code",
   "execution_count": 118,
   "id": "7136841e",
   "metadata": {},
   "outputs": [],
   "source": [
    "one_item_tuple = 'Papá Noel',\n",
    "\n",
    "three_wise_men = 'Melchor', 'Gaspar', 'Baltasar'\n",
    "\n",
    "tenerife_geoloc = 28.46824, -16.25462"
   ]
  },
  {
   "cell_type": "code",
   "execution_count": 119,
   "id": "0075563d",
   "metadata": {},
   "outputs": [
    {
     "data": {
      "text/plain": [
       "'Melchor'"
      ]
     },
     "execution_count": 119,
     "metadata": {},
     "output_type": "execute_result"
    }
   ],
   "source": [
    "three_wise_men = 'Melchor', 'Gaspar', 'Baltasar'\n",
    "\n",
    "three_wise_men[0]"
   ]
  },
  {
   "cell_type": "code",
   "execution_count": 120,
   "id": "bd9e2297",
   "metadata": {},
   "outputs": [
    {
     "ename": "TypeError",
     "evalue": "'tuple' object does not support item assignment",
     "output_type": "error",
     "traceback": [
      "\u001b[1;31m---------------------------------------------------------------------------\u001b[0m",
      "\u001b[1;31mTypeError\u001b[0m                                 Traceback (most recent call last)",
      "Cell \u001b[1;32mIn[120], line 1\u001b[0m\n\u001b[1;32m----> 1\u001b[0m three_wise_men[\u001b[38;5;241m0\u001b[39m] \u001b[38;5;241m=\u001b[39m \u001b[38;5;124m'\u001b[39m\u001b[38;5;124mTom Hanks\u001b[39m\u001b[38;5;124m'\u001b[39m\n",
      "\u001b[1;31mTypeError\u001b[0m: 'tuple' object does not support item assignment"
     ]
    }
   ],
   "source": [
    "three_wise_men[0] = 'Tom Hanks'"
   ]
  },
  {
   "cell_type": "code",
   "execution_count": 121,
   "id": "9c73cdb2",
   "metadata": {},
   "outputs": [
    {
     "data": {
      "text/plain": [
       "('Agua', 'Aceite', 'Arroz')"
      ]
     },
     "execution_count": 121,
     "metadata": {},
     "output_type": "execute_result"
    }
   ],
   "source": [
    "shopping = ['Agua', 'Aceite', 'Arroz']\n",
    "\n",
    "tuple(shopping)"
   ]
  },
  {
   "cell_type": "code",
   "execution_count": 126,
   "id": "63feaa72",
   "metadata": {},
   "outputs": [
    {
     "name": "stdout",
     "output_type": "stream",
     "text": [
      "Melchor\n",
      "Gaspar\n",
      "Baltasar\n"
     ]
    }
   ],
   "source": [
    "three_wise_men = ('Melchor', 'Gaspar', 'Baltasar')\n",
    "\n",
    "king1, king2, king3 = three_wise_men\n",
    "\n",
    "print(king1)\n",
    "\n",
    "print(king2)\n",
    "\n",
    "print(king3)"
   ]
  },
  {
   "cell_type": "code",
   "execution_count": 127,
   "id": "80d192ff",
   "metadata": {},
   "outputs": [
    {
     "name": "stdout",
     "output_type": "stream",
     "text": [
      "10\n",
      "5\n"
     ]
    }
   ],
   "source": [
    "a= 5\n",
    "b = 10\n",
    "\n",
    "a,b = b,a\n",
    "print(a)\n",
    "print(b)"
   ]
  },
  {
   "cell_type": "code",
   "execution_count": 2,
   "id": "7e825526",
   "metadata": {},
   "outputs": [
    {
     "name": "stdout",
     "output_type": "stream",
     "text": [
      "Lista original: [64, 34, 25, 12, 22, 11, 90]\n",
      "Lista ordenada: [11, 12, 22, 25, 34, 64, 90]\n"
     ]
    }
   ],
   "source": [
    "def bubble_sort(lista):\n",
    "    n = len(lista)\n",
    "    for i in range(n):\n",
    "        for j in range(0, n-i-1):\n",
    "            if lista[j] > lista[j+1]:\n",
    "                # Usar una variable auxiliar para intercambiar los elementos\n",
    "                aux = lista[j]\n",
    "                lista[j] = lista[j+1]\n",
    "                lista[j+1] = aux\n",
    "\n",
    "# Ejemplo de uso\n",
    "mi_lista = [64, 34, 25, 12, 22, 11, 90]\n",
    "print(\"Lista original:\", mi_lista)\n",
    "\n",
    "bubble_sort(mi_lista)\n",
    "print(\"Lista ordenada:\", mi_lista)\n"
   ]
  },
  {
   "cell_type": "code",
   "execution_count": 1,
   "id": "a686d58f",
   "metadata": {},
   "outputs": [
    {
     "name": "stdout",
     "output_type": "stream",
     "text": [
      "Lista original: [56, 654, 4, 32, 2, 123, 45, 67, 876, 67, 889, 0, 11]\n",
      "Lista ordenada: [0, 2, 4, 11, 32, 45, 56, 67, 67, 123, 654, 876, 889]\n"
     ]
    }
   ],
   "source": [
    "\n",
    "def bubble_sort(lista):\n",
    "    n = len(lista)\n",
    "    for i in range(n):\n",
    "        # Bandera para optimizar y salir del bucle si no hay intercambios\n",
    "        intercambio = False\n",
    "        for j in range(0, n-i-1):\n",
    "            if lista[j] > lista[j+1]:\n",
    "                # Intercambiar elementos si están en el orden incorrecto\n",
    "                lista[j], lista[j+1] = lista[j+1], lista[j]\n",
    "                intercambio = True\n",
    "        # Si no se hizo ningún intercambio, la lista ya está ordenada\n",
    "        if not intercambio:\n",
    "            break\n",
    "\n",
    "# Ejemplo de uso\n",
    "mi_lista = [56,654,4,32,2,123,45,67,876,67,889,0,11]\n",
    "print(\"Lista original:\", mi_lista)\n",
    "\n",
    "bubble_sort(mi_lista)\n",
    "print(\"Lista ordenada:\", mi_lista)\n"
   ]
  }
 ],
 "metadata": {
  "kernelspec": {
   "display_name": "Python 3 (ipykernel)",
   "language": "python",
   "name": "python3"
  },
  "language_info": {
   "codemirror_mode": {
    "name": "ipython",
    "version": 3
   },
   "file_extension": ".py",
   "mimetype": "text/x-python",
   "name": "python",
   "nbconvert_exporter": "python",
   "pygments_lexer": "ipython3",
   "version": "3.10.9"
  }
 },
 "nbformat": 4,
 "nbformat_minor": 5
}
