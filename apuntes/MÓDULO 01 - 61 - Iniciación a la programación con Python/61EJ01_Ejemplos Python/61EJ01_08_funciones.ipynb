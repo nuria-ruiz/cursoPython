{
 "cells": [
  {
   "cell_type": "markdown",
   "id": "ffc84e21",
   "metadata": {},
   "source": [
    "Funciones\n",
    "- Definir una función\n",
    "- Invocar una función\n",
    "- Retornar un valor\n",
    "- RETORNANDO MÚLTIPLES VALORES¶\n",
    "- Parámetros y argumentos\n",
    "- Argumentos posicionales\n",
    "- Argumentos nominales\n",
    "- Argumentos posicionales y nominales¶\n",
    "- Parámetros por defecto¶\n",
    "- Empaquetar/Desempaquetar argumentos¶\n",
    "- EMPAQUETAR/DESEMPAQUETAR ARGUMENTOS NOMINALES¶\n",
    "- ARGUMENTOS SÓLO NOMINALES\n",
    "- ARGUMENTOS SÓLO POSICIONALES\n",
    "- FIJANDO ARGUMENTOS POSICIONALES Y NOMINALES\n",
    "- Tipos de funciones¶\n",
    "- Funciones anónimas «lambda»¶\n",
    "- LAMBDAS COMO ARGUMENTOS¶\n",
    "- ENFOQUE FUNCIONAL\n",
    "- MAP()\n",
    "- FILTER()\n",
    "- REDUCE()\n",
    "\n",
    "- Generadores\n",
    "FUNCIONES GENERADORAS\n",
    "EXPRESIONES GENERADORAS\n",
    "\n",
    "- Funciones interiores\n",
    "\n",
    "- Clausuras\n",
    "\n",
    "- Decoradores\n",
    "USANDO @ PARA DECORAR\n",
    "MANIPULANDO ARGUMENTOS\n",
    "MÚLTIPLES DECORADORES\n",
    "DECORADORES CON PARÁMETROS\n",
    "\n",
    "- Funciones recursivas\n",
    "\n",
    "- Funcionitis\n",
    "\n",
    "- Espacios de nombres\n",
    "\n",
    "- Acceso a variables globales\n",
    "\n",
    "- Consejos para programar\n",
    "\n"
   ]
  },
  {
   "cell_type": "markdown",
   "id": "08aea569",
   "metadata": {},
   "source": [
    "# Generadores"
   ]
  },
  {
   "cell_type": "markdown",
   "id": "c23f184e",
   "metadata": {},
   "source": [
    "En Python, un generador es una función especial que permite crear secuencias de valores de manera eficiente y perezosa (lazy). En lugar de generar y almacenar todos los valores en memoria de una vez, un generador produce valores uno a la vez y solo cuando se solicitan. Esto puede ser muy útil cuando se trabaja con conjuntos de datos grandes o secuencias infinitas, ya que ahorra memoria y mejora el rendimiento.\n",
    "\n",
    "Dos implementaciones de generadores:\n",
    "\n",
    "- Funciones generadoras.\n",
    "- Expresiones generadoras.\n",
    "\n"
   ]
  },
  {
   "cell_type": "markdown",
   "id": "6301d4d0",
   "metadata": {},
   "source": [
    "### FUNCIONES GENERADORAS"
   ]
  },
  {
   "cell_type": "markdown",
   "id": "6307412e",
   "metadata": {},
   "source": [
    "- como funciones ordinarias\n",
    "- sentencia yield. Esta sentencia devuelve el valor indicado y, a la vez, «congela» el estado de la función hasta la siguiente llamada"
   ]
  },
  {
   "cell_type": "code",
   "execution_count": 2,
   "id": "4df406b4",
   "metadata": {},
   "outputs": [
    {
     "data": {
      "text/plain": [
       "function"
      ]
     },
     "execution_count": 2,
     "metadata": {},
     "output_type": "execute_result"
    }
   ],
   "source": [
    "def evens(lim: int) -> int:\n",
    "    for i in range(0, lim + 1, 2):\n",
    "        yield i\n",
    "\n",
    "\n",
    "type(evens)\n",
    "\n",
    "\n"
   ]
  },
  {
   "cell_type": "code",
   "execution_count": 4,
   "id": "581affea",
   "metadata": {},
   "outputs": [
    {
     "data": {
      "text/plain": [
       "generator"
      ]
     },
     "execution_count": 4,
     "metadata": {},
     "output_type": "execute_result"
    }
   ],
   "source": [
    "evens_gen = evens(20)  # retorna un generador\n",
    "\n",
    "type(evens_gen)"
   ]
  },
  {
   "cell_type": "code",
   "execution_count": 5,
   "id": "96bf4bad",
   "metadata": {},
   "outputs": [
    {
     "name": "stdout",
     "output_type": "stream",
     "text": [
      "0 2 4 6 8 10 12 14 16 18 20 "
     ]
    }
   ],
   "source": [
    "for even in evens_gen:\n",
    "    print(even, end=' ')"
   ]
  },
  {
   "cell_type": "code",
   "execution_count": 6,
   "id": "c1087d29",
   "metadata": {},
   "outputs": [
    {
     "name": "stdout",
     "output_type": "stream",
     "text": [
      "0 2 4 6 8 10 12 14 16 18 20 "
     ]
    }
   ],
   "source": [
    "for even in evens(20):\n",
    "    print(even, end=' ')"
   ]
  },
  {
   "cell_type": "code",
   "execution_count": 7,
   "id": "c24a639c",
   "metadata": {},
   "outputs": [
    {
     "name": "stdout",
     "output_type": "stream",
     "text": [
      "0 2 4 6 8 10 "
     ]
    }
   ],
   "source": [
    "evens_gen = evens(10)\n",
    "\n",
    "for even in evens_gen:\n",
    "    print(even, end=' ')\n",
    "\n"
   ]
  },
  {
   "cell_type": "code",
   "execution_count": 8,
   "id": "965105b7",
   "metadata": {},
   "outputs": [],
   "source": [
    "\n",
    "\n",
    "for even in evens_gen:\n",
    "    print(even, end=' ')\n",
    "# No sale nada... ¡Agotado!"
   ]
  },
  {
   "cell_type": "markdown",
   "id": "1e290441",
   "metadata": {},
   "source": [
    "### EXPRESIONES GENERADORAS¶\n"
   ]
  },
  {
   "cell_type": "code",
   "execution_count": 10,
   "id": "12e79ba5",
   "metadata": {},
   "outputs": [
    {
     "data": {
      "text/plain": [
       "generator"
      ]
     },
     "execution_count": 10,
     "metadata": {},
     "output_type": "execute_result"
    }
   ],
   "source": [
    "evens_gen = (i for i in range(0, 20, 2))\n",
    "\n",
    "type(evens_gen)\n",
    "\n",
    "\n",
    "\n"
   ]
  },
  {
   "cell_type": "code",
   "execution_count": 11,
   "id": "91a0ae74",
   "metadata": {},
   "outputs": [
    {
     "name": "stdout",
     "output_type": "stream",
     "text": [
      "0 2 4 6 8 10 12 14 16 18 "
     ]
    }
   ],
   "source": [
    "for i in evens_gen:\n",
    "    print(i, end=' ')"
   ]
  },
  {
   "cell_type": "code",
   "execution_count": 15,
   "id": "09c55b4c",
   "metadata": {},
   "outputs": [
    {
     "data": {
      "text/plain": [
       "[0, 2, 4, 6, 8, 10, 12, 14, 16, 18]"
      ]
     },
     "execution_count": 15,
     "metadata": {},
     "output_type": "execute_result"
    }
   ],
   "source": [
    "list(i for i in range(0, 20, 2))\n",
    "\n",
    "\n"
   ]
  },
  {
   "cell_type": "code",
   "execution_count": 16,
   "id": "ccb73832",
   "metadata": {},
   "outputs": [
    {
     "data": {
      "text/plain": [
       "90"
      ]
     },
     "execution_count": 16,
     "metadata": {},
     "output_type": "execute_result"
    }
   ],
   "source": [
    "sum(i for i in range(0, 20, 2))\n",
    "\n",
    "\n"
   ]
  },
  {
   "cell_type": "code",
   "execution_count": 17,
   "id": "e47343fd",
   "metadata": {},
   "outputs": [
    {
     "data": {
      "text/plain": [
       "0"
      ]
     },
     "execution_count": 17,
     "metadata": {},
     "output_type": "execute_result"
    }
   ],
   "source": [
    "min(i for i in range(0, 20, 2))\n",
    "\n",
    "\n"
   ]
  },
  {
   "cell_type": "code",
   "execution_count": 18,
   "id": "b123bc25",
   "metadata": {},
   "outputs": [
    {
     "data": {
      "text/plain": [
       "18"
      ]
     },
     "execution_count": 18,
     "metadata": {},
     "output_type": "execute_result"
    }
   ],
   "source": [
    "max(i for i in range(0, 20, 2))"
   ]
  },
  {
   "cell_type": "markdown",
   "id": "9dac81b6",
   "metadata": {},
   "source": [
    "# Funciones interiores¶\n"
   ]
  },
  {
   "cell_type": "code",
   "execution_count": 19,
   "id": "dc021262",
   "metadata": {},
   "outputs": [
    {
     "name": "stdout",
     "output_type": "stream",
     "text": [
      "Resultado de la suma: 8\n",
      "Resultado de la resta: 2\n",
      "Resultado de la multiplicación: 15\n",
      "Resultado de la división: División por cero no permitida\n"
     ]
    }
   ],
   "source": [
    "def operacion_matematica(op):\n",
    "    def suma(a, b):\n",
    "        return a + b\n",
    "    \n",
    "    def resta(a, b):\n",
    "        return a - b\n",
    "    \n",
    "    def multiplicacion(a, b):\n",
    "        return a * b\n",
    "    \n",
    "    def division(a, b):\n",
    "        if b != 0:\n",
    "            return a / b\n",
    "        else:\n",
    "            return \"División por cero no permitida\"\n",
    "    \n",
    "    if op == \"suma\":\n",
    "        return suma\n",
    "    elif op == \"resta\":\n",
    "        return resta\n",
    "    elif op == \"multiplicacion\":\n",
    "        return multiplicacion\n",
    "    elif op == \"division\":\n",
    "        return division\n",
    "    else:\n",
    "        return \"Operación no válida\"\n",
    "\n",
    "# Uso de funciones internas\n",
    "operacion = operacion_matematica(\"suma\")\n",
    "resultado = operacion(5, 3)\n",
    "print(\"Resultado de la suma:\", resultado)\n",
    "\n",
    "operacion = operacion_matematica(\"resta\")\n",
    "resultado = operacion(5, 3)\n",
    "print(\"Resultado de la resta:\", resultado)\n",
    "\n",
    "operacion = operacion_matematica(\"multiplicacion\")\n",
    "resultado = operacion(5, 3)\n",
    "print(\"Resultado de la multiplicación:\", resultado)\n",
    "\n",
    "operacion = operacion_matematica(\"division\")\n",
    "resultado = operacion(5, 0)\n",
    "print(\"Resultado de la división:\", resultado)\n"
   ]
  },
  {
   "cell_type": "markdown",
   "id": "28182bec",
   "metadata": {},
   "source": [
    "# Decoradores"
   ]
  },
  {
   "cell_type": "markdown",
   "id": "e7c442e9",
   "metadata": {},
   "source": [
    "- modificar el comportamiento de funciones existentes pero sin alterar su código.\n",
    "- Un decorador es una función que recibe como parámetro una función y devuelve otra función\n"
   ]
  },
  {
   "cell_type": "code",
   "execution_count": 20,
   "id": "d1e3768d",
   "metadata": {},
   "outputs": [],
   "source": [
    "def my_decorator(func):\n",
    "    def wrapper(*args, **kwargs):\n",
    "        # some code before calling func\n",
    "        return func(*args, **kwargs)\n",
    "        # some code after calling func\n",
    "    return wrapper"
   ]
  },
  {
   "cell_type": "markdown",
   "id": "42a53391",
   "metadata": {},
   "source": [
    "- my_decorator    Nombre del decorador\n",
    "- wrapper         Función interior (convención de nombre)\n",
    "- func            Función a decorar (convención de nombre)\n",
    "- *args           Argumentos posicionales (convención de nombre)\n",
    "- **kwargs        Argumentos nominales (convención de nombre)"
   ]
  },
  {
   "cell_type": "code",
   "execution_count": 21,
   "id": "e6f78efa",
   "metadata": {},
   "outputs": [
    {
     "name": "stdout",
     "output_type": "stream",
     "text": [
      "La función 'ejemplo_funcion' tomó 0.024995803833007812 segundos en ejecutarse.\n"
     ]
    }
   ],
   "source": [
    "## ejemplo de un decorador en Python que mide el tiempo de ejecución de una función:\n",
    "import time\n",
    "\n",
    "# Decorador para medir el tiempo de ejecución de una función\n",
    "def medir_tiempo(funcion):\n",
    "    def wrapper(*args, **kwargs):\n",
    "        inicio = time.time()  # Marcar el tiempo de inicio\n",
    "        resultado = funcion(*args, **kwargs)  # Llamar a la función original\n",
    "        fin = time.time()  # Marcar el tiempo de finalización\n",
    "        print(f\"La función '{funcion.__name__}' tomó {fin - inicio} segundos en ejecutarse.\")\n",
    "        return resultado\n",
    "    return wrapper\n",
    "\n",
    "# Aplicar el decorador a una función\n",
    "@medir_tiempo\n",
    "def ejemplo_funcion():\n",
    "    for _ in range(1000000):\n",
    "        pass\n",
    "\n",
    "# Llamar a la función decorada\n",
    "ejemplo_funcion()\n"
   ]
  },
  {
   "cell_type": "markdown",
   "id": "df185c0e",
   "metadata": {},
   "source": [
    "En este ejemplo, hemos definido un decorador llamado medir_tiempo que toma una función funcion como argumento. El decorador crea una función interna llamada wrapper, que mide el tiempo de inicio, llama a la función original, mide el tiempo de finalización y muestra cuánto tiempo tomó la ejecución de la función original.\n",
    "\n",
    "Luego, aplicamos este decorador a la función ejemplo_funcion agregando @medir_tiempo justo antes de su definición. Cuando llamamos a ejemplo_funcion(), en realidad estamos llamando a wrapper, que mide el tiempo de ejecución de ejemplo_funcion y muestra el resultado."
   ]
  },
  {
   "cell_type": "markdown",
   "id": "3f8cd880",
   "metadata": {},
   "source": [
    "### USANDO @ PARA DECORAR\n",
    "Python nos ofrece un «syntactic sugar» para simplificar la aplicación de los decoradores a través del operador @ justo antes de la definición de la función que queremos decorar:\n",
    "\n",
    "\n"
   ]
  },
  {
   "cell_type": "markdown",
   "id": "5ebab164",
   "metadata": {},
   "source": [
    "decorador que convierte el resultado numérico de una función a su representación binaria:"
   ]
  },
  {
   "cell_type": "code",
   "execution_count": 24,
   "id": "750be268",
   "metadata": {},
   "outputs": [],
   "source": [
    "def res2bin(func):\n",
    "    def wrapper(*args, **kwargs):\n",
    "        result = func(*args, **kwargs)\n",
    "        return bin(result)\n",
    "    return wrapper"
   ]
  },
  {
   "cell_type": "code",
   "execution_count": 27,
   "id": "6c4d71a2",
   "metadata": {},
   "outputs": [
    {
     "data": {
      "text/plain": [
       "8"
      ]
     },
     "execution_count": 27,
     "metadata": {},
     "output_type": "execute_result"
    }
   ],
   "source": [
    "def power(x: int, n: int) -> int:\n",
    "    return x ** n\n",
    "\n",
    "\n",
    "power(2, 3)\n",
    "\n"
   ]
  },
  {
   "cell_type": "code",
   "execution_count": 26,
   "id": "5b5a2b7e",
   "metadata": {},
   "outputs": [
    {
     "data": {
      "text/plain": [
       "1024"
      ]
     },
     "execution_count": 26,
     "metadata": {},
     "output_type": "execute_result"
    }
   ],
   "source": [
    "power(4, 5)"
   ]
  },
  {
   "cell_type": "code",
   "execution_count": 28,
   "id": "f6ab4b19",
   "metadata": {},
   "outputs": [
    {
     "data": {
      "text/plain": [
       "'0b10000000000'"
      ]
     },
     "execution_count": 28,
     "metadata": {},
     "output_type": "execute_result"
    }
   ],
   "source": [
    "decorated_power = res2bin(power)\n",
    "\n",
    "decorated_power(2, 3)  # 8\n",
    "\n"
   ]
  },
  {
   "cell_type": "code",
   "execution_count": 29,
   "id": "b069f06f",
   "metadata": {},
   "outputs": [
    {
     "data": {
      "text/plain": [
       "'0b10000000000'"
      ]
     },
     "execution_count": 29,
     "metadata": {},
     "output_type": "execute_result"
    }
   ],
   "source": [
    "decorated_power(4, 5)  # 1024"
   ]
  },
  {
   "cell_type": "code",
   "execution_count": 30,
   "id": "a61e5861",
   "metadata": {},
   "outputs": [
    {
     "data": {
      "text/plain": [
       "'0b10000000000'"
      ]
     },
     "execution_count": 30,
     "metadata": {},
     "output_type": "execute_result"
    }
   ],
   "source": [
    "@res2bin\n",
    "def power(x: int, n: int) -> int:\n",
    "    return x ** n\n",
    "\n",
    "\n",
    "power(2, 3)\n",
    "\n",
    "power(4, 5)"
   ]
  },
  {
   "cell_type": "markdown",
   "id": "1ae1c4f3",
   "metadata": {},
   "source": [
    "# Funciones recursivas¶\n"
   ]
  },
  {
   "cell_type": "code",
   "execution_count": 31,
   "id": "5449624f",
   "metadata": {},
   "outputs": [
    {
     "ename": "RecursionError",
     "evalue": "maximum recursion depth exceeded",
     "output_type": "error",
     "traceback": [
      "\u001b[1;31m---------------------------------------------------------------------------\u001b[0m",
      "\u001b[1;31mRecursionError\u001b[0m                            Traceback (most recent call last)",
      "Cell \u001b[1;32mIn[31], line 5\u001b[0m\n\u001b[0;32m      1\u001b[0m \u001b[38;5;28;01mdef\u001b[39;00m \u001b[38;5;21mcall_me\u001b[39m():\n\u001b[0;32m      2\u001b[0m     \u001b[38;5;28;01mreturn\u001b[39;00m call_me()\n\u001b[1;32m----> 5\u001b[0m \u001b[43mcall_me\u001b[49m\u001b[43m(\u001b[49m\u001b[43m)\u001b[49m\n",
      "Cell \u001b[1;32mIn[31], line 2\u001b[0m, in \u001b[0;36mcall_me\u001b[1;34m()\u001b[0m\n\u001b[0;32m      1\u001b[0m \u001b[38;5;28;01mdef\u001b[39;00m \u001b[38;5;21mcall_me\u001b[39m():\n\u001b[1;32m----> 2\u001b[0m     \u001b[38;5;28;01mreturn\u001b[39;00m \u001b[43mcall_me\u001b[49m\u001b[43m(\u001b[49m\u001b[43m)\u001b[49m\n",
      "Cell \u001b[1;32mIn[31], line 2\u001b[0m, in \u001b[0;36mcall_me\u001b[1;34m()\u001b[0m\n\u001b[0;32m      1\u001b[0m \u001b[38;5;28;01mdef\u001b[39;00m \u001b[38;5;21mcall_me\u001b[39m():\n\u001b[1;32m----> 2\u001b[0m     \u001b[38;5;28;01mreturn\u001b[39;00m \u001b[43mcall_me\u001b[49m\u001b[43m(\u001b[49m\u001b[43m)\u001b[49m\n",
      "    \u001b[1;31m[... skipping similar frames: call_me at line 2 (2971 times)]\u001b[0m\n",
      "Cell \u001b[1;32mIn[31], line 2\u001b[0m, in \u001b[0;36mcall_me\u001b[1;34m()\u001b[0m\n\u001b[0;32m      1\u001b[0m \u001b[38;5;28;01mdef\u001b[39;00m \u001b[38;5;21mcall_me\u001b[39m():\n\u001b[1;32m----> 2\u001b[0m     \u001b[38;5;28;01mreturn\u001b[39;00m \u001b[43mcall_me\u001b[49m\u001b[43m(\u001b[49m\u001b[43m)\u001b[49m\n",
      "\u001b[1;31mRecursionError\u001b[0m: maximum recursion depth exceeded"
     ]
    }
   ],
   "source": [
    "def call_me():\n",
    "    return call_me()\n",
    "\n",
    "\n",
    "call_me()"
   ]
  },
  {
   "cell_type": "code",
   "execution_count": 32,
   "id": "31f93b8e",
   "metadata": {},
   "outputs": [
    {
     "data": {
      "text/plain": [
       "55"
      ]
     },
     "execution_count": 32,
     "metadata": {},
     "output_type": "execute_result"
    }
   ],
   "source": [
    "def fibonacci(n: int) -> int:\n",
    "    if n == 0:\n",
    "        return 0\n",
    "    if n == 1:\n",
    "        return 1\n",
    "    return fibonacci(n - 1) + fibonacci(n - 2)\n",
    "\n",
    "\n",
    "fibonacci(10)"
   ]
  },
  {
   "cell_type": "markdown",
   "id": "0ecb5b40",
   "metadata": {},
   "source": [
    "calcular la suma de las longitudes de una serie de palabras"
   ]
  },
  {
   "cell_type": "code",
   "execution_count": 33,
   "id": "a3e5376d",
   "metadata": {},
   "outputs": [
    {
     "data": {
      "text/plain": [
       "15"
      ]
     },
     "execution_count": 33,
     "metadata": {},
     "output_type": "execute_result"
    }
   ],
   "source": [
    "def get_size(words: list[str]) -> int:\n",
    "    if len(words) == 0:\n",
    "        return 0\n",
    "    return len(words[0]) + get_size(words[1:])\n",
    "\n",
    "\n",
    "words = ['this', 'is', 'recursive']\n",
    "get_size(words)"
   ]
  },
  {
   "cell_type": "markdown",
   "id": "55ac0ad6",
   "metadata": {},
   "source": [
    "# variables"
   ]
  },
  {
   "cell_type": "code",
   "execution_count": 34,
   "id": "6e7ed2e8",
   "metadata": {},
   "outputs": [
    {
     "name": "stdout",
     "output_type": "stream",
     "text": [
      "language='castellano'\n"
     ]
    }
   ],
   "source": [
    "language = 'castellano'\n",
    "\n",
    "def catalonia():\n",
    "    print(f'{language=}')\n",
    "\n",
    "\n",
    "language\n",
    "\n",
    "\n",
    "catalonia()"
   ]
  },
  {
   "cell_type": "code",
   "execution_count": 35,
   "id": "a2405eb2",
   "metadata": {},
   "outputs": [
    {
     "name": "stdout",
     "output_type": "stream",
     "text": [
      "language='catalan'\n"
     ]
    },
    {
     "data": {
      "text/plain": [
       "'castellano'"
      ]
     },
     "execution_count": 35,
     "metadata": {},
     "output_type": "execute_result"
    }
   ],
   "source": [
    "language = 'castellano'\n",
    "\n",
    "def catalonia():\n",
    "    language = 'catalan'\n",
    "    print(f'{language=}')\n",
    "\n",
    "\n",
    "language\n",
    "\n",
    "\n",
    "catalonia()\n",
    "\n",
    "\n",
    "language"
   ]
  },
  {
   "cell_type": "code",
   "execution_count": 36,
   "id": "dc47a35d",
   "metadata": {},
   "outputs": [
    {
     "name": "stdout",
     "output_type": "stream",
     "text": [
      "language='catalan'\n"
     ]
    },
    {
     "data": {
      "text/plain": [
       "'catalan'"
      ]
     },
     "execution_count": 36,
     "metadata": {},
     "output_type": "execute_result"
    }
   ],
   "source": [
    "language = 'castellano'\n",
    "\n",
    "def catalonia():\n",
    "    global language\n",
    "    language  = 'catalan'\n",
    "    print(f'{language=}')\n",
    "\n",
    "\n",
    "language\n",
    "\n",
    "\n",
    "catalonia()\n",
    "\n",
    "\n",
    "language"
   ]
  },
  {
   "cell_type": "code",
   "execution_count": null,
   "id": "e64f6018",
   "metadata": {},
   "outputs": [],
   "source": []
  },
  {
   "cell_type": "markdown",
   "id": "323d8c8d",
   "metadata": {},
   "source": [
    "- Las funciones deberían hacer una única cosa.\n",
    "Por ejemplo, un mal diseño sería tener una única función que calcule el total de una cesta de la compra, los impuestos y los gastos de envío. Sin embargo esto se debería hacer con tres funciones separadas. Así conseguimos que el código sea más fácil de matener, reutilizar y depurar.\n",
    "\n",
    "- Utiliza nombres descriptivos y con significado.\n",
    "Los nombres autoexplicativos de variables y funciones mejoran la legibilidad del código. Por ejemplo – deberíamos llamar «total_cost» a una variable que se usa para almacenar el total de un carrito de la compra en vez de «x» ya que claramente explica su propósito.\n",
    "\n",
    "- No uses variables globales.\n",
    "Las variables globales pueden introducir muchos problemas, incluyendo efectos colaterales inesperados y errores de programación difíciles de trazar. Supongamos que tenemos dos funciones que comparten una variable global. Si una función cambia su valor la otra función podría no funcionar como se espera.\n",
    "\n",
    "- Refactorizar regularmente.\n",
    "El código inevitablemente cambia con el tiempo, lo que puede derivar en partes obsoletas, redundantes o desorganizadas. Trata de mantener la calidad del código revisando y refactorizando aquellas zonas que se editan.\n",
    "\n",
    "- No utilices «números mágicos» o valores «hard-codeados».\n",
    "No es lo mismo escribir «99 * 3» que «price * quantity». Esto último es más fácil de entender y usa variables con nombres descriptivos haciéndolo autoexplicativo. Trata de usar constantes o variables en vez de valores «hard-codeados».\n",
    "\n",
    "- Escribe lo que necesites ahora, no lo que pienses que podrías necesitar en el futuro.\n",
    "Los programas simples y centrados en el problema son más flexibles y menos complejos.\n",
    "\n",
    "- Usa comentarios para explicar el «por qué» y no el «qué».\n",
    "El código limpio es autoexplicativo y por lo tanto los comentarios no deberían usarse para explicar lo que hace el código. En cambio, los comentarios debería usarse para proporcionar contexto adicional, como por qué el código está diseñado de una cierta manera.\n",
    "\n"
   ]
  }
 ],
 "metadata": {
  "kernelspec": {
   "display_name": "Python 3 (ipykernel)",
   "language": "python",
   "name": "python3"
  },
  "language_info": {
   "codemirror_mode": {
    "name": "ipython",
    "version": 3
   },
   "file_extension": ".py",
   "mimetype": "text/x-python",
   "name": "python",
   "nbconvert_exporter": "python",
   "pygments_lexer": "ipython3",
   "version": "3.11.4"
  }
 },
 "nbformat": 4,
 "nbformat_minor": 5
}
