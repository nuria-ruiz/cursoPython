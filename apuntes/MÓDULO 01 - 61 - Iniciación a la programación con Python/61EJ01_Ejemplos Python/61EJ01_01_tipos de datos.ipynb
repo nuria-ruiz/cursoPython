{
 "cells": [
  {
   "cell_type": "code",
   "execution_count": null,
   "id": "2c276368",
   "metadata": {},
   "outputs": [],
   "source": [
    "Asignación"
   ]
  },
  {
   "cell_type": "code",
   "execution_count": 1,
   "id": "0f3b5029",
   "metadata": {},
   "outputs": [],
   "source": [
    "total_population = 157_503\n",
    "avg_temperature = 16.8\n",
    "city_name = 'San Cristóbal de La Laguna'"
   ]
  },
  {
   "cell_type": "code",
   "execution_count": 2,
   "id": "0b78536b",
   "metadata": {},
   "outputs": [],
   "source": [
    "SOUND_SPEED = 343.2\n",
    "WATER_DENSITY = 997\n",
    "EARTH_NAME = 'La Tierra'"
   ]
  },
  {
   "cell_type": "code",
   "execution_count": 3,
   "id": "11dd6eae",
   "metadata": {},
   "outputs": [],
   "source": [
    "tres = three = drei = 3\n"
   ]
  },
  {
   "cell_type": "code",
   "execution_count": 4,
   "id": "ef909343",
   "metadata": {},
   "outputs": [
    {
     "ename": "SyntaxError",
     "evalue": "invalid decimal literal (2614619349.py, line 1)",
     "output_type": "error",
     "traceback": [
      "\u001b[1;36m  Cell \u001b[1;32mIn[4], line 1\u001b[1;36m\u001b[0m\n\u001b[1;33m    7floor = 40  # el nombre empieza por un dígito\u001b[0m\n\u001b[1;37m    ^\u001b[0m\n\u001b[1;31mSyntaxError\u001b[0m\u001b[1;31m:\u001b[0m invalid decimal literal\n"
     ]
    }
   ],
   "source": [
    "7floor = 40  # el nombre empieza por un dígito\n",
    " "
   ]
  },
  {
   "cell_type": "code",
   "execution_count": 5,
   "id": "6e0a1111",
   "metadata": {},
   "outputs": [
    {
     "ename": "SyntaxError",
     "evalue": "invalid syntax (760238100.py, line 1)",
     "output_type": "error",
     "traceback": [
      "\u001b[1;36m  Cell \u001b[1;32mIn[5], line 1\u001b[1;36m\u001b[0m\n\u001b[1;33m    for = 'Bucle'  # el nombre usa la palabra reservada \"for\"\u001b[0m\n\u001b[1;37m        ^\u001b[0m\n\u001b[1;31mSyntaxError\u001b[0m\u001b[1;31m:\u001b[0m invalid syntax\n"
     ]
    }
   ],
   "source": [
    "for = 'Bucle'  # el nombre usa la palabra reservada \"for\"\n"
   ]
  },
  {
   "cell_type": "code",
   "execution_count": 7,
   "id": "e426a95a",
   "metadata": {},
   "outputs": [],
   "source": [
    "screen_size = 14  # el nombre usa un carácter no válido\n"
   ]
  },
  {
   "cell_type": "code",
   "execution_count": null,
   "id": "9602418e",
   "metadata": {},
   "outputs": [],
   "source": [
    "Asignando una variable a otra variable¶\n"
   ]
  },
  {
   "cell_type": "code",
   "execution_count": 9,
   "id": "43a2fb48",
   "metadata": {},
   "outputs": [
    {
     "data": {
      "text/plain": [
       "157503"
      ]
     },
     "execution_count": 9,
     "metadata": {},
     "output_type": "execute_result"
    }
   ],
   "source": [
    "people = 157503\n",
    "total_population = people\n",
    "total_population"
   ]
  },
  {
   "cell_type": "code",
   "execution_count": 13,
   "id": "e7508a48",
   "metadata": {},
   "outputs": [],
   "source": [
    "total_population = lot_of_people\n"
   ]
  },
  {
   "cell_type": "code",
   "execution_count": 11,
   "id": "21295158",
   "metadata": {},
   "outputs": [
    {
     "ename": "SyntaxError",
     "evalue": "invalid character '¶' (U+00B6) (4203085582.py, line 1)",
     "output_type": "error",
     "traceback": [
      "\u001b[1;36m  Cell \u001b[1;32mIn[11], line 1\u001b[1;36m\u001b[0m\n\u001b[1;33m    Conocer el valor de una variable¶\u001b[0m\n\u001b[1;37m                                    ^\u001b[0m\n\u001b[1;31mSyntaxError\u001b[0m\u001b[1;31m:\u001b[0m invalid character '¶' (U+00B6)\n"
     ]
    }
   ],
   "source": [
    "Conocer el valor de una variable¶\n"
   ]
  },
  {
   "cell_type": "code",
   "execution_count": 14,
   "id": "20e0e712",
   "metadata": {},
   "outputs": [
    {
     "data": {
      "text/plain": [
       "38934"
      ]
     },
     "execution_count": 14,
     "metadata": {},
     "output_type": "execute_result"
    }
   ],
   "source": [
    "final_stock = 38934\n",
    "final_stock"
   ]
  },
  {
   "cell_type": "code",
   "execution_count": 16,
   "id": "5942009d",
   "metadata": {},
   "outputs": [
    {
     "name": "stdout",
     "output_type": "stream",
     "text": [
      "38934\n"
     ]
    }
   ],
   "source": [
    "final_stock = 38934\n",
    "print(final_stock)"
   ]
  },
  {
   "cell_type": "code",
   "execution_count": null,
   "id": "c5185672",
   "metadata": {},
   "outputs": [],
   "source": [
    "Conocer el tipo de una variable¶\n"
   ]
  },
  {
   "cell_type": "code",
   "execution_count": 17,
   "id": "ff8cabd8",
   "metadata": {},
   "outputs": [
    {
     "data": {
      "text/plain": [
       "int"
      ]
     },
     "execution_count": 17,
     "metadata": {},
     "output_type": "execute_result"
    }
   ],
   "source": [
    "type(9)"
   ]
  },
  {
   "cell_type": "code",
   "execution_count": 18,
   "id": "3b30975a",
   "metadata": {},
   "outputs": [
    {
     "data": {
      "text/plain": [
       "float"
      ]
     },
     "execution_count": 18,
     "metadata": {},
     "output_type": "execute_result"
    }
   ],
   "source": [
    "type(1.2)\n"
   ]
  },
  {
   "cell_type": "code",
   "execution_count": 19,
   "id": "de46c542",
   "metadata": {},
   "outputs": [
    {
     "data": {
      "text/plain": [
       "int"
      ]
     },
     "execution_count": 19,
     "metadata": {},
     "output_type": "execute_result"
    }
   ],
   "source": [
    "height = 3718\n",
    "type(height)\n"
   ]
  },
  {
   "cell_type": "code",
   "execution_count": 20,
   "id": "c57a1ef2",
   "metadata": {},
   "outputs": [
    {
     "data": {
      "text/plain": [
       "float"
      ]
     },
     "execution_count": 20,
     "metadata": {},
     "output_type": "execute_result"
    }
   ],
   "source": [
    "sound_speed = 343.2\n",
    "type(sound_speed)"
   ]
  },
  {
   "cell_type": "code",
   "execution_count": null,
   "id": "6bfb52e0",
   "metadata": {},
   "outputs": [],
   "source": [
    "Ejercicio"
   ]
  },
  {
   "cell_type": "code",
   "execution_count": null,
   "id": "6ccdd1f4",
   "metadata": {},
   "outputs": [],
   "source": [
    "Asigna un valor entero 2001 a la variable space_odyssey y muestra su valor.\n",
    "\n",
    "Descubre el tipo del literal 'Good night & Good luck'.\n",
    "\n",
    "Identifica el tipo del literal True.\n",
    "\n",
    "Asigna la expresión 10 * 3.0 a la variable result y muestra su tipo."
   ]
  },
  {
   "cell_type": "code",
   "execution_count": null,
   "id": "52b52584",
   "metadata": {},
   "outputs": [],
   "source": [
    "solucion: numbers.py\n",
    "    "
   ]
  },
  {
   "cell_type": "code",
   "execution_count": null,
   "id": "20c002a8",
   "metadata": {},
   "outputs": [],
   "source": [
    "Mutabilidad¶\n"
   ]
  },
  {
   "cell_type": "code",
   "execution_count": 21,
   "id": "ae16086a",
   "metadata": {},
   "outputs": [],
   "source": [
    "a = 5"
   ]
  },
  {
   "cell_type": "code",
   "execution_count": 22,
   "id": "ff33a0e3",
   "metadata": {},
   "outputs": [],
   "source": [
    "b = a"
   ]
  },
  {
   "cell_type": "code",
   "execution_count": 23,
   "id": "303d98cf",
   "metadata": {},
   "outputs": [
    {
     "data": {
      "text/plain": [
       "2088578449776"
      ]
     },
     "execution_count": 23,
     "metadata": {},
     "output_type": "execute_result"
    }
   ],
   "source": [
    "id(a)"
   ]
  },
  {
   "cell_type": "code",
   "execution_count": 24,
   "id": "fd935a30",
   "metadata": {},
   "outputs": [
    {
     "data": {
      "text/plain": [
       "2088578449776"
      ]
     },
     "execution_count": 24,
     "metadata": {},
     "output_type": "execute_result"
    }
   ],
   "source": [
    "id(b)"
   ]
  },
  {
   "cell_type": "code",
   "execution_count": 25,
   "id": "4fb7b876",
   "metadata": {},
   "outputs": [
    {
     "data": {
      "text/plain": [
       "2088578449936"
      ]
     },
     "execution_count": 25,
     "metadata": {},
     "output_type": "execute_result"
    }
   ],
   "source": [
    "id(10)\n"
   ]
  },
  {
   "cell_type": "code",
   "execution_count": 26,
   "id": "c64c01a2",
   "metadata": {},
   "outputs": [
    {
     "data": {
      "text/plain": [
       "2088578450256"
      ]
     },
     "execution_count": 26,
     "metadata": {},
     "output_type": "execute_result"
    }
   ],
   "source": [
    "id(20)"
   ]
  },
  {
   "cell_type": "code",
   "execution_count": 27,
   "id": "50d8a7ea",
   "metadata": {},
   "outputs": [
    {
     "data": {
      "text/plain": [
       "2088578449776"
      ]
     },
     "execution_count": 27,
     "metadata": {},
     "output_type": "execute_result"
    }
   ],
   "source": [
    "a = 5\n",
    "id(a)"
   ]
  },
  {
   "cell_type": "code",
   "execution_count": 28,
   "id": "e2c9d644",
   "metadata": {},
   "outputs": [
    {
     "data": {
      "text/plain": [
       "2088578449840"
      ]
     },
     "execution_count": 28,
     "metadata": {},
     "output_type": "execute_result"
    }
   ],
   "source": [
    "\n",
    "a = 7\n",
    "id(a)"
   ]
  },
  {
   "cell_type": "code",
   "execution_count": null,
   "id": "7ae3510f",
   "metadata": {},
   "outputs": [],
   "source": [
    "Pidiendo ayuda¶\n"
   ]
  },
  {
   "cell_type": "code",
   "execution_count": 29,
   "id": "77f402d8",
   "metadata": {},
   "outputs": [
    {
     "name": "stdout",
     "output_type": "stream",
     "text": [
      "Help on built-in function id in module builtins:\n",
      "\n",
      "id(obj, /)\n",
      "    Return the identity of an object.\n",
      "    \n",
      "    This is guaranteed to be unique among simultaneously existing objects.\n",
      "    (CPython uses the object's memory address.)\n",
      "\n"
     ]
    }
   ],
   "source": [
    "help(id)\n"
   ]
  },
  {
   "cell_type": "code",
   "execution_count": 30,
   "id": "fad5a673",
   "metadata": {},
   "outputs": [],
   "source": [
    "id?"
   ]
  },
  {
   "cell_type": "code",
   "execution_count": null,
   "id": "dbf0ea7e",
   "metadata": {},
   "outputs": [],
   "source": [
    "Booleanos"
   ]
  },
  {
   "cell_type": "code",
   "execution_count": 31,
   "id": "34c5caeb",
   "metadata": {},
   "outputs": [
    {
     "data": {
      "text/plain": [
       "True"
      ]
     },
     "execution_count": 31,
     "metadata": {},
     "output_type": "execute_result"
    }
   ],
   "source": [
    "is_opened = True\n",
    "is_opened\n"
   ]
  },
  {
   "cell_type": "code",
   "execution_count": 32,
   "id": "31e1f732",
   "metadata": {},
   "outputs": [
    {
     "data": {
      "text/plain": [
       "False"
      ]
     },
     "execution_count": 32,
     "metadata": {},
     "output_type": "execute_result"
    }
   ],
   "source": [
    "has_sugar = False\n",
    "has_sugar"
   ]
  },
  {
   "cell_type": "code",
   "execution_count": 33,
   "id": "f4014aa0",
   "metadata": {},
   "outputs": [
    {
     "ename": "NameError",
     "evalue": "name 'true' is not defined",
     "output_type": "error",
     "traceback": [
      "\u001b[1;31m---------------------------------------------------------------------------\u001b[0m",
      "\u001b[1;31mNameError\u001b[0m                                 Traceback (most recent call last)",
      "Cell \u001b[1;32mIn[33], line 1\u001b[0m\n\u001b[1;32m----> 1\u001b[0m is_opened \u001b[38;5;241m=\u001b[39m \u001b[43mtrue\u001b[49m\n",
      "\u001b[1;31mNameError\u001b[0m: name 'true' is not defined"
     ]
    }
   ],
   "source": [
    "is_opened = true\n"
   ]
  },
  {
   "cell_type": "code",
   "execution_count": 34,
   "id": "69fab70f",
   "metadata": {},
   "outputs": [
    {
     "ename": "NameError",
     "evalue": "name 'false' is not defined",
     "output_type": "error",
     "traceback": [
      "\u001b[1;31m---------------------------------------------------------------------------\u001b[0m",
      "\u001b[1;31mNameError\u001b[0m                                 Traceback (most recent call last)",
      "Cell \u001b[1;32mIn[34], line 1\u001b[0m\n\u001b[1;32m----> 1\u001b[0m has_sugar \u001b[38;5;241m=\u001b[39m \u001b[43mfalse\u001b[49m\n",
      "\u001b[1;31mNameError\u001b[0m: name 'false' is not defined"
     ]
    }
   ],
   "source": [
    "has_sugar = false\n"
   ]
  },
  {
   "cell_type": "code",
   "execution_count": null,
   "id": "8636bf60",
   "metadata": {},
   "outputs": [],
   "source": [
    "Enteros"
   ]
  },
  {
   "cell_type": "code",
   "execution_count": 35,
   "id": "e2a70f01",
   "metadata": {},
   "outputs": [
    {
     "ename": "SyntaxError",
     "evalue": "invalid character '¶' (U+00B6) (2062311134.py, line 1)",
     "output_type": "error",
     "traceback": [
      "\u001b[1;36m  Cell \u001b[1;32mIn[35], line 1\u001b[1;36m\u001b[0m\n\u001b[1;33m    Literales enteros¶\u001b[0m\n\u001b[1;37m                     ^\u001b[0m\n\u001b[1;31mSyntaxError\u001b[0m\u001b[1;31m:\u001b[0m invalid character '¶' (U+00B6)\n"
     ]
    }
   ],
   "source": [
    "Literales enteros¶\n"
   ]
  },
  {
   "cell_type": "code",
   "execution_count": 36,
   "id": "f81a8555",
   "metadata": {},
   "outputs": [
    {
     "ename": "SyntaxError",
     "evalue": "leading zeros in decimal integer literals are not permitted; use an 0o prefix for octal integers (2264880938.py, line 5)",
     "output_type": "error",
     "traceback": [
      "\u001b[1;36m  Cell \u001b[1;32mIn[36], line 5\u001b[1;36m\u001b[0m\n\u001b[1;33m    08\u001b[0m\n\u001b[1;37m    ^\u001b[0m\n\u001b[1;31mSyntaxError\u001b[0m\u001b[1;31m:\u001b[0m leading zeros in decimal integer literals are not permitted; use an 0o prefix for octal integers\n"
     ]
    }
   ],
   "source": [
    "8\n",
    "\n",
    "0\n",
    "\n",
    "08\n",
    "  \n",
    "99\n",
    "\n",
    "+99\n",
    "\n",
    "-99\n",
    "\n",
    "3000000\n",
    "\n",
    "3_000_000"
   ]
  },
  {
   "cell_type": "code",
   "execution_count": null,
   "id": "8e0ef63d",
   "metadata": {},
   "outputs": [],
   "source": [
    "Operaciones con enteros¶\n"
   ]
  },
  {
   "cell_type": "code",
   "execution_count": 37,
   "id": "6e66f6f1",
   "metadata": {},
   "outputs": [
    {
     "data": {
      "text/plain": [
       "14"
      ]
     },
     "execution_count": 37,
     "metadata": {},
     "output_type": "execute_result"
    }
   ],
   "source": [
    "2 + 8 + 4\n"
   ]
  },
  {
   "cell_type": "code",
   "execution_count": 38,
   "id": "0c3f0127",
   "metadata": {},
   "outputs": [
    {
     "data": {
      "text/plain": [
       "256"
      ]
     },
     "execution_count": 38,
     "metadata": {},
     "output_type": "execute_result"
    }
   ],
   "source": [
    "4 ** 4\n"
   ]
  },
  {
   "cell_type": "code",
   "execution_count": 40,
   "id": "008564af",
   "metadata": {},
   "outputs": [
    {
     "data": {
      "text/plain": [
       "2.3333333333333335"
      ]
     },
     "execution_count": 40,
     "metadata": {},
     "output_type": "execute_result"
    }
   ],
   "source": [
    "7 / 3\n"
   ]
  },
  {
   "cell_type": "code",
   "execution_count": 41,
   "id": "6466394d",
   "metadata": {},
   "outputs": [
    {
     "data": {
      "text/plain": [
       "2"
      ]
     },
     "execution_count": 41,
     "metadata": {},
     "output_type": "execute_result"
    }
   ],
   "source": [
    "7 // 3"
   ]
  },
  {
   "cell_type": "code",
   "execution_count": 42,
   "id": "25f87a6e",
   "metadata": {},
   "outputs": [
    {
     "ename": "ZeroDivisionError",
     "evalue": "division by zero",
     "output_type": "error",
     "traceback": [
      "\u001b[1;31m---------------------------------------------------------------------------\u001b[0m",
      "\u001b[1;31mZeroDivisionError\u001b[0m                         Traceback (most recent call last)",
      "Cell \u001b[1;32mIn[42], line 1\u001b[0m\n\u001b[1;32m----> 1\u001b[0m \u001b[38;5;241;43m6\u001b[39;49m\u001b[43m \u001b[49m\u001b[38;5;241;43m/\u001b[39;49m\u001b[43m \u001b[49m\u001b[38;5;241;43m0\u001b[39;49m\n",
      "\u001b[1;31mZeroDivisionError\u001b[0m: division by zero"
     ]
    }
   ],
   "source": [
    "6 / 0"
   ]
  },
  {
   "cell_type": "code",
   "execution_count": 43,
   "id": "0aaaa5f0",
   "metadata": {},
   "outputs": [
    {
     "data": {
      "text/plain": [
       "6.0"
      ]
     },
     "execution_count": 43,
     "metadata": {},
     "output_type": "execute_result"
    }
   ],
   "source": [
    "2 ** 2 + 4 / 2\n"
   ]
  },
  {
   "cell_type": "code",
   "execution_count": 44,
   "id": "52474ef2",
   "metadata": {},
   "outputs": [
    {
     "data": {
      "text/plain": [
       "32.0"
      ]
     },
     "execution_count": 44,
     "metadata": {},
     "output_type": "execute_result"
    }
   ],
   "source": [
    "2 ** (2 + 4) / 2"
   ]
  },
  {
   "cell_type": "code",
   "execution_count": 45,
   "id": "77d13a6e",
   "metadata": {},
   "outputs": [
    {
     "data": {
      "text/plain": [
       "16.0"
      ]
     },
     "execution_count": 45,
     "metadata": {},
     "output_type": "execute_result"
    }
   ],
   "source": [
    "2 ** (2 + 4 / 2)"
   ]
  },
  {
   "cell_type": "code",
   "execution_count": null,
   "id": "a0bb7eda",
   "metadata": {},
   "outputs": [],
   "source": [
    "ASIGNACIÓN AUMENTADA¶\n"
   ]
  },
  {
   "cell_type": "code",
   "execution_count": null,
   "id": "cf047c43",
   "metadata": {},
   "outputs": [],
   "source": [
    "Asignación tradicional¶\n"
   ]
  },
  {
   "cell_type": "code",
   "execution_count": 46,
   "id": "8c92fe52",
   "metadata": {},
   "outputs": [
    {
     "data": {
      "text/plain": [
       "80"
      ]
     },
     "execution_count": 46,
     "metadata": {},
     "output_type": "execute_result"
    }
   ],
   "source": [
    "total_cars = 100\n",
    "sold_cars = 20\n",
    "total_cars = total_cars - sold_cars\n",
    "total_cars"
   ]
  },
  {
   "cell_type": "code",
   "execution_count": null,
   "id": "bbad1e08",
   "metadata": {},
   "outputs": [],
   "source": [
    "Asignación aumentada¶\n"
   ]
  },
  {
   "cell_type": "code",
   "execution_count": 46,
   "id": "b999fb98",
   "metadata": {},
   "outputs": [
    {
     "data": {
      "text/plain": [
       "80"
      ]
     },
     "execution_count": 46,
     "metadata": {},
     "output_type": "execute_result"
    }
   ],
   "source": [
    "total_cars = 100\n",
    "sold_cars = 20\n",
    "total_cars -= sold_cars\n",
    "total_cars"
   ]
  },
  {
   "cell_type": "code",
   "execution_count": 47,
   "id": "b7b53a71",
   "metadata": {},
   "outputs": [
    {
     "data": {
      "text/plain": [
       "15"
      ]
     },
     "execution_count": 47,
     "metadata": {},
     "output_type": "execute_result"
    }
   ],
   "source": [
    "random_number = 15\n",
    "random_number"
   ]
  },
  {
   "cell_type": "code",
   "execution_count": 48,
   "id": "ae0eedd0",
   "metadata": {},
   "outputs": [
    {
     "data": {
      "text/plain": [
       "20"
      ]
     },
     "execution_count": 48,
     "metadata": {},
     "output_type": "execute_result"
    }
   ],
   "source": [
    "random_number += 5\n",
    "random_number\n"
   ]
  },
  {
   "cell_type": "code",
   "execution_count": 49,
   "id": "06a2e067",
   "metadata": {},
   "outputs": [
    {
     "data": {
      "text/plain": [
       "60"
      ]
     },
     "execution_count": 49,
     "metadata": {},
     "output_type": "execute_result"
    }
   ],
   "source": [
    "random_number *= 3\n",
    "random_number"
   ]
  },
  {
   "cell_type": "code",
   "execution_count": 50,
   "id": "83941f1d",
   "metadata": {},
   "outputs": [
    {
     "data": {
      "text/plain": [
       "15"
      ]
     },
     "execution_count": 50,
     "metadata": {},
     "output_type": "execute_result"
    }
   ],
   "source": [
    "random_number //= 4\n",
    "random_number\n"
   ]
  },
  {
   "cell_type": "code",
   "execution_count": 51,
   "id": "1bd3ffcd",
   "metadata": {},
   "outputs": [
    {
     "data": {
      "text/plain": [
       "15"
      ]
     },
     "execution_count": 51,
     "metadata": {},
     "output_type": "execute_result"
    }
   ],
   "source": [
    "random_number **= 1\n",
    "random_number"
   ]
  },
  {
   "cell_type": "code",
   "execution_count": 52,
   "id": "3cf2810e",
   "metadata": {},
   "outputs": [
    {
     "ename": "NameError",
     "evalue": "name 'MÓDULO' is not defined",
     "output_type": "error",
     "traceback": [
      "\u001b[1;31m---------------------------------------------------------------------------\u001b[0m",
      "\u001b[1;31mNameError\u001b[0m                                 Traceback (most recent call last)",
      "Cell \u001b[1;32mIn[52], line 1\u001b[0m\n\u001b[1;32m----> 1\u001b[0m \u001b[43mMÓDULO\u001b[49m\n",
      "\u001b[1;31mNameError\u001b[0m: name 'MÓDULO' is not defined"
     ]
    }
   ],
   "source": [
    "MÓDULO"
   ]
  },
  {
   "cell_type": "code",
   "execution_count": 56,
   "id": "2d3a6f7a",
   "metadata": {},
   "outputs": [
    {
     "name": "stdout",
     "output_type": "stream",
     "text": [
      "3\n",
      "2\n"
     ]
    }
   ],
   "source": [
    "dividendo = 17\n",
    "divisor = 5\n",
    "\n",
    "cociente = dividendo // divisor  # división entera\n",
    "resto = dividendo % divisor\n",
    "\n",
    "print(cociente)\n",
    "\n",
    "print(resto)"
   ]
  },
  {
   "cell_type": "code",
   "execution_count": null,
   "id": "fec1002a",
   "metadata": {},
   "outputs": [],
   "source": [
    "EXPONENCIACIÓN"
   ]
  },
  {
   "cell_type": "code",
   "execution_count": 53,
   "id": "1d26031a",
   "metadata": {},
   "outputs": [
    {
     "data": {
      "text/plain": [
       "64"
      ]
     },
     "execution_count": 53,
     "metadata": {},
     "output_type": "execute_result"
    }
   ],
   "source": [
    "4 ** 3\n"
   ]
  },
  {
   "cell_type": "code",
   "execution_count": 54,
   "id": "27ffa074",
   "metadata": {},
   "outputs": [
    {
     "data": {
      "text/plain": [
       "64"
      ]
     },
     "execution_count": 54,
     "metadata": {},
     "output_type": "execute_result"
    }
   ],
   "source": [
    "4 * 4 * 4"
   ]
  },
  {
   "cell_type": "code",
   "execution_count": 55,
   "id": "1959b615",
   "metadata": {},
   "outputs": [
    {
     "data": {
      "text/plain": [
       "2.0"
      ]
     },
     "execution_count": 55,
     "metadata": {},
     "output_type": "execute_result"
    }
   ],
   "source": [
    "4 ** 0.5\n"
   ]
  },
  {
   "cell_type": "code",
   "execution_count": null,
   "id": "15b81c02",
   "metadata": {},
   "outputs": [],
   "source": [
    "VALOR ABSOLUTO¶\n"
   ]
  },
  {
   "cell_type": "code",
   "execution_count": 56,
   "id": "e6e66a3b",
   "metadata": {},
   "outputs": [
    {
     "data": {
      "text/plain": [
       "1"
      ]
     },
     "execution_count": 56,
     "metadata": {},
     "output_type": "execute_result"
    }
   ],
   "source": [
    "abs(-1)\n",
    "\n"
   ]
  },
  {
   "cell_type": "code",
   "execution_count": 57,
   "id": "8fb31338",
   "metadata": {},
   "outputs": [
    {
     "data": {
      "text/plain": [
       "1"
      ]
     },
     "execution_count": 57,
     "metadata": {},
     "output_type": "execute_result"
    }
   ],
   "source": [
    "abs(1)\n"
   ]
  },
  {
   "cell_type": "code",
   "execution_count": 58,
   "id": "f4bbab2a",
   "metadata": {},
   "outputs": [
    {
     "data": {
      "text/plain": [
       "3.14"
      ]
     },
     "execution_count": 58,
     "metadata": {},
     "output_type": "execute_result"
    }
   ],
   "source": [
    "abs(-3.14)\n"
   ]
  },
  {
   "cell_type": "code",
   "execution_count": 59,
   "id": "86a6003e",
   "metadata": {},
   "outputs": [
    {
     "data": {
      "text/plain": [
       "3.14"
      ]
     },
     "execution_count": 59,
     "metadata": {},
     "output_type": "execute_result"
    }
   ],
   "source": [
    "abs(3.14)"
   ]
  },
  {
   "cell_type": "code",
   "execution_count": null,
   "id": "7be80ecd",
   "metadata": {},
   "outputs": [],
   "source": [
    "Límite de un entero¶\n"
   ]
  },
  {
   "cell_type": "code",
   "execution_count": 60,
   "id": "d0b5fb78",
   "metadata": {},
   "outputs": [
    {
     "data": {
      "text/plain": [
       "1000000000000000000000000000000000000000000000000000000000000000000000000000000000000000000000000000000000000000000000000000000000000000000000000000000000000000000000000000000000000000000000000000000000000000000000000000000000000000000000000000000000000000000000000000000000000000000000000000000000000000000000000000000000000000000000000000000000000000000000000000000000000000000000000000000000000000000000000000000000000000000000000000000000000000000000000000000000000000000000000000000000000000000000000000000000000000000000000000000000000000000000000000000000000000000000000000000000000000000000000"
      ]
     },
     "execution_count": 60,
     "metadata": {},
     "output_type": "execute_result"
    }
   ],
   "source": [
    "centillion = 10 ** 600\n",
    "\n",
    "centillion"
   ]
  },
  {
   "cell_type": "code",
   "execution_count": 61,
   "id": "a84de219",
   "metadata": {},
   "outputs": [
    {
     "ename": "SyntaxError",
     "evalue": "invalid character '¿' (U+00BF) (625249392.py, line 1)",
     "output_type": "error",
     "traceback": [
      "\u001b[1;36m  Cell \u001b[1;32mIn[61], line 1\u001b[1;36m\u001b[0m\n\u001b[1;33m    ¿Qué pasaría si quisiéramos «romper» todas las barreras? Pongamos 10.000 dígitos…\u001b[0m\n\u001b[1;37m    ^\u001b[0m\n\u001b[1;31mSyntaxError\u001b[0m\u001b[1;31m:\u001b[0m invalid character '¿' (U+00BF)\n"
     ]
    }
   ],
   "source": [
    "¿Qué pasaría si quisiéramos «romper» todas las barreras? Pongamos 10.000 dígitos…\n",
    "\n"
   ]
  },
  {
   "cell_type": "code",
   "execution_count": 69,
   "id": "33a72648",
   "metadata": {},
   "outputs": [
    {
     "ename": "ValueError",
     "evalue": "Exceeds the limit (4300 digits) for integer string conversion; use sys.set_int_max_str_digits() to increase the limit",
     "output_type": "error",
     "traceback": [
      "\u001b[1;31m---------------------------------------------------------------------------\u001b[0m",
      "\u001b[1;31mValueError\u001b[0m                                Traceback (most recent call last)",
      "File \u001b[1;32m~\\AppData\\Roaming\\Python\\Python311\\site-packages\\IPython\\core\\formatters.py:708\u001b[0m, in \u001b[0;36mPlainTextFormatter.__call__\u001b[1;34m(self, obj)\u001b[0m\n\u001b[0;32m    701\u001b[0m stream \u001b[38;5;241m=\u001b[39m StringIO()\n\u001b[0;32m    702\u001b[0m printer \u001b[38;5;241m=\u001b[39m pretty\u001b[38;5;241m.\u001b[39mRepresentationPrinter(stream, \u001b[38;5;28mself\u001b[39m\u001b[38;5;241m.\u001b[39mverbose,\n\u001b[0;32m    703\u001b[0m     \u001b[38;5;28mself\u001b[39m\u001b[38;5;241m.\u001b[39mmax_width, \u001b[38;5;28mself\u001b[39m\u001b[38;5;241m.\u001b[39mnewline,\n\u001b[0;32m    704\u001b[0m     max_seq_length\u001b[38;5;241m=\u001b[39m\u001b[38;5;28mself\u001b[39m\u001b[38;5;241m.\u001b[39mmax_seq_length,\n\u001b[0;32m    705\u001b[0m     singleton_pprinters\u001b[38;5;241m=\u001b[39m\u001b[38;5;28mself\u001b[39m\u001b[38;5;241m.\u001b[39msingleton_printers,\n\u001b[0;32m    706\u001b[0m     type_pprinters\u001b[38;5;241m=\u001b[39m\u001b[38;5;28mself\u001b[39m\u001b[38;5;241m.\u001b[39mtype_printers,\n\u001b[0;32m    707\u001b[0m     deferred_pprinters\u001b[38;5;241m=\u001b[39m\u001b[38;5;28mself\u001b[39m\u001b[38;5;241m.\u001b[39mdeferred_printers)\n\u001b[1;32m--> 708\u001b[0m \u001b[43mprinter\u001b[49m\u001b[38;5;241;43m.\u001b[39;49m\u001b[43mpretty\u001b[49m\u001b[43m(\u001b[49m\u001b[43mobj\u001b[49m\u001b[43m)\u001b[49m\n\u001b[0;32m    709\u001b[0m printer\u001b[38;5;241m.\u001b[39mflush()\n\u001b[0;32m    710\u001b[0m \u001b[38;5;28;01mreturn\u001b[39;00m stream\u001b[38;5;241m.\u001b[39mgetvalue()\n",
      "File \u001b[1;32m~\\AppData\\Roaming\\Python\\Python311\\site-packages\\IPython\\lib\\pretty.py:393\u001b[0m, in \u001b[0;36mRepresentationPrinter.pretty\u001b[1;34m(self, obj)\u001b[0m\n\u001b[0;32m    390\u001b[0m \u001b[38;5;28;01mfor\u001b[39;00m \u001b[38;5;28mcls\u001b[39m \u001b[38;5;129;01min\u001b[39;00m _get_mro(obj_class):\n\u001b[0;32m    391\u001b[0m     \u001b[38;5;28;01mif\u001b[39;00m \u001b[38;5;28mcls\u001b[39m \u001b[38;5;129;01min\u001b[39;00m \u001b[38;5;28mself\u001b[39m\u001b[38;5;241m.\u001b[39mtype_pprinters:\n\u001b[0;32m    392\u001b[0m         \u001b[38;5;66;03m# printer registered in self.type_pprinters\u001b[39;00m\n\u001b[1;32m--> 393\u001b[0m         \u001b[38;5;28;01mreturn\u001b[39;00m \u001b[38;5;28;43mself\u001b[39;49m\u001b[38;5;241;43m.\u001b[39;49m\u001b[43mtype_pprinters\u001b[49m\u001b[43m[\u001b[49m\u001b[38;5;28;43mcls\u001b[39;49m\u001b[43m]\u001b[49m\u001b[43m(\u001b[49m\u001b[43mobj\u001b[49m\u001b[43m,\u001b[49m\u001b[43m \u001b[49m\u001b[38;5;28;43mself\u001b[39;49m\u001b[43m,\u001b[49m\u001b[43m \u001b[49m\u001b[43mcycle\u001b[49m\u001b[43m)\u001b[49m\n\u001b[0;32m    394\u001b[0m     \u001b[38;5;28;01melse\u001b[39;00m:\n\u001b[0;32m    395\u001b[0m         \u001b[38;5;66;03m# deferred printer\u001b[39;00m\n\u001b[0;32m    396\u001b[0m         printer \u001b[38;5;241m=\u001b[39m \u001b[38;5;28mself\u001b[39m\u001b[38;5;241m.\u001b[39m_in_deferred_types(\u001b[38;5;28mcls\u001b[39m)\n",
      "File \u001b[1;32m~\\AppData\\Roaming\\Python\\Python311\\site-packages\\IPython\\lib\\pretty.py:778\u001b[0m, in \u001b[0;36m_repr_pprint\u001b[1;34m(obj, p, cycle)\u001b[0m\n\u001b[0;32m    776\u001b[0m \u001b[38;5;250m\u001b[39m\u001b[38;5;124;03m\"\"\"A pprint that just redirects to the normal repr function.\"\"\"\u001b[39;00m\n\u001b[0;32m    777\u001b[0m \u001b[38;5;66;03m# Find newlines and replace them with p.break_()\u001b[39;00m\n\u001b[1;32m--> 778\u001b[0m output \u001b[38;5;241m=\u001b[39m \u001b[38;5;28mrepr\u001b[39m(obj)\n\u001b[0;32m    779\u001b[0m lines \u001b[38;5;241m=\u001b[39m output\u001b[38;5;241m.\u001b[39msplitlines()\n\u001b[0;32m    780\u001b[0m \u001b[38;5;28;01mwith\u001b[39;00m p\u001b[38;5;241m.\u001b[39mgroup():\n",
      "\u001b[1;31mValueError\u001b[0m: Exceeds the limit (4300 digits) for integer string conversion; use sys.set_int_max_str_digits() to increase the limit"
     ]
    }
   ],
   "source": [
    "10 ** 10_000\n"
   ]
  },
  {
   "cell_type": "code",
   "execution_count": 62,
   "id": "fafd7a70",
   "metadata": {},
   "outputs": [
    {
     "ename": "NameError",
     "evalue": "name 'Flotantes' is not defined",
     "output_type": "error",
     "traceback": [
      "\u001b[1;31m---------------------------------------------------------------------------\u001b[0m",
      "\u001b[1;31mNameError\u001b[0m                                 Traceback (most recent call last)",
      "Cell \u001b[1;32mIn[62], line 1\u001b[0m\n\u001b[1;32m----> 1\u001b[0m \u001b[43mFlotantes\u001b[49m\n",
      "\u001b[1;31mNameError\u001b[0m: name 'Flotantes' is not defined"
     ]
    }
   ],
   "source": [
    "Flotantes"
   ]
  },
  {
   "cell_type": "code",
   "execution_count": 70,
   "id": "efbaa17e",
   "metadata": {},
   "outputs": [
    {
     "data": {
      "text/plain": [
       "4.0"
      ]
     },
     "execution_count": 70,
     "metadata": {},
     "output_type": "execute_result"
    }
   ],
   "source": [
    "4.0\n",
    "\n",
    "4.\n",
    "\n",
    "04.0\n",
    "\n",
    "04.\n",
    "\n",
    "4.000_000\n",
    "\n",
    "4e0  # 4.0 * (10 ** 0)"
   ]
  },
  {
   "cell_type": "code",
   "execution_count": null,
   "id": "6328a2ff",
   "metadata": {},
   "outputs": [],
   "source": [
    "Conversión de tipos¶\n"
   ]
  },
  {
   "cell_type": "code",
   "execution_count": null,
   "id": "fa02742f",
   "metadata": {},
   "outputs": [],
   "source": [
    "CONVERSIÓN IMPLÍCITA¶\n"
   ]
  },
  {
   "cell_type": "code",
   "execution_count": 63,
   "id": "286cae8b",
   "metadata": {},
   "outputs": [
    {
     "data": {
      "text/plain": [
       "26"
      ]
     },
     "execution_count": 63,
     "metadata": {},
     "output_type": "execute_result"
    }
   ],
   "source": [
    "True + 25\n"
   ]
  },
  {
   "cell_type": "code",
   "execution_count": 64,
   "id": "5e2e16e9",
   "metadata": {},
   "outputs": [
    {
     "data": {
      "text/plain": [
       "0"
      ]
     },
     "execution_count": 64,
     "metadata": {},
     "output_type": "execute_result"
    }
   ],
   "source": [
    "7 * False\n"
   ]
  },
  {
   "cell_type": "code",
   "execution_count": 65,
   "id": "0d3918c5",
   "metadata": {},
   "outputs": [
    {
     "data": {
      "text/plain": [
       "1"
      ]
     },
     "execution_count": 65,
     "metadata": {},
     "output_type": "execute_result"
    }
   ],
   "source": [
    "True + False\n"
   ]
  },
  {
   "cell_type": "code",
   "execution_count": 66,
   "id": "44a7bb73",
   "metadata": {},
   "outputs": [
    {
     "data": {
      "text/plain": [
       "22.8"
      ]
     },
     "execution_count": 66,
     "metadata": {},
     "output_type": "execute_result"
    }
   ],
   "source": [
    "21.8 + True\n"
   ]
  },
  {
   "cell_type": "code",
   "execution_count": 67,
   "id": "02ef98bc",
   "metadata": {},
   "outputs": [
    {
     "data": {
      "text/plain": [
       "21.3"
      ]
     },
     "execution_count": 67,
     "metadata": {},
     "output_type": "execute_result"
    }
   ],
   "source": [
    "10 + 11.3\n"
   ]
  },
  {
   "cell_type": "code",
   "execution_count": 68,
   "id": "e03c5f56",
   "metadata": {},
   "outputs": [
    {
     "ename": "SyntaxError",
     "evalue": "invalid character '¶' (U+00B6) (3205602643.py, line 1)",
     "output_type": "error",
     "traceback": [
      "\u001b[1;36m  Cell \u001b[1;32mIn[68], line 1\u001b[1;36m\u001b[0m\n\u001b[1;33m    CONVERSIÓN EXPLÍCITA¶\u001b[0m\n\u001b[1;37m                        ^\u001b[0m\n\u001b[1;31mSyntaxError\u001b[0m\u001b[1;31m:\u001b[0m invalid character '¶' (U+00B6)\n"
     ]
    }
   ],
   "source": [
    "CONVERSIÓN EXPLÍCITA¶\n"
   ]
  },
  {
   "cell_type": "code",
   "execution_count": 77,
   "id": "64a0f392",
   "metadata": {},
   "outputs": [
    {
     "data": {
      "text/plain": [
       "0.0"
      ]
     },
     "execution_count": 77,
     "metadata": {},
     "output_type": "execute_result"
    }
   ],
   "source": [
    "bool(1)\n",
    "\n"
   ]
  },
  {
   "cell_type": "code",
   "execution_count": 69,
   "id": "4dd3c30b",
   "metadata": {},
   "outputs": [
    {
     "data": {
      "text/plain": [
       "False"
      ]
     },
     "execution_count": 69,
     "metadata": {},
     "output_type": "execute_result"
    }
   ],
   "source": [
    "\n",
    "bool(0)\n",
    "\n"
   ]
  },
  {
   "cell_type": "code",
   "execution_count": 70,
   "id": "dfaf3dbe",
   "metadata": {},
   "outputs": [
    {
     "data": {
      "text/plain": [
       "1"
      ]
     },
     "execution_count": 70,
     "metadata": {},
     "output_type": "execute_result"
    }
   ],
   "source": [
    "int(True)\n"
   ]
  },
  {
   "cell_type": "code",
   "execution_count": 71,
   "id": "2563c4a3",
   "metadata": {},
   "outputs": [
    {
     "data": {
      "text/plain": [
       "1.0"
      ]
     },
     "execution_count": 71,
     "metadata": {},
     "output_type": "execute_result"
    }
   ],
   "source": [
    "float(1)\n"
   ]
  },
  {
   "cell_type": "code",
   "execution_count": 72,
   "id": "79c88757",
   "metadata": {},
   "outputs": [
    {
     "data": {
      "text/plain": [
       "1.0"
      ]
     },
     "execution_count": 72,
     "metadata": {},
     "output_type": "execute_result"
    }
   ],
   "source": [
    "float(True)\n",
    "\n"
   ]
  },
  {
   "cell_type": "code",
   "execution_count": 73,
   "id": "c075a899",
   "metadata": {},
   "outputs": [
    {
     "data": {
      "text/plain": [
       "3"
      ]
     },
     "execution_count": 73,
     "metadata": {},
     "output_type": "execute_result"
    }
   ],
   "source": [
    "int(3.1)\n"
   ]
  },
  {
   "cell_type": "code",
   "execution_count": 74,
   "id": "d62fc357",
   "metadata": {},
   "outputs": [
    {
     "data": {
      "text/plain": [
       "bool"
      ]
     },
     "execution_count": 74,
     "metadata": {},
     "output_type": "execute_result"
    }
   ],
   "source": [
    "is_raining = False\n",
    "type(is_raining)\n"
   ]
  },
  {
   "cell_type": "code",
   "execution_count": 75,
   "id": "24a8bc62",
   "metadata": {},
   "outputs": [
    {
     "data": {
      "text/plain": [
       "int"
      ]
     },
     "execution_count": 75,
     "metadata": {},
     "output_type": "execute_result"
    }
   ],
   "source": [
    "sound_level = 35\n",
    "type(sound_level)\n"
   ]
  },
  {
   "cell_type": "code",
   "execution_count": 76,
   "id": "22fdde5e",
   "metadata": {},
   "outputs": [
    {
     "data": {
      "text/plain": [
       "float"
      ]
     },
     "execution_count": 76,
     "metadata": {},
     "output_type": "execute_result"
    }
   ],
   "source": [
    "\n",
    "\n",
    "temperature = 36.6\n",
    "type(temperature)"
   ]
  },
  {
   "cell_type": "code",
   "execution_count": 77,
   "id": "4dd1b345",
   "metadata": {},
   "outputs": [
    {
     "data": {
      "text/plain": [
       "True"
      ]
     },
     "execution_count": 77,
     "metadata": {},
     "output_type": "execute_result"
    }
   ],
   "source": [
    "isinstance(is_raining, bool)\n"
   ]
  },
  {
   "cell_type": "code",
   "execution_count": 79,
   "id": "93b8bf70",
   "metadata": {},
   "outputs": [
    {
     "data": {
      "text/plain": [
       "True"
      ]
     },
     "execution_count": 79,
     "metadata": {},
     "output_type": "execute_result"
    }
   ],
   "source": [
    "isinstance(sound_level, int)\n"
   ]
  },
  {
   "cell_type": "code",
   "execution_count": 80,
   "id": "7cc26b53",
   "metadata": {},
   "outputs": [
    {
     "data": {
      "text/plain": [
       "True"
      ]
     },
     "execution_count": 80,
     "metadata": {},
     "output_type": "execute_result"
    }
   ],
   "source": [
    "isinstance(temperature, float)\n"
   ]
  },
  {
   "cell_type": "code",
   "execution_count": 81,
   "id": "3370e9bb",
   "metadata": {},
   "outputs": [
    {
     "ename": "SyntaxError",
     "evalue": "invalid character '¶' (U+00B6) (3274508999.py, line 1)",
     "output_type": "error",
     "traceback": [
      "\u001b[1;36m  Cell \u001b[1;32mIn[81], line 1\u001b[1;36m\u001b[0m\n\u001b[1;33m    Errores de aproximación¶\u001b[0m\n\u001b[1;37m                           ^\u001b[0m\n\u001b[1;31mSyntaxError\u001b[0m\u001b[1;31m:\u001b[0m invalid character '¶' (U+00B6)\n"
     ]
    }
   ],
   "source": [
    "Errores de aproximación¶\n"
   ]
  },
  {
   "cell_type": "code",
   "execution_count": 82,
   "id": "5466083d",
   "metadata": {},
   "outputs": [
    {
     "data": {
      "text/plain": [
       "0.9999999999999999"
      ]
     },
     "execution_count": 82,
     "metadata": {},
     "output_type": "execute_result"
    }
   ],
   "source": [
    "(19 / 155) * (155 / 19)\n"
   ]
  },
  {
   "cell_type": "code",
   "execution_count": 83,
   "id": "17334731",
   "metadata": {},
   "outputs": [
    {
     "name": "stdout",
     "output_type": "stream",
     "text": [
      "3\n",
      "3.1\n",
      "3.14\n",
      "3.142\n",
      "3.1416\n",
      "3.14159\n"
     ]
    }
   ],
   "source": [
    "pi = 3.14159265359\n",
    "\n",
    "print(round(pi))\n",
    "\n",
    "print(round(pi, 1))\n",
    "\n",
    "print(round(pi, 2))\n",
    "\n",
    "print(round(pi, 3))\n",
    "\n",
    "print(round(pi, 4))\n",
    "\n",
    "print(round(pi, 5))\n"
   ]
  },
  {
   "cell_type": "code",
   "execution_count": 84,
   "id": "aeaffea7",
   "metadata": {},
   "outputs": [
    {
     "data": {
      "text/plain": [
       "1.0"
      ]
     },
     "execution_count": 84,
     "metadata": {},
     "output_type": "execute_result"
    }
   ],
   "source": [
    "result = (19 / 155) * (155 / 19)\n",
    "\n",
    "round(result, 1)"
   ]
  },
  {
   "cell_type": "code",
   "execution_count": 85,
   "id": "94f6d31a",
   "metadata": {},
   "outputs": [
    {
     "ename": "SyntaxError",
     "evalue": "invalid character '¶' (U+00B6) (4209859900.py, line 1)",
     "output_type": "error",
     "traceback": [
      "\u001b[1;36m  Cell \u001b[1;32mIn[85], line 1\u001b[1;36m\u001b[0m\n\u001b[1;33m    Límite de un flotante¶\u001b[0m\n\u001b[1;37m                         ^\u001b[0m\n\u001b[1;31mSyntaxError\u001b[0m\u001b[1;31m:\u001b[0m invalid character '¶' (U+00B6)\n"
     ]
    }
   ],
   "source": [
    "Límite de un flotante¶\n"
   ]
  },
  {
   "cell_type": "code",
   "execution_count": 94,
   "id": "5cc6b436",
   "metadata": {},
   "outputs": [
    {
     "data": {
      "text/plain": [
       "2.2250738585072014e-308"
      ]
     },
     "execution_count": 94,
     "metadata": {},
     "output_type": "execute_result"
    }
   ],
   "source": [
    "import sys\n",
    "\n",
    "sys.float_info.min\n"
   ]
  },
  {
   "cell_type": "code",
   "execution_count": 95,
   "id": "0af54eee",
   "metadata": {},
   "outputs": [
    {
     "data": {
      "text/plain": [
       "1.7976931348623157e+308"
      ]
     },
     "execution_count": 95,
     "metadata": {},
     "output_type": "execute_result"
    }
   ],
   "source": [
    "\n",
    "\n",
    "sys.float_info.max"
   ]
  },
  {
   "cell_type": "code",
   "execution_count": null,
   "id": "68246db8",
   "metadata": {},
   "outputs": [],
   "source": [
    "Cadenas de texto¶\n"
   ]
  },
  {
   "cell_type": "code",
   "execution_count": 86,
   "id": "c1863371",
   "metadata": {},
   "outputs": [
    {
     "data": {
      "text/plain": [
       "'Mi primera cadena en Python'"
      ]
     },
     "execution_count": 86,
     "metadata": {},
     "output_type": "execute_result"
    }
   ],
   "source": [
    "'Mi primera cadena en Python'\n"
   ]
  },
  {
   "cell_type": "code",
   "execution_count": 87,
   "id": "6a6477a9",
   "metadata": {},
   "outputs": [
    {
     "data": {
      "text/plain": [
       "'Los llamados \"strings\" son secuencias de caracteres'"
      ]
     },
     "execution_count": 87,
     "metadata": {},
     "output_type": "execute_result"
    }
   ],
   "source": [
    "'Los llamados \"strings\" son secuencias de caracteres'\n"
   ]
  },
  {
   "cell_type": "code",
   "execution_count": 90,
   "id": "cf21a16d",
   "metadata": {},
   "outputs": [
    {
     "data": {
      "text/plain": [
       "\"Los llamados 'strings' son secuencias de caracteres\""
      ]
     },
     "execution_count": 90,
     "metadata": {},
     "output_type": "execute_result"
    }
   ],
   "source": [
    "'Los llamados \\'strings\\' son secuencias de caracteres'\n"
   ]
  },
  {
   "cell_type": "code",
   "execution_count": 91,
   "id": "887a88f2",
   "metadata": {},
   "outputs": [
    {
     "data": {
      "text/plain": [
       "\"Los llamados 'strings' son secuencias de caracteres\""
      ]
     },
     "execution_count": 91,
     "metadata": {},
     "output_type": "execute_result"
    }
   ],
   "source": [
    "\"Los llamados 'strings' son secuencias de caracteres\"\n"
   ]
  },
  {
   "cell_type": "code",
   "execution_count": null,
   "id": "ce2a5a12",
   "metadata": {},
   "outputs": [],
   "source": [
    "Comillas triples¶\n"
   ]
  },
  {
   "cell_type": "code",
   "execution_count": 94,
   "id": "6fce48df",
   "metadata": {},
   "outputs": [],
   "source": [
    "poem = '''To be, or not to be, that is the question:\n",
    "Whether 'tis nobler in the mind to suffer\n",
    "The slings and arrows of outrageous fortune,\n",
    "Or to take arms against a sea of troubles'''"
   ]
  },
  {
   "cell_type": "code",
   "execution_count": null,
   "id": "df540e26",
   "metadata": {},
   "outputs": [],
   "source": [
    "Cadena vacía¶\n"
   ]
  },
  {
   "cell_type": "code",
   "execution_count": 95,
   "id": "c3ecf9c2",
   "metadata": {},
   "outputs": [
    {
     "data": {
      "text/plain": [
       "''"
      ]
     },
     "execution_count": 95,
     "metadata": {},
     "output_type": "execute_result"
    }
   ],
   "source": [
    "''"
   ]
  },
  {
   "cell_type": "code",
   "execution_count": null,
   "id": "1242ac21",
   "metadata": {},
   "outputs": [],
   "source": [
    "Conversión"
   ]
  },
  {
   "cell_type": "code",
   "execution_count": 96,
   "id": "08ba4927",
   "metadata": {},
   "outputs": [
    {
     "data": {
      "text/plain": [
       "'True'"
      ]
     },
     "execution_count": 96,
     "metadata": {},
     "output_type": "execute_result"
    }
   ],
   "source": [
    "str(True)\n"
   ]
  },
  {
   "cell_type": "code",
   "execution_count": 97,
   "id": "29075d82",
   "metadata": {},
   "outputs": [
    {
     "data": {
      "text/plain": [
       "'10'"
      ]
     },
     "execution_count": 97,
     "metadata": {},
     "output_type": "execute_result"
    }
   ],
   "source": [
    "str(10)"
   ]
  },
  {
   "cell_type": "code",
   "execution_count": 98,
   "id": "b78da861",
   "metadata": {},
   "outputs": [
    {
     "data": {
      "text/plain": [
       "'21.7'"
      ]
     },
     "execution_count": 98,
     "metadata": {},
     "output_type": "execute_result"
    }
   ],
   "source": [
    "\n",
    "str(21.7)"
   ]
  },
  {
   "cell_type": "code",
   "execution_count": 99,
   "id": "30aab52d",
   "metadata": {},
   "outputs": [
    {
     "data": {
      "text/plain": [
       "10"
      ]
     },
     "execution_count": 99,
     "metadata": {},
     "output_type": "execute_result"
    }
   ],
   "source": [
    "int('10')\n"
   ]
  },
  {
   "cell_type": "code",
   "execution_count": 102,
   "id": "e5f8b7f1",
   "metadata": {},
   "outputs": [
    {
     "data": {
      "text/plain": [
       "21.7"
      ]
     },
     "execution_count": 102,
     "metadata": {},
     "output_type": "execute_result"
    }
   ],
   "source": [
    "float('21.7')\n"
   ]
  },
  {
   "cell_type": "code",
   "execution_count": 103,
   "id": "ca4f705f",
   "metadata": {},
   "outputs": [
    {
     "data": {
      "text/plain": [
       "255"
      ]
     },
     "execution_count": 103,
     "metadata": {},
     "output_type": "execute_result"
    }
   ],
   "source": [
    "int('FF', 16)\n"
   ]
  },
  {
   "cell_type": "code",
   "execution_count": 104,
   "id": "80908523",
   "metadata": {},
   "outputs": [
    {
     "ename": "SyntaxError",
     "evalue": "invalid character '¶' (U+00B6) (3846545128.py, line 1)",
     "output_type": "error",
     "traceback": [
      "\u001b[1;36m  Cell \u001b[1;32mIn[104], line 1\u001b[1;36m\u001b[0m\n\u001b[1;33m    Secuencias de escape¶\u001b[0m\n\u001b[1;37m                        ^\u001b[0m\n\u001b[1;31mSyntaxError\u001b[0m\u001b[1;31m:\u001b[0m invalid character '¶' (U+00B6)\n"
     ]
    }
   ],
   "source": [
    "Secuencias de escape¶\n"
   ]
  },
  {
   "cell_type": "code",
   "execution_count": 105,
   "id": "ab320225",
   "metadata": {},
   "outputs": [
    {
     "name": "stdout",
     "output_type": "stream",
     "text": [
      "Primera línea\n",
      "Segunda línea\n",
      "Tercera línea\n"
     ]
    }
   ],
   "source": [
    "msg = 'Primera línea\\nSegunda línea\\nTercera línea'\n",
    "print(msg)"
   ]
  },
  {
   "cell_type": "code",
   "execution_count": 106,
   "id": "079deb53",
   "metadata": {},
   "outputs": [
    {
     "name": "stdout",
     "output_type": "stream",
     "text": [
      "Valor = \t40\n"
     ]
    }
   ],
   "source": [
    "msg = 'Valor = \\t40'\n",
    "print(msg)"
   ]
  },
  {
   "cell_type": "code",
   "execution_count": 107,
   "id": "8c6d8a04",
   "metadata": {},
   "outputs": [
    {
     "name": "stdout",
     "output_type": "stream",
     "text": [
      "Necesitamos 'escapar' la comilla simple\n"
     ]
    }
   ],
   "source": [
    "msg = 'Necesitamos \\'escapar\\' la comilla simple'\n",
    "print(msg)"
   ]
  },
  {
   "cell_type": "code",
   "execution_count": 108,
   "id": "3a981516",
   "metadata": {},
   "outputs": [
    {
     "name": "stdout",
     "output_type": "stream",
     "text": [
      "Capítulo \\ Sección \\ Encabezado\n"
     ]
    }
   ],
   "source": [
    "msg = 'Capítulo \\\\ Sección \\\\ Encabezado'\n",
    ">>> print(msg)"
   ]
  },
  {
   "cell_type": "code",
   "execution_count": 109,
   "id": "aad7a826",
   "metadata": {},
   "outputs": [
    {
     "ename": "SyntaxError",
     "evalue": "invalid character '¶' (U+00B6) (3024418918.py, line 1)",
     "output_type": "error",
     "traceback": [
      "\u001b[1;36m  Cell \u001b[1;32mIn[109], line 1\u001b[1;36m\u001b[0m\n\u001b[1;33m    Expresiones literales¶\u001b[0m\n\u001b[1;37m                         ^\u001b[0m\n\u001b[1;31mSyntaxError\u001b[0m\u001b[1;31m:\u001b[0m invalid character '¶' (U+00B6)\n"
     ]
    }
   ],
   "source": [
    "Expresiones literales¶\n"
   ]
  },
  {
   "cell_type": "code",
   "execution_count": 110,
   "id": "ebad04b0",
   "metadata": {},
   "outputs": [
    {
     "name": "stdout",
     "output_type": "stream",
     "text": [
      "abc\n",
      "def\n"
     ]
    }
   ],
   "source": [
    "text = 'abc\\ndef'\n",
    "print(text)\n",
    "\n"
   ]
  },
  {
   "cell_type": "code",
   "execution_count": 111,
   "id": "e1a47086",
   "metadata": {},
   "outputs": [
    {
     "name": "stdout",
     "output_type": "stream",
     "text": [
      "abc\\ndef\n"
     ]
    }
   ],
   "source": [
    "text = r'abc\\ndef'\n",
    "print(text)\n"
   ]
  },
  {
   "cell_type": "code",
   "execution_count": 112,
   "id": "b03ec7e4",
   "metadata": {},
   "outputs": [
    {
     "name": "stdout",
     "output_type": "stream",
     "text": [
      "a\tb\tc\n"
     ]
    }
   ],
   "source": [
    "text = 'a\\tb\\tc'\n",
    "print(text)\n"
   ]
  },
  {
   "cell_type": "code",
   "execution_count": 113,
   "id": "9ef93982",
   "metadata": {},
   "outputs": [
    {
     "name": "stdout",
     "output_type": "stream",
     "text": [
      "a\\tb\\tc\n"
     ]
    }
   ],
   "source": [
    "\n",
    "\n",
    "text = r'a\\tb\\tc'\n",
    "print(text)"
   ]
  },
  {
   "cell_type": "code",
   "execution_count": 114,
   "id": "43661d07",
   "metadata": {},
   "outputs": [
    {
     "name": "stdout",
     "output_type": "stream",
     "text": [
      "¿Sabes por qué estoy acá? Porque me apasiona\n"
     ]
    }
   ],
   "source": [
    "msg1 = '¿Sabes por qué estoy acá?'\n",
    "msg2 = 'Porque me apasiona'\n",
    "\n",
    "print(msg1, msg2)"
   ]
  },
  {
   "cell_type": "code",
   "execution_count": 115,
   "id": "5f829d34",
   "metadata": {},
   "outputs": [
    {
     "name": "stdout",
     "output_type": "stream",
     "text": [
      "¿Sabes por qué estoy acá?|Porque me apasiona\n"
     ]
    }
   ],
   "source": [
    "print(msg1, msg2, sep='|')\n"
   ]
  },
  {
   "cell_type": "code",
   "execution_count": 116,
   "id": "6bb7d873",
   "metadata": {},
   "outputs": [
    {
     "name": "stdout",
     "output_type": "stream",
     "text": [
      "Porque me apasiona!!"
     ]
    }
   ],
   "source": [
    "print(msg2, end='!!')\n"
   ]
  },
  {
   "cell_type": "code",
   "execution_count": null,
   "id": "1b53da26",
   "metadata": {},
   "outputs": [],
   "source": [
    "Leer datos desde teclado¶\n"
   ]
  },
  {
   "cell_type": "code",
   "execution_count": 117,
   "id": "19c7c315",
   "metadata": {},
   "outputs": [
    {
     "name": "stdout",
     "output_type": "stream",
     "text": [
      "Introduzca su nombre: Oscar\n"
     ]
    },
    {
     "data": {
      "text/plain": [
       "'Oscar'"
      ]
     },
     "execution_count": 117,
     "metadata": {},
     "output_type": "execute_result"
    }
   ],
   "source": [
    "name = input('Introduzca su nombre: ')\n",
    "\n",
    "name"
   ]
  },
  {
   "cell_type": "code",
   "execution_count": 122,
   "id": "849df680",
   "metadata": {},
   "outputs": [
    {
     "name": "stdout",
     "output_type": "stream",
     "text": [
      "Introduzca su edad: 55\n"
     ]
    },
    {
     "data": {
      "text/plain": [
       "'55'"
      ]
     },
     "execution_count": 122,
     "metadata": {},
     "output_type": "execute_result"
    }
   ],
   "source": [
    "age = input('Introduzca su edad: ')\n",
    "\n",
    "age"
   ]
  },
  {
   "cell_type": "code",
   "execution_count": 123,
   "id": "a4a34bb2",
   "metadata": {},
   "outputs": [
    {
     "data": {
      "text/plain": [
       "str"
      ]
     },
     "execution_count": 123,
     "metadata": {},
     "output_type": "execute_result"
    }
   ],
   "source": [
    "type(age)\n"
   ]
  },
  {
   "cell_type": "code",
   "execution_count": 124,
   "id": "fcfaeec5",
   "metadata": {},
   "outputs": [
    {
     "data": {
      "text/plain": [
       "'55555555'"
      ]
     },
     "execution_count": 124,
     "metadata": {},
     "output_type": "execute_result"
    }
   ],
   "source": [
    "age*4"
   ]
  },
  {
   "cell_type": "code",
   "execution_count": 121,
   "id": "0f8d629c",
   "metadata": {},
   "outputs": [
    {
     "data": {
      "text/plain": [
       "132"
      ]
     },
     "execution_count": 121,
     "metadata": {},
     "output_type": "execute_result"
    }
   ],
   "source": [
    "int(age)*4"
   ]
  },
  {
   "cell_type": "code",
   "execution_count": null,
   "id": "02dc0cf9",
   "metadata": {},
   "outputs": [],
   "source": [
    "Operaciones con «strings»¶\n"
   ]
  },
  {
   "cell_type": "code",
   "execution_count": 125,
   "id": "2c392c80",
   "metadata": {},
   "outputs": [
    {
     "data": {
      "text/plain": [
       "'Cuando el río suenaagua lleva'"
      ]
     },
     "execution_count": 125,
     "metadata": {},
     "output_type": "execute_result"
    }
   ],
   "source": [
    "proverb1 = 'Cuando el río suena'\n",
    "proverb2 = 'agua lleva'\n",
    "\n",
    "proverb1 + proverb2"
   ]
  },
  {
   "cell_type": "code",
   "execution_count": 126,
   "id": "91c77b04",
   "metadata": {},
   "outputs": [
    {
     "data": {
      "text/plain": [
       "'Cuando el río suena, agua lleva'"
      ]
     },
     "execution_count": 126,
     "metadata": {},
     "output_type": "execute_result"
    }
   ],
   "source": [
    "proverb1 + ', ' + proverb2  # incluimos una coma\n"
   ]
  },
  {
   "cell_type": "code",
   "execution_count": null,
   "id": "8d59a3fd",
   "metadata": {},
   "outputs": [],
   "source": [
    "Repetir cadenas¶\n"
   ]
  },
  {
   "cell_type": "code",
   "execution_count": 127,
   "id": "e06c6009",
   "metadata": {},
   "outputs": [],
   "source": [
    "reaction = 'Wow'\n"
   ]
  },
  {
   "cell_type": "code",
   "execution_count": 128,
   "id": "e7c12846",
   "metadata": {},
   "outputs": [
    {
     "data": {
      "text/plain": [
       "'WowWowWowWow'"
      ]
     },
     "execution_count": 128,
     "metadata": {},
     "output_type": "execute_result"
    }
   ],
   "source": [
    "reaction * 4\n"
   ]
  },
  {
   "cell_type": "code",
   "execution_count": null,
   "id": "d9b42443",
   "metadata": {},
   "outputs": [],
   "source": [
    "Obtener un carácter¶\n"
   ]
  },
  {
   "cell_type": "code",
   "execution_count": 129,
   "id": "ba977989",
   "metadata": {},
   "outputs": [],
   "source": [
    "sentence = 'Hola, Mundo'\n"
   ]
  },
  {
   "cell_type": "code",
   "execution_count": 130,
   "id": "d0784615",
   "metadata": {},
   "outputs": [
    {
     "data": {
      "text/plain": [
       "'H'"
      ]
     },
     "execution_count": 130,
     "metadata": {},
     "output_type": "execute_result"
    }
   ],
   "source": [
    "sentence[0]\n"
   ]
  },
  {
   "cell_type": "code",
   "execution_count": 131,
   "id": "07e014b4",
   "metadata": {},
   "outputs": [
    {
     "data": {
      "text/plain": [
       "'o'"
      ]
     },
     "execution_count": 131,
     "metadata": {},
     "output_type": "execute_result"
    }
   ],
   "source": [
    "sentence[-1]\n"
   ]
  },
  {
   "cell_type": "code",
   "execution_count": 132,
   "id": "807f9849",
   "metadata": {},
   "outputs": [
    {
     "data": {
      "text/plain": [
       "','"
      ]
     },
     "execution_count": 132,
     "metadata": {},
     "output_type": "execute_result"
    }
   ],
   "source": [
    "sentence[4]\n"
   ]
  },
  {
   "cell_type": "code",
   "execution_count": 133,
   "id": "9280cfe8",
   "metadata": {},
   "outputs": [
    {
     "data": {
      "text/plain": [
       "'M'"
      ]
     },
     "execution_count": 133,
     "metadata": {},
     "output_type": "execute_result"
    }
   ],
   "source": [
    "sentence[-5]\n"
   ]
  },
  {
   "cell_type": "code",
   "execution_count": 134,
   "id": "31d2044b",
   "metadata": {},
   "outputs": [
    {
     "ename": "IndexError",
     "evalue": "string index out of range",
     "output_type": "error",
     "traceback": [
      "\u001b[1;31m---------------------------------------------------------------------------\u001b[0m",
      "\u001b[1;31mIndexError\u001b[0m                                Traceback (most recent call last)",
      "Cell \u001b[1;32mIn[134], line 1\u001b[0m\n\u001b[1;32m----> 1\u001b[0m \u001b[43msentence\u001b[49m\u001b[43m[\u001b[49m\u001b[38;5;241;43m50\u001b[39;49m\u001b[43m]\u001b[49m\n",
      "\u001b[1;31mIndexError\u001b[0m: string index out of range"
     ]
    }
   ],
   "source": [
    "sentence[50]\n"
   ]
  },
  {
   "cell_type": "code",
   "execution_count": 135,
   "id": "589e5d96",
   "metadata": {},
   "outputs": [
    {
     "data": {
      "text/plain": [
       "11"
      ]
     },
     "execution_count": 135,
     "metadata": {},
     "output_type": "execute_result"
    }
   ],
   "source": [
    "len(sentence)"
   ]
  },
  {
   "cell_type": "code",
   "execution_count": 136,
   "id": "c97332cf",
   "metadata": {},
   "outputs": [
    {
     "ename": "TypeError",
     "evalue": "'str' object does not support item assignment",
     "output_type": "error",
     "traceback": [
      "\u001b[1;31m---------------------------------------------------------------------------\u001b[0m",
      "\u001b[1;31mTypeError\u001b[0m                                 Traceback (most recent call last)",
      "Cell \u001b[1;32mIn[136], line 3\u001b[0m\n\u001b[0;32m      1\u001b[0m song \u001b[38;5;241m=\u001b[39m \u001b[38;5;124m'\u001b[39m\u001b[38;5;124mHey Jude\u001b[39m\u001b[38;5;124m'\u001b[39m\n\u001b[1;32m----> 3\u001b[0m song[\u001b[38;5;241m4\u001b[39m] \u001b[38;5;241m=\u001b[39m \u001b[38;5;124m'\u001b[39m\u001b[38;5;124mD\u001b[39m\u001b[38;5;124m'\u001b[39m\n",
      "\u001b[1;31mTypeError\u001b[0m: 'str' object does not support item assignment"
     ]
    }
   ],
   "source": [
    "song = 'Hey Jude'\n",
    "\n",
    "song[4] = 'D'"
   ]
  },
  {
   "cell_type": "code",
   "execution_count": null,
   "id": "a64bdc7a",
   "metadata": {},
   "outputs": [],
   "source": [
    "Trocear una cadena¶\n"
   ]
  },
  {
   "cell_type": "code",
   "execution_count": 137,
   "id": "eabadceb",
   "metadata": {},
   "outputs": [],
   "source": [
    "proverb = 'Agua pasada no mueve molino'\n"
   ]
  },
  {
   "cell_type": "code",
   "execution_count": 138,
   "id": "4a826307",
   "metadata": {},
   "outputs": [
    {
     "data": {
      "text/plain": [
       "'Agua pasada no mueve molino'"
      ]
     },
     "execution_count": 138,
     "metadata": {},
     "output_type": "execute_result"
    }
   ],
   "source": [
    "proverb[:]\n"
   ]
  },
  {
   "cell_type": "code",
   "execution_count": 139,
   "id": "154e8b59",
   "metadata": {},
   "outputs": [
    {
     "data": {
      "text/plain": [
       "'no mueve molino'"
      ]
     },
     "execution_count": 139,
     "metadata": {},
     "output_type": "execute_result"
    }
   ],
   "source": [
    "proverb[12:]\n"
   ]
  },
  {
   "cell_type": "code",
   "execution_count": 140,
   "id": "a20fd8ad",
   "metadata": {},
   "outputs": [
    {
     "data": {
      "text/plain": [
       "'Agua pasada'"
      ]
     },
     "execution_count": 140,
     "metadata": {},
     "output_type": "execute_result"
    }
   ],
   "source": [
    "proverb[:11]\n"
   ]
  },
  {
   "cell_type": "code",
   "execution_count": 141,
   "id": "6fc5ba30",
   "metadata": {},
   "outputs": [
    {
     "data": {
      "text/plain": [
       "'pasada'"
      ]
     },
     "execution_count": 141,
     "metadata": {},
     "output_type": "execute_result"
    }
   ],
   "source": [
    "proverb[5:11]\n"
   ]
  },
  {
   "cell_type": "code",
   "execution_count": 142,
   "id": "b54a66b7",
   "metadata": {},
   "outputs": [
    {
     "data": {
      "text/plain": [
       "'psd'"
      ]
     },
     "execution_count": 142,
     "metadata": {},
     "output_type": "execute_result"
    }
   ],
   "source": [
    "proverb[5:11:2]\n"
   ]
  },
  {
   "cell_type": "code",
   "execution_count": null,
   "id": "b15dd603",
   "metadata": {},
   "outputs": [],
   "source": [
    "Longitud de una cadena¶\n"
   ]
  },
  {
   "cell_type": "code",
   "execution_count": 143,
   "id": "454ff2fc",
   "metadata": {},
   "outputs": [
    {
     "data": {
      "text/plain": [
       "30"
      ]
     },
     "execution_count": 143,
     "metadata": {},
     "output_type": "execute_result"
    }
   ],
   "source": [
    "proverb = 'Lo cortés no quita lo valiente'\n",
    "len(proverb)"
   ]
  },
  {
   "cell_type": "code",
   "execution_count": 144,
   "id": "c084c1d5",
   "metadata": {},
   "outputs": [
    {
     "data": {
      "text/plain": [
       "0"
      ]
     },
     "execution_count": 144,
     "metadata": {},
     "output_type": "execute_result"
    }
   ],
   "source": [
    "empty = ''\n",
    "len(empty)"
   ]
  },
  {
   "cell_type": "code",
   "execution_count": null,
   "id": "d1591293",
   "metadata": {},
   "outputs": [],
   "source": [
    "Pertenencia de un elemento¶\n"
   ]
  },
  {
   "cell_type": "code",
   "execution_count": 145,
   "id": "5b7c60e2",
   "metadata": {},
   "outputs": [],
   "source": [
    "proverb = 'Más vale malo conocido que bueno por conocer'\n"
   ]
  },
  {
   "cell_type": "code",
   "execution_count": 146,
   "id": "2ede5f5a",
   "metadata": {},
   "outputs": [
    {
     "data": {
      "text/plain": [
       "True"
      ]
     },
     "execution_count": 146,
     "metadata": {},
     "output_type": "execute_result"
    }
   ],
   "source": [
    "'malo' in proverb\n"
   ]
  },
  {
   "cell_type": "code",
   "execution_count": 147,
   "id": "c3a78bf3",
   "metadata": {},
   "outputs": [
    {
     "data": {
      "text/plain": [
       "False"
      ]
     },
     "execution_count": 147,
     "metadata": {},
     "output_type": "execute_result"
    }
   ],
   "source": [
    "'regular' in proverb\n"
   ]
  },
  {
   "cell_type": "code",
   "execution_count": 148,
   "id": "fecc2c15",
   "metadata": {},
   "outputs": [],
   "source": [
    "dna_sequence = 'ATGAAATTGAAATGGGA'\n"
   ]
  },
  {
   "cell_type": "code",
   "execution_count": 149,
   "id": "c7382c54",
   "metadata": {},
   "outputs": [
    {
     "data": {
      "text/plain": [
       "True"
      ]
     },
     "execution_count": 149,
     "metadata": {},
     "output_type": "execute_result"
    }
   ],
   "source": [
    "not('C' in dna_sequence)  # Primera aproximación\n"
   ]
  },
  {
   "cell_type": "code",
   "execution_count": 150,
   "id": "8a9064a7",
   "metadata": {},
   "outputs": [
    {
     "data": {
      "text/plain": [
       "True"
      ]
     },
     "execution_count": 150,
     "metadata": {},
     "output_type": "execute_result"
    }
   ],
   "source": [
    "'C' not in dna_sequence  # Forma pitónica\n"
   ]
  },
  {
   "cell_type": "code",
   "execution_count": null,
   "id": "4e64b69d",
   "metadata": {},
   "outputs": [],
   "source": [
    "Dividir una cadena¶\n"
   ]
  },
  {
   "cell_type": "code",
   "execution_count": 151,
   "id": "ce629a7d",
   "metadata": {},
   "outputs": [],
   "source": [
    "proverb = 'No hay mal que por bien no venga'\n"
   ]
  },
  {
   "cell_type": "code",
   "execution_count": 152,
   "id": "913e9d2c",
   "metadata": {},
   "outputs": [
    {
     "data": {
      "text/plain": [
       "['No', 'hay', 'mal', 'que', 'por', 'bien', 'no', 'venga']"
      ]
     },
     "execution_count": 152,
     "metadata": {},
     "output_type": "execute_result"
    }
   ],
   "source": [
    "proverb.split()"
   ]
  },
  {
   "cell_type": "code",
   "execution_count": 153,
   "id": "51dada0e",
   "metadata": {},
   "outputs": [
    {
     "data": {
      "text/plain": [
       "['Martillo', 'Sierra', 'Destornillador']"
      ]
     },
     "execution_count": 153,
     "metadata": {},
     "output_type": "execute_result"
    }
   ],
   "source": [
    "tools = 'Martillo,Sierra,Destornillador'\n",
    "tools.split(',')\n"
   ]
  },
  {
   "cell_type": "code",
   "execution_count": 154,
   "id": "f17993bb",
   "metadata": {},
   "outputs": [
    {
     "data": {
      "text/plain": [
       "list"
      ]
     },
     "execution_count": 154,
     "metadata": {},
     "output_type": "execute_result"
    }
   ],
   "source": [
    "game = 'piedra-papel-tijera'\n",
    "type(game.split('-'))\n"
   ]
  },
  {
   "cell_type": "code",
   "execution_count": 156,
   "id": "2479bf6d",
   "metadata": {},
   "outputs": [
    {
     "data": {
      "text/plain": [
       "('3 ', '+', ' 4 + 6 + 7')"
      ]
     },
     "execution_count": 156,
     "metadata": {},
     "output_type": "execute_result"
    }
   ],
   "source": [
    "text = '3 + 4 + 6 + 7'\n",
    "text.partition('+')\n"
   ]
  },
  {
   "cell_type": "code",
   "execution_count": null,
   "id": "cca8f43b",
   "metadata": {},
   "outputs": [],
   "source": [
    "Limpiar cadenas¶\n"
   ]
  },
  {
   "cell_type": "code",
   "execution_count": 157,
   "id": "3d438816",
   "metadata": {},
   "outputs": [
    {
     "data": {
      "text/plain": [
       "'48374983274832'"
      ]
     },
     "execution_count": 157,
     "metadata": {},
     "output_type": "execute_result"
    }
   ],
   "source": [
    "serial_number = '\\n\\t   \\n 48374983274832    \\n\\n\\t   \\t   \\n'\n",
    "\n",
    "serial_number.strip()"
   ]
  },
  {
   "cell_type": "code",
   "execution_count": 158,
   "id": "f45d130e",
   "metadata": {},
   "outputs": [
    {
     "data": {
      "text/plain": [
       "'48374983274832    \\n\\n\\t   \\t   \\n'"
      ]
     },
     "execution_count": 158,
     "metadata": {},
     "output_type": "execute_result"
    }
   ],
   "source": [
    "serial_number.lstrip()"
   ]
  },
  {
   "cell_type": "code",
   "execution_count": 159,
   "id": "9ce5d7b9",
   "metadata": {},
   "outputs": [
    {
     "data": {
      "text/plain": [
       "'\\n\\t   \\n 48374983274832'"
      ]
     },
     "execution_count": 159,
     "metadata": {},
     "output_type": "execute_result"
    }
   ],
   "source": [
    "serial_number.rstrip()"
   ]
  },
  {
   "cell_type": "code",
   "execution_count": 160,
   "id": "bb57c269",
   "metadata": {},
   "outputs": [
    {
     "data": {
      "text/plain": [
       "'\\t   \\n 48374983274832    \\n\\n\\t   \\t   '"
      ]
     },
     "execution_count": 160,
     "metadata": {},
     "output_type": "execute_result"
    }
   ],
   "source": [
    "serial_number.strip('\\n')"
   ]
  },
  {
   "cell_type": "code",
   "execution_count": null,
   "id": "707fbb6c",
   "metadata": {},
   "outputs": [],
   "source": [
    "Realizar búsquedas¶\n"
   ]
  },
  {
   "cell_type": "code",
   "execution_count": 161,
   "id": "a7a9fa80",
   "metadata": {},
   "outputs": [],
   "source": [
    "lyrics = '''Quizás porque mi niñez\n",
    "Sigue jugando en tu playa\n",
    "Y escondido tras las cañas\n",
    "Duerme mi primer amor\n",
    "Llevo tu luz y tu olor\n",
    "Por dondequiera que vaya'''"
   ]
  },
  {
   "cell_type": "code",
   "execution_count": 162,
   "id": "f030caf9",
   "metadata": {},
   "outputs": [
    {
     "data": {
      "text/plain": [
       "True"
      ]
     },
     "execution_count": 162,
     "metadata": {},
     "output_type": "execute_result"
    }
   ],
   "source": [
    "lyrics.startswith('Quizás')"
   ]
  },
  {
   "cell_type": "code",
   "execution_count": 163,
   "id": "10f72a4a",
   "metadata": {},
   "outputs": [
    {
     "data": {
      "text/plain": [
       "False"
      ]
     },
     "execution_count": 163,
     "metadata": {},
     "output_type": "execute_result"
    }
   ],
   "source": [
    "lyrics.endswith('Final')"
   ]
  },
  {
   "cell_type": "code",
   "execution_count": 164,
   "id": "9a18c8c4",
   "metadata": {},
   "outputs": [
    {
     "data": {
      "text/plain": [
       "93"
      ]
     },
     "execution_count": 164,
     "metadata": {},
     "output_type": "execute_result"
    }
   ],
   "source": [
    "lyrics.find('amor')"
   ]
  },
  {
   "cell_type": "code",
   "execution_count": 165,
   "id": "fb51325c",
   "metadata": {},
   "outputs": [
    {
     "data": {
      "text/plain": [
       "-1"
      ]
     },
     "execution_count": 165,
     "metadata": {},
     "output_type": "execute_result"
    }
   ],
   "source": [
    "lyrics.find('universo')"
   ]
  },
  {
   "cell_type": "code",
   "execution_count": 166,
   "id": "fcf798f2",
   "metadata": {},
   "outputs": [
    {
     "data": {
      "text/plain": [
       "2"
      ]
     },
     "execution_count": 166,
     "metadata": {},
     "output_type": "execute_result"
    }
   ],
   "source": [
    "lyrics.count('mi')"
   ]
  },
  {
   "cell_type": "code",
   "execution_count": 167,
   "id": "c0a0c31c",
   "metadata": {},
   "outputs": [],
   "source": [
    "proverb = 'Quien mal anda mal acaba'"
   ]
  },
  {
   "cell_type": "code",
   "execution_count": 168,
   "id": "6858fe6d",
   "metadata": {},
   "outputs": [
    {
     "data": {
      "text/plain": [
       "'Quien bien anda bien acaba'"
      ]
     },
     "execution_count": 168,
     "metadata": {},
     "output_type": "execute_result"
    }
   ],
   "source": [
    "proverb.replace('mal', 'bien')"
   ]
  },
  {
   "cell_type": "code",
   "execution_count": 169,
   "id": "143a487a",
   "metadata": {},
   "outputs": [
    {
     "data": {
      "text/plain": [
       "'Quien bien anda mal acaba'"
      ]
     },
     "execution_count": 169,
     "metadata": {},
     "output_type": "execute_result"
    }
   ],
   "source": [
    "proverb.replace('mal', 'bien', 1)"
   ]
  },
  {
   "cell_type": "code",
   "execution_count": 170,
   "id": "b085348c",
   "metadata": {},
   "outputs": [
    {
     "data": {
      "text/plain": [
       "'Quien Mal Anda Mal Acaba'"
      ]
     },
     "execution_count": 170,
     "metadata": {},
     "output_type": "execute_result"
    }
   ],
   "source": [
    "proverb.title()"
   ]
  },
  {
   "cell_type": "code",
   "execution_count": 171,
   "id": "1e57d57b",
   "metadata": {},
   "outputs": [
    {
     "data": {
      "text/plain": [
       "'QUIEN MAL ANDA MAL ACABA'"
      ]
     },
     "execution_count": 171,
     "metadata": {},
     "output_type": "execute_result"
    }
   ],
   "source": [
    "proverb.upper()"
   ]
  },
  {
   "cell_type": "code",
   "execution_count": 172,
   "id": "3c1c3d36",
   "metadata": {},
   "outputs": [
    {
     "data": {
      "text/plain": [
       "'quien mal anda mal acaba'"
      ]
     },
     "execution_count": 172,
     "metadata": {},
     "output_type": "execute_result"
    }
   ],
   "source": [
    "proverb.lower()"
   ]
  },
  {
   "cell_type": "code",
   "execution_count": null,
   "id": "dcfdd932",
   "metadata": {},
   "outputs": [],
   "source": [
    "Identificando caracteres¶\n"
   ]
  },
  {
   "cell_type": "code",
   "execution_count": 175,
   "id": "3d65728e",
   "metadata": {},
   "outputs": [
    {
     "data": {
      "text/plain": [
       "True"
      ]
     },
     "execution_count": 175,
     "metadata": {},
     "output_type": "execute_result"
    }
   ],
   "source": [
    "'R2D2'.isalnum()\n"
   ]
  },
  {
   "cell_type": "code",
   "execution_count": 178,
   "id": "3c6fbf38",
   "metadata": {},
   "outputs": [
    {
     "data": {
      "text/plain": [
       "True"
      ]
     },
     "execution_count": 178,
     "metadata": {},
     "output_type": "execute_result"
    }
   ],
   "source": [
    "'314'.isnumeric()"
   ]
  },
  {
   "cell_type": "code",
   "execution_count": 180,
   "id": "0a4addff",
   "metadata": {},
   "outputs": [
    {
     "data": {
      "text/plain": [
       "True"
      ]
     },
     "execution_count": 180,
     "metadata": {},
     "output_type": "execute_result"
    }
   ],
   "source": [
    "'abc'.isalpha()"
   ]
  },
  {
   "cell_type": "code",
   "execution_count": 181,
   "id": "ef4fdcd9",
   "metadata": {},
   "outputs": [
    {
     "data": {
      "text/plain": [
       "'Me llamo Elon Musk, tengo 49 años y una fortuna de 43300 millones'"
      ]
     },
     "execution_count": 181,
     "metadata": {},
     "output_type": "execute_result"
    }
   ],
   "source": [
    "name = 'Elon Musk'\n",
    "age = 49\n",
    "fortune = 43_300\n",
    "\n",
    "f'Me llamo {name}, tengo {age} años y una fortuna de {fortune} millones'"
   ]
  }
 ],
 "metadata": {
  "kernelspec": {
   "display_name": "Python 3 (ipykernel)",
   "language": "python",
   "name": "python3"
  },
  "language_info": {
   "codemirror_mode": {
    "name": "ipython",
    "version": 3
   },
   "file_extension": ".py",
   "mimetype": "text/x-python",
   "name": "python",
   "nbconvert_exporter": "python",
   "pygments_lexer": "ipython3",
   "version": "3.10.9"
  }
 },
 "nbformat": 4,
 "nbformat_minor": 5
}
