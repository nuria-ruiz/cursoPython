{
 "cells": [
  {
   "cell_type": "code",
   "execution_count": 1,
   "id": "4ec15f9b",
   "metadata": {},
   "outputs": [],
   "source": [
    "def say_hello():\n",
    "    print('Hello!')"
   ]
  },
  {
   "cell_type": "code",
   "execution_count": 3,
   "id": "48bd091f",
   "metadata": {},
   "outputs": [
    {
     "name": "stdout",
     "output_type": "stream",
     "text": [
      "Hello!\n"
     ]
    }
   ],
   "source": [
    "say_hello()"
   ]
  },
  {
   "cell_type": "code",
   "execution_count": 4,
   "id": "8acfc1de",
   "metadata": {},
   "outputs": [
    {
     "name": "stdout",
     "output_type": "stream",
     "text": [
      "Hello!\n"
     ]
    }
   ],
   "source": [
    "say_hello()"
   ]
  },
  {
   "cell_type": "code",
   "execution_count": 5,
   "id": "f9f2f2f1",
   "metadata": {},
   "outputs": [],
   "source": [
    "def one():\n",
    "    return 1"
   ]
  },
  {
   "cell_type": "code",
   "execution_count": 6,
   "id": "85d0111d",
   "metadata": {},
   "outputs": [
    {
     "data": {
      "text/plain": [
       "1"
      ]
     },
     "execution_count": 6,
     "metadata": {},
     "output_type": "execute_result"
    }
   ],
   "source": [
    "one()\n"
   ]
  },
  {
   "cell_type": "code",
   "execution_count": 7,
   "id": "4cfd5d84",
   "metadata": {},
   "outputs": [],
   "source": [
    "def two():\n",
    "    return 1,0"
   ]
  },
  {
   "cell_type": "code",
   "execution_count": 8,
   "id": "24d9c142",
   "metadata": {},
   "outputs": [
    {
     "data": {
      "text/plain": [
       "(1, 0)"
      ]
     },
     "execution_count": 8,
     "metadata": {},
     "output_type": "execute_result"
    }
   ],
   "source": [
    "two()"
   ]
  },
  {
   "cell_type": "code",
   "execution_count": 9,
   "id": "1622d159",
   "metadata": {},
   "outputs": [],
   "source": [
    "a, b = two()"
   ]
  },
  {
   "cell_type": "code",
   "execution_count": 10,
   "id": "bcca130f",
   "metadata": {},
   "outputs": [
    {
     "data": {
      "text/plain": [
       "1"
      ]
     },
     "execution_count": 10,
     "metadata": {},
     "output_type": "execute_result"
    }
   ],
   "source": [
    "a"
   ]
  },
  {
   "cell_type": "code",
   "execution_count": 11,
   "id": "45bba101",
   "metadata": {},
   "outputs": [
    {
     "data": {
      "text/plain": [
       "0"
      ]
     },
     "execution_count": 11,
     "metadata": {},
     "output_type": "execute_result"
    }
   ],
   "source": [
    "b"
   ]
  },
  {
   "cell_type": "code",
   "execution_count": 12,
   "id": "adfa624e",
   "metadata": {},
   "outputs": [
    {
     "data": {
      "text/plain": [
       "2.0"
      ]
     },
     "execution_count": 12,
     "metadata": {},
     "output_type": "execute_result"
    }
   ],
   "source": [
    "def sqrt(value):\n",
    "    return value ** (1/2)\n",
    "\n",
    "\n",
    "sqrt(4)"
   ]
  },
  {
   "cell_type": "code",
   "execution_count": 13,
   "id": "fb525c67",
   "metadata": {},
   "outputs": [
    {
     "data": {
      "text/plain": [
       "7"
      ]
     },
     "execution_count": 13,
     "metadata": {},
     "output_type": "execute_result"
    }
   ],
   "source": [
    "def _min(a, b):\n",
    "    if a < b:\n",
    "        return a\n",
    "    else:\n",
    "        return b\n",
    "\n",
    "\n",
    "_min(7, 9)\n"
   ]
  },
  {
   "cell_type": "code",
   "execution_count": 14,
   "id": "2d56bfc3",
   "metadata": {},
   "outputs": [
    {
     "data": {
      "text/plain": [
       "7"
      ]
     },
     "execution_count": 14,
     "metadata": {},
     "output_type": "execute_result"
    }
   ],
   "source": [
    "def _min(a, b):\n",
    "    if a < b:\n",
    "        return a\n",
    "    return b\n",
    "\n",
    "_min(7, 9)"
   ]
  },
  {
   "cell_type": "code",
   "execution_count": 15,
   "id": "825b8246",
   "metadata": {},
   "outputs": [],
   "source": [
    "def build_cpu(vendor, num_cores, freq):\n",
    "    return dict(\n",
    "        vendor=vendor,\n",
    "        num_cores=num_cores,\n",
    "        freq=freq\n",
    "    )"
   ]
  },
  {
   "cell_type": "code",
   "execution_count": 16,
   "id": "00577f61",
   "metadata": {},
   "outputs": [
    {
     "data": {
      "text/plain": [
       "{'vendor': 'AMD', 'num_cores': 8, 'freq': 2.7}"
      ]
     },
     "execution_count": 16,
     "metadata": {},
     "output_type": "execute_result"
    }
   ],
   "source": [
    "build_cpu('AMD', 8, 2.7)\n"
   ]
  },
  {
   "cell_type": "code",
   "execution_count": 17,
   "id": "f0edbacb",
   "metadata": {},
   "outputs": [
    {
     "data": {
      "text/plain": [
       "{'vendor': 8, 'num_cores': 2.7, 'freq': 'AMD'}"
      ]
     },
     "execution_count": 17,
     "metadata": {},
     "output_type": "execute_result"
    }
   ],
   "source": [
    "build_cpu(8, 2.7, 'AMD')\n"
   ]
  },
  {
   "cell_type": "code",
   "execution_count": 18,
   "id": "8fa4ec6a",
   "metadata": {},
   "outputs": [
    {
     "data": {
      "text/plain": [
       "{'vendor': 'AMD', 'num_cores': 8, 'freq': 2.7}"
      ]
     },
     "execution_count": 18,
     "metadata": {},
     "output_type": "execute_result"
    }
   ],
   "source": [
    "build_cpu(vendor='AMD', num_cores=8, freq=2.7)\n"
   ]
  },
  {
   "cell_type": "code",
   "execution_count": 19,
   "id": "8b3a3c2a",
   "metadata": {},
   "outputs": [
    {
     "data": {
      "text/plain": [
       "{'vendor': 'AMD', 'num_cores': 8, 'freq': 2.7}"
      ]
     },
     "execution_count": 19,
     "metadata": {},
     "output_type": "execute_result"
    }
   ],
   "source": [
    "build_cpu(num_cores=8, freq=2.7, vendor='AMD')\n"
   ]
  },
  {
   "cell_type": "code",
   "execution_count": 20,
   "id": "1bfe79fa",
   "metadata": {},
   "outputs": [
    {
     "data": {
      "text/plain": [
       "{'vendor': 'INTEL', 'num_cores': 4, 'freq': 3.1}"
      ]
     },
     "execution_count": 20,
     "metadata": {},
     "output_type": "execute_result"
    }
   ],
   "source": [
    "build_cpu('INTEL', num_cores=4, freq=3.1)"
   ]
  },
  {
   "cell_type": "code",
   "execution_count": 21,
   "id": "31109fb7",
   "metadata": {},
   "outputs": [
    {
     "ename": "SyntaxError",
     "evalue": "positional argument follows keyword argument (3131844352.py, line 1)",
     "output_type": "error",
     "traceback": [
      "\u001b[1;36m  Cell \u001b[1;32mIn[21], line 1\u001b[1;36m\u001b[0m\n\u001b[1;33m    build_cpu(num_cores=4, 'INTEL', freq=3.1)\u001b[0m\n\u001b[1;37m                                            ^\u001b[0m\n\u001b[1;31mSyntaxError\u001b[0m\u001b[1;31m:\u001b[0m positional argument follows keyword argument\n"
     ]
    }
   ],
   "source": [
    "build_cpu(num_cores=4, 'INTEL', freq=3.1)\n"
   ]
  },
  {
   "cell_type": "code",
   "execution_count": 22,
   "id": "c373ebaa",
   "metadata": {},
   "outputs": [],
   "source": [
    "def build_cpu(vendor, num_cores, freq=2.0):\n",
    "    return dict(\n",
    "        vendor=vendor,\n",
    "        num_cores=num_cores,\n",
    "        freq=freq\n",
    "    )"
   ]
  },
  {
   "cell_type": "code",
   "execution_count": 23,
   "id": "893ff8b9",
   "metadata": {},
   "outputs": [
    {
     "data": {
      "text/plain": [
       "{'vendor': 'INTEL', 'num_cores': 2, 'freq': 2.0}"
      ]
     },
     "execution_count": 23,
     "metadata": {},
     "output_type": "execute_result"
    }
   ],
   "source": [
    "build_cpu('INTEL', 2)"
   ]
  },
  {
   "cell_type": "code",
   "execution_count": 24,
   "id": "a27422c6",
   "metadata": {},
   "outputs": [
    {
     "data": {
      "text/plain": [
       "{'vendor': 'INTEL', 'num_cores': 2, 'freq': 3.4}"
      ]
     },
     "execution_count": 24,
     "metadata": {},
     "output_type": "execute_result"
    }
   ],
   "source": [
    "build_cpu('INTEL', 2, 3.4)"
   ]
  },
  {
   "cell_type": "code",
   "execution_count": 25,
   "id": "c28404da",
   "metadata": {},
   "outputs": [],
   "source": [
    "DEFAULT_FREQ = 2.0\n",
    "\n",
    "def build_cpu(vendor, num_cores, freq=DEFAULT_FREQ):\n",
    "    return dict(\n",
    "        vendor=vendor,\n",
    "        num_cores=num_cores,\n",
    "        freq=freq\n",
    "    )"
   ]
  },
  {
   "cell_type": "code",
   "execution_count": 26,
   "id": "8e309393",
   "metadata": {},
   "outputs": [
    {
     "data": {
      "text/plain": [
       "{'vendor': 'AMD', 'num_cores': 4, 'freq': 2.0}"
      ]
     },
     "execution_count": 26,
     "metadata": {},
     "output_type": "execute_result"
    }
   ],
   "source": [
    "build_cpu('AMD', 4)"
   ]
  },
  {
   "cell_type": "code",
   "execution_count": 27,
   "id": "b740f93d",
   "metadata": {},
   "outputs": [
    {
     "data": {
      "text/plain": [
       "{'vendor': 'AMD', 'num_cores': 4, 'freq': 2.0}"
      ]
     },
     "execution_count": 27,
     "metadata": {},
     "output_type": "execute_result"
    }
   ],
   "source": [
    "DEFAULT_FREQ = 3.5\n",
    "\n",
    "build_cpu('AMD', 4)"
   ]
  },
  {
   "cell_type": "code",
   "execution_count": 34,
   "id": "b60ee2a6",
   "metadata": {},
   "outputs": [],
   "source": [
    "def _sum(*values: int) -> int:\n",
    "    print(f'{values=}')\n",
    "    result = 0\n",
    "    for value in values:  # values es una tupla\n",
    "        result += value\n",
    "    return result"
   ]
  },
  {
   "cell_type": "code",
   "execution_count": 37,
   "id": "3e9b3686",
   "metadata": {},
   "outputs": [
    {
     "name": "stdout",
     "output_type": "stream",
     "text": [
      "values=(4, 3, 3.4, 1)\n"
     ]
    },
    {
     "data": {
      "text/plain": [
       "11.4"
      ]
     },
     "execution_count": 37,
     "metadata": {},
     "output_type": "execute_result"
    }
   ],
   "source": [
    "_sum(4, 3, 3.4, 1)"
   ]
  },
  {
   "cell_type": "code",
   "execution_count": 30,
   "id": "1459f82e",
   "metadata": {},
   "outputs": [
    {
     "name": "stdout",
     "output_type": "stream",
     "text": [
      "values=(4, 3)\n"
     ]
    },
    {
     "data": {
      "text/plain": [
       "7"
      ]
     },
     "execution_count": 30,
     "metadata": {},
     "output_type": "execute_result"
    }
   ],
   "source": [
    "_sum(4, 3)"
   ]
  },
  {
   "cell_type": "code",
   "execution_count": 31,
   "id": "e8688009",
   "metadata": {},
   "outputs": [
    {
     "name": "stdout",
     "output_type": "stream",
     "text": [
      "values=(4, 3, 2, 1, 45, 65, 67, 87, 889)\n"
     ]
    },
    {
     "data": {
      "text/plain": [
       "1163"
      ]
     },
     "execution_count": 31,
     "metadata": {},
     "output_type": "execute_result"
    }
   ],
   "source": [
    "_sum(4, 3, 2, 1,45,65,67,87,889)"
   ]
  },
  {
   "cell_type": "code",
   "execution_count": 38,
   "id": "0f896e61",
   "metadata": {},
   "outputs": [
    {
     "name": "stdout",
     "output_type": "stream",
     "text": [
      "marks={'ana': 8, 'antonio': 6, 'inma': 9, 'javier': 7}\n"
     ]
    },
    {
     "data": {
      "text/plain": [
       "'inma'"
      ]
     },
     "execution_count": 38,
     "metadata": {},
     "output_type": "execute_result"
    }
   ],
   "source": [
    "def best_student(**marks: int) -> str:\n",
    "    print(f'{marks=}')\n",
    "    max_mark = -1\n",
    "    for student, mark in marks.items():  # marks es un diccionario\n",
    "        if mark > max_mark:\n",
    "            max_mark = mark\n",
    "            best_student = student\n",
    "    return best_student\n",
    "\n",
    "\n",
    "best_student(ana=8, antonio=6, inma=9, javier=7)"
   ]
  },
  {
   "cell_type": "code",
   "execution_count": 39,
   "id": "dc09b036",
   "metadata": {},
   "outputs": [
    {
     "ename": "TypeError",
     "evalue": "best_student() takes 0 positional arguments but 1 was given",
     "output_type": "error",
     "traceback": [
      "\u001b[1;31m---------------------------------------------------------------------------\u001b[0m",
      "\u001b[1;31mTypeError\u001b[0m                                 Traceback (most recent call last)",
      "Cell \u001b[1;32mIn[39], line 3\u001b[0m\n\u001b[0;32m      1\u001b[0m marks \u001b[38;5;241m=\u001b[39m \u001b[38;5;28mdict\u001b[39m(ana\u001b[38;5;241m=\u001b[39m\u001b[38;5;241m8\u001b[39m, antonio\u001b[38;5;241m=\u001b[39m\u001b[38;5;241m6\u001b[39m, inma\u001b[38;5;241m=\u001b[39m\u001b[38;5;241m9\u001b[39m, javier\u001b[38;5;241m=\u001b[39m\u001b[38;5;241m7\u001b[39m)\n\u001b[1;32m----> 3\u001b[0m \u001b[43mbest_student\u001b[49m\u001b[43m(\u001b[49m\u001b[43mmarks\u001b[49m\u001b[43m)\u001b[49m\n",
      "\u001b[1;31mTypeError\u001b[0m: best_student() takes 0 positional arguments but 1 was given"
     ]
    }
   ],
   "source": [
    "marks = dict(ana=8, antonio=6, inma=9, javier=7)\n",
    "\n",
    "best_student(marks)"
   ]
  },
  {
   "cell_type": "code",
   "execution_count": 41,
   "id": "9953ff1a",
   "metadata": {},
   "outputs": [
    {
     "name": "stdout",
     "output_type": "stream",
     "text": [
      "marks={'ana': 8, 'antonio': 6, 'inma': 9, 'javier': 7}\n"
     ]
    },
    {
     "data": {
      "text/plain": [
       "'inma'"
      ]
     },
     "execution_count": 41,
     "metadata": {},
     "output_type": "execute_result"
    }
   ],
   "source": [
    "best_student(**marks)"
   ]
  },
  {
   "cell_type": "code",
   "execution_count": 42,
   "id": "54e42b50",
   "metadata": {},
   "outputs": [
    {
     "data": {
      "text/plain": [
       "7"
      ]
     },
     "execution_count": 42,
     "metadata": {},
     "output_type": "execute_result"
    }
   ],
   "source": [
    "def sum_power(a, b, *, power=False):\n",
    "    if power:\n",
    "        a **= 2\n",
    "        b **= 2\n",
    "    return a + b\n",
    "\n",
    "\n",
    "sum_power(3, 4)"
   ]
  },
  {
   "cell_type": "code",
   "execution_count": 43,
   "id": "d59e9a14",
   "metadata": {},
   "outputs": [
    {
     "data": {
      "text/plain": [
       "7"
      ]
     },
     "execution_count": 43,
     "metadata": {},
     "output_type": "execute_result"
    }
   ],
   "source": [
    "sum_power(a=3, b=4)\n"
   ]
  },
  {
   "cell_type": "code",
   "execution_count": 44,
   "id": "874edd2d",
   "metadata": {},
   "outputs": [
    {
     "data": {
      "text/plain": [
       "25"
      ]
     },
     "execution_count": 44,
     "metadata": {},
     "output_type": "execute_result"
    }
   ],
   "source": [
    "sum_power(3, 4, power=True)\n"
   ]
  },
  {
   "cell_type": "code",
   "execution_count": 45,
   "id": "0fde96f1",
   "metadata": {},
   "outputs": [
    {
     "ename": "TypeError",
     "evalue": "sum_power() takes 2 positional arguments but 3 were given",
     "output_type": "error",
     "traceback": [
      "\u001b[1;31m---------------------------------------------------------------------------\u001b[0m",
      "\u001b[1;31mTypeError\u001b[0m                                 Traceback (most recent call last)",
      "Cell \u001b[1;32mIn[45], line 1\u001b[0m\n\u001b[1;32m----> 1\u001b[0m \u001b[43msum_power\u001b[49m\u001b[43m(\u001b[49m\u001b[38;5;241;43m3\u001b[39;49m\u001b[43m,\u001b[49m\u001b[43m \u001b[49m\u001b[38;5;241;43m4\u001b[39;49m\u001b[43m,\u001b[49m\u001b[43m \u001b[49m\u001b[38;5;28;43;01mTrue\u001b[39;49;00m\u001b[43m)\u001b[49m\n",
      "\u001b[1;31mTypeError\u001b[0m: sum_power() takes 2 positional arguments but 3 were given"
     ]
    }
   ],
   "source": [
    "sum_power(3, 4, True)\n"
   ]
  },
  {
   "cell_type": "code",
   "execution_count": 46,
   "id": "814e2816",
   "metadata": {},
   "outputs": [
    {
     "data": {
      "text/plain": [
       "7"
      ]
     },
     "execution_count": 46,
     "metadata": {},
     "output_type": "execute_result"
    }
   ],
   "source": [
    "def sum_power(a, b, /, power=False):\n",
    "    if power:\n",
    "        a **= 2\n",
    "        b **= 2\n",
    "    return a + b\n",
    "\n",
    "\n",
    "sum_power(3, 4)"
   ]
  },
  {
   "cell_type": "code",
   "execution_count": 47,
   "id": "16aed7e4",
   "metadata": {},
   "outputs": [
    {
     "data": {
      "text/plain": [
       "25"
      ]
     },
     "execution_count": 47,
     "metadata": {},
     "output_type": "execute_result"
    }
   ],
   "source": [
    "sum_power(3, 4, True)\n"
   ]
  },
  {
   "cell_type": "code",
   "execution_count": 48,
   "id": "de55e8a0",
   "metadata": {},
   "outputs": [
    {
     "data": {
      "text/plain": [
       "25"
      ]
     },
     "execution_count": 48,
     "metadata": {},
     "output_type": "execute_result"
    }
   ],
   "source": [
    "sum_power(3, 4, power=True)\n"
   ]
  },
  {
   "cell_type": "code",
   "execution_count": 49,
   "id": "719b3506",
   "metadata": {},
   "outputs": [
    {
     "ename": "TypeError",
     "evalue": "sum_power() got some positional-only arguments passed as keyword arguments: 'a, b'",
     "output_type": "error",
     "traceback": [
      "\u001b[1;31m---------------------------------------------------------------------------\u001b[0m",
      "\u001b[1;31mTypeError\u001b[0m                                 Traceback (most recent call last)",
      "Cell \u001b[1;32mIn[49], line 1\u001b[0m\n\u001b[1;32m----> 1\u001b[0m \u001b[43msum_power\u001b[49m\u001b[43m(\u001b[49m\u001b[43ma\u001b[49m\u001b[38;5;241;43m=\u001b[39;49m\u001b[38;5;241;43m3\u001b[39;49m\u001b[43m,\u001b[49m\u001b[43m \u001b[49m\u001b[43mb\u001b[49m\u001b[38;5;241;43m=\u001b[39;49m\u001b[38;5;241;43m4\u001b[39;49m\u001b[43m)\u001b[49m\n",
      "\u001b[1;31mTypeError\u001b[0m: sum_power() got some positional-only arguments passed as keyword arguments: 'a, b'"
     ]
    }
   ],
   "source": [
    "sum_power(a=3, b=4)\n"
   ]
  },
  {
   "cell_type": "code",
   "execution_count": 50,
   "id": "de5b98d1",
   "metadata": {},
   "outputs": [
    {
     "data": {
      "text/plain": [
       "25"
      ]
     },
     "execution_count": 50,
     "metadata": {},
     "output_type": "execute_result"
    }
   ],
   "source": [
    "def sum_power(a, b, /, *, power=False):\n",
    "    if power:\n",
    "        a **= 2\n",
    "        b **= 2\n",
    "    return a + b\n",
    "\n",
    "\n",
    "sum_power(3, 4, power=True)  # Único modo posible de llamada"
   ]
  },
  {
   "cell_type": "code",
   "execution_count": 51,
   "id": "49d6fa5b",
   "metadata": {},
   "outputs": [],
   "source": [
    "def num_words(text:str)-> int:\n",
    "    return len(text.split())"
   ]
  },
  {
   "cell_type": "code",
   "execution_count": 53,
   "id": "3c11c0cf",
   "metadata": {},
   "outputs": [
    {
     "data": {
      "text/plain": [
       "3"
      ]
     },
     "execution_count": 53,
     "metadata": {},
     "output_type": "execute_result"
    }
   ],
   "source": [
    "num_words('hola que ase')"
   ]
  },
  {
   "cell_type": "code",
   "execution_count": 55,
   "id": "52c6bbf5",
   "metadata": {},
   "outputs": [],
   "source": [
    "num_words = lambda t: len(t.split())"
   ]
  },
  {
   "cell_type": "code",
   "execution_count": 56,
   "id": "abdef955",
   "metadata": {},
   "outputs": [
    {
     "data": {
      "text/plain": [
       "3"
      ]
     },
     "execution_count": 56,
     "metadata": {},
     "output_type": "execute_result"
    }
   ],
   "source": [
    "num_words('Hola k ase')"
   ]
  },
  {
   "cell_type": "code",
   "execution_count": 57,
   "id": "efb2546b",
   "metadata": {},
   "outputs": [
    {
     "data": {
      "text/plain": [
       "function"
      ]
     },
     "execution_count": 57,
     "metadata": {},
     "output_type": "execute_result"
    }
   ],
   "source": [
    "type(num_words)"
   ]
  },
  {
   "cell_type": "code",
   "execution_count": 60,
   "id": "95cc8586",
   "metadata": {},
   "outputs": [
    {
     "name": "stdout",
     "output_type": "stream",
     "text": [
      "8\n"
     ]
    }
   ],
   "source": [
    "# Definir una función lambda que suma dos números\n",
    "suma = lambda x, y: x + y\n",
    "\n",
    "# Utilizar la función lambda para sumar dos números\n",
    "resultado = suma(5, 3)\n",
    "print(resultado)  # Esto imprimirá 8\n"
   ]
  },
  {
   "cell_type": "code",
   "execution_count": 61,
   "id": "d47f6329",
   "metadata": {},
   "outputs": [
    {
     "name": "stdout",
     "output_type": "stream",
     "text": [
      "Nombre: María, Edad: 25\n",
      "Nombre: Laura, Edad: 28\n",
      "Nombre: Juan, Edad: 30\n",
      "Nombre: Carlos, Edad: 35\n"
     ]
    }
   ],
   "source": [
    "# Lista de diccionarios con información de personas\n",
    "personas = [\n",
    "    {'nombre': 'Juan', 'edad': 30},\n",
    "    {'nombre': 'María', 'edad': 25},\n",
    "    {'nombre': 'Carlos', 'edad': 35},\n",
    "    {'nombre': 'Laura', 'edad': 28}\n",
    "]\n",
    "\n",
    "# Utilizar una función lambda para ordenar la lista de personas por edad\n",
    "personas_ordenadas = sorted(personas, key=lambda x: x['edad'])\n",
    "\n",
    "# Imprimir la lista de personas ordenada por edad\n",
    "for persona in personas_ordenadas:\n",
    "    print(f\"Nombre: {persona['nombre']}, Edad: {persona['edad']}\")"
   ]
  },
  {
   "cell_type": "code",
   "execution_count": null,
   "id": "f9aaf307",
   "metadata": {},
   "outputs": [],
   "source": []
  }
 ],
 "metadata": {
  "kernelspec": {
   "display_name": "Python 3 (ipykernel)",
   "language": "python",
   "name": "python3"
  },
  "language_info": {
   "codemirror_mode": {
    "name": "ipython",
    "version": 3
   },
   "file_extension": ".py",
   "mimetype": "text/x-python",
   "name": "python",
   "nbconvert_exporter": "python",
   "pygments_lexer": "ipython3",
   "version": "3.10.9"
  }
 },
 "nbformat": 4,
 "nbformat_minor": 5
}
