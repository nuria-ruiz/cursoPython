{
 "cells": [
  {
   "cell_type": "markdown",
   "id": "f98a3ca4",
   "metadata": {},
   "source": [
    "Constantes¶\n"
   ]
  },
  {
   "cell_type": "code",
   "execution_count": 1,
   "id": "a62b8297",
   "metadata": {},
   "outputs": [
    {
     "data": {
      "text/plain": [
       "' \\t\\n\\r\\x0b\\x0c'"
      ]
     },
     "execution_count": 1,
     "metadata": {},
     "output_type": "execute_result"
    }
   ],
   "source": [
    "import string\n",
    "\n",
    "string.ascii_lowercase\n",
    "\n",
    "\n",
    "string.ascii_uppercase\n",
    "\n",
    "\n",
    "string.ascii_letters\n",
    "\n",
    "\n",
    "string.digits\n",
    "\n",
    "\n",
    "string.hexdigits\n",
    "\n",
    "\n",
    "string.octdigits\n",
    "\n",
    "\n",
    "string.punctuation\n",
    "\n",
    "\n",
    "string.printable\n",
    "\n",
    "\n",
    "string.whitespace\n"
   ]
  },
  {
   "cell_type": "markdown",
   "id": "ea218050",
   "metadata": {},
   "source": [
    "Plantillas"
   ]
  },
  {
   "cell_type": "code",
   "execution_count": 2,
   "id": "56c2ed00",
   "metadata": {},
   "outputs": [],
   "source": [
    "from string import Template\n",
    "\n",
    "tmpl = Template('$lang is the best programming language in the $place!')"
   ]
  },
  {
   "cell_type": "code",
   "execution_count": 3,
   "id": "e268e934",
   "metadata": {},
   "outputs": [
    {
     "data": {
      "text/plain": [
       "'Python is the best programming language in the World!'"
      ]
     },
     "execution_count": 3,
     "metadata": {},
     "output_type": "execute_result"
    }
   ],
   "source": [
    "tmpl.substitute(lang='Python', place='World')\n",
    "\n"
   ]
  },
  {
   "cell_type": "code",
   "execution_count": 4,
   "id": "fa3d1804",
   "metadata": {},
   "outputs": [
    {
     "data": {
      "text/plain": [
       "'Python is the best programming language in the World!'"
      ]
     },
     "execution_count": 4,
     "metadata": {},
     "output_type": "execute_result"
    }
   ],
   "source": [
    "\n",
    "tmpl.substitute({'lang': 'Python', 'place': 'World'})"
   ]
  },
  {
   "cell_type": "code",
   "execution_count": 5,
   "id": "5534395f",
   "metadata": {},
   "outputs": [
    {
     "data": {
      "text/plain": [
       "'You won several phones'"
      ]
     },
     "execution_count": 5,
     "metadata": {},
     "output_type": "execute_result"
    }
   ],
   "source": [
    "tmpl = Template('You won several ${price}s')\n",
    "\n",
    "tmpl.substitute(price='phone')"
   ]
  },
  {
   "cell_type": "code",
   "execution_count": 6,
   "id": "bb824e72",
   "metadata": {},
   "outputs": [
    {
     "ename": "KeyError",
     "evalue": "'place'",
     "output_type": "error",
     "traceback": [
      "\u001b[1;31m---------------------------------------------------------------------------\u001b[0m",
      "\u001b[1;31mKeyError\u001b[0m                                  Traceback (most recent call last)",
      "Cell \u001b[1;32mIn[6], line 3\u001b[0m\n\u001b[0;32m      1\u001b[0m tmpl \u001b[38;5;241m=\u001b[39m Template(\u001b[38;5;124m'\u001b[39m\u001b[38;5;124m$lang is the best programming language in the $place!\u001b[39m\u001b[38;5;124m'\u001b[39m)\n\u001b[1;32m----> 3\u001b[0m \u001b[43mtmpl\u001b[49m\u001b[38;5;241;43m.\u001b[39;49m\u001b[43msubstitute\u001b[49m\u001b[43m(\u001b[49m\u001b[43mlang\u001b[49m\u001b[38;5;241;43m=\u001b[39;49m\u001b[38;5;124;43m'\u001b[39;49m\u001b[38;5;124;43mPython\u001b[39;49m\u001b[38;5;124;43m'\u001b[39;49m\u001b[43m)\u001b[49m\n",
      "File \u001b[1;32m~\\anaconda3\\lib\\string.py:121\u001b[0m, in \u001b[0;36mTemplate.substitute\u001b[1;34m(self, mapping, **kws)\u001b[0m\n\u001b[0;32m    118\u001b[0m         \u001b[38;5;28mself\u001b[39m\u001b[38;5;241m.\u001b[39m_invalid(mo)\n\u001b[0;32m    119\u001b[0m     \u001b[38;5;28;01mraise\u001b[39;00m \u001b[38;5;167;01mValueError\u001b[39;00m(\u001b[38;5;124m'\u001b[39m\u001b[38;5;124mUnrecognized named group in pattern\u001b[39m\u001b[38;5;124m'\u001b[39m,\n\u001b[0;32m    120\u001b[0m                      \u001b[38;5;28mself\u001b[39m\u001b[38;5;241m.\u001b[39mpattern)\n\u001b[1;32m--> 121\u001b[0m \u001b[38;5;28;01mreturn\u001b[39;00m \u001b[38;5;28;43mself\u001b[39;49m\u001b[38;5;241;43m.\u001b[39;49m\u001b[43mpattern\u001b[49m\u001b[38;5;241;43m.\u001b[39;49m\u001b[43msub\u001b[49m\u001b[43m(\u001b[49m\u001b[43mconvert\u001b[49m\u001b[43m,\u001b[49m\u001b[43m \u001b[49m\u001b[38;5;28;43mself\u001b[39;49m\u001b[38;5;241;43m.\u001b[39;49m\u001b[43mtemplate\u001b[49m\u001b[43m)\u001b[49m\n",
      "File \u001b[1;32m~\\anaconda3\\lib\\string.py:114\u001b[0m, in \u001b[0;36mTemplate.substitute.<locals>.convert\u001b[1;34m(mo)\u001b[0m\n\u001b[0;32m    112\u001b[0m named \u001b[38;5;241m=\u001b[39m mo\u001b[38;5;241m.\u001b[39mgroup(\u001b[38;5;124m'\u001b[39m\u001b[38;5;124mnamed\u001b[39m\u001b[38;5;124m'\u001b[39m) \u001b[38;5;129;01mor\u001b[39;00m mo\u001b[38;5;241m.\u001b[39mgroup(\u001b[38;5;124m'\u001b[39m\u001b[38;5;124mbraced\u001b[39m\u001b[38;5;124m'\u001b[39m)\n\u001b[0;32m    113\u001b[0m \u001b[38;5;28;01mif\u001b[39;00m named \u001b[38;5;129;01mis\u001b[39;00m \u001b[38;5;129;01mnot\u001b[39;00m \u001b[38;5;28;01mNone\u001b[39;00m:\n\u001b[1;32m--> 114\u001b[0m     \u001b[38;5;28;01mreturn\u001b[39;00m \u001b[38;5;28mstr\u001b[39m(\u001b[43mmapping\u001b[49m\u001b[43m[\u001b[49m\u001b[43mnamed\u001b[49m\u001b[43m]\u001b[49m)\n\u001b[0;32m    115\u001b[0m \u001b[38;5;28;01mif\u001b[39;00m mo\u001b[38;5;241m.\u001b[39mgroup(\u001b[38;5;124m'\u001b[39m\u001b[38;5;124mescaped\u001b[39m\u001b[38;5;124m'\u001b[39m) \u001b[38;5;129;01mis\u001b[39;00m \u001b[38;5;129;01mnot\u001b[39;00m \u001b[38;5;28;01mNone\u001b[39;00m:\n\u001b[0;32m    116\u001b[0m     \u001b[38;5;28;01mreturn\u001b[39;00m \u001b[38;5;28mself\u001b[39m\u001b[38;5;241m.\u001b[39mdelimiter\n",
      "\u001b[1;31mKeyError\u001b[0m: 'place'"
     ]
    }
   ],
   "source": [
    "tmpl = Template('$lang is the best programming language in the $place!')\n",
    "\n",
    "tmpl.substitute(lang='Python')"
   ]
  },
  {
   "cell_type": "code",
   "execution_count": 7,
   "id": "1f928145",
   "metadata": {},
   "outputs": [
    {
     "data": {
      "text/plain": [
       "'Python is the best programming language in the $place!'"
      ]
     },
     "execution_count": 7,
     "metadata": {},
     "output_type": "execute_result"
    }
   ],
   "source": [
    "tmpl.safe_substitute(lang='Python')"
   ]
  },
  {
   "cell_type": "markdown",
   "id": "a57847f5",
   "metadata": {},
   "source": [
    "Casos de uso¶\n"
   ]
  },
  {
   "cell_type": "code",
   "execution_count": 8,
   "id": "bde5ee5d",
   "metadata": {},
   "outputs": [
    {
     "name": "stdout",
     "output_type": "stream",
     "text": [
      "https://python.org/3/library/string.html\n",
      "https://python.org/3/library/re.html\n",
      "https://python.org/3/library/difflib.html\n"
     ]
    }
   ],
   "source": [
    "urlbase = Template('https://python.org/3/library/$module.html')\n",
    "\n",
    "for module in ('string', 're', 'difflib'):\n",
    "    url = urlbase.substitute(module=module)\n",
    "    print(url)"
   ]
  },
  {
   "cell_type": "code",
   "execution_count": null,
   "id": "3b5eaefb",
   "metadata": {},
   "outputs": [],
   "source": []
  }
 ],
 "metadata": {
  "kernelspec": {
   "display_name": "Python 3 (ipykernel)",
   "language": "python",
   "name": "python3"
  },
  "language_info": {
   "codemirror_mode": {
    "name": "ipython",
    "version": 3
   },
   "file_extension": ".py",
   "mimetype": "text/x-python",
   "name": "python",
   "nbconvert_exporter": "python",
   "pygments_lexer": "ipython3",
   "version": "3.10.9"
  }
 },
 "nbformat": 4,
 "nbformat_minor": 5
}
