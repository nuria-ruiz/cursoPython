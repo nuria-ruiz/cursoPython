{
 "cells": [
  {
   "cell_type": "code",
   "execution_count": 12,
   "id": "d62a2a2e",
   "metadata": {},
   "outputs": [],
   "source": [
    "class Coche:\n",
    "    ruedas = 4\n",
    "    def __init__(self,color, aceleracion):\n",
    "        self.color = color\n",
    "        self.aceleracion = aceleracion\n",
    "        self.velocidad = 0\n",
    "    \n",
    "    def acelera (self):\n",
    "        self.velocidad = self.velocidad + self.aceleracion\n",
    "    \n",
    "    def frena (self):\n",
    "        v = self.velocidad - self.aceleracion\n",
    "        if v < 0:\n",
    "            v = 0\n",
    "        self.velocidad = v\n",
    "    "
   ]
  },
  {
   "cell_type": "code",
   "execution_count": 14,
   "id": "11748c52",
   "metadata": {},
   "outputs": [
    {
     "name": "stdout",
     "output_type": "stream",
     "text": [
      "rojo\n"
     ]
    }
   ],
   "source": [
    "c1 = Coche('rojo', 20)\n",
    "print(c1.color)\n"
   ]
  },
  {
   "cell_type": "code",
   "execution_count": 16,
   "id": "648e6896",
   "metadata": {},
   "outputs": [
    {
     "name": "stdout",
     "output_type": "stream",
     "text": [
      "4\n"
     ]
    }
   ],
   "source": [
    "print(c1.ruedas)"
   ]
  },
  {
   "cell_type": "code",
   "execution_count": 18,
   "id": "a986c003",
   "metadata": {},
   "outputs": [
    {
     "name": "stdout",
     "output_type": "stream",
     "text": [
      "azul\n"
     ]
    }
   ],
   "source": [
    "c2 = Coche('azul', 30)\n",
    "print(c2.color)\n"
   ]
  },
  {
   "cell_type": "code",
   "execution_count": 20,
   "id": "f8bb9641",
   "metadata": {},
   "outputs": [
    {
     "name": "stdout",
     "output_type": "stream",
     "text": [
      "4\n"
     ]
    }
   ],
   "source": [
    "print(c2.ruedas)"
   ]
  },
  {
   "cell_type": "code",
   "execution_count": 21,
   "id": "56af7653",
   "metadata": {},
   "outputs": [
    {
     "name": "stdout",
     "output_type": "stream",
     "text": [
      "rojo\n"
     ]
    }
   ],
   "source": [
    "c1 = Coche('rojo', 20)\n",
    "print(c1.color)\n"
   ]
  },
  {
   "cell_type": "code",
   "execution_count": 22,
   "id": "3dd8262c",
   "metadata": {},
   "outputs": [
    {
     "name": "stdout",
     "output_type": "stream",
     "text": [
      "0\n"
     ]
    }
   ],
   "source": [
    "print(c1.velocidad)"
   ]
  },
  {
   "cell_type": "code",
   "execution_count": 23,
   "id": "40144773",
   "metadata": {},
   "outputs": [
    {
     "name": "stdout",
     "output_type": "stream",
     "text": [
      "20\n"
     ]
    }
   ],
   "source": [
    "c1.acelera()\n",
    "print(c1.velocidad)\n"
   ]
  },
  {
   "cell_type": "code",
   "execution_count": 24,
   "id": "957667c1",
   "metadata": {},
   "outputs": [
    {
     "name": "stdout",
     "output_type": "stream",
     "text": [
      "rojo\n"
     ]
    }
   ],
   "source": [
    "c1 = Coche('rojo', 20)\n",
    "c2 = Coche('azul', 10)\n",
    "print(c1.color)\n"
   ]
  },
  {
   "cell_type": "code",
   "execution_count": 25,
   "id": "4d6fb0de",
   "metadata": {},
   "outputs": [
    {
     "name": "stdout",
     "output_type": "stream",
     "text": [
      "azul\n"
     ]
    }
   ],
   "source": [
    "print(c2.color)"
   ]
  },
  {
   "cell_type": "code",
   "execution_count": 26,
   "id": "d413e6d3",
   "metadata": {},
   "outputs": [
    {
     "name": "stdout",
     "output_type": "stream",
     "text": [
      "6\n"
     ]
    }
   ],
   "source": [
    "c1.marchas = 6\n",
    "print(c1.marchas)\n"
   ]
  },
  {
   "cell_type": "code",
   "execution_count": 27,
   "id": "ad539c0c",
   "metadata": {},
   "outputs": [
    {
     "ename": "AttributeError",
     "evalue": "'Coche' object has no attribute 'marchas'",
     "output_type": "error",
     "traceback": [
      "\u001b[1;31m---------------------------------------------------------------------------\u001b[0m",
      "\u001b[1;31mAttributeError\u001b[0m                            Traceback (most recent call last)",
      "Cell \u001b[1;32mIn[27], line 1\u001b[0m\n\u001b[1;32m----> 1\u001b[0m \u001b[38;5;28mprint\u001b[39m(\u001b[43mc2\u001b[49m\u001b[38;5;241;43m.\u001b[39;49m\u001b[43mmarchas\u001b[49m)\n",
      "\u001b[1;31mAttributeError\u001b[0m: 'Coche' object has no attribute 'marchas'"
     ]
    }
   ],
   "source": [
    "print(c2.marchas)"
   ]
  },
  {
   "cell_type": "code",
   "execution_count": 28,
   "id": "5e66555a",
   "metadata": {},
   "outputs": [],
   "source": [
    "c1 = Coche('rojo', 20)\n",
    "c2 = Coche('azul', 20)\n",
    "c1.acelera()\n"
   ]
  },
  {
   "cell_type": "code",
   "execution_count": 29,
   "id": "c8600971",
   "metadata": {},
   "outputs": [],
   "source": [
    "Coche.acelera(c2)"
   ]
  },
  {
   "cell_type": "code",
   "execution_count": 30,
   "id": "2218e3db",
   "metadata": {},
   "outputs": [
    {
     "name": "stdout",
     "output_type": "stream",
     "text": [
      "20\n"
     ]
    }
   ],
   "source": [
    "print(c1.velocidad)"
   ]
  },
  {
   "cell_type": "code",
   "execution_count": 31,
   "id": "4fd31283",
   "metadata": {},
   "outputs": [
    {
     "name": "stdout",
     "output_type": "stream",
     "text": [
      "20\n"
     ]
    }
   ],
   "source": [
    "print(c2.velocidad)"
   ]
  },
  {
   "cell_type": "code",
   "execution_count": 32,
   "id": "71fe1fc5",
   "metadata": {},
   "outputs": [
    {
     "name": "stdout",
     "output_type": "stream",
     "text": [
      "<function Coche.acelera at 0x0000029CE55CCAE0>\n"
     ]
    }
   ],
   "source": [
    "print(Coche.acelera)"
   ]
  },
  {
   "cell_type": "code",
   "execution_count": 33,
   "id": "0ca84672",
   "metadata": {},
   "outputs": [
    {
     "name": "stdout",
     "output_type": "stream",
     "text": [
      "<bound method Coche.acelera of <__main__.Coche object at 0x0000029CE566A990>>\n"
     ]
    }
   ],
   "source": [
    "print(c1.acelera)"
   ]
  },
  {
   "cell_type": "markdown",
   "id": "e3cf0b91",
   "metadata": {},
   "source": [
    "### Atributos de clase y atributos de instancia"
   ]
  },
  {
   "cell_type": "code",
   "execution_count": 34,
   "id": "df2ff30b",
   "metadata": {},
   "outputs": [
    {
     "name": "stdout",
     "output_type": "stream",
     "text": [
      "rojo\n"
     ]
    }
   ],
   "source": [
    "c1 = Coche('rojo', 20)\n",
    "c2 = Coche('azul', 20)\n",
    "print(c1.color)\n"
   ]
  },
  {
   "cell_type": "code",
   "execution_count": 35,
   "id": "e9af7249",
   "metadata": {},
   "outputs": [
    {
     "name": "stdout",
     "output_type": "stream",
     "text": [
      "azul\n"
     ]
    }
   ],
   "source": [
    "print(c2.color)"
   ]
  },
  {
   "cell_type": "code",
   "execution_count": 36,
   "id": "2e0d10e9",
   "metadata": {},
   "outputs": [
    {
     "name": "stdout",
     "output_type": "stream",
     "text": [
      "4\n"
     ]
    }
   ],
   "source": [
    "print(c1.ruedas) # Atributo de clase"
   ]
  },
  {
   "cell_type": "code",
   "execution_count": 37,
   "id": "103aedbc",
   "metadata": {},
   "outputs": [
    {
     "name": "stdout",
     "output_type": "stream",
     "text": [
      "4\n"
     ]
    }
   ],
   "source": [
    "print(c2.ruedas) # Atributo de clase"
   ]
  },
  {
   "cell_type": "code",
   "execution_count": 38,
   "id": "17468989",
   "metadata": {},
   "outputs": [
    {
     "name": "stdout",
     "output_type": "stream",
     "text": [
      "6\n"
     ]
    }
   ],
   "source": [
    " Coche.ruedas = 6 # Atributo de clase\n",
    " print(c1.ruedas) # Atributo de clase\n"
   ]
  },
  {
   "cell_type": "code",
   "execution_count": 39,
   "id": "1defc148",
   "metadata": {},
   "outputs": [
    {
     "name": "stdout",
     "output_type": "stream",
     "text": [
      "6\n"
     ]
    }
   ],
   "source": [
    "print(c2.ruedas) # Atributo de clase"
   ]
  },
  {
   "cell_type": "code",
   "execution_count": 45,
   "id": "bc50fafa",
   "metadata": {},
   "outputs": [
    {
     "name": "stdout",
     "output_type": "stream",
     "text": [
      "rojo\n"
     ]
    }
   ],
   "source": [
    "c1 = Coche('rojo', 20)\n",
    "c2 = Coche('azul', 20)\n",
    "print(c1.color)\n"
   ]
  },
  {
   "cell_type": "code",
   "execution_count": 41,
   "id": "b72520d0",
   "metadata": {},
   "outputs": [
    {
     "name": "stdout",
     "output_type": "stream",
     "text": [
      "azul\n"
     ]
    }
   ],
   "source": [
    "print(c2.color)"
   ]
  },
  {
   "cell_type": "code",
   "execution_count": 42,
   "id": "45afa78c",
   "metadata": {},
   "outputs": [
    {
     "name": "stdout",
     "output_type": "stream",
     "text": [
      "6\n"
     ]
    }
   ],
   "source": [
    "c1.ruedas = 6 # Crea el atributo de instancia ruedas\n",
    "print(c1.ruedas)\n"
   ]
  },
  {
   "cell_type": "code",
   "execution_count": 43,
   "id": "9414691b",
   "metadata": {},
   "outputs": [
    {
     "name": "stdout",
     "output_type": "stream",
     "text": [
      "6\n"
     ]
    }
   ],
   "source": [
    "print(c2.ruedas)"
   ]
  },
  {
   "cell_type": "code",
   "execution_count": 44,
   "id": "0c2520ca",
   "metadata": {},
   "outputs": [
    {
     "name": "stdout",
     "output_type": "stream",
     "text": [
      "6\n"
     ]
    }
   ],
   "source": [
    "print(Coche.ruedas)"
   ]
  },
  {
   "cell_type": "markdown",
   "id": "1187ba40",
   "metadata": {},
   "source": [
    "## Herencia en Python"
   ]
  },
  {
   "cell_type": "code",
   "execution_count": 46,
   "id": "73e73fd4",
   "metadata": {},
   "outputs": [],
   "source": [
    "class CocheVolador(Coche):\n",
    "    ruedas = 6\n",
    "    def __init__(self, color, aceleracion, esta_volando=False):\n",
    "        super().__init__(color, aceleracion)\n",
    "        self.esta_volando = esta_volando\n",
    "    def vuela(self):\n",
    "        self.esta_volando = True\n",
    "    def aterriza(self):\n",
    "        self.esta_volando = False\n"
   ]
  },
  {
   "cell_type": "code",
   "execution_count": 48,
   "id": "2b27350a",
   "metadata": {},
   "outputs": [
    {
     "name": "stdout",
     "output_type": "stream",
     "text": [
      "rojo\n"
     ]
    }
   ],
   "source": [
    "c = Coche('azul', 10)\n",
    "cv1 = CocheVolador('rojo', 60)\n",
    "print(cv1.color)\n"
   ]
  },
  {
   "cell_type": "code",
   "execution_count": 49,
   "id": "c69879d3",
   "metadata": {},
   "outputs": [
    {
     "name": "stdout",
     "output_type": "stream",
     "text": [
      "False\n"
     ]
    }
   ],
   "source": [
    "print(cv1.esta_volando)"
   ]
  },
  {
   "cell_type": "code",
   "execution_count": 50,
   "id": "4fbfc37d",
   "metadata": {},
   "outputs": [
    {
     "name": "stdout",
     "output_type": "stream",
     "text": [
      "60\n"
     ]
    }
   ],
   "source": [
    "cv1.acelera()\n",
    "print(cv1.velocidad)\n"
   ]
  },
  {
   "cell_type": "code",
   "execution_count": null,
   "id": "6e82bba7",
   "metadata": {},
   "outputs": [],
   "source": [
    "print(CocheVolador.ruedas)"
   ]
  },
  {
   "cell_type": "code",
   "execution_count": 52,
   "id": "5751b519",
   "metadata": {},
   "outputs": [
    {
     "ename": "AttributeError",
     "evalue": "'Coche' object has no attribute 'esta_volando'",
     "output_type": "error",
     "traceback": [
      "\u001b[1;31m---------------------------------------------------------------------------\u001b[0m",
      "\u001b[1;31mAttributeError\u001b[0m                            Traceback (most recent call last)",
      "Cell \u001b[1;32mIn[52], line 1\u001b[0m\n\u001b[1;32m----> 1\u001b[0m \u001b[38;5;28mprint\u001b[39m(\u001b[43mc\u001b[49m\u001b[38;5;241;43m.\u001b[39;49m\u001b[43mesta_volando\u001b[49m)\n",
      "\u001b[1;31mAttributeError\u001b[0m: 'Coche' object has no attribute 'esta_volando'"
     ]
    }
   ],
   "source": [
    "print(c.esta_volando)"
   ]
  },
  {
   "cell_type": "markdown",
   "id": "967ec9f5",
   "metadata": {},
   "source": [
    "### Las funciones isinstance() e issubclass()"
   ]
  },
  {
   "cell_type": "code",
   "execution_count": 54,
   "id": "ed9ca7f4",
   "metadata": {},
   "outputs": [
    {
     "data": {
      "text/plain": [
       "__main__.Coche"
      ]
     },
     "execution_count": 54,
     "metadata": {},
     "output_type": "execute_result"
    }
   ],
   "source": [
    "c = Coche('rojo', 20)\n",
    "type(c)\n"
   ]
  },
  {
   "cell_type": "code",
   "execution_count": 56,
   "id": "a76fe1e0",
   "metadata": {},
   "outputs": [
    {
     "data": {
      "text/plain": [
       "__main__.CocheVolador"
      ]
     },
     "execution_count": 56,
     "metadata": {},
     "output_type": "execute_result"
    }
   ],
   "source": [
    "cv = CocheVolador('azul', 60)\n",
    "type(cv)\n"
   ]
  },
  {
   "cell_type": "code",
   "execution_count": 57,
   "id": "2c28391f",
   "metadata": {},
   "outputs": [
    {
     "data": {
      "text/plain": [
       "True"
      ]
     },
     "execution_count": 57,
     "metadata": {},
     "output_type": "execute_result"
    }
   ],
   "source": [
    "c = Coche('rojo', 20)\n",
    "cv = CocheVolador('azul', 60)\n",
    "isinstance(c, Coche)\n"
   ]
  },
  {
   "cell_type": "code",
   "execution_count": 58,
   "id": "fd7baf76",
   "metadata": {},
   "outputs": [
    {
     "data": {
      "text/plain": [
       "True"
      ]
     },
     "execution_count": 58,
     "metadata": {},
     "output_type": "execute_result"
    }
   ],
   "source": [
    "isinstance(cv, Coche)"
   ]
  },
  {
   "cell_type": "code",
   "execution_count": 59,
   "id": "6f81942c",
   "metadata": {},
   "outputs": [
    {
     "data": {
      "text/plain": [
       "False"
      ]
     },
     "execution_count": 59,
     "metadata": {},
     "output_type": "execute_result"
    }
   ],
   "source": [
    "isinstance(c, CocheVolador)"
   ]
  },
  {
   "cell_type": "code",
   "execution_count": 60,
   "id": "6a8fc7ce",
   "metadata": {},
   "outputs": [
    {
     "data": {
      "text/plain": [
       "True"
      ]
     },
     "execution_count": 60,
     "metadata": {},
     "output_type": "execute_result"
    }
   ],
   "source": [
    "isinstance(cv, CocheVolador)"
   ]
  },
  {
   "cell_type": "code",
   "execution_count": 61,
   "id": "ea325139",
   "metadata": {},
   "outputs": [
    {
     "data": {
      "text/plain": [
       "True"
      ]
     },
     "execution_count": 61,
     "metadata": {},
     "output_type": "execute_result"
    }
   ],
   "source": [
    "issubclass(CocheVolador, Coche)"
   ]
  },
  {
   "cell_type": "code",
   "execution_count": 62,
   "id": "f94cb30a",
   "metadata": {},
   "outputs": [
    {
     "data": {
      "text/plain": [
       "False"
      ]
     },
     "execution_count": 62,
     "metadata": {},
     "output_type": "execute_result"
    }
   ],
   "source": [
    "issubclass(Coche, CocheVolador)"
   ]
  },
  {
   "cell_type": "markdown",
   "id": "0d3d2263",
   "metadata": {},
   "source": [
    "### Herencia múltiple en Python"
   ]
  },
  {
   "cell_type": "code",
   "execution_count": 64,
   "id": "8521ec5b",
   "metadata": {},
   "outputs": [
    {
     "name": "stdout",
     "output_type": "stream",
     "text": [
      "a\n",
      "b\n",
      "c\n"
     ]
    }
   ],
   "source": [
    "class A:\n",
    "    def print_a(self):\n",
    "        print('a')\n",
    "class B:\n",
    "    def print_b(self):\n",
    "        print('b')\n",
    "\n",
    "class C(A, B):\n",
    "    def print_c(self):\n",
    "        print('c')\n",
    "c = C()\n",
    "c.print_a()\n",
    "c.print_b()\n",
    "c.print_c()\n"
   ]
  },
  {
   "cell_type": "markdown",
   "id": "a39f8015",
   "metadata": {},
   "source": [
    "## Encapsulación: atributos privados"
   ]
  },
  {
   "cell_type": "code",
   "execution_count": 67,
   "id": "84983c6a",
   "metadata": {},
   "outputs": [],
   "source": [
    "class A:\n",
    "     def __init__(self):\n",
    "         self._contador = 0 # Este atributo es privado\n",
    "     def incrementa(self):\n",
    "         self._contador += 1\n",
    "     def cuenta(self):\n",
    "         return self._contador\n",
    "\n",
    "class B(object):\n",
    "     def __init__(self):\n",
    "          self.__contador = 0 # Este atributo es privado\n",
    "     def incrementa(self):\n",
    "         self.__contador += 1\n",
    "     def cuenta(self):\n",
    "         return self.__contador\n"
   ]
  },
  {
   "cell_type": "code",
   "execution_count": 68,
   "id": "264ef50c",
   "metadata": {},
   "outputs": [
    {
     "name": "stdout",
     "output_type": "stream",
     "text": [
      "3\n"
     ]
    }
   ],
   "source": [
    "a = A()\n",
    "a.incrementa()\n",
    "a.incrementa()\n",
    "a.incrementa()\n",
    "print(a.cuenta())\n"
   ]
  },
  {
   "cell_type": "code",
   "execution_count": 70,
   "id": "bd757b7d",
   "metadata": {},
   "outputs": [
    {
     "name": "stdout",
     "output_type": "stream",
     "text": [
      "3\n"
     ]
    }
   ],
   "source": [
    "print(a._contador)"
   ]
  },
  {
   "cell_type": "code",
   "execution_count": 72,
   "id": "e2fd3c82",
   "metadata": {},
   "outputs": [
    {
     "name": "stdout",
     "output_type": "stream",
     "text": [
      "2\n"
     ]
    }
   ],
   "source": [
    "b = B()\n",
    "b.incrementa()\n",
    "b.incrementa()\n",
    "print(b.cuenta())\n"
   ]
  },
  {
   "cell_type": "code",
   "execution_count": 75,
   "id": "aaae10c8",
   "metadata": {},
   "outputs": [
    {
     "ename": "AttributeError",
     "evalue": "'B' object has no attribute '__contador'",
     "output_type": "error",
     "traceback": [
      "\u001b[1;31m---------------------------------------------------------------------------\u001b[0m",
      "\u001b[1;31mAttributeError\u001b[0m                            Traceback (most recent call last)",
      "Cell \u001b[1;32mIn[75], line 1\u001b[0m\n\u001b[1;32m----> 1\u001b[0m \u001b[38;5;28mprint\u001b[39m(\u001b[43mb\u001b[49m\u001b[38;5;241;43m.\u001b[39;49m\u001b[43m__contador\u001b[49m)\n",
      "\u001b[1;31mAttributeError\u001b[0m: 'B' object has no attribute '__contador'"
     ]
    }
   ],
   "source": [
    "print(b.__contador)"
   ]
  },
  {
   "cell_type": "code",
   "execution_count": 74,
   "id": "dc8ebcb9",
   "metadata": {},
   "outputs": [
    {
     "name": "stdout",
     "output_type": "stream",
     "text": [
      "2\n"
     ]
    }
   ],
   "source": [
    "print(b._B__contador)"
   ]
  },
  {
   "cell_type": "code",
   "execution_count": 84,
   "id": "82bbd7f2",
   "metadata": {},
   "outputs": [
    {
     "name": "stdout",
     "output_type": "stream",
     "text": [
      "42\n",
      "Este es un método público\n"
     ]
    }
   ],
   "source": [
    "class MiClase:\n",
    "    def __init__(self):\n",
    "        self.atributo_publico = 42\n",
    "        self._atributo_protegido = \"Soy un atributo protegido\"\n",
    "        self.__atributo_privado = \"Soy un atributo privado\"\n",
    "\n",
    "    def metodo_publico(self):\n",
    "        print(\"Este es un método público\")\n",
    "\n",
    "    def _metodo_protegido(self):\n",
    "        print(\"Este es un método protegido\")\n",
    "\n",
    "    def __metodo_privado(self):\n",
    "        print(\"Este es un método privado\")\n",
    "\n",
    "# Crear una instancia de la clase\n",
    "objeto = MiClase()\n",
    "\n",
    "# Acceso a atributos y métodos públicos (sin problemas)\n",
    "print(objeto.atributo_publico)  # Esto funciona\n",
    "objeto.metodo_publico()         # Esto funciona\n",
    "\n"
   ]
  },
  {
   "cell_type": "code",
   "execution_count": 85,
   "id": "89f5bc1d",
   "metadata": {},
   "outputs": [
    {
     "name": "stdout",
     "output_type": "stream",
     "text": [
      "Soy un atributo protegido\n",
      "Este es un método protegido\n"
     ]
    }
   ],
   "source": [
    "# Acceso a atributos y métodos protegidos (aunque no se recomienda)\n",
    "print(objeto._atributo_protegido)  # Esto funciona, pero no es recomendado\n",
    "objeto._metodo_protegido()         # Esto funciona, pero no es recomendado\n",
    "\n",
    "\n"
   ]
  },
  {
   "cell_type": "code",
   "execution_count": 86,
   "id": "825324eb",
   "metadata": {},
   "outputs": [],
   "source": [
    "# Acceso a atributos y métodos privados (no es una buena práctica y puede causar errores)\n",
    "# Esto generará un error: AttributeError\n",
    "# print(objeto.__atributo_privado)\n",
    "# objeto.__metodo_privado()"
   ]
  },
  {
   "cell_type": "code",
   "execution_count": 88,
   "id": "0e3a5110",
   "metadata": {},
   "outputs": [],
   "source": [
    "class Persona:\n",
    "    def __init__(self, nombre, edad):\n",
    "        self._nombre = nombre  # Atributo protegido\n",
    "        self._edad = edad      # Atributo protegido\n",
    "\n",
    "    # Getter para obtener el nombre\n",
    "    @property\n",
    "    def nombre(self):\n",
    "        return self._nombre\n",
    "\n",
    "    # Setter para establecer el nombre\n",
    "    @nombre.setter\n",
    "    def nombre(self, nuevo_nombre):\n",
    "        if isinstance(nuevo_nombre, str):\n",
    "            self._nombre = nuevo_nombre\n",
    "        else:\n",
    "            print(\"Error: El nombre debe ser una cadena de caracteres.\")\n",
    "\n",
    "    # Getter para obtener la edad\n",
    "    @property\n",
    "    def edad(self):\n",
    "        return self._edad\n",
    "\n",
    "    # Setter para establecer la edad\n",
    "    @edad.setter\n",
    "    def edad(self, nueva_edad):\n",
    "        if isinstance(nueva_edad, int) and nueva_edad > 0:\n",
    "            self._edad = nueva_edad\n",
    "        else:\n",
    "            print(\"Error: La edad debe ser un número entero positivo.\")\n",
    "\n",
    "# Crear una instancia de la clase Persona\n",
    "persona = Persona(\"Juan\", 30)\n",
    "\n"
   ]
  },
  {
   "cell_type": "code",
   "execution_count": 89,
   "id": "91b4f847",
   "metadata": {},
   "outputs": [
    {
     "name": "stdout",
     "output_type": "stream",
     "text": [
      "Juan\n"
     ]
    }
   ],
   "source": [
    "# Obtener el nombre usando el getter\n",
    "print(persona.nombre)  # Salida: \"Juan\"\n"
   ]
  },
  {
   "cell_type": "code",
   "execution_count": 90,
   "id": "734007b0",
   "metadata": {},
   "outputs": [
    {
     "name": "stdout",
     "output_type": "stream",
     "text": [
      "Carlos\n"
     ]
    }
   ],
   "source": [
    "\n",
    "# Establecer el nombre usando el setter\n",
    "persona.nombre = \"Carlos\"\n",
    "print(persona.nombre)  # Salida: \"Carlos\"\n",
    "\n",
    "\n"
   ]
  },
  {
   "cell_type": "code",
   "execution_count": 91,
   "id": "9614cafa",
   "metadata": {},
   "outputs": [
    {
     "name": "stdout",
     "output_type": "stream",
     "text": [
      "Error: El nombre debe ser una cadena de caracteres.\n"
     ]
    }
   ],
   "source": [
    "# Intentar establecer un nombre no válido\n",
    "persona.nombre = 42  # Esto imprimirá el mensaje de error\n",
    "\n"
   ]
  },
  {
   "cell_type": "code",
   "execution_count": 92,
   "id": "6c45f3d2",
   "metadata": {},
   "outputs": [
    {
     "name": "stdout",
     "output_type": "stream",
     "text": [
      "30\n"
     ]
    }
   ],
   "source": [
    "# Obtener la edad usando el getter\n",
    "print(persona.edad)  # Salida: 30\n",
    "\n"
   ]
  },
  {
   "cell_type": "code",
   "execution_count": 93,
   "id": "5ba26e5c",
   "metadata": {},
   "outputs": [
    {
     "name": "stdout",
     "output_type": "stream",
     "text": [
      "35\n"
     ]
    }
   ],
   "source": [
    "# Establecer la edad usando el setter\n",
    "persona.edad = 35\n",
    "print(persona.edad)  # Salida: 35\n",
    "\n"
   ]
  },
  {
   "cell_type": "code",
   "execution_count": 94,
   "id": "5589c9fd",
   "metadata": {},
   "outputs": [
    {
     "name": "stdout",
     "output_type": "stream",
     "text": [
      "Error: La edad debe ser un número entero positivo.\n"
     ]
    }
   ],
   "source": [
    "# Intentar establecer una edad no válida\n",
    "persona.edad = \"treinta\"  # Esto imprimirá el mensaje de error"
   ]
  },
  {
   "cell_type": "markdown",
   "id": "dedb9d57",
   "metadata": {},
   "source": [
    "## Polimorfismo"
   ]
  },
  {
   "cell_type": "code",
   "execution_count": 82,
   "id": "0a09c7f1",
   "metadata": {},
   "outputs": [
    {
     "name": "stdout",
     "output_type": "stream",
     "text": [
      "Woof!\n",
      "Miau!\n",
      "Muu!\n"
     ]
    }
   ],
   "source": [
    "class Animal:\n",
    "    def hablar(self):\n",
    "        pass\n",
    "\n",
    "class Perro(Animal):\n",
    "    def hablar(self):\n",
    "        return \"Woof!\"\n",
    "\n",
    "class Gato(Animal):\n",
    "    def hablar(self):\n",
    "        return \"Miau!\"\n",
    "\n",
    "class Vaca(Animal):\n",
    "    def hablar(self):\n",
    "        return \"Muu!\"\n",
    "\n",
    "# Función que utiliza polimorfismo\n",
    "def hacer_hablar(animal):\n",
    "    return animal.hablar()\n",
    "\n",
    "# Crear instancias de diferentes animales\n",
    "perro = Perro()\n",
    "gato = Gato()\n",
    "vaca = Vaca()\n",
    "\n",
    "# Llamar a la función con diferentes objetos\n",
    "print(hacer_hablar(perro))  # Salida: \"Woof!\"\n",
    "print(hacer_hablar(gato))   # Salida: \"Miau!\"\n",
    "print(hacer_hablar(vaca))   # Salida: \"Muu!\"\n",
    "\n"
   ]
  },
  {
   "cell_type": "markdown",
   "id": "bd120ca4",
   "metadata": {},
   "source": [
    "### Abstracción"
   ]
  },
  {
   "cell_type": "code",
   "execution_count": 95,
   "id": "54965725",
   "metadata": {},
   "outputs": [
    {
     "name": "stdout",
     "output_type": "stream",
     "text": [
      "Toyota Camry (2022) está en movimiento.\n",
      "Toyota Camry (2022) no se puede mover porque el motor está apagado.\n"
     ]
    }
   ],
   "source": [
    "class Coche:\n",
    "    def __init__(self, marca, modelo, año):\n",
    "        self.marca = marca      # Atributo: Marca del coche\n",
    "        self.modelo = modelo    # Atributo: Modelo del coche\n",
    "        self.año = año          # Atributo: Año de fabricación del coche\n",
    "        self.encendido = False  # Atributo: Estado del motor (apagado por defecto)\n",
    "\n",
    "    def encender(self):\n",
    "        self.encendido = True\n",
    "\n",
    "    def apagar(self):\n",
    "        self.encendido = False\n",
    "\n",
    "    def conducir(self):\n",
    "        if self.encendido:\n",
    "            print(f\"{self.marca} {self.modelo} ({self.año}) está en movimiento.\")\n",
    "        else:\n",
    "            print(f\"{self.marca} {self.modelo} ({self.año}) no se puede mover porque el motor está apagado.\")\n",
    "\n",
    "# Crear un objeto de la clase Coche\n",
    "mi_coche = Coche(\"Toyota\", \"Camry\", 2022)\n",
    "\n",
    "# Encender el coche\n",
    "mi_coche.encender()\n",
    "\n",
    "# Conducir el coche\n",
    "mi_coche.conducir()\n",
    "\n",
    "# Apagar el coche\n",
    "mi_coche.apagar()\n",
    "\n",
    "# Intentar conducir de nuevo después de apagarlo\n",
    "mi_coche.conducir()\n"
   ]
  },
  {
   "cell_type": "markdown",
   "id": "bfa26e50",
   "metadata": {},
   "source": [
    "### Ejemplos Herencia"
   ]
  },
  {
   "cell_type": "code",
   "execution_count": 96,
   "id": "b27c2674",
   "metadata": {},
   "outputs": [
    {
     "name": "stdout",
     "output_type": "stream",
     "text": [
      "Animal genérico está comiendo.\n",
      "Animal genérico está durmiendo.\n",
      "Fido está comiendo.\n",
      "Fido está durmiendo.\n",
      "Fido está ladrando.\n",
      "Raza del perro: Labrador\n"
     ]
    }
   ],
   "source": [
    "# Definición de la clase base (superclase)\n",
    "class Animal:\n",
    "    def __init__(self, nombre):\n",
    "        self.nombre = nombre\n",
    "\n",
    "    def comer(self):\n",
    "        print(f\"{self.nombre} está comiendo.\")\n",
    "\n",
    "    def dormir(self):\n",
    "        print(f\"{self.nombre} está durmiendo.\")\n",
    "\n",
    "\n",
    "# Definición de una clase derivada (subclase) que hereda de Animal\n",
    "class Perro(Animal):\n",
    "    def __init__(self, nombre, raza):\n",
    "        super().__init__(nombre)\n",
    "        self.raza = raza\n",
    "\n",
    "    def ladrar(self):\n",
    "        print(f\"{self.nombre} está ladrando.\")\n",
    "\n",
    "\n",
    "# Creación de instancias de las clases\n",
    "animal_generico = Animal(\"Animal genérico\")\n",
    "animal_generico.comer()\n",
    "animal_generico.dormir()\n",
    "\n",
    "perro1 = Perro(\"Fido\", \"Labrador\")\n",
    "perro1.comer()\n",
    "perro1.dormir()\n",
    "perro1.ladrar()\n",
    "print(f\"Raza del perro: {perro1.raza}\")\n"
   ]
  },
  {
   "cell_type": "code",
   "execution_count": 97,
   "id": "b74d1ee8",
   "metadata": {},
   "outputs": [
    {
     "name": "stdout",
     "output_type": "stream",
     "text": [
      "Coche Rojo está en movimiento.\n",
      "¡Beep beep!\n",
      "Color del coche: Rojo\n"
     ]
    }
   ],
   "source": [
    "# Definición de la clase base (superclase)\n",
    "class Vehiculo:\n",
    "    def __init__(self, nombre):\n",
    "        self.nombre = nombre\n",
    "\n",
    "    def moverse(self):\n",
    "        print(f\"{self.nombre} está en movimiento.\")\n",
    "\n",
    "\n",
    "# Definición de una clase derivada (subclase) que hereda de Vehiculo\n",
    "class Automovil(Vehiculo):\n",
    "    def __init__(self, nombre, color):\n",
    "        super().__init__(nombre)\n",
    "        self.color = color\n",
    "\n",
    "    def sonar_bocina(self):\n",
    "        print(\"¡Beep beep!\")\n",
    "\n",
    "\n",
    "# Creación de instancias de las clases\n",
    "auto_rojo = Automovil(\"Coche Rojo\", \"Rojo\")\n",
    "auto_rojo.moverse()\n",
    "auto_rojo.sonar_bocina()\n",
    "print(f\"Color del coche: {auto_rojo.color}\")\n"
   ]
  },
  {
   "cell_type": "markdown",
   "id": "97de1c54",
   "metadata": {},
   "source": [
    "### Ejemplo Polimorfismo"
   ]
  },
  {
   "cell_type": "code",
   "execution_count": 98,
   "id": "4365ed22",
   "metadata": {},
   "outputs": [
    {
     "name": "stdout",
     "output_type": "stream",
     "text": [
      "Leon: Rugido\n",
      "Elefante: Barrito\n",
      "Jirafa: Rugido alto\n"
     ]
    }
   ],
   "source": [
    "# Clase base \"Animal\"\n",
    "class Animal:\n",
    "    def hacer_sonido(self):\n",
    "        pass\n",
    "\n",
    "# Clase derivada \"Leon\"\n",
    "class Leon(Animal):\n",
    "    def hacer_sonido(self):\n",
    "        return \"Rugido\"\n",
    "\n",
    "# Clase derivada \"Elefante\"\n",
    "class Elefante(Animal):\n",
    "    def hacer_sonido(self):\n",
    "        return \"Barrito\"\n",
    "\n",
    "# Clase derivada \"Jirafa\"\n",
    "class Jirafa(Animal):\n",
    "    def hacer_sonido(self):\n",
    "        return \"Rugido alto\"\n",
    "\n",
    "# Función que utiliza polimorfismo para hacer que los animales hagan sonidos\n",
    "def hacer_animales_sonar(animales):\n",
    "    for animal in animales:\n",
    "        print(f\"{type(animal).__name__}: {animal.hacer_sonido()}\")\n",
    "\n",
    "# Crear instancias de diferentes animales\n",
    "leon = Leon()\n",
    "elefante = Elefante()\n",
    "jirafa = Jirafa()\n",
    "\n",
    "# Llamar a la función con una lista de animales\n",
    "animales = [leon, elefante, jirafa]\n",
    "hacer_animales_sonar(animales)\n"
   ]
  },
  {
   "cell_type": "markdown",
   "id": "c844b504",
   "metadata": {},
   "source": [
    "### Ejemplos encapsulamiento"
   ]
  },
  {
   "cell_type": "code",
   "execution_count": 99,
   "id": "dd608eb8",
   "metadata": {},
   "outputs": [
    {
     "name": "stdout",
     "output_type": "stream",
     "text": [
      "Saldo actual: 1000\n",
      "Se han depositado 500 unidades.\n",
      "Saldo actual: 1500\n",
      "Se han retirado 200 unidades.\n",
      "Saldo actual: 1300\n"
     ]
    },
    {
     "ename": "AttributeError",
     "evalue": "'CuentaBancaria' object has no attribute '__titular'",
     "output_type": "error",
     "traceback": [
      "\u001b[1;31m---------------------------------------------------------------------------\u001b[0m",
      "\u001b[1;31mAttributeError\u001b[0m                            Traceback (most recent call last)",
      "Cell \u001b[1;32mIn[99], line 33\u001b[0m\n\u001b[0;32m     30\u001b[0m cuenta\u001b[38;5;241m.\u001b[39mconsultar_saldo()\n\u001b[0;32m     32\u001b[0m \u001b[38;5;66;03m# Intento de acceso directo a los atributos privados (encapsulados)\u001b[39;00m\n\u001b[1;32m---> 33\u001b[0m \u001b[38;5;28mprint\u001b[39m(\u001b[43mcuenta\u001b[49m\u001b[38;5;241;43m.\u001b[39;49m\u001b[43m__titular\u001b[49m)  \u001b[38;5;66;03m# Esto generará un error\u001b[39;00m\n\u001b[0;32m     34\u001b[0m \u001b[38;5;28mprint\u001b[39m(cuenta\u001b[38;5;241m.\u001b[39m__saldo)    \u001b[38;5;66;03m# Esto generará un error\u001b[39;00m\n",
      "\u001b[1;31mAttributeError\u001b[0m: 'CuentaBancaria' object has no attribute '__titular'"
     ]
    }
   ],
   "source": [
    "# Definición de la clase\n",
    "class CuentaBancaria:\n",
    "    def __init__(self, titular, saldo_inicial):\n",
    "        self.__titular = titular\n",
    "        self.__saldo = saldo_inicial\n",
    "\n",
    "    def depositar(self, cantidad):\n",
    "        self.__saldo += cantidad\n",
    "        print(f\"Se han depositado {cantidad} unidades.\")\n",
    "    \n",
    "    def retirar(self, cantidad):\n",
    "        if self.__saldo >= cantidad:\n",
    "            self.__saldo -= cantidad\n",
    "            print(f\"Se han retirado {cantidad} unidades.\")\n",
    "        else:\n",
    "            print(\"Fondos insuficientes.\")\n",
    "\n",
    "    def consultar_saldo(self):\n",
    "        print(f\"Saldo actual: {self.__saldo}\")\n",
    "\n",
    "\n",
    "# Creación de una instancia de la clase\n",
    "cuenta = CuentaBancaria(\"Juan\", 1000)\n",
    "\n",
    "# Llamada a los métodos públicos\n",
    "cuenta.consultar_saldo()\n",
    "cuenta.depositar(500)\n",
    "cuenta.consultar_saldo()\n",
    "cuenta.retirar(200)\n",
    "cuenta.consultar_saldo()\n",
    "\n",
    "# Intento de acceso directo a los atributos privados (encapsulados)\n",
    "print(cuenta.__titular)  # Esto generará un error\n",
    "print(cuenta.__saldo)    # Esto generará un error\n"
   ]
  },
  {
   "cell_type": "code",
   "execution_count": 100,
   "id": "454b95d9",
   "metadata": {},
   "outputs": [
    {
     "name": "stdout",
     "output_type": "stream",
     "text": [
      "Juguete: Carrito\n",
      "¡Carrito está siendo jugado!\n"
     ]
    },
    {
     "ename": "AttributeError",
     "evalue": "'Juguete' object has no attribute '__nombre'",
     "output_type": "error",
     "traceback": [
      "\u001b[1;31m---------------------------------------------------------------------------\u001b[0m",
      "\u001b[1;31mAttributeError\u001b[0m                            Traceback (most recent call last)",
      "Cell \u001b[1;32mIn[100], line 21\u001b[0m\n\u001b[0;32m     18\u001b[0m juguete\u001b[38;5;241m.\u001b[39mjugar()\n\u001b[0;32m     20\u001b[0m \u001b[38;5;66;03m# Intento de acceso directo al atributo privado (encapsulado)\u001b[39;00m\n\u001b[1;32m---> 21\u001b[0m \u001b[38;5;28mprint\u001b[39m(\u001b[43mjuguete\u001b[49m\u001b[38;5;241;43m.\u001b[39;49m\u001b[43m__nombre\u001b[49m)  \u001b[38;5;66;03m# Esto generará un error\u001b[39;00m\n",
      "\u001b[1;31mAttributeError\u001b[0m: 'Juguete' object has no attribute '__nombre'"
     ]
    }
   ],
   "source": [
    "# Definición de la clase\n",
    "class Juguete:\n",
    "    def __init__(self, nombre):\n",
    "        self.__nombre = nombre\n",
    "\n",
    "    def jugar(self):\n",
    "        print(f\"¡{self.__nombre} está siendo jugado!\")\n",
    "\n",
    "    def obtener_nombre(self):\n",
    "        return self.__nombre\n",
    "\n",
    "\n",
    "# Creación de una instancia de la clase\n",
    "juguete = Juguete(\"Carrito\")\n",
    "\n",
    "# Llamada a los métodos públicos\n",
    "print(f\"Juguete: {juguete.obtener_nombre()}\")\n",
    "juguete.jugar()\n",
    "\n",
    "# Intento de acceso directo al atributo privado (encapsulado)\n",
    "print(juguete.__nombre)  # Esto generará un error\n"
   ]
  },
  {
   "cell_type": "markdown",
   "id": "37ca52b0",
   "metadata": {},
   "source": [
    "### Ejemplos Abstracción"
   ]
  },
  {
   "cell_type": "code",
   "execution_count": 101,
   "id": "6d9e1251",
   "metadata": {},
   "outputs": [
    {
     "name": "stdout",
     "output_type": "stream",
     "text": [
      "Rectángulo:\n",
      "Área: 15\n",
      "Perímetro: 16\n"
     ]
    }
   ],
   "source": [
    "from abc import ABC, abstractmethod\n",
    "\n",
    "# Definición de la clase abstracta (interfaz)\n",
    "class FiguraGeometrica(ABC):\n",
    "    @abstractmethod\n",
    "    def calcular_area(self):\n",
    "        pass\n",
    "\n",
    "    @abstractmethod\n",
    "    def calcular_perimetro(self):\n",
    "        pass\n",
    "\n",
    "\n",
    "# Definición de una clase concreta que implementa FiguraGeometrica\n",
    "class Rectangulo(FiguraGeometrica):\n",
    "    def __init__(self, base, altura):\n",
    "        self.base = base\n",
    "        self.altura = altura\n",
    "\n",
    "    def calcular_area(self):\n",
    "        return self.base * self.altura\n",
    "\n",
    "    def calcular_perimetro(self):\n",
    "        return 2 * (self.base + self.altura)\n",
    "\n",
    "\n",
    "# Creación de una instancia de la clase\n",
    "rectangulo = Rectangulo(5, 3)\n",
    "\n",
    "# Llamada a los métodos de la clase concreta\n",
    "print(\"Rectángulo:\")\n",
    "print(\"Área:\", rectangulo.calcular_area())\n",
    "print(\"Perímetro:\", rectangulo.calcular_perimetro())\n",
    "\n"
   ]
  },
  {
   "cell_type": "code",
   "execution_count": 102,
   "id": "55181721",
   "metadata": {},
   "outputs": [
    {
     "name": "stdout",
     "output_type": "stream",
     "text": [
      "Perro:\n",
      "¡Guau guau!\n",
      "El perro corre.\n"
     ]
    }
   ],
   "source": [
    "from abc import ABC, abstractmethod\n",
    "\n",
    "# Definición de la clase abstracta (interfaz)\n",
    "class Animal(ABC):\n",
    "    @abstractmethod\n",
    "    def hacer_sonido(self):\n",
    "        pass\n",
    "\n",
    "    @abstractmethod\n",
    "    def moverse(self):\n",
    "        pass\n",
    "\n",
    "\n",
    "# Definición de una clase concreta que implementa Animal\n",
    "class Perro(Animal):\n",
    "    def hacer_sonido(self):\n",
    "        return \"¡Guau guau!\"\n",
    "\n",
    "    def moverse(self):\n",
    "        return \"El perro corre.\"\n",
    "\n",
    "\n",
    "# Creación de una instancia de la clase\n",
    "perro = Perro()\n",
    "\n",
    "# Llamada a los métodos de la clase concreta\n",
    "print(\"Perro:\")\n",
    "print(perro.hacer_sonido())\n",
    "print(perro.moverse())\n"
   ]
  },
  {
   "cell_type": "code",
   "execution_count": 111,
   "id": "a5b09ce3",
   "metadata": {},
   "outputs": [
    {
     "ename": "ModuleNotFoundError",
     "evalue": "No module named 'm'",
     "output_type": "error",
     "traceback": [
      "\u001b[1;31m---------------------------------------------------------------------------\u001b[0m",
      "\u001b[1;31mModuleNotFoundError\u001b[0m                       Traceback (most recent call last)",
      "Cell \u001b[1;32mIn[111], line 6\u001b[0m\n\u001b[0;32m      3\u001b[0m     \u001b[38;5;28;01mdef\u001b[39;00m \u001b[38;5;21mf\u001b[39m(\u001b[38;5;28mself\u001b[39m):\n\u001b[0;32m      4\u001b[0m         \u001b[38;5;28mprint\u001b[39m(f())\n\u001b[1;32m----> 6\u001b[0m \u001b[38;5;28;01mimport\u001b[39;00m \u001b[38;5;21;01mm\u001b[39;00m\n\u001b[0;32m      7\u001b[0m \u001b[38;5;28;01mdef\u001b[39;00m \u001b[38;5;21mmonkey_f\u001b[39m(\u001b[38;5;28mself\u001b[39m):\n\u001b[0;32m      8\u001b[0m     \u001b[38;5;28mprint\u001b[39m (monkey_f())\n",
      "\u001b[1;31mModuleNotFoundError\u001b[0m: No module named 'm'"
     ]
    }
   ],
   "source": [
    "# m.py\n",
    "class MyClass:\n",
    "    def f(self):\n",
    "        print(f())\n",
    "\n",
    "import m\n",
    "def monkey_f(self):\n",
    "    print (monkey_f())\n",
    "    m.MyClass.f = monkey_f\n",
    "obj = m.MyClass()\n",
    "obj.f()\n"
   ]
  },
  {
   "cell_type": "code",
   "execution_count": null,
   "id": "82777280",
   "metadata": {},
   "outputs": [],
   "source": []
  }
 ],
 "metadata": {
  "kernelspec": {
   "display_name": "Python 3 (ipykernel)",
   "language": "python",
   "name": "python3"
  },
  "language_info": {
   "codemirror_mode": {
    "name": "ipython",
    "version": 3
   },
   "file_extension": ".py",
   "mimetype": "text/x-python",
   "name": "python",
   "nbconvert_exporter": "python",
   "pygments_lexer": "ipython3",
   "version": "3.11.4"
  }
 },
 "nbformat": 4,
 "nbformat_minor": 5
}
