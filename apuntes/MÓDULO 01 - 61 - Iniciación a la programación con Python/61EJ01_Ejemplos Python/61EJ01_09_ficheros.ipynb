{
 "cells": [
  {
   "cell_type": "code",
   "execution_count": 6,
   "id": "3247e789",
   "metadata": {},
   "outputs": [],
   "source": [
    "f = open('data.dat', 'r')\n"
   ]
  },
  {
   "cell_type": "code",
   "execution_count": 7,
   "id": "9dc1ca12",
   "metadata": {},
   "outputs": [
    {
     "data": {
      "text/plain": [
       "<_io.TextIOWrapper name='data.dat' mode='r' encoding='cp1252'>"
      ]
     },
     "execution_count": 7,
     "metadata": {},
     "output_type": "execute_result"
    }
   ],
   "source": [
    "f"
   ]
  },
  {
   "cell_type": "code",
   "execution_count": 8,
   "id": "9eea60c0",
   "metadata": {},
   "outputs": [
    {
     "data": {
      "text/plain": [
       "'23 29\\n23 31\\n26 34\\n23 33\\n22 29\\n22 28\\n22 28'"
      ]
     },
     "execution_count": 8,
     "metadata": {},
     "output_type": "execute_result"
    }
   ],
   "source": [
    "f.read()"
   ]
  },
  {
   "cell_type": "code",
   "execution_count": 12,
   "id": "1f877f91",
   "metadata": {},
   "outputs": [
    {
     "name": "stdout",
     "output_type": "stream",
     "text": [
      "23 29\n",
      "\n",
      "23 31\n",
      "\n",
      "26 34\n",
      "\n",
      "23 33\n",
      "\n",
      "22 29\n",
      "\n",
      "22 28\n",
      "\n",
      "22 28\n"
     ]
    }
   ],
   "source": [
    "f = open('data.dat', 'r')\n",
    "\n",
    "for line in f:    # that easy!\n",
    "    print(line)"
   ]
  },
  {
   "cell_type": "code",
   "execution_count": 13,
   "id": "21779fd9",
   "metadata": {},
   "outputs": [
    {
     "data": {
      "text/plain": [
       "'23 29\\n'"
      ]
     },
     "execution_count": 13,
     "metadata": {},
     "output_type": "execute_result"
    }
   ],
   "source": [
    "f = open('data.dat')\n",
    "\n",
    "f.readline()"
   ]
  },
  {
   "cell_type": "code",
   "execution_count": 14,
   "id": "eb664f31",
   "metadata": {},
   "outputs": [],
   "source": [
    "f.close()"
   ]
  },
  {
   "cell_type": "code",
   "execution_count": 15,
   "id": "f2ec1a08",
   "metadata": {},
   "outputs": [],
   "source": [
    "f = open('canary-iata.dat', 'w')\n"
   ]
  },
  {
   "cell_type": "code",
   "execution_count": 16,
   "id": "714adc4b",
   "metadata": {},
   "outputs": [],
   "source": [
    "canary_iata = ('TFN', 'TFS', 'LPA', 'GMZ', 'VDE', 'SPC', 'ACE', 'FUE')\n",
    "\n",
    "for code in canary_iata:\n",
    "    f.write(code + '\\n')\n",
    "\n",
    "\n",
    "f.close()"
   ]
  },
  {
   "cell_type": "code",
   "execution_count": 17,
   "id": "0fdbb3c5",
   "metadata": {},
   "outputs": [],
   "source": [
    "f = open('canary-iata.dat', 'a')"
   ]
  },
  {
   "cell_type": "code",
   "execution_count": 18,
   "id": "27b459f2",
   "metadata": {},
   "outputs": [],
   "source": [
    "canary_iata = ('TFN', 'TFS', 'LPA', 'GMZ', 'VDE', 'SPC', 'ACE', 'FUE')\n",
    "\n",
    "for code in canary_iata:\n",
    "    f.write(code + '\\n')\n",
    "\n",
    "\n",
    "f.close()"
   ]
  },
  {
   "cell_type": "code",
   "execution_count": 19,
   "id": "cf6fb9d1",
   "metadata": {},
   "outputs": [
    {
     "name": "stdout",
     "output_type": "stream",
     "text": [
      "23 29\n",
      "23 31\n",
      "26 34\n",
      "23 33\n",
      "22 29\n",
      "22 28\n",
      "22 28\n"
     ]
    }
   ],
   "source": [
    "with open('data.dat') as f:\n",
    "    for line in f:\n",
    "        min_temp, max_temp = line.strip().split()\n",
    "        print(min_temp, max_temp)\n"
   ]
  },
  {
   "cell_type": "code",
   "execution_count": 21,
   "id": "57f0792f",
   "metadata": {},
   "outputs": [],
   "source": [
    "lottery = [43, 21, 99, 18, 37, 99]\n",
    "\n",
    "with open('lottery.dat', 'w') as f:\n",
    "    for number in lottery:\n",
    "        f.write(str(number) + '\\n')"
   ]
  },
  {
   "cell_type": "code",
   "execution_count": null,
   "id": "42a4cb3f",
   "metadata": {},
   "outputs": [],
   "source": []
  }
 ],
 "metadata": {
  "kernelspec": {
   "display_name": "Python 3 (ipykernel)",
   "language": "python",
   "name": "python3"
  },
  "language_info": {
   "codemirror_mode": {
    "name": "ipython",
    "version": 3
   },
   "file_extension": ".py",
   "mimetype": "text/x-python",
   "name": "python",
   "nbconvert_exporter": "python",
   "pygments_lexer": "ipython3",
   "version": "3.10.9"
  }
 },
 "nbformat": 4,
 "nbformat_minor": 5
}
