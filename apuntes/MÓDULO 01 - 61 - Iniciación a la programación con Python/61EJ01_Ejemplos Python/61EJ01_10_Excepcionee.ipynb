{
 "cells": [
  {
   "cell_type": "markdown",
   "id": "5b540dcf",
   "metadata": {},
   "source": [
    "Manejando errores¶\n"
   ]
  },
  {
   "cell_type": "code",
   "execution_count": null,
   "id": "cf6f8e80",
   "metadata": {},
   "outputs": [],
   "source": [
    "def intdiv(a: int, b: int) -> int:\n",
    "    try:\n",
    "        return a // b\n",
    "    except:\n",
    "        print('Please do not divide by zero...')\n",
    "\n",
    "\n",
    "intdiv(3, 0)"
   ]
  },
  {
   "cell_type": "markdown",
   "id": "acf30510",
   "metadata": {},
   "source": [
    "La traza o pila de llamadas («Traceback» en inglés)"
   ]
  },
  {
   "cell_type": "code",
   "execution_count": null,
   "id": "e3b42a51",
   "metadata": {},
   "outputs": [],
   "source": [
    "def intdiv(a: int, b: int) -> int:\n",
    "    return a // b\n",
    "\n",
    "def arithmetics():\n",
    "    return intdiv(3, 0)\n",
    "\n",
    "def manage():\n",
    "    return arithmetics()\n",
    "\n",
    "def main():\n",
    "    return manage()\n",
    "\n",
    "\n",
    "main()"
   ]
  },
  {
   "cell_type": "markdown",
   "id": "089c5fcc",
   "metadata": {},
   "source": [
    "Especificando excepciones¶\n"
   ]
  },
  {
   "cell_type": "code",
   "execution_count": 15,
   "id": "60f2f653",
   "metadata": {},
   "outputs": [
    {
     "name": "stdout",
     "output_type": "stream",
     "text": [
      "Please do not divide by zero...\n"
     ]
    }
   ],
   "source": [
    "def intdiv(a, b):\n",
    "    try:\n",
    "        result = a // b\n",
    "    except TypeError:\n",
    "        print('Check operands. Some of them seems strange...')\n",
    "    except ZeroDivisionError:\n",
    "        print('Please do not divide by zero...')\n",
    "    except Exception:\n",
    "        print('Ups. Something went wrong...')\n",
    "\n",
    "\n",
    "intdiv(3, 0)"
   ]
  },
  {
   "cell_type": "code",
   "execution_count": 16,
   "id": "7a119ca7",
   "metadata": {},
   "outputs": [
    {
     "name": "stdout",
     "output_type": "stream",
     "text": [
      "Check operands. Some of them seems strange...\n"
     ]
    }
   ],
   "source": [
    "intdiv(3, '0')\n"
   ]
  },
  {
   "cell_type": "markdown",
   "id": "5a4198d4",
   "metadata": {},
   "source": [
    "EXCEPCIONES PREDEFINIDAS¶\n"
   ]
  },
  {
   "cell_type": "markdown",
   "id": "7d93a16d",
   "metadata": {},
   "source": [
    "AGRUPANDO EXCEPCIONES¶\n"
   ]
  },
  {
   "cell_type": "code",
   "execution_count": 17,
   "id": "e9e7c692",
   "metadata": {},
   "outputs": [
    {
     "name": "stdout",
     "output_type": "stream",
     "text": [
      "Check operands: Some of them caused errors...\n"
     ]
    }
   ],
   "source": [
    "def intdiv(a, b):\n",
    "    try:\n",
    "        result = a // b\n",
    "    except (TypeError, ZeroDivisionError):\n",
    "        print('Check operands: Some of them caused errors...')\n",
    "    except Exception:\n",
    "        print('Ups. Something went wrong...')\n",
    "\n",
    "\n",
    "intdiv(3, 0)"
   ]
  },
  {
   "cell_type": "markdown",
   "id": "1a758023",
   "metadata": {},
   "source": [
    "Variantes en el tratamiento¶\n"
   ]
  },
  {
   "cell_type": "code",
   "execution_count": 18,
   "id": "a467a4b7",
   "metadata": {},
   "outputs": [
    {
     "name": "stdout",
     "output_type": "stream",
     "text": [
      "Error: Index not in list\n",
      "Have a good day!\n"
     ]
    }
   ],
   "source": [
    "values = [4, 2, 7]\n",
    "\n",
    "try:\n",
    "    r = values[3]\n",
    "except IndexError:\n",
    "    print('Error: Index not in list')\n",
    "else:\n",
    "    print(f'Your wishes are my command: {r}')\n",
    "finally:\n",
    "    print('Have a good day!')\n",
    "    \n",
    "    "
   ]
  },
  {
   "cell_type": "code",
   "execution_count": null,
   "id": "312e5867",
   "metadata": {},
   "outputs": [],
   "source": []
  },
  {
   "cell_type": "code",
   "execution_count": 2,
   "id": "9b3304b1",
   "metadata": {},
   "outputs": [
    {
     "name": "stdout",
     "output_type": "stream",
     "text": [
      "Your wishes are my command: 7\n",
      "Have a good day!\n"
     ]
    }
   ],
   "source": [
    "try:\n",
    "    r = values[2]\n",
    "except IndexError:\n",
    "    print('Error: Index not in list')\n",
    "else:\n",
    "    print(f'Your wishes are my command: {r}')\n",
    "finally:\n",
    "    print('Have a good day!')"
   ]
  },
  {
   "cell_type": "markdown",
   "id": "d803b49e",
   "metadata": {},
   "source": [
    "Mostrando los errores¶\n"
   ]
  },
  {
   "cell_type": "code",
   "execution_count": 3,
   "id": "8103e79d",
   "metadata": {},
   "outputs": [
    {
     "name": "stdout",
     "output_type": "stream",
     "text": [
      "list index out of range\n"
     ]
    }
   ],
   "source": [
    "try:\n",
    "    print(values[3])\n",
    "except IndexError as err:\n",
    "    print(err)"
   ]
  },
  {
   "cell_type": "code",
   "execution_count": null,
   "id": "83e2a5e0",
   "metadata": {},
   "outputs": [],
   "source": []
  },
  {
   "cell_type": "code",
   "execution_count": 4,
   "id": "f0ac1304",
   "metadata": {},
   "outputs": [
    {
     "name": "stdout",
     "output_type": "stream",
     "text": [
      "Something went wrong: list index out of range\n"
     ]
    }
   ],
   "source": [
    "try:\n",
    "    print(values[3])\n",
    "except IndexError as err:\n",
    "    print(f'Something went wrong: {err}')"
   ]
  },
  {
   "cell_type": "markdown",
   "id": "cf8a1a76",
   "metadata": {},
   "source": [
    "Elevando excepciones¶\n"
   ]
  },
  {
   "cell_type": "code",
   "execution_count": 19,
   "id": "a5afa8b5",
   "metadata": {},
   "outputs": [
    {
     "data": {
      "text/plain": [
       "7"
      ]
     },
     "execution_count": 19,
     "metadata": {},
     "output_type": "execute_result"
    }
   ],
   "source": [
    "def _sum(a: int, b: int) -> int:\n",
    "    if isinstance(a, int) and isinstance(b, int):\n",
    "        return a + b\n",
    "    raise TypeError('Operands must be integers')\n",
    "\n",
    "\n",
    "_sum(4, 3)  # todo normal\n",
    "\n"
   ]
  },
  {
   "cell_type": "code",
   "execution_count": 20,
   "id": "dc5f0c3d",
   "metadata": {},
   "outputs": [
    {
     "ename": "TypeError",
     "evalue": "Operands must be integers",
     "output_type": "error",
     "traceback": [
      "\u001b[1;31m---------------------------------------------------------------------------\u001b[0m",
      "\u001b[1;31mTypeError\u001b[0m                                 Traceback (most recent call last)",
      "Cell \u001b[1;32mIn[20], line 1\u001b[0m\n\u001b[1;32m----> 1\u001b[0m \u001b[43m_sum\u001b[49m\u001b[43m(\u001b[49m\u001b[38;5;124;43m'\u001b[39;49m\u001b[38;5;124;43mx\u001b[39;49m\u001b[38;5;124;43m'\u001b[39;49m\u001b[43m,\u001b[49m\u001b[43m \u001b[49m\u001b[38;5;124;43m'\u001b[39;49m\u001b[38;5;124;43my\u001b[39;49m\u001b[38;5;124;43m'\u001b[39;49m\u001b[43m)\u001b[49m\n",
      "Cell \u001b[1;32mIn[19], line 4\u001b[0m, in \u001b[0;36m_sum\u001b[1;34m(a, b)\u001b[0m\n\u001b[0;32m      2\u001b[0m \u001b[38;5;28;01mif\u001b[39;00m \u001b[38;5;28misinstance\u001b[39m(a, \u001b[38;5;28mint\u001b[39m) \u001b[38;5;129;01mand\u001b[39;00m \u001b[38;5;28misinstance\u001b[39m(b, \u001b[38;5;28mint\u001b[39m):\n\u001b[0;32m      3\u001b[0m     \u001b[38;5;28;01mreturn\u001b[39;00m a \u001b[38;5;241m+\u001b[39m b\n\u001b[1;32m----> 4\u001b[0m \u001b[38;5;28;01mraise\u001b[39;00m \u001b[38;5;167;01mTypeError\u001b[39;00m(\u001b[38;5;124m'\u001b[39m\u001b[38;5;124mOperands must be integers\u001b[39m\u001b[38;5;124m'\u001b[39m)\n",
      "\u001b[1;31mTypeError\u001b[0m: Operands must be integers"
     ]
    }
   ],
   "source": [
    "\n",
    "_sum('x', 'y')"
   ]
  },
  {
   "cell_type": "markdown",
   "id": "5edcd06c",
   "metadata": {},
   "source": [
    "Excepciones propias¶\n"
   ]
  },
  {
   "cell_type": "code",
   "execution_count": 21,
   "id": "2cb57553",
   "metadata": {},
   "outputs": [
    {
     "ename": "NotIntError",
     "evalue": "2.11",
     "output_type": "error",
     "traceback": [
      "\u001b[1;31m---------------------------------------------------------------------------\u001b[0m",
      "\u001b[1;31mNotIntError\u001b[0m                               Traceback (most recent call last)",
      "Cell \u001b[1;32mIn[21], line 9\u001b[0m\n\u001b[0;32m      7\u001b[0m \u001b[38;5;28;01mfor\u001b[39;00m value \u001b[38;5;129;01min\u001b[39;00m values:\n\u001b[0;32m      8\u001b[0m     \u001b[38;5;28;01mif\u001b[39;00m \u001b[38;5;129;01mnot\u001b[39;00m \u001b[38;5;28misinstance\u001b[39m(value, \u001b[38;5;28mint\u001b[39m):\n\u001b[1;32m----> 9\u001b[0m         \u001b[38;5;28;01mraise\u001b[39;00m NotIntError(value)\n",
      "\u001b[1;31mNotIntError\u001b[0m: 2.11"
     ]
    }
   ],
   "source": [
    "class NotIntError(Exception):\n",
    "    pass\n",
    "\n",
    "\n",
    "values = (4, 7, 2.11, 9)\n",
    "\n",
    "for value in values:\n",
    "    if not isinstance(value, int):\n",
    "        raise NotIntError(value)"
   ]
  },
  {
   "cell_type": "markdown",
   "id": "337b61cd",
   "metadata": {},
   "source": [
    "Mensaje personalizado¶\n"
   ]
  },
  {
   "cell_type": "code",
   "execution_count": 23,
   "id": "d060c71f",
   "metadata": {},
   "outputs": [
    {
     "ename": "NotIntError",
     "evalue": "This module only works with integers. Sorry!",
     "output_type": "error",
     "traceback": [
      "\u001b[1;31m---------------------------------------------------------------------------\u001b[0m",
      "\u001b[1;31mNotIntError\u001b[0m                               Traceback (most recent call last)",
      "Cell \u001b[1;32mIn[23], line 6\u001b[0m\n\u001b[0;32m      2\u001b[0m     \u001b[38;5;28;01mdef\u001b[39;00m \u001b[38;5;21m__init__\u001b[39m(\u001b[38;5;28mself\u001b[39m, message\u001b[38;5;241m=\u001b[39m\u001b[38;5;124m'\u001b[39m\u001b[38;5;124mThis module only works with integers. Sorry!\u001b[39m\u001b[38;5;124m'\u001b[39m):\n\u001b[0;32m      3\u001b[0m         \u001b[38;5;28msuper\u001b[39m()\u001b[38;5;241m.\u001b[39m\u001b[38;5;21m__init__\u001b[39m(message)\n\u001b[1;32m----> 6\u001b[0m \u001b[38;5;28;01mraise\u001b[39;00m NotIntError()\n",
      "\u001b[1;31mNotIntError\u001b[0m: This module only works with integers. Sorry!"
     ]
    }
   ],
   "source": [
    "class NotIntError(Exception):\n",
    "    def __init__(self, message='This module only works with integers. Sorry!'):\n",
    "        super().__init__(message)\n",
    "\n",
    "\n",
    "raise NotIntError()"
   ]
  },
  {
   "cell_type": "markdown",
   "id": "2374c70a",
   "metadata": {},
   "source": [
    "Supongamos que queremos ir un paso más allá e incorporar en el mensaje de la excepción el propio valor que está generando el error:\n",
    "\n"
   ]
  },
  {
   "cell_type": "code",
   "execution_count": 24,
   "id": "1a4136fb",
   "metadata": {},
   "outputs": [
    {
     "ename": "NotIntError",
     "evalue": "2.11 -> This module only works with integers. Sorry!",
     "output_type": "error",
     "traceback": [
      "\u001b[1;31m---------------------------------------------------------------------------\u001b[0m",
      "\u001b[1;31mNotIntError\u001b[0m                               Traceback (most recent call last)",
      "Cell \u001b[1;32mIn[24], line 11\u001b[0m\n\u001b[0;32m      7\u001b[0m     \u001b[38;5;28;01mdef\u001b[39;00m \u001b[38;5;21m__str__\u001b[39m(\u001b[38;5;28mself\u001b[39m):\n\u001b[0;32m      8\u001b[0m         \u001b[38;5;28;01mreturn\u001b[39;00m \u001b[38;5;124mf\u001b[39m\u001b[38;5;124m'\u001b[39m\u001b[38;5;132;01m{\u001b[39;00m\u001b[38;5;28mself\u001b[39m\u001b[38;5;241m.\u001b[39mvalue\u001b[38;5;132;01m}\u001b[39;00m\u001b[38;5;124m -> \u001b[39m\u001b[38;5;132;01m{\u001b[39;00m\u001b[38;5;28mself\u001b[39m\u001b[38;5;241m.\u001b[39mmessage\u001b[38;5;132;01m}\u001b[39;00m\u001b[38;5;124m'\u001b[39m\n\u001b[1;32m---> 11\u001b[0m \u001b[38;5;28;01mraise\u001b[39;00m NotIntError(\u001b[38;5;241m2.11\u001b[39m)\n",
      "\u001b[1;31mNotIntError\u001b[0m: 2.11 -> This module only works with integers. Sorry!"
     ]
    }
   ],
   "source": [
    "class NotIntError(Exception):\n",
    "    def __init__(self, value, *, message='This module only works with integers. Sorry!'):\n",
    "        self.value = value\n",
    "        self.message = message\n",
    "        super().__init__(self.message)\n",
    "\n",
    "    def __str__(self):\n",
    "        return f'{self.value} -> {self.message}'\n",
    "\n",
    "\n",
    "raise NotIntError(2.11)"
   ]
  },
  {
   "cell_type": "code",
   "execution_count": 11,
   "id": "e87b70d6",
   "metadata": {},
   "outputs": [
    {
     "ename": "NotIntError",
     "evalue": "2.11 -> This module only works with integers. Sorry!",
     "output_type": "error",
     "traceback": [
      "\u001b[1;31m---------------------------------------------------------------------------\u001b[0m",
      "\u001b[1;31mNotIntError\u001b[0m                               Traceback (most recent call last)",
      "Cell \u001b[1;32mIn[11], line 11\u001b[0m\n\u001b[0;32m      7\u001b[0m     \u001b[38;5;28;01mdef\u001b[39;00m \u001b[38;5;21m__str__\u001b[39m(\u001b[38;5;28mself\u001b[39m):\n\u001b[0;32m      8\u001b[0m         \u001b[38;5;28;01mreturn\u001b[39;00m \u001b[38;5;124mf\u001b[39m\u001b[38;5;124m'\u001b[39m\u001b[38;5;132;01m{\u001b[39;00m\u001b[38;5;28mself\u001b[39m\u001b[38;5;241m.\u001b[39mvalue\u001b[38;5;132;01m}\u001b[39;00m\u001b[38;5;124m -> \u001b[39m\u001b[38;5;132;01m{\u001b[39;00m\u001b[38;5;28mself\u001b[39m\u001b[38;5;241m.\u001b[39mmessage\u001b[38;5;132;01m}\u001b[39;00m\u001b[38;5;124m'\u001b[39m\n\u001b[1;32m---> 11\u001b[0m \u001b[38;5;28;01mraise\u001b[39;00m NotIntError(\u001b[38;5;241m2.11\u001b[39m)\n",
      "\u001b[1;31mNotIntError\u001b[0m: 2.11 -> This module only works with integers. Sorry!"
     ]
    }
   ],
   "source": [
    "class NotIntError(Exception):\n",
    "    def __init__(self, value, *, message='This module only works with integers. Sorry!'):\n",
    "        self.value = value\n",
    "        self.message = message\n",
    "        super().__init__(self.message)\n",
    "\n",
    "    def __str__(self):\n",
    "        return f'{self.value} -> {self.message}'\n",
    "\n",
    "\n",
    "raise NotIntError(2.11)"
   ]
  },
  {
   "cell_type": "markdown",
   "id": "4ccb3519",
   "metadata": {},
   "source": [
    "modificar el mensaje por defecto"
   ]
  },
  {
   "cell_type": "code",
   "execution_count": 25,
   "id": "dd690945",
   "metadata": {},
   "outputs": [
    {
     "ename": "NotIntError",
     "evalue": "2.11 -> Please use integers!",
     "output_type": "error",
     "traceback": [
      "\u001b[1;31m---------------------------------------------------------------------------\u001b[0m",
      "\u001b[1;31mNotIntError\u001b[0m                               Traceback (most recent call last)",
      "Cell \u001b[1;32mIn[25], line 1\u001b[0m\n\u001b[1;32m----> 1\u001b[0m \u001b[38;5;28;01mraise\u001b[39;00m NotIntError(\u001b[38;5;241m2.11\u001b[39m, message\u001b[38;5;241m=\u001b[39m\u001b[38;5;124m'\u001b[39m\u001b[38;5;124mPlease use integers!\u001b[39m\u001b[38;5;124m'\u001b[39m)\n",
      "\u001b[1;31mNotIntError\u001b[0m: 2.11 -> Please use integers!"
     ]
    }
   ],
   "source": [
    "raise NotIntError(2.11, message='Please use integers!')\n"
   ]
  },
  {
   "cell_type": "markdown",
   "id": "31740c5a",
   "metadata": {},
   "source": [
    "Aserciones"
   ]
  },
  {
   "cell_type": "code",
   "execution_count": 26,
   "id": "a926c405",
   "metadata": {},
   "outputs": [
    {
     "name": "stdout",
     "output_type": "stream",
     "text": [
      "10\n"
     ]
    }
   ],
   "source": [
    "result = 10\n",
    "\n",
    "assert result > 0\n",
    "\n",
    "print(result)"
   ]
  },
  {
   "cell_type": "code",
   "execution_count": 27,
   "id": "67accb31",
   "metadata": {},
   "outputs": [
    {
     "ename": "AssertionError",
     "evalue": "",
     "output_type": "error",
     "traceback": [
      "\u001b[1;31m---------------------------------------------------------------------------\u001b[0m",
      "\u001b[1;31mAssertionError\u001b[0m                            Traceback (most recent call last)",
      "Cell \u001b[1;32mIn[27], line 3\u001b[0m\n\u001b[0;32m      1\u001b[0m result \u001b[38;5;241m=\u001b[39m \u001b[38;5;241m-\u001b[39m\u001b[38;5;241m1\u001b[39m\n\u001b[1;32m----> 3\u001b[0m \u001b[38;5;28;01massert\u001b[39;00m result \u001b[38;5;241m>\u001b[39m \u001b[38;5;241m0\u001b[39m\n",
      "\u001b[1;31mAssertionError\u001b[0m: "
     ]
    }
   ],
   "source": [
    "result = -1\n",
    "\n",
    "assert result > 0"
   ]
  },
  {
   "cell_type": "code",
   "execution_count": 28,
   "id": "65d5bc14",
   "metadata": {},
   "outputs": [
    {
     "ename": "AssertionError",
     "evalue": "El resultado debe ser positivo",
     "output_type": "error",
     "traceback": [
      "\u001b[1;31m---------------------------------------------------------------------------\u001b[0m",
      "\u001b[1;31mAssertionError\u001b[0m                            Traceback (most recent call last)",
      "Cell \u001b[1;32mIn[28], line 1\u001b[0m\n\u001b[1;32m----> 1\u001b[0m \u001b[38;5;28;01massert\u001b[39;00m result \u001b[38;5;241m>\u001b[39m \u001b[38;5;241m0\u001b[39m, \u001b[38;5;124m'\u001b[39m\u001b[38;5;124mEl resultado debe ser positivo\u001b[39m\u001b[38;5;124m'\u001b[39m\n",
      "\u001b[1;31mAssertionError\u001b[0m: El resultado debe ser positivo"
     ]
    }
   ],
   "source": [
    "assert result > 0, 'El resultado debe ser positivo'"
   ]
  },
  {
   "cell_type": "code",
   "execution_count": null,
   "id": "fd5cf9e7",
   "metadata": {},
   "outputs": [],
   "source": []
  }
 ],
 "metadata": {
  "kernelspec": {
   "display_name": "Python 3 (ipykernel)",
   "language": "python",
   "name": "python3"
  },
  "language_info": {
   "codemirror_mode": {
    "name": "ipython",
    "version": 3
   },
   "file_extension": ".py",
   "mimetype": "text/x-python",
   "name": "python",
   "nbconvert_exporter": "python",
   "pygments_lexer": "ipython3",
   "version": "3.10.9"
  }
 },
 "nbformat": 4,
 "nbformat_minor": 5
}
