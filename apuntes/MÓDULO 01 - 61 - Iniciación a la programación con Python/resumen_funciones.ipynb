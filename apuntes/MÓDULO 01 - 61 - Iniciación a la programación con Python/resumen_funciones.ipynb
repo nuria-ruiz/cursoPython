{
 "cells": [
  {
   "cell_type": "code",
   "execution_count": null,
   "id": "90d7717f",
   "metadata": {},
   "outputs": [],
   "source": [
    "def mayor(*num):\n",
    "    lista = []\n",
    "    elemento = num[0]\n",
    "    elementos = elemento.split(\",\")\n",
    "    for e in elementos:\n",
    "        if e.isdigit():\n",
    "            lista.append(int(e)) \n",
    "    return max(lista)\n",
    "num = input(\"introduce numeros\")\n",
    "mayor(num)"
   ]
  },
  {
   "cell_type": "code",
   "execution_count": null,
   "id": "732a6a53",
   "metadata": {},
   "outputs": [
    {
     "data": {
      "text/plain": [
       "444"
      ]
     },
     "execution_count": 9,
     "metadata": {},
     "output_type": "execute_result"
    }
   ],
   "source": [
    "def mayor(*num):\n",
    "    partes = num[0].split(\",\")\n",
    "    return max(map(int, partes)) #map (mapeado) pasa todos los numeros y hace algo con cada numero\n",
    "\n",
    "entrada = input(\"intro\")\n",
    "mayor(entrada)"
   ]
  },
  {
   "cell_type": "code",
   "execution_count": null,
   "id": "336812e8",
   "metadata": {},
   "outputs": [
    {
     "data": {
      "text/plain": [
       "<map at 0x1a2d0793760>"
      ]
     },
     "execution_count": 10,
     "metadata": {},
     "output_type": "execute_result"
    }
   ],
   "source": [
    "lista = [2, 23, 43, 50]\n",
    "nueva_lista = map(lambda x: x*2, lista) #lambda (función anonima) se usa cuando solo usarás la función una vez.\n",
    "nueva_lista"
   ]
  },
  {
   "cell_type": "code",
   "execution_count": null,
   "id": "183d82e1",
   "metadata": {},
   "outputs": [
    {
     "data": {
      "text/plain": [
       "[4, 46, 86, 100]"
      ]
     },
     "execution_count": 11,
     "metadata": {},
     "output_type": "execute_result"
    }
   ],
   "source": [
    "lista = [2, 23, 43, 50]\n",
    "def doble(x):\n",
    "    return x*2\n",
    "\n",
    "nueva_lista = list(map(doble, lista))\n",
    "nueva_lista"
   ]
  },
  {
   "cell_type": "code",
   "execution_count": 15,
   "id": "aa55d35b",
   "metadata": {},
   "outputs": [
    {
     "data": {
      "text/plain": [
       "[2, 24, 50]"
      ]
     },
     "execution_count": 15,
     "metadata": {},
     "output_type": "execute_result"
    }
   ],
   "source": [
    "#filter mete un elemento en una función, dice si o no (T o F), si es True lo mete en la lista, si no es true, no\n",
    "\n",
    "lista = [2, 23, 24, 43, 50]\n",
    "\n",
    "def es_par(x):\n",
    "    return x % 2 == 0\n",
    "pares = filter(es_par, lista)\n",
    "\n",
    "list(pares)"
   ]
  },
  {
   "cell_type": "code",
   "execution_count": 18,
   "id": "a84267c2",
   "metadata": {},
   "outputs": [
    {
     "data": {
      "text/plain": [
       "[2, 24, 50]"
      ]
     },
     "execution_count": 18,
     "metadata": {},
     "output_type": "execute_result"
    }
   ],
   "source": [
    "lista = [2, 23, 24, 43, 50]\n",
    "\n",
    "pares = list(filter(lambda x: x % 2 == 0, lista))\n",
    "\n",
    "pares"
   ]
  },
  {
   "cell_type": "code",
   "execution_count": 1,
   "id": "7e065236",
   "metadata": {},
   "outputs": [
    {
     "data": {
      "text/plain": [
       "15"
      ]
     },
     "execution_count": 1,
     "metadata": {},
     "output_type": "execute_result"
    }
   ],
   "source": [
    "from functools import reduce\n",
    "def mult_values(a,b):\n",
    "        return a + b \n",
    "\n",
    "data = range(1, 6)\n",
    "result = reduce(mult_values, data)\n",
    "result"
   ]
  }
 ],
 "metadata": {
  "kernelspec": {
   "display_name": "base",
   "language": "python",
   "name": "python3"
  },
  "language_info": {
   "codemirror_mode": {
    "name": "ipython",
    "version": 3
   },
   "file_extension": ".py",
   "mimetype": "text/x-python",
   "name": "python",
   "nbconvert_exporter": "python",
   "pygments_lexer": "ipython3",
   "version": "3.13.5"
  }
 },
 "nbformat": 4,
 "nbformat_minor": 5
}
