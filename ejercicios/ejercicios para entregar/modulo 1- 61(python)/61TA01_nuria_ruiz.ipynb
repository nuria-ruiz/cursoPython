{
 "cells": [
  {
   "cell_type": "code",
   "execution_count": 7,
   "id": "3b206a2a",
   "metadata": {},
   "outputs": [
    {
     "name": "stdout",
     "output_type": "stream",
     "text": [
      "Núria\n"
     ]
    }
   ],
   "source": [
    "#1. nombre completos\n",
    "name = input(\"introduzca su nombre completo\")\n",
    "print(name)"
   ]
  },
  {
   "cell_type": "code",
   "execution_count": 9,
   "id": "33332826",
   "metadata": {},
   "outputs": [
    {
     "name": "stdout",
     "output_type": "stream",
     "text": [
      "1998\n"
     ]
    }
   ],
   "source": [
    "#2. año de nacimiento\n",
    "year = input(\"introduzca su año de nacimiento\")\n",
    "if year.isdigit():\n",
    "    year = int(year)\n",
    "    print(year)\n",
    "else:\n",
    "    print(\"el año de nacimiento debe ser un número\")\n",
    "    year = 2025"
   ]
  },
  {
   "cell_type": "code",
   "execution_count": null,
   "id": "b96fc6d9",
   "metadata": {},
   "outputs": [
    {
     "name": "stdout",
     "output_type": "stream",
     "text": [
      "27\n"
     ]
    }
   ],
   "source": [
    "#3. calculo de su edad (2025)\n",
    "age = 2025 - int(year)\n",
    "print(age)"
   ]
  },
  {
   "cell_type": "code",
   "execution_count": 10,
   "id": "70b47753",
   "metadata": {},
   "outputs": [
    {
     "name": "stdout",
     "output_type": "stream",
     "text": [
      "Sant Boi de Llobregat\n"
     ]
    }
   ],
   "source": [
    "#4. ciudad de residencia\n",
    "city = input(\"introduzca su ciudad de nacimiento\")\n",
    "print(city)"
   ]
  },
  {
   "cell_type": "code",
   "execution_count": null,
   "id": "baa01c21",
   "metadata": {},
   "outputs": [
    {
     "name": "stdout",
     "output_type": "stream",
     "text": [
      "¡Los gatos son adorables!\n",
      "¿Dices que se llama/n Itchy y Emma? ¡Qué nombre/s tan bonito/s!\n"
     ]
    }
   ],
   "source": [
    "#5. mascota (SI/NO)\n",
    "pet = input(\"¿Tiene usted masoctas? (Sí/No)\").strip().lower()\n",
    "if pet == \"si\" or pet == \"sí\":\n",
    "    pet_number = input(\"¿Cuantos animales tienes?\")\n",
    "    pet_type = input(\"¿Qué tipo de mascota tienes?\").strip().lower()\n",
    "    if pet_type == \"perro\" or pet_type == \"perros\" or pet_type == \"tengo perro\" or pet_type == \"tengo perros\":\n",
    "        print(\"¡Los perros son muy divertidos!\")\n",
    "    elif pet_type == \"gato\"  or pet_type == \"gatos\" or pet_type == \"tengo gato\" or pet_type == \"tengo gatos\":\n",
    "        print(\"¡Los gatos son adorables!\")\n",
    "    else:\n",
    "        print(f\"¿{pet_type}? ¡Qué divertido!\")\n",
    "    pet_name = input(\"¿Cómo se llama/n?\")\n",
    "    print(f\"¿Dices que se llama/n {pet_name}? ¡Qué nombre/s tan bonito/s!\")\n",
    "else:\n",
    "    print(\"No tiene mascotas.\")"
   ]
  },
  {
   "cell_type": "code",
   "execution_count": 24,
   "id": "8317eca2",
   "metadata": {},
   "outputs": [
    {
     "name": "stdout",
     "output_type": "stream",
     "text": [
      "azul\n"
     ]
    }
   ],
   "source": [
    "#6. color favorito\n",
    "color = input (\"¿Qual és su color favorito?\").strip().lower()\n",
    "print(color)"
   ]
  },
  {
   "cell_type": "code",
   "execution_count": 25,
   "id": "27957a50",
   "metadata": {},
   "outputs": [
    {
     "name": "stdout",
     "output_type": "stream",
     "text": [
      "adulto\n"
     ]
    }
   ],
   "source": [
    "#7. clasifique la edad en menor de edad, adulto, adulto mayor\n",
    "\n",
    "if age <=18:\n",
    "    category = \"menor de edad\"\n",
    "if age >=19 and age <=65:\n",
    "    category = \"adulto\"\n",
    "if age >=66 and age <=150: \n",
    "    category = \"adulto mayor\"\n",
    "print(category)"
   ]
  },
  {
   "cell_type": "code",
   "execution_count": 27,
   "id": "0518fa8e",
   "metadata": {},
   "outputs": [
    {
     "name": "stdout",
     "output_type": "stream",
     "text": [
      "Por resumir un poco... te llamas Núria, naciste el año 1998, por lo que tienes 27 años. ¡Eres un adulto! \n",
      " Naciste en Sant Boi de Llobregat, tu color favorito és el azul y tienes dos gatos, Itchy y Emma. ¡Un placer conocerte!\n"
     ]
    }
   ],
   "source": [
    "#8. Resumen\n",
    "print(f'Por resumir un poco... te llamas {name}, naciste el año {year}, por lo que tienes {age} años. ¡Eres un {category}! \\n Naciste en {city}, tu color favorito és el {color} y tienes {pet_number} {pet_type}, {pet_name}. ¡Un placer conocerte!')"
   ]
  }
 ],
 "metadata": {
  "kernelspec": {
   "display_name": "base",
   "language": "python",
   "name": "python3"
  },
  "language_info": {
   "codemirror_mode": {
    "name": "ipython",
    "version": 3
   },
   "file_extension": ".py",
   "mimetype": "text/x-python",
   "name": "python",
   "nbconvert_exporter": "python",
   "pygments_lexer": "ipython3",
   "version": "3.13.5"
  }
 },
 "nbformat": 4,
 "nbformat_minor": 5
}
