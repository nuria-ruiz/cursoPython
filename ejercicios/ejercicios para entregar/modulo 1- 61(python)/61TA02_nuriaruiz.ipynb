{
 "cells": [
  {
   "cell_type": "code",
   "execution_count": 7,
   "id": "1ba0f00e",
   "metadata": {},
   "outputs": [
    {
     "name": "stdout",
     "output_type": "stream",
     "text": [
      "Número grande\n"
     ]
    }
   ],
   "source": [
    "#1 Pide al usuario un número. Si el número es mayor que 10, muestra \"Número grande\".\n",
    "number = int(input(\"introduce un número cualquiera\"))\n",
    "print(\"Número grande\" if number > 10 else \"Número pequeño\")"
   ]
  },
  {
   "cell_type": "code",
   "execution_count": 13,
   "id": "a51205a9",
   "metadata": {},
   "outputs": [
    {
     "name": "stdout",
     "output_type": "stream",
     "text": [
      "Negativo o cero\n"
     ]
    }
   ],
   "source": [
    "#2 Pide al usuario un número. Si es positivo, muestra \"Positivo\"; si no, muestra \"Negativo o cero\".\n",
    "number = int(input(\"introduce un número cualquiera\"))\n",
    "print(\"Positivo\" if number > 0 else \"Negativo o cero\")"
   ]
  },
  {
   "cell_type": "code",
   "execution_count": null,
   "id": "bdbcf054",
   "metadata": {},
   "outputs": [
    {
     "name": "stdout",
     "output_type": "stream",
     "text": [
      "Notable\n"
     ]
    }
   ],
   "source": [
    "#3 Pide una nota entre 0 y 10 e indica si es \"Suspenso\" (<5), \"Aprobado\" (5-6), \"Notable\" (7-8), \"Excelente\" (9-10).\n",
    "grade = int(input(\"introduce tu nota (del 1 al 10)\"))\n",
    "if grade >= 0 and grade <5:\n",
    "    print(\"Suspenso\")\n",
    "elif grade == 5 or grade == 6:\n",
    "    print(\"Aprobado\")\n",
    "elif grade == 7 or grade == 8:\n",
    "    print(\"Notable\")\n",
    "elif grade == 9 or grade == 10:\n",
    "    print(\"Excelente\")\n",
    "else: \n",
    "    print(\"nota no valida.\")"
   ]
  },
  {
   "cell_type": "code",
   "execution_count": 20,
   "id": "6ccc2b55",
   "metadata": {},
   "outputs": [
    {
     "name": "stdout",
     "output_type": "stream",
     "text": [
      "3 és impar\n"
     ]
    }
   ],
   "source": [
    "#4 Pide un número. Si es positivo, comprueba si es par o impar. Si es negativo o cero, indica que no es válido para analizar paridad.\n",
    "number = int(input(\"introduce un número cualquiera\"))\n",
    "if number > 0:\n",
    "    print(f\"{number} es par\" if number % 2 == 0 else f\"{number} és impar\")\n",
    "else:\n",
    "    print(\"No es valido para analizar paridad\")"
   ]
  },
  {
   "cell_type": "code",
   "execution_count": 22,
   "id": "0d672927",
   "metadata": {},
   "outputs": [
    {
     "name": "stdout",
     "output_type": "stream",
     "text": [
      "Jubilado\n"
     ]
    }
   ],
   "source": [
    "#5 Pide al usuario su edad. Si tiene entre 0 y 12: \"Niño\", 13 a 17: \"Adolescente\", 18 a 64: \"Adulto\", 65 o más: \"Jubilado\".\n",
    "age = int(input(\"introduce tu edad.\"))\n",
    "if age >= 0 and age <= 12:\n",
    "    category = \"Niño\"\n",
    "elif age >= 13 and age <= 17:\n",
    "    category = \"Adolescente\"\n",
    "elif age >= 18 and age <= 64:\n",
    "    category = \"Adulto\"\n",
    "elif age >65:\n",
    "    category = \"Jubilado\"\n",
    "\n",
    "print(f\"{category}\")"
   ]
  },
  {
   "cell_type": "code",
   "execution_count": 25,
   "id": "83ea215c",
   "metadata": {},
   "outputs": [
    {
     "data": {
      "text/plain": [
       "True"
      ]
     },
     "execution_count": 25,
     "metadata": {},
     "output_type": "execute_result"
    }
   ],
   "source": [
    "#6 Pide un número y comprueba si está entre 100 y 200 y si es divisible por 5.\n",
    "number = int(input(\"introduce un número cualquiera\"))\n",
    "(number >= 100 and number <=200) and number % 5 == 0"
   ]
  },
  {
   "cell_type": "code",
   "execution_count": 32,
   "id": "a76c1ee3",
   "metadata": {},
   "outputs": [
    {
     "name": "stdout",
     "output_type": "stream",
     "text": [
      "Par\n"
     ]
    }
   ],
   "source": [
    "#7 Pide un número y muestra \"Par\" o \"Impar\" usando una expresión ternaria.\n",
    "number = int(input(\"introduce un número cualquiera\"))\n",
    "category = \"Par\" if number % 2 == 0 else \"Impar\"\n",
    "print(category)"
   ]
  },
  {
   "cell_type": "code",
   "execution_count": 34,
   "id": "f9279157",
   "metadata": {},
   "outputs": [
    {
     "name": "stdout",
     "output_type": "stream",
     "text": [
      "Puede conducir\n"
     ]
    }
   ],
   "source": [
    "#8 Pide la edad y muestra si puede \"Conducir\" (edad ≥18) o \"No puede conducir\", con una ternaria.\n",
    "age = int(input(\"introduce tu edad\"))\n",
    "category = \"Puede conducir\" if age >= 18 else \"No puede conducir\"\n",
    "print(category)"
   ]
  },
  {
   "cell_type": "code",
   "execution_count": 40,
   "id": "42049edc",
   "metadata": {},
   "outputs": [
    {
     "name": "stdout",
     "output_type": "stream",
     "text": [
      "Día no valido\n"
     ]
    }
   ],
   "source": [
    "#9 Pide un día de la semana. \n",
    "# Si es \"lunes\", \"martes\", \"miércoles\", muestra \"Día laborable\". \n",
    "# Si es \"sábado\" o \"domingo\", muestra \"Fin de semana\". \n",
    "# En otro caso, \"Día no válido\".\n",
    "day = input(\"introduce un dia de la semana\").lower().strip()\n",
    "print(\"Día laborable\" if day == \"lunes\" or day == \"martes\" or day == \"miércoles\" else \"Fin de semana\" if day == \"sábado\" or day == \"domingo\" else \"Día no valido\")"
   ]
  },
  {
   "cell_type": "code",
   "execution_count": 1,
   "id": "8d410cea",
   "metadata": {},
   "outputs": [
    {
     "name": "stdout",
     "output_type": "stream",
     "text": [
      "el producto es 8\n"
     ]
    }
   ],
   "source": [
    "#10 Pide dos números. \n",
    "# Si ambos son mayores que cero, muestra el mayor usando una expresión ternaria. \n",
    "# Si alguno es negativo o cero, muestra \"Números inválidos\".\n",
    "number1 = int(input(\"introduce un numero\"))\n",
    "number2 = int(input(\"introduce otro numero\"))\n",
    "if number1 > 0 and number2 > 0:\n",
    "    mensaje = \"numeros invalidos\" if number1 <= 0 and number2 <= 0 else f\"el producto es {number1}\" if number1 > number2 else f\"el producto es {number2}\"\n",
    "print(mensaje)"
   ]
  }
 ],
 "metadata": {
  "kernelspec": {
   "display_name": "base",
   "language": "python",
   "name": "python3"
  },
  "language_info": {
   "codemirror_mode": {
    "name": "ipython",
    "version": 3
   },
   "file_extension": ".py",
   "mimetype": "text/x-python",
   "name": "python",
   "nbconvert_exporter": "python",
   "pygments_lexer": "ipython3",
   "version": "3.13.5"
  }
 },
 "nbformat": 4,
 "nbformat_minor": 5
}
