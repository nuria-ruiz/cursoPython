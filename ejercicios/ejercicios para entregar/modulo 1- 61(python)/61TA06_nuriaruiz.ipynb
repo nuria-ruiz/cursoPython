{
 "cells": [
  {
   "cell_type": "code",
   "execution_count": null,
   "id": "06265e1f",
   "metadata": {},
   "outputs": [
    {
     "name": "stdout",
     "output_type": "stream",
     "text": [
      "20\n"
     ]
    }
   ],
   "source": [
    "#1\n",
    "t = (10, 20, 30)\n",
    "print(t[1])"
   ]
  },
  {
   "cell_type": "code",
   "execution_count": 8,
   "id": "b978bd14",
   "metadata": {},
   "outputs": [
    {
     "name": "stdout",
     "output_type": "stream",
     "text": [
      "(2, 3, 4)\n"
     ]
    }
   ],
   "source": [
    "#2\n",
    "t = (1, 2, 3, 4, 5)\n",
    "print(t[1:4])"
   ]
  },
  {
   "cell_type": "code",
   "execution_count": 11,
   "id": "fb95f94e",
   "metadata": {},
   "outputs": [
    {
     "name": "stdout",
     "output_type": "stream",
     "text": [
      "valor maximo: 9\n",
      "valor minimo: 1\n"
     ]
    }
   ],
   "source": [
    "#3\n",
    "t = (5, 3, 8, 1, 9)\n",
    "print(f\"valor maximo: {max(t)}\")\n",
    "print(f\"valor minimo: {min(t)}\")"
   ]
  },
  {
   "cell_type": "code",
   "execution_count": 14,
   "id": "d8418c42",
   "metadata": {},
   "outputs": [
    {
     "name": "stdout",
     "output_type": "stream",
     "text": [
      "hay 3 numeros 2\n"
     ]
    }
   ],
   "source": [
    "#4 \n",
    "t = (1, 2, 3, 2, 4, 2, 5)\n",
    "t.count(2)\n",
    "print(f\"hay {t.count(2)} numeros 2\")"
   ]
  },
  {
   "cell_type": "code",
   "execution_count": null,
   "id": "9480315d",
   "metadata": {},
   "outputs": [
    {
     "name": "stdout",
     "output_type": "stream",
     "text": [
      "['manzana', 'pera']\n"
     ]
    }
   ],
   "source": [
    "#5\n",
    "productos = [(\"manzana\", 3), (\"banana\", 2), (\"pera\", 5)]\n",
    "masde2 = [nombre for nombre, precio in productos if precio > 2]\n",
    "print(masde2)"
   ]
  }
 ],
 "metadata": {
  "kernelspec": {
   "display_name": "base",
   "language": "python",
   "name": "python3"
  },
  "language_info": {
   "codemirror_mode": {
    "name": "ipython",
    "version": 3
   },
   "file_extension": ".py",
   "mimetype": "text/x-python",
   "name": "python",
   "nbconvert_exporter": "python",
   "pygments_lexer": "ipython3",
   "version": "3.13.5"
  }
 },
 "nbformat": 4,
 "nbformat_minor": 5
}
