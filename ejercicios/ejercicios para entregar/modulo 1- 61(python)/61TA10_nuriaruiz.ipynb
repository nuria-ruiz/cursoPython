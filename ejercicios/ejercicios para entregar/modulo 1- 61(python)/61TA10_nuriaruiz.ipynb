{
 "cells": [
  {
   "cell_type": "code",
   "execution_count": 14,
   "id": "7db292ef",
   "metadata": {},
   "outputs": [
    {
     "name": "stdout",
     "output_type": "stream",
     "text": [
      "Hola, Núria\n"
     ]
    }
   ],
   "source": [
    "#1\n",
    "def saludar(nombre):\n",
    "    print(f\"Hola, {nombre}\")\n",
    "\n",
    "saludar(input(\"introduzca su nombre\"))\n"
   ]
  },
  {
   "cell_type": "code",
   "execution_count": 13,
   "id": "34361805",
   "metadata": {},
   "outputs": [
    {
     "data": {
      "text/plain": [
       "5"
      ]
     },
     "execution_count": 13,
     "metadata": {},
     "output_type": "execute_result"
    }
   ],
   "source": [
    "#2\n",
    "def suma(a, b):\n",
    "    return a + b\n",
    "\n",
    "suma(2, 3)"
   ]
  },
  {
   "cell_type": "code",
   "execution_count": 17,
   "id": "e3cf3a85",
   "metadata": {},
   "outputs": [
    {
     "data": {
      "text/plain": [
       "False"
      ]
     },
     "execution_count": 17,
     "metadata": {},
     "output_type": "execute_result"
    }
   ],
   "source": [
    "#3\n",
    "def es_par(numero):\n",
    "    if numero % 2 == 0:\n",
    "        return True\n",
    "    else:\n",
    "        return False\n",
    "\n",
    "es_par(3)"
   ]
  },
  {
   "cell_type": "code",
   "execution_count": 2,
   "id": "aea065d0",
   "metadata": {},
   "outputs": [
    {
     "data": {
      "text/plain": [
       "False"
      ]
     },
     "execution_count": 2,
     "metadata": {},
     "output_type": "execute_result"
    }
   ],
   "source": [
    "def es_par(numero):\n",
    "    return True if numero % 2 == 0 else False\n",
    "\n",
    "es_par(3)"
   ]
  },
  {
   "cell_type": "code",
   "execution_count": 3,
   "id": "0be9c40a",
   "metadata": {},
   "outputs": [
    {
     "data": {
      "text/plain": [
       "False"
      ]
     },
     "execution_count": 3,
     "metadata": {},
     "output_type": "execute_result"
    }
   ],
   "source": [
    "def es_par(numero):\n",
    "    return numero % 2 == 0\n",
    "\n",
    "es_par(3)"
   ]
  },
  {
   "cell_type": "code",
   "execution_count": 18,
   "id": "96f2a959",
   "metadata": {},
   "outputs": [
    {
     "data": {
      "text/plain": [
       "20"
      ]
     },
     "execution_count": 18,
     "metadata": {},
     "output_type": "execute_result"
    }
   ],
   "source": [
    "#4\n",
    "def area_rectangulo(base, altura):\n",
    "    return base * altura\n",
    "\n",
    "area_rectangulo(4, 5)"
   ]
  },
  {
   "cell_type": "code",
   "execution_count": 19,
   "id": "08a38a7a",
   "metadata": {},
   "outputs": [
    {
     "data": {
      "text/plain": [
       "5"
      ]
     },
     "execution_count": 19,
     "metadata": {},
     "output_type": "execute_result"
    }
   ],
   "source": [
    "#5\n",
    "def contar_letras(palabra):\n",
    "    return len(palabra)\n",
    "\n",
    "contar_letras(\"Obvio\")"
   ]
  },
  {
   "cell_type": "code",
   "execution_count": null,
   "id": "8fc4d8c4",
   "metadata": {},
   "outputs": [
    {
     "data": {
      "text/plain": [
       "73.4"
      ]
     },
     "execution_count": 21,
     "metadata": {},
     "output_type": "execute_result"
    }
   ],
   "source": [
    "#6\n",
    "def celsius_a_fahrenheit(celsius):\n",
    "    return celsius * 1.8 + 32\n",
    "\n",
    "celsius_a_fahrenheit(23)"
   ]
  },
  {
   "cell_type": "code",
   "execution_count": 22,
   "id": "52d68870",
   "metadata": {},
   "outputs": [
    {
     "data": {
      "text/plain": [
       "'HolaHolaHola'"
      ]
     },
     "execution_count": 22,
     "metadata": {},
     "output_type": "execute_result"
    }
   ],
   "source": [
    "#7\n",
    "def repetir_texto(texto, veces):\n",
    "    return texto * veces\n",
    "\n",
    "repetir_texto(\"Hola\", 3)"
   ]
  },
  {
   "cell_type": "code",
   "execution_count": null,
   "id": "d419ded9",
   "metadata": {},
   "outputs": [
    {
     "name": "stdout",
     "output_type": "stream",
     "text": [
      "Hola\n",
      "Hola\n",
      "Hola\n"
     ]
    }
   ],
   "source": [
    "#7\n",
    "def repetir_texto(texto, veces):\n",
    "    for i in range(veces):\n",
    "        print(texto)\n",
    "\n",
    "print(repetir_texto(\"Hola\", 3))"
   ]
  },
  {
   "cell_type": "code",
   "execution_count": 23,
   "id": "8a433220",
   "metadata": {},
   "outputs": [
    {
     "data": {
      "text/plain": [
       "5"
      ]
     },
     "execution_count": 23,
     "metadata": {},
     "output_type": "execute_result"
    }
   ],
   "source": [
    "#8\n",
    "def mayor(a, b):\n",
    "    if a > b:\n",
    "        return a\n",
    "    else:\n",
    "        return b\n",
    "    \n",
    "mayor(3, 5)"
   ]
  },
  {
   "cell_type": "code",
   "execution_count": 9,
   "id": "c3adebc7",
   "metadata": {},
   "outputs": [
    {
     "data": {
      "text/plain": [
       "5"
      ]
     },
     "execution_count": 9,
     "metadata": {},
     "output_type": "execute_result"
    }
   ],
   "source": [
    "#8\n",
    "def mayor(a, b):\n",
    "    return a if a > b else b\n",
    "    \n",
    "mayor(3, 5)"
   ]
  },
  {
   "cell_type": "code",
   "execution_count": 24,
   "id": "ecc147d6",
   "metadata": {},
   "outputs": [
    {
     "data": {
      "text/plain": [
       "'aloh'"
      ]
     },
     "execution_count": 24,
     "metadata": {},
     "output_type": "execute_result"
    }
   ],
   "source": [
    "#9\n",
    "def invertir(texto):\n",
    "    return texto[::-1]\n",
    "\n",
    "invertir(\"hola\")"
   ]
  },
  {
   "cell_type": "code",
   "execution_count": 12,
   "id": "479c03d7",
   "metadata": {},
   "outputs": [
    {
     "name": "stdout",
     "output_type": "stream",
     "text": [
      "5\n"
     ]
    }
   ],
   "source": [
    "#10\n",
    "\n",
    "def calculadora(a, b, operacion):\n",
    "    if operacion == \"suma\":\n",
    "        return a + b\n",
    "    elif operacion == \"resta\":\n",
    "        return a - b\n",
    "    elif operacion == \"multiplicación\":\n",
    "        return a * b\n",
    "    elif operacion == \"división\":\n",
    "        return a / b\n",
    "    else:\n",
    "        return \"no se que hacer\"\n",
    "\n",
    "print(calculadora(2, 3, \"suma\"))\n",
    "\n"
   ]
  }
 ],
 "metadata": {
  "kernelspec": {
   "display_name": "base",
   "language": "python",
   "name": "python3"
  },
  "language_info": {
   "codemirror_mode": {
    "name": "ipython",
    "version": 3
   },
   "file_extension": ".py",
   "mimetype": "text/x-python",
   "name": "python",
   "nbconvert_exporter": "python",
   "pygments_lexer": "ipython3",
   "version": "3.13.5"
  }
 },
 "nbformat": 4,
 "nbformat_minor": 5
}
