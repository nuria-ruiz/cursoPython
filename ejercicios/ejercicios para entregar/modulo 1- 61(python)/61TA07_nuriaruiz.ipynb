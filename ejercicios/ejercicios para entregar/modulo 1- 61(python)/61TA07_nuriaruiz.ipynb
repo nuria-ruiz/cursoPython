{
 "cells": [
  {
   "cell_type": "code",
   "execution_count": 2,
   "id": "ce70a3bc",
   "metadata": {},
   "outputs": [
    {
     "data": {
      "text/plain": [
       "{'Núria': '25 años'}"
      ]
     },
     "execution_count": 2,
     "metadata": {},
     "output_type": "execute_result"
    }
   ],
   "source": [
    "#1\n",
    "\n",
    "edades = {\n",
    "    \"Núria\": \"25 años\"\n",
    "}\n",
    "edades"
   ]
  },
  {
   "cell_type": "code",
   "execution_count": 4,
   "id": "bd3bf639",
   "metadata": {},
   "outputs": [
    {
     "data": {
      "text/plain": [
       "'España'"
      ]
     },
     "execution_count": 4,
     "metadata": {},
     "output_type": "execute_result"
    }
   ],
   "source": [
    "#2\n",
    "lugar = {\n",
    "    \"ciudad\": \"Madrid\", \"pais\": \"España\"\n",
    "    }\n",
    "lugar.get(\"pais\")\n"
   ]
  },
  {
   "cell_type": "code",
   "execution_count": 6,
   "id": "53adb9f9",
   "metadata": {},
   "outputs": [
    {
     "data": {
      "text/plain": [
       "{'nombre': 'Luis', 'nota': 8.5}"
      ]
     },
     "execution_count": 6,
     "metadata": {},
     "output_type": "execute_result"
    }
   ],
   "source": [
    "#3\n",
    "alumno = {\n",
    "    \"nombre\": \"Luis\"\n",
    "}\n",
    "\n",
    "alumno[\"nota\"] = 8.5\n",
    "\n",
    "alumno"
   ]
  },
  {
   "cell_type": "code",
   "execution_count": 7,
   "id": "32f18bc4",
   "metadata": {},
   "outputs": [
    {
     "name": "stdout",
     "output_type": "stream",
     "text": [
      "España: Madrid\n",
      "Francia: París\n",
      "Italia: Roma\n"
     ]
    }
   ],
   "source": [
    "#4\n",
    "paises = {\n",
    "    \"España\": \"Madrid\", \"Francia\": \"París\", \"Italia\": \"Roma\"\n",
    "    }\n",
    "\n",
    "for key, value in paises.items():\n",
    "    print(f'{key}: {value}')"
   ]
  },
  {
   "cell_type": "code",
   "execution_count": 22,
   "id": "2af0c888",
   "metadata": {},
   "outputs": [
    {
     "data": {
      "text/plain": [
       "{'nombre': 'Sara', 'edad': 28, 'email': 'sara@email.com'}"
      ]
     },
     "execution_count": 22,
     "metadata": {},
     "output_type": "execute_result"
    }
   ],
   "source": [
    "#5\n",
    "usuario = {\n",
    "    \"nombre\": \"Sara\", \"edad\": 28\n",
    "    }\n",
    "\n",
    "\"email\" in usuario\n",
    "\n",
    "usuario[\"email\"] = \"sara@email.com\"\n",
    "\n",
    "usuario"
   ]
  },
  {
   "cell_type": "code",
   "execution_count": 26,
   "id": "dc704b91",
   "metadata": {},
   "outputs": [
    {
     "data": {
      "text/plain": [
       "{'nombre': 'Camisa'}"
      ]
     },
     "execution_count": 26,
     "metadata": {},
     "output_type": "execute_result"
    }
   ],
   "source": [
    "#6\n",
    "producto = {\n",
    "    \"nombre\": \"Camisa\", \"precio\": 25\n",
    "    }\n",
    "\n",
    "del producto [\"precio\"]\n",
    "\n",
    "producto"
   ]
  },
  {
   "cell_type": "code",
   "execution_count": 3,
   "id": "048f7ef3",
   "metadata": {},
   "outputs": [
    {
     "name": "stdout",
     "output_type": "stream",
     "text": [
      "{'p': 1, 'r': 1, 'o': 2, 'b': 1, 'a': 1, 'n': 1, 'd': 1}\n"
     ]
    }
   ],
   "source": [
    "#7\n",
    "palabra = input(\"introduzca una palabra para contar sus letras\").lower()\n",
    "\n",
    "print({letra: palabra.count(letra) for letra in palabra})\n"
   ]
  },
  {
   "cell_type": "code",
   "execution_count": null,
   "id": "dd1b06c8",
   "metadata": {},
   "outputs": [
    {
     "ename": "SyntaxError",
     "evalue": "invalid syntax (410324247.py, line 5)",
     "output_type": "error",
     "traceback": [
      "\u001b[1;36m  Cell \u001b[1;32mIn[11], line 5\u001b[1;36m\u001b[0m\n\u001b[1;33m    value for key,value in clases:\u001b[0m\n\u001b[1;37m          ^\u001b[0m\n\u001b[1;31mSyntaxError\u001b[0m\u001b[1;31m:\u001b[0m invalid syntax\n"
     ]
    }
   ],
   "source": [
    "#8\n",
    "clases = {\n",
    "    \"lunes\": [\"Mates\", \"Lengua\"], \"martes\":[\"Inglés\"]\n",
    "    }\n",
    "value for key,value in clases:\n",
    "    if key == \"martes\" and value == list:\n",
    "    list.append(\"ciencias\")\n",
    "    \n",
    "print(clases)\n",
    "\n"
   ]
  },
  {
   "cell_type": "code",
   "execution_count": null,
   "id": "7227248d",
   "metadata": {},
   "outputs": [
    {
     "data": {
      "text/plain": [
       "dict_items([('a', 1), ('b', 2)])"
      ]
     },
     "execution_count": 41,
     "metadata": {},
     "output_type": "execute_result"
    }
   ],
   "source": [
    "#9 \n",
    "diccionario = {\n",
    "    \"a\": 1, \"b\": 2\n",
    "}\n",
    "\n",
    "diccionario.items()"
   ]
  }
 ],
 "metadata": {
  "kernelspec": {
   "display_name": "base",
   "language": "python",
   "name": "python3"
  },
  "language_info": {
   "codemirror_mode": {
    "name": "ipython",
    "version": 3
   },
   "file_extension": ".py",
   "mimetype": "text/x-python",
   "name": "python",
   "nbconvert_exporter": "python",
   "pygments_lexer": "ipython3",
   "version": "3.13.5"
  }
 },
 "nbformat": 4,
 "nbformat_minor": 5
}
