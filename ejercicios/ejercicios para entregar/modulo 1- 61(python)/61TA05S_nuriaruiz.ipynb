{
 "cells": [
  {
   "cell_type": "code",
   "execution_count": 14,
   "id": "67d2cb33",
   "metadata": {},
   "outputs": [
    {
     "name": "stdout",
     "output_type": "stream",
     "text": [
      "5\n"
     ]
    }
   ],
   "source": [
    "#1\n",
    "lista = [\"hora\", \"dia\", \"lugar\", \"evento\", \"host\"]\n",
    "print(len(lista))"
   ]
  },
  {
   "cell_type": "code",
   "execution_count": 1,
   "id": "ccfafd0c",
   "metadata": {},
   "outputs": [
    {
     "name": "stdout",
     "output_type": "stream",
     "text": [
      "hola\n",
      "que tal\n"
     ]
    }
   ],
   "source": [
    "#2\n",
    "lista = [\"hola\", \"adiós\", \"que tal\"]\n",
    "print(lista[0])\n",
    "print(lista[-1])"
   ]
  },
  {
   "cell_type": "code",
   "execution_count": 13,
   "id": "47008e5f",
   "metadata": {},
   "outputs": [
    {
     "name": "stdout",
     "output_type": "stream",
     "text": [
      "['hola', 'adiós', 'que tal']\n"
     ]
    }
   ],
   "source": [
    "#3\n",
    "lista = []\n",
    "lista.append(\"hola\")\n",
    "lista.append(\"adiós\")\n",
    "lista.append(\"que tal\")\n",
    "print(lista)\n"
   ]
  },
  {
   "cell_type": "code",
   "execution_count": null,
   "id": "0d93af2d",
   "metadata": {},
   "outputs": [],
   "source": [
    "#4\n",
    "lista = ['a', 'b', 'a', 'c', 'b']\n"
   ]
  },
  {
   "cell_type": "code",
   "execution_count": 11,
   "id": "0b9b67a4",
   "metadata": {},
   "outputs": [
    {
     "data": {
      "text/plain": [
       "['que tal', 'adiós', 'hola']"
      ]
     },
     "execution_count": 11,
     "metadata": {},
     "output_type": "execute_result"
    }
   ],
   "source": [
    "#5\n",
    "lista = [\"hola\", \"adiós\", \"que tal\"]\n",
    "lista.reverse()\n",
    "lista"
   ]
  },
  {
   "cell_type": "code",
   "execution_count": 19,
   "id": "39f34b39",
   "metadata": {},
   "outputs": [
    {
     "data": {
      "text/plain": [
       "3"
      ]
     },
     "execution_count": 19,
     "metadata": {},
     "output_type": "execute_result"
    }
   ],
   "source": [
    "#6\n",
    "lista = ['hola', 'adiós','hola', 'hola', 'chao']\n",
    "lista.count('hola')"
   ]
  },
  {
   "cell_type": "code",
   "execution_count": 9,
   "id": "7bfb20e9",
   "metadata": {},
   "outputs": [
    {
     "name": "stdout",
     "output_type": "stream",
     "text": [
      "[0, 2, 4, 6, 8, 10, 12, 14, 16, 18, 20]\n"
     ]
    }
   ],
   "source": [
    "#7\n",
    "numeros = [0, 1, 2, 3, 4, 5, 6, 7, 8, 9, 10, 11, 12, 13, 14, 15, 16, 17, 18, 19, 20]\n",
    "pares = [num for num in numeros if num % 2 == 0]\n",
    "print(pares)\n"
   ]
  },
  {
   "cell_type": "code",
   "execution_count": 2,
   "id": "b037a2cc",
   "metadata": {},
   "outputs": [
    {
     "name": "stdout",
     "output_type": "stream",
     "text": [
      "44\n"
     ]
    }
   ],
   "source": [
    "#8\n",
    "a = [2, 4, 6]\n",
    "b = [1, 3, 5]\n",
    "resultado = 0\n",
    "for azip, bzip in zip(a, b):\n",
    "    resultado += azip * bzip\n",
    "print(resultado)"
   ]
  },
  {
   "cell_type": "code",
   "execution_count": 4,
   "id": "a1e85c43",
   "metadata": {},
   "outputs": [
    {
     "name": "stdout",
     "output_type": "stream",
     "text": [
      "[1, 2, 3, 4, 5, 6]\n"
     ]
    }
   ],
   "source": [
    "#9 \n",
    "lista = [1, [2, 3], [4, 5], 6]\n",
    "aplanada = []\n",
    "for num in lista:\n",
    "    if isinstance(num, list):\n",
    "        aplanada.extend(num)\n",
    "    else:\n",
    "        aplanada.append(num)\n",
    "print(aplanada)"
   ]
  }
 ],
 "metadata": {
  "kernelspec": {
   "display_name": "base",
   "language": "python",
   "name": "python3"
  },
  "language_info": {
   "codemirror_mode": {
    "name": "ipython",
    "version": 3
   },
   "file_extension": ".py",
   "mimetype": "text/x-python",
   "name": "python",
   "nbconvert_exporter": "python",
   "pygments_lexer": "ipython3",
   "version": "3.13.5"
  }
 },
 "nbformat": 4,
 "nbformat_minor": 5
}
