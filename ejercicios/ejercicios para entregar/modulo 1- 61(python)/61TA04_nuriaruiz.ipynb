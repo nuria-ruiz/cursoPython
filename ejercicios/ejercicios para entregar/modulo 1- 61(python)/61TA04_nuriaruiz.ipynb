{
 "cells": [
  {
   "cell_type": "code",
   "execution_count": null,
   "id": "8aa88e7f",
   "metadata": {},
   "outputs": [
    {
     "name": "stdout",
     "output_type": "stream",
     "text": [
      "1\n",
      "2\n",
      "3\n",
      "4\n",
      "5\n",
      "6\n",
      "7\n",
      "8\n",
      "9\n",
      "10\n"
     ]
    }
   ],
   "source": [
    "#1\n",
    "for i in range(1, 11):\n",
    "    print(i)"
   ]
  },
  {
   "cell_type": "code",
   "execution_count": null,
   "id": "b5beb1d3",
   "metadata": {},
   "outputs": [
    {
     "name": "stdout",
     "output_type": "stream",
     "text": [
      "10\n",
      "9\n",
      "8\n",
      "7\n",
      "6\n",
      "5\n",
      "4\n",
      "3\n",
      "2\n",
      "1\n"
     ]
    }
   ],
   "source": [
    "#2\n",
    "num = 10\n",
    "while num != 0:\n",
    "    print(num)\n",
    "    num -= 1"
   ]
  },
  {
   "cell_type": "code",
   "execution_count": 18,
   "id": "c75801f5",
   "metadata": {},
   "outputs": [
    {
     "name": "stdout",
     "output_type": "stream",
     "text": [
      "5050\n"
     ]
    }
   ],
   "source": [
    "#3 \n",
    "result = 0\n",
    "for num in range(1, 101):\n",
    "    result += num\n",
    "print(result)"
   ]
  },
  {
   "cell_type": "code",
   "execution_count": 30,
   "id": "ef422928",
   "metadata": {},
   "outputs": [
    {
     "name": "stdout",
     "output_type": "stream",
     "text": [
      "2\n"
     ]
    }
   ],
   "source": [
    "#4\n",
    "contador = 0\n",
    "\n",
    "while True:\n",
    "    num = input('Introduzca un numero. cuando haya terminado introduzca \"fin\":')\n",
    "    if num == \"fin\":\n",
    "        break\n",
    "    else: \n",
    "        contador += 1\n",
    "print (contador)\n"
   ]
  },
  {
   "cell_type": "code",
   "execution_count": null,
   "id": "96b128a5",
   "metadata": {},
   "outputs": [
    {
     "name": "stdout",
     "output_type": "stream",
     "text": [
      "1*1=1\n",
      "1*2=2\n",
      "1*3=3\n",
      "1*4=4\n",
      "1*5=5\n",
      "1*6=6\n",
      "1*7=7\n",
      "1*8=8\n",
      "1*9=9\n",
      "2*1=2\n",
      "2*2=4\n",
      "2*3=6\n",
      "2*4=8\n",
      "2*5=10\n",
      "2*6=12\n",
      "2*7=14\n",
      "2*8=16\n",
      "2*9=18\n",
      "3*1=3\n",
      "3*2=6\n",
      "3*3=9\n",
      "3*4=12\n",
      "3*5=15\n",
      "3*6=18\n",
      "3*7=21\n",
      "3*8=24\n",
      "3*9=27\n",
      "4*1=4\n",
      "4*2=8\n",
      "4*3=12\n",
      "4*4=16\n",
      "4*5=20\n",
      "4*6=24\n",
      "4*7=28\n",
      "4*8=32\n",
      "4*9=36\n",
      "5*1=5\n",
      "5*2=10\n",
      "5*3=15\n",
      "5*4=20\n",
      "5*5=25\n",
      "5*6=30\n",
      "5*7=35\n",
      "5*8=40\n",
      "5*9=45\n",
      "6*1=6\n",
      "6*2=12\n",
      "6*3=18\n",
      "6*4=24\n",
      "6*5=30\n",
      "6*6=36\n",
      "6*7=42\n",
      "6*8=48\n",
      "6*9=54\n",
      "7*1=7\n",
      "7*2=14\n",
      "7*3=21\n",
      "7*4=28\n",
      "7*5=35\n",
      "7*6=42\n",
      "7*7=49\n",
      "7*8=56\n",
      "7*9=63\n",
      "8*1=8\n",
      "8*2=16\n",
      "8*3=24\n",
      "8*4=32\n",
      "8*5=40\n",
      "8*6=48\n",
      "8*7=56\n",
      "8*8=64\n",
      "8*9=72\n",
      "9*1=9\n",
      "9*2=18\n",
      "9*3=27\n",
      "9*4=36\n",
      "9*5=45\n",
      "9*6=54\n",
      "9*7=63\n",
      "9*8=72\n",
      "9*9=81\n"
     ]
    }
   ],
   "source": [
    "#5\n",
    "for p in range(1,10):\n",
    "    for s in range(1,10):\n",
    "        result = p * s \n",
    "        print (f\"{p}*{s}={result}\")"
   ]
  },
  {
   "cell_type": "code",
   "execution_count": 54,
   "id": "22a69311",
   "metadata": {},
   "outputs": [
    {
     "name": "stdout",
     "output_type": "stream",
     "text": [
      "2\n"
     ]
    }
   ],
   "source": [
    "#6\n",
    "\n",
    "word = input(\"introduzca una frase.\")\n",
    "count = 0\n",
    "for vocal in word:\n",
    "    if vocal == \"a\" or vocal == \"e\" or vocal == \"i\" or vocal == \"o\" or vocal == \"u\":\n",
    "        count += 1\n",
    "    \n",
    "print(count)"
   ]
  },
  {
   "cell_type": "code",
   "execution_count": 21,
   "id": "5a23a464",
   "metadata": {},
   "outputs": [
    {
     "name": "stdout",
     "output_type": "stream",
     "text": [
      "2\n",
      "4\n",
      "6\n",
      "8\n",
      "10\n",
      "12\n",
      "14\n",
      "16\n",
      "18\n",
      "20\n",
      "22\n",
      "24\n",
      "26\n",
      "28\n",
      "30\n",
      "32\n",
      "34\n",
      "36\n",
      "38\n",
      "40\n",
      "42\n",
      "44\n",
      "46\n",
      "48\n",
      "50\n"
     ]
    }
   ],
   "source": [
    "#7\n",
    "\n",
    "for i in range(1, 51):\n",
    "    if i % 2 == 0:\n",
    "        print(i)"
   ]
  },
  {
   "cell_type": "code",
   "execution_count": null,
   "id": "c9577a43",
   "metadata": {},
   "outputs": [],
   "source": [
    "#8\n",
    "word = input(\"introduzca una palabra para saber si es un palindromo\").lower().strip()\n",
    "longitud = len(word)        \n",
    "for letter in range(longitud//2):\n",
    "    if word[letter] == word[longitud -1 - letter]:\n",
    "        palindromo = True\n",
    "    else:\n",
    "        palindromo = False\n",
    "print(\"Es un palindromo\" if palindromo else \"no es palindromo\")"
   ]
  },
  {
   "cell_type": "code",
   "execution_count": 29,
   "id": "a9161c93",
   "metadata": {},
   "outputs": [
    {
     "name": "stdout",
     "output_type": "stream",
     "text": [
      "    *\n",
      "   ***\n",
      "  *****\n",
      " *******\n",
      "*********\n"
     ]
    }
   ],
   "source": [
    "#9\n",
    "x = 5\n",
    "for i in range(x):\n",
    "    espacios = \" \" * (x - i - 1)\n",
    "    estrellas = \"*\" * (2 * i + 1)\n",
    "    print(espacios + estrellas)"
   ]
  },
  {
   "cell_type": "code",
   "execution_count": null,
   "id": "b9f937db",
   "metadata": {},
   "outputs": [],
   "source": [
    "#10 \n",
    "import random \n",
    "numero = random.randint(1,100) \n",
    "contador_max = 10\n",
    "\n",
    "while True:\n",
    "    guess = int(input(f\"introduce un numero entre 1 y 100 (te quedan {contador_max} intentos)\"))\n",
    "    if guess > numero:\n",
    "        print(\"el numero es menor\")\n",
    "    elif guess < numero:\n",
    "        print(\"el numero es mayor\")\n",
    "    else:\n",
    "        print(\"Has acertado\")\n",
    "        break\n",
    "    contador_max -= 1\n",
    "    if contador_max == 0:\n",
    "        print(f\"Has perdido, el numero era {numero}\")\n",
    "        break"
   ]
  }
 ],
 "metadata": {
  "kernelspec": {
   "display_name": "base",
   "language": "python",
   "name": "python3"
  },
  "language_info": {
   "codemirror_mode": {
    "name": "ipython",
    "version": 3
   },
   "file_extension": ".py",
   "mimetype": "text/x-python",
   "name": "python",
   "nbconvert_exporter": "python",
   "pygments_lexer": "ipython3",
   "version": "3.13.5"
  }
 },
 "nbformat": 4,
 "nbformat_minor": 5
}
