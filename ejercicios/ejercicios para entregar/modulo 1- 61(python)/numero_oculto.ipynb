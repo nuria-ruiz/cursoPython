{
 "cells": [
  {
   "cell_type": "code",
   "execution_count": 10,
   "id": "de0f2e98",
   "metadata": {},
   "outputs": [
    {
     "name": "stdout",
     "output_type": "stream",
     "text": [
      "[84, 168, 252, 336]\n"
     ]
    }
   ],
   "source": [
    "lista = [10, 25, 84, 73, 91, 168, 22, 252, 300, 336, 77, 8]\n",
    "#1\n",
    "\n",
    "filtro1 = list(filter(lambda x: x % 3 == 0, lista))\n",
    "filtro2 = list(filter(lambda x: x % 28 == 0, filtro1))\n",
    "\n",
    "if len(filtro2) == 4:\n",
    "    print(filtro2)\n",
    "else:\n",
    "    print(\"¡el hechizo ha fallado!\")"
   ]
  },
  {
   "cell_type": "code",
   "execution_count": 11,
   "id": "f4e14f4e",
   "metadata": {},
   "outputs": [
    {
     "data": {
      "text/plain": [
       "56"
      ]
     },
     "execution_count": 11,
     "metadata": {},
     "output_type": "execute_result"
    }
   ],
   "source": [
    "from functools import reduce\n",
    "frutos = [3, 8, 12, 4, 11, 10, 6, 9]\n",
    "\n",
    "par_peso = list(filter(lambda x: x % 2 == 0 and x <= 10, frutos))\n",
    "\n",
    "doble = list(map(lambda x: x * 2, par_peso))\n",
    "total = reduce(lambda x, y: x + y, doble)\n",
    "\n",
    "total"
   ]
  },
  {
   "cell_type": "code",
   "execution_count": null,
   "id": "58d31626",
   "metadata": {},
   "outputs": [],
   "source": [
    "resultado = reduce(lambda x, y: x + y, map(lambda x: x* 2, filter(lambda x: x % 2 == 0 and x <= 10, frutos)))"
   ]
  },
  {
   "cell_type": "code",
   "execution_count": 5,
   "id": "826aa502",
   "metadata": {},
   "outputs": [
    {
     "data": {
      "text/plain": [
       "8082"
      ]
     },
     "execution_count": 5,
     "metadata": {},
     "output_type": "execute_result"
    }
   ],
   "source": [
    "resultado = 9981 - 1899\n",
    "resultado"
   ]
  },
  {
   "cell_type": "code",
   "execution_count": 6,
   "id": "183f6979",
   "metadata": {},
   "outputs": [
    {
     "data": {
      "text/plain": [
       "8532"
      ]
     },
     "execution_count": 6,
     "metadata": {},
     "output_type": "execute_result"
    }
   ],
   "source": [
    "resultado = 8820 - 288\n",
    "resultado"
   ]
  },
  {
   "cell_type": "code",
   "execution_count": 7,
   "id": "aa0b8b71",
   "metadata": {},
   "outputs": [
    {
     "data": {
      "text/plain": [
       "6174"
      ]
     },
     "execution_count": 7,
     "metadata": {},
     "output_type": "execute_result"
    }
   ],
   "source": [
    "resultado = 8532 - 2358\n",
    "resultado"
   ]
  },
  {
   "cell_type": "code",
   "execution_count": 8,
   "id": "4fefc9db",
   "metadata": {},
   "outputs": [
    {
     "data": {
      "text/plain": [
       "6174"
      ]
     },
     "execution_count": 8,
     "metadata": {},
     "output_type": "execute_result"
    }
   ],
   "source": [
    "resultado = 7641 - 1467\n",
    "resultado"
   ]
  }
 ],
 "metadata": {
  "kernelspec": {
   "display_name": "base",
   "language": "python",
   "name": "python3"
  },
  "language_info": {
   "codemirror_mode": {
    "name": "ipython",
    "version": 3
   },
   "file_extension": ".py",
   "mimetype": "text/x-python",
   "name": "python",
   "nbconvert_exporter": "python",
   "pygments_lexer": "ipython3",
   "version": "3.13.5"
  }
 },
 "nbformat": 4,
 "nbformat_minor": 5
}
