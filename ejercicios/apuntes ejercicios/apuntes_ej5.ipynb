{
 "cells": [
  {
   "cell_type": "code",
   "execution_count": null,
   "id": "86589395",
   "metadata": {},
   "outputs": [
    {
     "name": "stdout",
     "output_type": "stream",
     "text": [
      "[(2, 1), (4, 3), (6, 5)]\n",
      "44\n"
     ]
    }
   ],
   "source": [
    "lista1 = [2, 4, 6]\n",
    "lista2 = [1, 3, 5]\n",
    "resultado = 0\n",
    "num = list(zip(lista1, lista2))\n",
    "print(num) #esto es una tupla\n",
    "for i, h in num:\n",
    "    resultado += i * h\n",
    "\n",
    "print(resultado)"
   ]
  }
 ],
 "metadata": {
  "kernelspec": {
   "display_name": "base",
   "language": "python",
   "name": "python3"
  },
  "language_info": {
   "codemirror_mode": {
    "name": "ipython",
    "version": 3
   },
   "file_extension": ".py",
   "mimetype": "text/x-python",
   "name": "python",
   "nbconvert_exporter": "python",
   "pygments_lexer": "ipython3",
   "version": "3.13.5"
  }
 },
 "nbformat": 4,
 "nbformat_minor": 5
}
