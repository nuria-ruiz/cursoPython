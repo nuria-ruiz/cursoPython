{
 "cells": [
  {
   "cell_type": "markdown",
   "id": "b9c83df0",
   "metadata": {},
   "source": [
    "61TA01"
   ]
  },
  {
   "cell_type": "code",
   "execution_count": null,
   "id": "6e25532a",
   "metadata": {},
   "outputs": [],
   "source": [
    ".strip() elimina todos los espacios que pueda poner el usuario\n",
    ".lower() hace minusculas todas las letras que escriba\n",
    ".upper() hace mayusculas todas las letras que escriba"
   ]
  },
  {
   "cell_type": "code",
   "execution_count": null,
   "id": "1abe1a46",
   "metadata": {},
   "outputs": [],
   "source": [
    "password = input(\"Introduce tu contraseña\")\n",
    "if len(password) < 6:\n",
    "    print(\"demasiado corta\")\n",
    "elif password.isalpha() or password.isdigit():\n",
    "    print(\"és debil\")\n",
    "elif len(password) >8:\n",
    "    print(\"fuerte\")\n",
    "else:\n",
    "    print(\"Aceptable\")"
   ]
  },
  {
   "cell_type": "markdown",
   "id": "2c36e1df",
   "metadata": {},
   "source": [
    "len lo que hace es decirte cuantos caracteres tiene el input "
   ]
  },
  {
   "cell_type": "markdown",
   "id": "f9a71e58",
   "metadata": {},
   "source": [
    "los REGES se buscan, son trozos de codigo que \"obligan\" al usuario a una serie de condiciones (mas de 8 digitos, simbolos especiales etc.)"
   ]
  },
  {
   "cell_type": "markdown",
   "id": "ba17b8fb",
   "metadata": {},
   "source": [
    "el punto y coma se utiliza para poner dos lines de codigo o más en la misma linea sin que de error."
   ]
  }
 ],
 "metadata": {
  "kernelspec": {
   "display_name": "base",
   "language": "python",
   "name": "python3"
  },
  "language_info": {
   "codemirror_mode": {
    "name": "ipython",
    "version": 3
   },
   "file_extension": ".py",
   "mimetype": "text/x-python",
   "name": "python",
   "nbconvert_exporter": "python",
   "pygments_lexer": "ipython3",
   "version": "3.13.5"
  }
 },
 "nbformat": 4,
 "nbformat_minor": 5
}
