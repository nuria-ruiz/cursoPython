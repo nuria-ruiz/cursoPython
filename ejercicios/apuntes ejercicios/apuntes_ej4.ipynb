{
 "cells": [
  {
   "cell_type": "code",
   "execution_count": null,
   "id": "fd5980fb",
   "metadata": {},
   "outputs": [
    {
     "name": "stdout",
     "output_type": "stream",
     "text": [
      "605\n"
     ]
    }
   ],
   "source": [
    "#suma solo los numeros de un rango (50-60)\n",
    "result = 0 \n",
    "for i in range(1,101):\n",
    "    if i>49 and i<61:\n",
    "        result = result + i\n",
    "print(result)"
   ]
  },
  {
   "cell_type": "code",
   "execution_count": null,
   "id": "b35effea",
   "metadata": {},
   "outputs": [
    {
     "name": "stdout",
     "output_type": "stream",
     "text": [
      "330\n"
     ]
    }
   ],
   "source": [
    "#suma solo los numeros pares\n",
    "result = 0 \n",
    "for i in range(1,101):\n",
    "    if i>49 and i<61:\n",
    "        if i % 2 == 0:\n",
    "            result = result + i\n",
    "print(result)"
   ]
  },
  {
   "cell_type": "code",
   "execution_count": 5,
   "id": "b47bbdd9",
   "metadata": {},
   "outputs": [
    {
     "name": "stdout",
     "output_type": "stream",
     "text": [
      "50+52=50\n",
      "52+54=102\n",
      "54+56=156\n",
      "56+58=212\n",
      "58+60=270\n",
      "60+62=330\n",
      "330\n"
     ]
    }
   ],
   "source": [
    "#\n",
    "result = 0 \n",
    "for i in range(1,101): #las palabras reservadas se llaman modulos\n",
    "    if i>49 and i<61:\n",
    "        if i % 2 == 0:\n",
    "            result = result + i\n",
    "            print(f\"{i}+{i+2}={result}\")\n",
    "print(result)"
   ]
  },
  {
   "cell_type": "code",
   "execution_count": null,
   "id": "bc59408a",
   "metadata": {},
   "outputs": [],
   "source": [
    "import random \n",
    "numero = random.randint(1,100) \n",
    "contador_max = 10\n",
    "\n",
    "while True:\n",
    "    num_adivinado = int(input(f\"introduce un numero entre 1 y 100 (te quedan {contador_max} intentos)\"))\n",
    "    if num_adivinado > numero:\n",
    "        print(\"el numero es menor\")\n",
    "    elif num_adivinado < numero:\n",
    "        print(\"el numero es mayor\")\n",
    "    else:\n",
    "        print(\"Has acertado\")\n",
    "        break\n",
    "    contador_max -= 1\n",
    "    if contador_max == 0:\n",
    "        print(f\"Has perdido, el numero era {numero}\")\n",
    "        break"
   ]
  },
  {
   "cell_type": "code",
   "execution_count": 6,
   "id": "dc721739",
   "metadata": {},
   "outputs": [],
   "source": [
    "#el ahorcado\n",
    "palabras = [\"hola\", \"adiós\", \"python\", \"programación\"]"
   ]
  },
  {
   "cell_type": "code",
   "execution_count": 7,
   "id": "b077dc5b",
   "metadata": {},
   "outputs": [
    {
     "ename": "TypeError",
     "evalue": "Random.choice() takes 2 positional arguments but 3 were given",
     "output_type": "error",
     "traceback": [
      "\u001b[1;31m---------------------------------------------------------------------------\u001b[0m",
      "\u001b[1;31mTypeError\u001b[0m                                 Traceback (most recent call last)",
      "Cell \u001b[1;32mIn[7], line 2\u001b[0m\n\u001b[0;32m      1\u001b[0m \u001b[38;5;28;01mimport\u001b[39;00m\u001b[38;5;250m \u001b[39m\u001b[38;5;21;01mrandom\u001b[39;00m\n\u001b[1;32m----> 2\u001b[0m palabra \u001b[38;5;241m=\u001b[39m random\u001b[38;5;241m.\u001b[39mchoice(\u001b[38;5;241m0\u001b[39m,\u001b[38;5;28mlen\u001b[39m(palabras)\u001b[38;5;241m-\u001b[39m\u001b[38;5;241m1\u001b[39m)\n\u001b[0;32m      3\u001b[0m \u001b[38;5;28mprint\u001b[39m(\u001b[38;5;124mf\u001b[39m\u001b[38;5;124m\"\u001b[39m\u001b[38;5;124mpalabra seleccionada: \u001b[39m\u001b[38;5;132;01m{\u001b[39;00mpalabras[numero]\u001b[38;5;132;01m}\u001b[39;00m\u001b[38;5;124m\"\u001b[39m)\n",
      "\u001b[1;31mTypeError\u001b[0m: Random.choice() takes 2 positional arguments but 3 were given"
     ]
    }
   ],
   "source": [
    "import random\n",
    "palabra = random.choice(0,len(palabras)-1)\n",
    "print(f\"palabra seleccionada: {palabras[numero]}\")"
   ]
  },
  {
   "cell_type": "code",
   "execution_count": 4,
   "id": "c46f7b0f",
   "metadata": {},
   "outputs": [
    {
     "name": "stdout",
     "output_type": "stream",
     "text": [
      "5\n"
     ]
    }
   ],
   "source": [
    "x = \"perro\"\n",
    "\n",
    "print(len(x))"
   ]
  },
  {
   "cell_type": "code",
   "execution_count": 8,
   "id": "d94c82f3",
   "metadata": {},
   "outputs": [
    {
     "ename": "NameError",
     "evalue": "name 'numero' is not defined",
     "output_type": "error",
     "traceback": [
      "\u001b[1;31m---------------------------------------------------------------------------\u001b[0m",
      "\u001b[1;31mNameError\u001b[0m                                 Traceback (most recent call last)",
      "Cell \u001b[1;32mIn[8], line 1\u001b[0m\n\u001b[1;32m----> 1\u001b[0m palabra \u001b[38;5;241m=\u001b[39m \u001b[38;5;28mlen\u001b[39m(palabras[numero])\n\u001b[0;32m      2\u001b[0m letras \u001b[38;5;241m=\u001b[39m \u001b[38;5;28mlen\u001b[39m(palabra)\n\u001b[0;32m      3\u001b[0m maximo_intentos \u001b[38;5;241m=\u001b[39m \u001b[38;5;241m11\u001b[39m\n",
      "\u001b[1;31mNameError\u001b[0m: name 'numero' is not defined"
     ]
    }
   ],
   "source": [
    "palabra = len(palabras[numero])\n",
    "letras = len(palabra)\n",
    "maximo_intentos = 11\n",
    "dibujo = [\"insertar\", \"insertar dibujos\", \"insertar dibujos separados\", \"insertar dibujos separados así\"]\n",
    "\n"
   ]
  },
  {
   "cell_type": "code",
   "execution_count": null,
   "id": "b052c556",
   "metadata": {},
   "outputs": [],
   "source": [
    "def juego_ahorcado(): #esto es una función. se ejecuta cada vez que la nombramos.\n",
    "    palabra = random.choice(palabras).lower()\n",
    "    letras_adivinadas = set()\n",
    "    letras_erradas = set()\n",
    "    vidas = 6\n",
    "\n",
    "    print(\"¡Bienvenido al juego del ahorcado!\")\n",
    "\n",
    "    while vidas > 0:\n",
    "        #palabras con guiones\n",
    "        palabra_oculta = [letra if letra in letras_adivinadas else \"_\" for letra in palabra]\n",
    "        print(\"\\nPalabra:\", \" \")\n",
    "\n",
    "        #me rindo"
   ]
  }
 ],
 "metadata": {
  "kernelspec": {
   "display_name": "base",
   "language": "python",
   "name": "python3"
  },
  "language_info": {
   "codemirror_mode": {
    "name": "ipython",
    "version": 3
   },
   "file_extension": ".py",
   "mimetype": "text/x-python",
   "name": "python",
   "nbconvert_exporter": "python",
   "pygments_lexer": "ipython3",
   "version": "3.13.5"
  }
 },
 "nbformat": 4,
 "nbformat_minor": 5
}
