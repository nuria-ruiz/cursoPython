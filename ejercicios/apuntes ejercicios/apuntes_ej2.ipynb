{
 "cells": [
  {
   "cell_type": "code",
   "execution_count": 1,
   "id": "5a588c12",
   "metadata": {},
   "outputs": [
    {
     "name": "stdout",
     "output_type": "stream",
     "text": [
      "el producto es 4\n"
     ]
    }
   ],
   "source": [
    "number1 = int(input(\"introduce un numero\"))\n",
    "number2 = int(input(\"introduce otro numero\"))\n",
    "if number1 > 0 and number2 > 0:\n",
    "    mensaje = f\"el producto es {number1}\" if number1 > number2 else f\"el producto es {number2}\"\n",
    "    print(mensaje)"
   ]
  },
  {
   "cell_type": "code",
   "execution_count": 2,
   "id": "48e23519",
   "metadata": {},
   "outputs": [
    {
     "name": "stdout",
     "output_type": "stream",
     "text": [
      "el mayor numero es 3\n"
     ]
    }
   ],
   "source": [
    "number1 = int(input(\"introduce un numero\"))\n",
    "number2 = int(input(\"introduce otro numero\"))\n",
    "print(f\"el mayor numero es {number1}\" if number1 > 0 and number2 >= 0 and number1 > number2 else f\"el mayor es el {number2}\")"
   ]
  }
 ],
 "metadata": {
  "kernelspec": {
   "display_name": "base",
   "language": "python",
   "name": "python3"
  },
  "language_info": {
   "codemirror_mode": {
    "name": "ipython",
    "version": 3
   },
   "file_extension": ".py",
   "mimetype": "text/x-python",
   "name": "python",
   "nbconvert_exporter": "python",
   "pygments_lexer": "ipython3",
   "version": "3.13.5"
  }
 },
 "nbformat": 4,
 "nbformat_minor": 5
}
