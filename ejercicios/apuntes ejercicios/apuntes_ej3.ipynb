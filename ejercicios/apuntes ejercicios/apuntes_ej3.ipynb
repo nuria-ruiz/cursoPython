{
 "cells": [
  {
   "cell_type": "code",
   "execution_count": 12,
   "id": "9fa01a37",
   "metadata": {},
   "outputs": [
    {
     "name": "stdout",
     "output_type": "stream",
     "text": [
      "\u001b[91m*\u001b[0m\u001b[93m*\u001b[0m\u001b[92m*\u001b[0m\u001b[96m*\u001b[0m\u001b[94m*\u001b[0m\u001b[95m*\u001b[0m\u001b[91m*\u001b[0m\u001b[93m*\u001b[0m\u001b[92m*\u001b[0m\u001b[96m*\u001b[0m\n"
     ]
    }
   ],
   "source": [
    "colors = [\"\\033[91m\", \"\\033[93m\", \"\\033[92m\", \"\\033[96m\", \"\\033[94m\", \"\\033[95m\", \"\\033[91m\", \"\\033[93m\", \"\\033[92m\", \"\\033[96m\"]\n",
    "RESET = \"\\033[0m\"\n",
    "for i in range(10):\n",
    "    print(colors[i] + \"*\" + RESET, end=\"\")\n",
    "print()"
   ]
  },
  {
   "cell_type": "code",
   "execution_count": 6,
   "id": "2a0c5fd1",
   "metadata": {},
   "outputs": [
    {
     "name": "stdout",
     "output_type": "stream",
     "text": [
      "\u001b[91m*\u001b[93m*\u001b[92m*\u001b[96m*\u001b[94m*\u001b[95m*\u001b[91m*\u001b[93m*\u001b[92m*\u001b[96m*\n"
     ]
    }
   ],
   "source": [
    "colors = [\"\\033[91m\", \"\\033[93m\", \"\\033[92m\", \"\\033[96m\",\n",
    "\"\\033[94m\", \"\\033[95m\", \"\\033[91m\", \"\\033[93m\", \"\\033[92m\",\n",
    "\"\\033[96m\"]\n",
    "figura = \"\" #sin espacio\n",
    "for i in range (10):\n",
    "    figura += colors[i] + \"*\"\n",
    "print(figura) #concatenar: para hacer que salga horizontal"
   ]
  },
  {
   "cell_type": "code",
   "execution_count": null,
   "id": "1b81a663",
   "metadata": {},
   "outputs": [
    {
     "name": "stdout",
     "output_type": "stream",
     "text": [
      "*\n",
      "**\n",
      "***\n",
      "****\n",
      "*****\n",
      "******\n",
      "*******\n",
      "********\n",
      "*********\n",
      "**********\n"
     ]
    }
   ],
   "source": [
    "figura = \"\" #sin espacio\n",
    "for _ in range (10): #en rango no hace eso de bajar un numero\n",
    "    figura += \"*\"\n",
    "    print(figura) #concatenar: para hacer que salga horizontal"
   ]
  },
  {
   "cell_type": "code",
   "execution_count": null,
   "id": "2daac815",
   "metadata": {},
   "outputs": [
    {
     "name": "stdout",
     "output_type": "stream",
     "text": [
      "\n",
      "*\n",
      "**\n",
      "***\n",
      "****\n"
     ]
    }
   ],
   "source": [
    "ALTURA = 5\n",
    "\n",
    "for piso in range(ALTURA):  #\"piso\" o la palabra que se use contiene el valor del rango que pertoca en cada momento, borrando el anterior\n",
    "    print(\"*\" * piso)"
   ]
  }
 ],
 "metadata": {
  "kernelspec": {
   "display_name": "base",
   "language": "python",
   "name": "python3"
  },
  "language_info": {
   "codemirror_mode": {
    "name": "ipython",
    "version": 3
   },
   "file_extension": ".py",
   "mimetype": "text/x-python",
   "name": "python",
   "nbconvert_exporter": "python",
   "pygments_lexer": "ipython3",
   "version": "3.13.5"
  }
 },
 "nbformat": 4,
 "nbformat_minor": 5
}
