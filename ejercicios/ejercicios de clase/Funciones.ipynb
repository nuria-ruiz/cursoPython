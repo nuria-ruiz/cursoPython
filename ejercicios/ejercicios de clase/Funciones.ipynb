{
 "cells": [
  {
   "cell_type": "code",
   "execution_count": null,
   "id": "096ca93f",
   "metadata": {},
   "outputs": [],
   "source": [
    "#calcula la raiz cuadrada, luego ese numero deberá sumarse a otro numero que se le pedirá al usuario."
   ]
  },
  {
   "cell_type": "code",
   "execution_count": 2,
   "id": "2458ff07",
   "metadata": {},
   "outputs": [
    {
     "data": {
      "text/plain": [
       "6.16227766016838"
      ]
     },
     "execution_count": 2,
     "metadata": {},
     "output_type": "execute_result"
    }
   ],
   "source": [
    "def sqrt(num):\n",
    "    return num ** (1/2) #o 0.5 sin parentesis\n",
    "\n",
    "sqrt(10)\n",
    "    \n",
    "def suma(a, b):\n",
    "    return a + b\n",
    "\n",
    "suma(sqrt(10), int(input(\"introduce un numero.\")))"
   ]
  }
 ],
 "metadata": {
  "kernelspec": {
   "display_name": "base",
   "language": "python",
   "name": "python3"
  },
  "language_info": {
   "codemirror_mode": {
    "name": "ipython",
    "version": 3
   },
   "file_extension": ".py",
   "mimetype": "text/x-python",
   "name": "python",
   "nbconvert_exporter": "python",
   "pygments_lexer": "ipython3",
   "version": "3.13.5"
  }
 },
 "nbformat": 4,
 "nbformat_minor": 5
}
