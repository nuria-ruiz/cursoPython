{
 "cells": [
  {
   "cell_type": "code",
   "execution_count": 34,
   "id": "63792ab0",
   "metadata": {},
   "outputs": [
    {
     "name": "stdout",
     "output_type": "stream",
     "text": [
      "2024 és año bisiesto.\n"
     ]
    }
   ],
   "source": [
    "year = int(input(\"introduce un año\"))\n",
    "# explicación del codigo sin que afecte al codigo. divisible entre 4, no divisible entre 100 o bien no divisible entre 400\n",
    "\n",
    "if (year % 4 == 0 and year % 100 != 0) or (year % 400 == 0):\n",
    "    print(f\"{year} és año bisiesto.\")\n",
    "else:\n",
    "    print(f\"{year} no és año bisiesto.\")"
   ]
  },
  {
   "cell_type": "markdown",
   "id": "de7a638b",
   "metadata": {},
   "source": [
    "los parentesis muchas veces no son necesarios pero limpian el codigo y ayudan a que funcione correctamente"
   ]
  },
  {
   "cell_type": "code",
   "execution_count": null,
   "id": "05022ad4",
   "metadata": {},
   "outputs": [
    {
     "name": "stdout",
     "output_type": "stream",
     "text": [
      "2024 és un año bisiesto.\n"
     ]
    }
   ],
   "source": [
    "year = int(input(\"introduce un año\"))\n",
    "type = \"és un año bisiesto\" if (year % 4 == 0 and year % 100 != 0) or (year % 400 == 0) else \"no es un año bisiesto\"\n",
    "print(f\"{year} {type}.\")"
   ]
  },
  {
   "cell_type": "code",
   "execution_count": 37,
   "id": "464d7cf0",
   "metadata": {},
   "outputs": [
    {
     "name": "stdout",
     "output_type": "stream",
     "text": [
      "2024 és un año bisiesto\n"
     ]
    }
   ],
   "source": [
    "year = int(input(\"introduce un año\"))\n",
    "print(f\"{year} és un año bisiesto\" if (year % 4 == 0 and year % 100 != 0) or (year % 400 == 0) else f\"{year}no es un año bisiesto\")"
   ]
  },
  {
   "cell_type": "code",
   "execution_count": 27,
   "id": "e08e8576",
   "metadata": {},
   "outputs": [
    {
     "name": "stdout",
     "output_type": "stream",
     "text": [
      "1980 és un año bisiesto.\n"
     ]
    }
   ],
   "source": [
    "year = int(input(\"introduce un año\"))\n",
    "# explicación del codigo sin que afecte al codigo. divisible entre 4, no divisible entre 100 o bien no divisible entre 400\n",
    "\n",
    "if year % 4 == 0: \n",
    "    if year % 100 != 0:\n",
    "        print(f\"{year} és un año bisiesto.\")\n",
    "    elif year % 400 == 0:\n",
    "        print(f\"{year} és año bisiesto.\")\n",
    "else:\n",
    "    print(\"{year} o és año bisiesto.\")"
   ]
  }
 ],
 "metadata": {
  "kernelspec": {
   "display_name": "base",
   "language": "python",
   "name": "python3"
  },
  "language_info": {
   "codemirror_mode": {
    "name": "ipython",
    "version": 3
   },
   "file_extension": ".py",
   "mimetype": "text/x-python",
   "name": "python",
   "nbconvert_exporter": "python",
   "pygments_lexer": "ipython3",
   "version": "3.13.5"
  }
 },
 "nbformat": 4,
 "nbformat_minor": 5
}
